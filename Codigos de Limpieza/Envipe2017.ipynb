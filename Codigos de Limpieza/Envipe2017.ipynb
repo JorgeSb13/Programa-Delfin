{
 "cells": [
  {
   "cell_type": "code",
   "execution_count": 1,
   "metadata": {},
   "outputs": [],
   "source": [
    "import pandas as pd\n",
    "import numpy as np"
   ]
  },
  {
   "cell_type": "code",
   "execution_count": 2,
   "metadata": {},
   "outputs": [
    {
     "data": {
      "text/html": [
       "<div>\n",
       "<style scoped>\n",
       "    .dataframe tbody tr th:only-of-type {\n",
       "        vertical-align: middle;\n",
       "    }\n",
       "\n",
       "    .dataframe tbody tr th {\n",
       "        vertical-align: top;\n",
       "    }\n",
       "\n",
       "    .dataframe thead th {\n",
       "        text-align: right;\n",
       "    }\n",
       "</style>\n",
       "<table border=\"1\" class=\"dataframe\">\n",
       "  <thead>\n",
       "    <tr style=\"text-align: right;\">\n",
       "      <th></th>\n",
       "      <th>UPM</th>\n",
       "      <th>VIV_SEL</th>\n",
       "      <th>HOGAR</th>\n",
       "      <th>RESUL_H</th>\n",
       "      <th>R_SEL</th>\n",
       "      <th>SEXO</th>\n",
       "      <th>EDAD</th>\n",
       "      <th>AREAM</th>\n",
       "      <th>CVE_ENT</th>\n",
       "      <th>NOM_ENT</th>\n",
       "      <th>...</th>\n",
       "      <th>AP7_3_15</th>\n",
       "      <th>AP7_4_15</th>\n",
       "      <th>FAC_HOG</th>\n",
       "      <th>FAC_ELE</th>\n",
       "      <th>FAC_HOG_AM</th>\n",
       "      <th>FAC_ELE_AM</th>\n",
       "      <th>DOMINIO</th>\n",
       "      <th>ESTRATO</th>\n",
       "      <th>EST_DIS</th>\n",
       "      <th>UPM_DIS</th>\n",
       "    </tr>\n",
       "  </thead>\n",
       "  <tbody>\n",
       "    <tr>\n",
       "      <th>0</th>\n",
       "      <td>100008</td>\n",
       "      <td>1</td>\n",
       "      <td>1</td>\n",
       "      <td>B\\r</td>\n",
       "      <td>1</td>\n",
       "      <td>1</td>\n",
       "      <td>40</td>\n",
       "      <td>14\\r</td>\n",
       "      <td>1</td>\n",
       "      <td>Aguascalientes\\r</td>\n",
       "      <td>...</td>\n",
       "      <td>2</td>\n",
       "      <td>\\r</td>\n",
       "      <td>204</td>\n",
       "      <td>408</td>\n",
       "      <td>000204\\r</td>\n",
       "      <td>000408\\r</td>\n",
       "      <td>U\\r</td>\n",
       "      <td>4</td>\n",
       "      <td>3</td>\n",
       "      <td>1</td>\n",
       "    </tr>\n",
       "    <tr>\n",
       "      <th>1</th>\n",
       "      <td>100008</td>\n",
       "      <td>2</td>\n",
       "      <td>1</td>\n",
       "      <td>B\\r</td>\n",
       "      <td>2</td>\n",
       "      <td>2</td>\n",
       "      <td>70</td>\n",
       "      <td>14\\r</td>\n",
       "      <td>1</td>\n",
       "      <td>Aguascalientes\\r</td>\n",
       "      <td>...</td>\n",
       "      <td>2</td>\n",
       "      <td>\\r</td>\n",
       "      <td>204</td>\n",
       "      <td>611</td>\n",
       "      <td>000204\\r</td>\n",
       "      <td>000611\\r</td>\n",
       "      <td>U\\r</td>\n",
       "      <td>4</td>\n",
       "      <td>3</td>\n",
       "      <td>1</td>\n",
       "    </tr>\n",
       "    <tr>\n",
       "      <th>2</th>\n",
       "      <td>100008</td>\n",
       "      <td>4</td>\n",
       "      <td>1</td>\n",
       "      <td>B\\r</td>\n",
       "      <td>1</td>\n",
       "      <td>1</td>\n",
       "      <td>85</td>\n",
       "      <td>14\\r</td>\n",
       "      <td>1</td>\n",
       "      <td>Aguascalientes\\r</td>\n",
       "      <td>...</td>\n",
       "      <td>2</td>\n",
       "      <td>\\r</td>\n",
       "      <td>204</td>\n",
       "      <td>408</td>\n",
       "      <td>000204\\r</td>\n",
       "      <td>000408\\r</td>\n",
       "      <td>U\\r</td>\n",
       "      <td>4</td>\n",
       "      <td>3</td>\n",
       "      <td>1</td>\n",
       "    </tr>\n",
       "    <tr>\n",
       "      <th>3</th>\n",
       "      <td>100008</td>\n",
       "      <td>5</td>\n",
       "      <td>1</td>\n",
       "      <td>A\\r</td>\n",
       "      <td>1</td>\n",
       "      <td>1</td>\n",
       "      <td>28</td>\n",
       "      <td>14\\r</td>\n",
       "      <td>1</td>\n",
       "      <td>Aguascalientes\\r</td>\n",
       "      <td>...</td>\n",
       "      <td>2</td>\n",
       "      <td>\\r</td>\n",
       "      <td>204</td>\n",
       "      <td>408</td>\n",
       "      <td>000204\\r</td>\n",
       "      <td>000408\\r</td>\n",
       "      <td>U\\r</td>\n",
       "      <td>4</td>\n",
       "      <td>3</td>\n",
       "      <td>1</td>\n",
       "    </tr>\n",
       "    <tr>\n",
       "      <th>4</th>\n",
       "      <td>100022</td>\n",
       "      <td>1</td>\n",
       "      <td>1</td>\n",
       "      <td>A\\r</td>\n",
       "      <td>3</td>\n",
       "      <td>1</td>\n",
       "      <td>22</td>\n",
       "      <td>14\\r</td>\n",
       "      <td>1</td>\n",
       "      <td>Aguascalientes\\r</td>\n",
       "      <td>...</td>\n",
       "      <td>2</td>\n",
       "      <td>\\r</td>\n",
       "      <td>198</td>\n",
       "      <td>595</td>\n",
       "      <td>000198\\r</td>\n",
       "      <td>000595\\r</td>\n",
       "      <td>U\\r</td>\n",
       "      <td>3</td>\n",
       "      <td>2</td>\n",
       "      <td>2</td>\n",
       "    </tr>\n",
       "  </tbody>\n",
       "</table>\n",
       "<p>5 rows × 146 columns</p>\n",
       "</div>"
      ],
      "text/plain": [
       "      UPM  VIV_SEL  HOGAR RESUL_H  R_SEL  SEXO  EDAD AREAM  CVE_ENT  \\\n",
       "0  100008        1      1     B\\r      1     1    40  14\\r        1   \n",
       "1  100008        2      1     B\\r      2     2    70  14\\r        1   \n",
       "2  100008        4      1     B\\r      1     1    85  14\\r        1   \n",
       "3  100008        5      1     A\\r      1     1    28  14\\r        1   \n",
       "4  100022        1      1     A\\r      3     1    22  14\\r        1   \n",
       "\n",
       "            NOM_ENT   ...     AP7_3_15 AP7_4_15  FAC_HOG FAC_ELE  FAC_HOG_AM  \\\n",
       "0  Aguascalientes\\r   ...            2       \\r      204     408    000204\\r   \n",
       "1  Aguascalientes\\r   ...            2       \\r      204     611    000204\\r   \n",
       "2  Aguascalientes\\r   ...            2       \\r      204     408    000204\\r   \n",
       "3  Aguascalientes\\r   ...            2       \\r      204     408    000204\\r   \n",
       "4  Aguascalientes\\r   ...            2       \\r      198     595    000198\\r   \n",
       "\n",
       "   FAC_ELE_AM  DOMINIO ESTRATO EST_DIS  UPM_DIS  \n",
       "0    000408\\r      U\\r       4       3        1  \n",
       "1    000611\\r      U\\r       4       3        1  \n",
       "2    000408\\r      U\\r       4       3        1  \n",
       "3    000408\\r      U\\r       4       3        1  \n",
       "4    000595\\r      U\\r       3       2        2  \n",
       "\n",
       "[5 rows x 146 columns]"
      ]
     },
     "execution_count": 2,
     "metadata": {},
     "output_type": "execute_result"
    }
   ],
   "source": [
    "path = 'C:/Users/jorge/OneDrive/Escritorio/ProyectoJacobo/Envipe2017/tper_vic2_envipe2017/conjunto_de_datos/tper_vic2.csv'\n",
    "df_tper_vic2 = pd.read_csv(path, low_memory=False)\n",
    "df_tper_vic2.head()"
   ]
  },
  {
   "cell_type": "code",
   "execution_count": 3,
   "metadata": {},
   "outputs": [
    {
     "data": {
      "text/plain": [
       "(92551, 146)"
      ]
     },
     "execution_count": 3,
     "metadata": {},
     "output_type": "execute_result"
    }
   ],
   "source": [
    "df_tper_vic2.shape"
   ]
  },
  {
   "cell_type": "code",
   "execution_count": 4,
   "metadata": {},
   "outputs": [],
   "source": [
    "df_copy_tper_vic2 = df_tper_vic2"
   ]
  },
  {
   "cell_type": "code",
   "execution_count": 5,
   "metadata": {},
   "outputs": [
    {
     "data": {
      "text/plain": [
       "(92551, 146)"
      ]
     },
     "execution_count": 5,
     "metadata": {},
     "output_type": "execute_result"
    }
   ],
   "source": [
    "df_copy_tper_vic2.shape"
   ]
  },
  {
   "cell_type": "code",
   "execution_count": 6,
   "metadata": {},
   "outputs": [
    {
     "data": {
      "text/plain": [
       "1660705    25\n",
       "3160043    25\n",
       "1107605    25\n",
       "2061768    25\n",
       "702498     24\n",
       "1702010    24\n",
       "2504344    24\n",
       "1860460    24\n",
       "300906     24\n",
       "2504746    24\n",
       "1410019    24\n",
       "360082     24\n",
       "2701840    24\n",
       "2260397    24\n",
       "1604703    24\n",
       "2505095    24\n",
       "1760256    24\n",
       "1161260    24\n",
       "2960175    23\n",
       "3201405    23\n",
       "1604730    23\n",
       "1108234    23\n",
       "2260596    23\n",
       "3202042    23\n",
       "1604586    23\n",
       "2560561    23\n",
       "2860612    23\n",
       "1527245    23\n",
       "1660619    23\n",
       "2260201    23\n",
       "           ..\n",
       "3006647     1\n",
       "1508481     1\n",
       "203613      1\n",
       "1528990     1\n",
       "2302623     1\n",
       "1100565     1\n",
       "1403984     1\n",
       "3003742     1\n",
       "601201      1\n",
       "1701757     1\n",
       "1700809     1\n",
       "2201591     1\n",
       "2102027     1\n",
       "2801872     1\n",
       "2801150     1\n",
       "1414866     1\n",
       "2700351     1\n",
       "1201665     1\n",
       "800127      1\n",
       "1514922     1\n",
       "901337      1\n",
       "504897      1\n",
       "3003239     1\n",
       "1201604     1\n",
       "2700440     1\n",
       "2302397     1\n",
       "600772      1\n",
       "1908380     1\n",
       "1501665     1\n",
       "600475      1\n",
       "Name: UPM, Length: 13195, dtype: int64"
      ]
     },
     "execution_count": 6,
     "metadata": {},
     "output_type": "execute_result"
    }
   ],
   "source": [
    "df_copy_tper_vic2.UPM.value_counts()"
   ]
  },
  {
   "cell_type": "code",
   "execution_count": 7,
   "metadata": {},
   "outputs": [
    {
     "data": {
      "text/plain": [
       "1     11973\n",
       "3     11909\n",
       "5     11872\n",
       "4     11848\n",
       "2     11843\n",
       "12     2235\n",
       "10     2227\n",
       "13     2222\n",
       "9      2221\n",
       "6      2212\n",
       "7      2210\n",
       "14     2209\n",
       "8      2203\n",
       "11     2201\n",
       "16     2193\n",
       "17     2192\n",
       "18     2183\n",
       "15     2176\n",
       "19     2158\n",
       "20     2052\n",
       "21      156\n",
       "22       41\n",
       "23       13\n",
       "24        1\n",
       "25        1\n",
       "Name: VIV_SEL, dtype: int64"
      ]
     },
     "execution_count": 7,
     "metadata": {},
     "output_type": "execute_result"
    }
   ],
   "source": [
    "df_copy_tper_vic2.VIV_SEL.value_counts()"
   ]
  },
  {
   "cell_type": "code",
   "execution_count": 8,
   "metadata": {},
   "outputs": [
    {
     "data": {
      "text/plain": [
       "1    90584\n",
       "2     1694\n",
       "3      227\n",
       "4       38\n",
       "5        6\n",
       "6        2\n",
       "Name: HOGAR, dtype: int64"
      ]
     },
     "execution_count": 8,
     "metadata": {},
     "output_type": "execute_result"
    }
   ],
   "source": [
    "df_copy_tper_vic2.HOGAR.value_counts()"
   ]
  },
  {
   "cell_type": "code",
   "execution_count": 9,
   "metadata": {},
   "outputs": [
    {
     "data": {
      "text/plain": [
       "B\\r    66321\n",
       "A\\r    26230\n",
       "Name: RESUL_H, dtype: int64"
      ]
     },
     "execution_count": 9,
     "metadata": {},
     "output_type": "execute_result"
    }
   ],
   "source": [
    "df_copy_tper_vic2.RESUL_H.value_counts()"
   ]
  },
  {
   "cell_type": "code",
   "execution_count": 10,
   "metadata": {},
   "outputs": [
    {
     "data": {
      "text/plain": [
       "B    66321\n",
       "A    26230\n",
       "Name: RESUL_H, dtype: int64"
      ]
     },
     "execution_count": 10,
     "metadata": {},
     "output_type": "execute_result"
    }
   ],
   "source": [
    "df_copy_tper_vic2.RESUL_H.replace({'A\\r':'A', 'B\\r':'B' },inplace=True)\n",
    "df_copy_tper_vic2.RESUL_H.value_counts()"
   ]
  },
  {
   "cell_type": "code",
   "execution_count": 11,
   "metadata": {},
   "outputs": [
    {
     "data": {
      "text/plain": [
       "1     46700\n",
       "2     31392\n",
       "3      9053\n",
       "4      3508\n",
       "5      1215\n",
       "6       391\n",
       "7       154\n",
       "8        73\n",
       "9        32\n",
       "10       19\n",
       "11        9\n",
       "15        2\n",
       "14        2\n",
       "12        1\n",
       "Name: R_SEL, dtype: int64"
      ]
     },
     "execution_count": 11,
     "metadata": {},
     "output_type": "execute_result"
    }
   ],
   "source": [
    "df_copy_tper_vic2.R_SEL.value_counts()"
   ]
  },
  {
   "cell_type": "code",
   "execution_count": 12,
   "metadata": {},
   "outputs": [
    {
     "data": {
      "text/plain": [
       "2    49821\n",
       "1    42730\n",
       "Name: SEXO, dtype: int64"
      ]
     },
     "execution_count": 12,
     "metadata": {},
     "output_type": "execute_result"
    }
   ],
   "source": [
    "df_copy_tper_vic2.SEXO.value_counts()"
   ]
  },
  {
   "cell_type": "code",
   "execution_count": 13,
   "metadata": {},
   "outputs": [
    {
     "data": {
      "text/plain": [
       "30    2435\n",
       "40    2391\n",
       "32    2302\n",
       "38    2296\n",
       "36    2279\n",
       "42    2195\n",
       "34    2130\n",
       "35    2125\n",
       "37    2073\n",
       "33    2029\n",
       "26    2015\n",
       "22    2009\n",
       "25    1989\n",
       "28    1988\n",
       "23    1980\n",
       "27    1961\n",
       "39    1949\n",
       "43    1944\n",
       "24    1924\n",
       "18    1904\n",
       "20    1853\n",
       "29    1831\n",
       "21    1817\n",
       "50    1803\n",
       "19    1756\n",
       "45    1756\n",
       "31    1746\n",
       "46    1643\n",
       "41    1638\n",
       "44    1608\n",
       "      ... \n",
       "68     791\n",
       "72     667\n",
       "69     622\n",
       "73     570\n",
       "98     561\n",
       "74     509\n",
       "76     500\n",
       "75     466\n",
       "71     450\n",
       "77     437\n",
       "78     402\n",
       "80     385\n",
       "79     291\n",
       "82     257\n",
       "83     255\n",
       "81     246\n",
       "84     227\n",
       "85     218\n",
       "86     169\n",
       "87     133\n",
       "88     104\n",
       "89      86\n",
       "90      78\n",
       "92      55\n",
       "97      44\n",
       "91      35\n",
       "93      33\n",
       "94      29\n",
       "95      26\n",
       "96      19\n",
       "Name: EDAD, Length: 81, dtype: int64"
      ]
     },
     "execution_count": 13,
     "metadata": {},
     "output_type": "execute_result"
    }
   ],
   "source": [
    "df_copy_tper_vic2.EDAD.value_counts()"
   ]
  },
  {
   "cell_type": "code",
   "execution_count": 14,
   "metadata": {},
   "outputs": [
    {
     "data": {
      "text/plain": [
       "30    2435\n",
       "40    2391\n",
       "32    2302\n",
       "38    2296\n",
       "36    2279\n",
       "42    2195\n",
       "34    2130\n",
       "35    2125\n",
       "37    2073\n",
       "33    2029\n",
       "26    2015\n",
       "22    2009\n",
       "25    1989\n",
       "28    1988\n",
       "23    1980\n",
       "27    1961\n",
       "39    1949\n",
       "43    1944\n",
       "24    1924\n",
       "18    1904\n",
       "20    1853\n",
       "29    1831\n",
       "21    1817\n",
       "50    1803\n",
       "19    1756\n",
       "45    1756\n",
       "31    1746\n",
       "46    1643\n",
       "41    1638\n",
       "44    1608\n",
       "      ... \n",
       "68     791\n",
       "72     667\n",
       "69     622\n",
       "73     570\n",
       "99     561\n",
       "74     509\n",
       "76     500\n",
       "75     466\n",
       "71     450\n",
       "77     437\n",
       "78     402\n",
       "80     385\n",
       "79     291\n",
       "82     257\n",
       "83     255\n",
       "81     246\n",
       "84     227\n",
       "85     218\n",
       "86     169\n",
       "87     133\n",
       "88     104\n",
       "89      86\n",
       "90      78\n",
       "92      55\n",
       "97      44\n",
       "91      35\n",
       "93      33\n",
       "94      29\n",
       "95      26\n",
       "96      19\n",
       "Name: EDAD, Length: 81, dtype: int64"
      ]
     },
     "execution_count": 14,
     "metadata": {},
     "output_type": "execute_result"
    }
   ],
   "source": [
    "df_copy_tper_vic2.EDAD.replace({98:99, 99:99 },inplace=True)\n",
    "df_copy_tper_vic2.EDAD.value_counts()"
   ]
  },
  {
   "cell_type": "code",
   "execution_count": 15,
   "metadata": {},
   "outputs": [
    {
     "data": {
      "text/plain": [
       "\\r      57125\n",
       "01\\r     7768\n",
       "03\\r     2067\n",
       "06\\r     1759\n",
       "08\\r     1535\n",
       "02\\r     1361\n",
       "39\\r     1261\n",
       "33\\r     1238\n",
       "41\\r     1234\n",
       "04\\r     1229\n",
       "14\\r     1214\n",
       "36\\r     1173\n",
       "21\\r     1124\n",
       "29\\r     1093\n",
       "40\\r      901\n",
       "24\\r      863\n",
       "26\\r      858\n",
       "10\\r      773\n",
       "28\\r      686\n",
       "07\\r      672\n",
       "09\\r      661\n",
       "27\\r      631\n",
       "17\\r      619\n",
       "05\\r      581\n",
       "18\\r      534\n",
       "25\\r      510\n",
       "13\\r      507\n",
       "15\\r      505\n",
       "19\\r      495\n",
       "43\\r      377\n",
       "31\\r      359\n",
       "32\\r      327\n",
       "12\\r      316\n",
       "16\\r      195\n",
       "Name: AREAM, dtype: int64"
      ]
     },
     "execution_count": 15,
     "metadata": {},
     "output_type": "execute_result"
    }
   ],
   "source": [
    "df_copy_tper_vic2.AREAM.value_counts()"
   ]
  },
  {
   "cell_type": "code",
   "execution_count": 16,
   "metadata": {},
   "outputs": [],
   "source": [
    "#l=[]\n",
    "#for i in df_copy_tper_vic2.AREAM:\n",
    " #   k = str(i)\n",
    "  #  if(k != \"nan\"):\n",
    "   #     k = int(eval(k))\n",
    "    #    l.append(k)\n",
    "    #else:\n",
    "     #   l.append(k)\n",
    "#df_copy_tper_vic2.AREAM = l\n",
    "#df_copy_tper_vic2.AREAM.value_counts()"
   ]
  },
  {
   "cell_type": "code",
   "execution_count": 17,
   "metadata": {},
   "outputs": [
    {
     "data": {
      "text/plain": [
       "99    57125\n",
       "01     7768\n",
       "03     2067\n",
       "06     1759\n",
       "08     1535\n",
       "02     1361\n",
       "39     1261\n",
       "33     1238\n",
       "41     1234\n",
       "04     1229\n",
       "14     1214\n",
       "36     1173\n",
       "21     1124\n",
       "29     1093\n",
       "40      901\n",
       "24      863\n",
       "26      858\n",
       "10      773\n",
       "28      686\n",
       "07      672\n",
       "09      661\n",
       "27      631\n",
       "17      619\n",
       "05      581\n",
       "18      534\n",
       "25      510\n",
       "13      507\n",
       "15      505\n",
       "19      495\n",
       "43      377\n",
       "31      359\n",
       "32      327\n",
       "12      316\n",
       "16      195\n",
       "Name: AREAM, dtype: int64"
      ]
     },
     "execution_count": 17,
     "metadata": {},
     "output_type": "execute_result"
    }
   ],
   "source": [
    "df_copy_tper_vic2.AREAM.replace({'\\r':'99'} , inplace = True)\n",
    "df_copy_tper_vic2.AREAM =  df_copy_tper_vic2.AREAM.replace('\\r', \"\", regex = True)\n",
    "df_copy_tper_vic2.AREAM.value_counts()"
   ]
  },
  {
   "cell_type": "code",
   "execution_count": 18,
   "metadata": {},
   "outputs": [],
   "source": [
    "dicc = {9:99}"
   ]
  },
  {
   "cell_type": "code",
   "execution_count": 19,
   "metadata": {},
   "outputs": [
    {
     "data": {
      "text/plain": [
       "2     51364\n",
       "1     40958\n",
       "99      229\n",
       "Name: AP6_1_1, dtype: int64"
      ]
     },
     "execution_count": 19,
     "metadata": {},
     "output_type": "execute_result"
    }
   ],
   "source": [
    "df_copy_tper_vic2.AP6_1_1.replace(dicc, inplace = True)\n",
    "df_copy_tper_vic2.AP6_1_1.value_counts()"
   ]
  },
  {
   "cell_type": "code",
   "execution_count": 20,
   "metadata": {},
   "outputs": [
    {
     "data": {
      "text/plain": [
       "99    57125\n",
       "01     7768\n",
       "03     2067\n",
       "06     1759\n",
       "08     1535\n",
       "02     1361\n",
       "39     1261\n",
       "33     1238\n",
       "41     1234\n",
       "04     1229\n",
       "14     1214\n",
       "36     1173\n",
       "21     1124\n",
       "29     1093\n",
       "40      901\n",
       "24      863\n",
       "26      858\n",
       "10      773\n",
       "28      686\n",
       "07      672\n",
       "09      661\n",
       "27      631\n",
       "17      619\n",
       "05      581\n",
       "18      534\n",
       "25      510\n",
       "13      507\n",
       "15      505\n",
       "19      495\n",
       "43      377\n",
       "31      359\n",
       "32      327\n",
       "12      316\n",
       "16      195\n",
       "Name: AP6_1_2, dtype: int64"
      ]
     },
     "execution_count": 20,
     "metadata": {},
     "output_type": "execute_result"
    }
   ],
   "source": [
    "df_copy_tper_vic2.AP6_1_2.replace({'\\r':'99'}, inplace = True)\n",
    "df_copy_tper_vic2.AP6_1_2 =  df_copy_tper_vic2.AREAM.replace('\\r', \"\", regex = True)\n",
    "df_copy_tper_vic2.AP6_1_2.value_counts()"
   ]
  },
  {
   "cell_type": "code",
   "execution_count": 21,
   "metadata": {},
   "outputs": [
    {
     "data": {
      "text/plain": [
       "2     56289\n",
       "1     36211\n",
       "99       51\n",
       "Name: AP6_2, dtype: int64"
      ]
     },
     "execution_count": 21,
     "metadata": {},
     "output_type": "execute_result"
    }
   ],
   "source": [
    "df_copy_tper_vic2.AP6_2.replace(dicc, inplace = True)\n",
    "df_copy_tper_vic2.AP6_2.value_counts()"
   ]
  },
  {
   "cell_type": "code",
   "execution_count": 22,
   "metadata": {},
   "outputs": [
    {
     "data": {
      "text/plain": [
       "2     79095\n",
       "1     13406\n",
       "99       50\n",
       "Name: AP6_3, dtype: int64"
      ]
     },
     "execution_count": 22,
     "metadata": {},
     "output_type": "execute_result"
    }
   ],
   "source": [
    "df_copy_tper_vic2.AP6_3.replace(dicc, inplace = True)\n",
    "df_copy_tper_vic2.AP6_3.value_counts()"
   ]
  },
  {
   "cell_type": "code",
   "execution_count": 23,
   "metadata": {},
   "outputs": [
    {
     "data": {
      "text/plain": [
       "2     90976\n",
       "1      1551\n",
       "99       24\n",
       "Name: AP6_4_01, dtype: int64"
      ]
     },
     "execution_count": 23,
     "metadata": {},
     "output_type": "execute_result"
    }
   ],
   "source": [
    "df_copy_tper_vic2.AP6_4_01.replace(dicc, inplace = True)\n",
    "df_copy_tper_vic2.AP6_4_01.value_counts()"
   ]
  },
  {
   "cell_type": "code",
   "execution_count": 24,
   "metadata": {},
   "outputs": [],
   "source": [
    "dicc2 = {'\\r':'99','1\\r':'1','2\\r':'2','9\\r':'99'}"
   ]
  },
  {
   "cell_type": "code",
   "execution_count": 25,
   "metadata": {},
   "outputs": [
    {
     "data": {
      "text/plain": [
       "99    91027\n",
       "1      1058\n",
       "2       466\n",
       "Name: AP6_5_01, dtype: int64"
      ]
     },
     "execution_count": 25,
     "metadata": {},
     "output_type": "execute_result"
    }
   ],
   "source": [
    "df_copy_tper_vic2.AP6_5_01.replace(dicc2, inplace = True)\n",
    "df_copy_tper_vic2.AP6_5_01.value_counts()"
   ]
  },
  {
   "cell_type": "code",
   "execution_count": 26,
   "metadata": {},
   "outputs": [
    {
     "data": {
      "text/plain": [
       "99    91493\n",
       "01     1019\n",
       "02       31\n",
       "03        7\n",
       "04        1\n",
       "Name: AP6_6_01, dtype: int64"
      ]
     },
     "execution_count": 26,
     "metadata": {},
     "output_type": "execute_result"
    }
   ],
   "source": [
    "df_copy_tper_vic2.AP6_6_01.replace({'\\r':'99'}, inplace = True)\n",
    "df_copy_tper_vic2.AP6_6_01 =  df_copy_tper_vic2.AP6_6_01.replace('\\r', \"\", regex = True)\n",
    "df_copy_tper_vic2.AP6_6_01.value_counts()"
   ]
  },
  {
   "cell_type": "code",
   "execution_count": 27,
   "metadata": {},
   "outputs": [
    {
     "data": {
      "text/plain": [
       "2     86093\n",
       "1      6435\n",
       "99       23\n",
       "Name: AP6_4_02, dtype: int64"
      ]
     },
     "execution_count": 27,
     "metadata": {},
     "output_type": "execute_result"
    }
   ],
   "source": [
    "df_copy_tper_vic2.AP6_4_02.replace(dicc, inplace = True)\n",
    "df_copy_tper_vic2.AP6_4_02.value_counts()"
   ]
  },
  {
   "cell_type": "code",
   "execution_count": 28,
   "metadata": {},
   "outputs": [
    {
     "data": {
      "text/plain": [
       "99    86162\n",
       "1      5782\n",
       "2       607\n",
       "Name: AP6_5_02, dtype: int64"
      ]
     },
     "execution_count": 28,
     "metadata": {},
     "output_type": "execute_result"
    }
   ],
   "source": [
    "df_copy_tper_vic2.AP6_5_02.replace(dicc2, inplace = True)\n",
    "df_copy_tper_vic2.AP6_5_02.value_counts()"
   ]
  },
  {
   "cell_type": "code",
   "execution_count": 29,
   "metadata": {},
   "outputs": [
    {
     "data": {
      "text/plain": [
       "99    86769\n",
       "01     4525\n",
       "02      931\n",
       "03      244\n",
       "04       54\n",
       "05       15\n",
       "06        7\n",
       "10        2\n",
       "07        1\n",
       "11        1\n",
       "15        1\n",
       "08        1\n",
       "Name: AP6_6_02, dtype: int64"
      ]
     },
     "execution_count": 29,
     "metadata": {},
     "output_type": "execute_result"
    }
   ],
   "source": [
    "df_copy_tper_vic2.AP6_6_02.replace({'\\r':'99'}, inplace = True)\n",
    "df_copy_tper_vic2.AP6_6_02 =  df_copy_tper_vic2.AP6_6_02.replace('\\r', \"\", regex = True)\n",
    "df_copy_tper_vic2.AP6_6_02.value_counts()"
   ]
  },
  {
   "cell_type": "code",
   "execution_count": 30,
   "metadata": {},
   "outputs": [
    {
     "data": {
      "text/plain": [
       "2     87298\n",
       "1      5174\n",
       "99       79\n",
       "Name: AP6_4_03, dtype: int64"
      ]
     },
     "execution_count": 30,
     "metadata": {},
     "output_type": "execute_result"
    }
   ],
   "source": [
    "df_copy_tper_vic2.AP6_4_03.replace(dicc, inplace = True)\n",
    "df_copy_tper_vic2.AP6_4_03.value_counts()"
   ]
  },
  {
   "cell_type": "code",
   "execution_count": 31,
   "metadata": {},
   "outputs": [
    {
     "data": {
      "text/plain": [
       "99    87377\n",
       "01     4228\n",
       "02      637\n",
       "03      188\n",
       "04       53\n",
       "05       42\n",
       "10        8\n",
       "06        6\n",
       "15        4\n",
       "12        3\n",
       "08        3\n",
       "07        2\n",
       "Name: AP6_6_03, dtype: int64"
      ]
     },
     "execution_count": 31,
     "metadata": {},
     "output_type": "execute_result"
    }
   ],
   "source": [
    "df_copy_tper_vic2.AP6_6_03.replace({'\\r':'99'}, inplace = True)\n",
    "df_copy_tper_vic2.AP6_6_03 =  df_copy_tper_vic2.AP6_6_03.replace('\\r', \"\", regex = True)\n",
    "df_copy_tper_vic2.AP6_6_03.value_counts()"
   ]
  },
  {
   "cell_type": "code",
   "execution_count": 32,
   "metadata": {},
   "outputs": [
    {
     "data": {
      "text/plain": [
       "2     87608\n",
       "1      4835\n",
       "99      108\n",
       "Name: AP6_4_04, dtype: int64"
      ]
     },
     "execution_count": 32,
     "metadata": {},
     "output_type": "execute_result"
    }
   ],
   "source": [
    "df_copy_tper_vic2.AP6_4_04.replace(dicc, inplace = True)\n",
    "df_copy_tper_vic2.AP6_4_04.value_counts()"
   ]
  },
  {
   "cell_type": "code",
   "execution_count": 33,
   "metadata": {},
   "outputs": [
    {
     "data": {
      "text/plain": [
       "99    87716\n",
       "01     4147\n",
       "02      497\n",
       "03      133\n",
       "04       31\n",
       "05       18\n",
       "15        2\n",
       "08        2\n",
       "12        1\n",
       "07        1\n",
       "30        1\n",
       "40        1\n",
       "06        1\n",
       "Name: AP6_6_04, dtype: int64"
      ]
     },
     "execution_count": 33,
     "metadata": {},
     "output_type": "execute_result"
    }
   ],
   "source": [
    "df_copy_tper_vic2.AP6_6_04.replace({'\\r':'99'}, inplace = True)\n",
    "df_copy_tper_vic2.AP6_6_04 =  df_copy_tper_vic2.AP6_6_04.replace('\\r', \"\", regex = True)\n",
    "df_copy_tper_vic2.AP6_6_04.value_counts()"
   ]
  },
  {
   "cell_type": "code",
   "execution_count": 34,
   "metadata": {},
   "outputs": [
    {
     "data": {
      "text/plain": [
       "2     70087\n",
       "1     22426\n",
       "99       38\n",
       "Name: AP6_7, dtype: int64"
      ]
     },
     "execution_count": 34,
     "metadata": {},
     "output_type": "execute_result"
    }
   ],
   "source": [
    "df_copy_tper_vic2.AP6_7.replace(dicc, inplace = True)\n",
    "df_copy_tper_vic2.AP6_7.value_counts()"
   ]
  },
  {
   "cell_type": "code",
   "execution_count": 35,
   "metadata": {},
   "outputs": [
    {
     "data": {
      "text/plain": [
       "99    64830\n",
       "2     24260\n",
       "1      2034\n",
       "3      1427\n",
       "Name: AP6_8, dtype: int64"
      ]
     },
     "execution_count": 35,
     "metadata": {},
     "output_type": "execute_result"
    }
   ],
   "source": [
    "df_copy_tper_vic2.AP6_8.replace({'\\r':'99','9\\r':'99'}, inplace = True)\n",
    "df_copy_tper_vic2.AP6_8 =  df_copy_tper_vic2.AP6_8.replace('\\r', \"\", regex = True)\n",
    "df_copy_tper_vic2.AP6_8.value_counts()"
   ]
  },
  {
   "cell_type": "code",
   "execution_count": 36,
   "metadata": {},
   "outputs": [
    {
     "data": {
      "text/plain": [
       "2     91555\n",
       "1       947\n",
       "99       49\n",
       "Name: AP6_9, dtype: int64"
      ]
     },
     "execution_count": 36,
     "metadata": {},
     "output_type": "execute_result"
    }
   ],
   "source": [
    "df_copy_tper_vic2.AP6_9.replace(dicc, inplace = True)\n",
    "df_copy_tper_vic2.AP6_9.value_counts()"
   ]
  },
  {
   "cell_type": "code",
   "execution_count": 37,
   "metadata": {},
   "outputs": [
    {
     "data": {
      "text/plain": [
       "2     92355\n",
       "1       154\n",
       "99       42\n",
       "Name: AP6_10_1, dtype: int64"
      ]
     },
     "execution_count": 37,
     "metadata": {},
     "output_type": "execute_result"
    }
   ],
   "source": [
    "df_copy_tper_vic2.AP6_10_1.replace(dicc, inplace = True)\n",
    "df_copy_tper_vic2.AP6_10_1.value_counts()"
   ]
  },
  {
   "cell_type": "code",
   "execution_count": 38,
   "metadata": {},
   "outputs": [
    {
     "data": {
      "text/plain": [
       "99    92397\n",
       "01      135\n",
       "02       15\n",
       "03        2\n",
       "05        1\n",
       "06        1\n",
       "Name: AP6_10_2, dtype: int64"
      ]
     },
     "execution_count": 38,
     "metadata": {},
     "output_type": "execute_result"
    }
   ],
   "source": [
    "df_copy_tper_vic2.AP6_10_2.replace({'\\r':'99','9\\r':'99'}, inplace = True)\n",
    "df_copy_tper_vic2.AP6_10_2 =  df_copy_tper_vic2.AP6_10_2.replace('\\r', \"\", regex = True)\n",
    "df_copy_tper_vic2.AP6_10_2.value_counts()"
   ]
  },
  {
   "cell_type": "code",
   "execution_count": 39,
   "metadata": {},
   "outputs": [
    {
     "data": {
      "text/plain": [
       "99    92397\n",
       "1       137\n",
       "2        17\n",
       "Name: AP6_11_1, dtype: int64"
      ]
     },
     "execution_count": 39,
     "metadata": {},
     "output_type": "execute_result"
    }
   ],
   "source": [
    "df_copy_tper_vic2.AP6_11_1.replace(dicc2, inplace = True)\n",
    "df_copy_tper_vic2.AP6_11_1.value_counts()"
   ]
  },
  {
   "cell_type": "code",
   "execution_count": 40,
   "metadata": {},
   "outputs": [
    {
     "data": {
      "text/plain": [
       "99    92414\n",
       "1       132\n",
       "2         4\n",
       "3         1\n",
       "Name: AP6_12_1, dtype: int64"
      ]
     },
     "execution_count": 40,
     "metadata": {},
     "output_type": "execute_result"
    }
   ],
   "source": [
    "df_copy_tper_vic2.AP6_12_1.replace({'\\r':'99','9\\r':'99'}, inplace = True)\n",
    "df_copy_tper_vic2.AP6_12_1 =  df_copy_tper_vic2.AP6_12_1.replace('\\r', \"\", regex = True)\n",
    "df_copy_tper_vic2.AP6_12_1.value_counts()"
   ]
  },
  {
   "cell_type": "code",
   "execution_count": 41,
   "metadata": {},
   "outputs": [
    {
     "data": {
      "text/plain": [
       "99    92415\n",
       "1        89\n",
       "2        30\n",
       "3         8\n",
       "5         4\n",
       "4         3\n",
       "6         2\n",
       "Name: AP6_13_1_1, dtype: int64"
      ]
     },
     "execution_count": 41,
     "metadata": {},
     "output_type": "execute_result"
    }
   ],
   "source": [
    "df_copy_tper_vic2.AP6_13_1_1.replace({'\\r':'99','9\\r':'99'}, inplace = True)\n",
    "df_copy_tper_vic2.AP6_13_1_1 =  df_copy_tper_vic2.AP6_13_1_1.replace('\\r', \"\", regex = True)\n",
    "df_copy_tper_vic2.AP6_13_1_1.value_counts()"
   ]
  },
  {
   "cell_type": "code",
   "execution_count": 42,
   "metadata": {},
   "outputs": [
    {
     "data": {
      "text/plain": [
       "99    92546\n",
       "1         5\n",
       "Name: AP6_13_1_2, dtype: int64"
      ]
     },
     "execution_count": 42,
     "metadata": {},
     "output_type": "execute_result"
    }
   ],
   "source": [
    "df_copy_tper_vic2.AP6_13_1_2.replace({'\\r':'99','9\\r':'99'}, inplace = True)\n",
    "df_copy_tper_vic2.AP6_13_1_2 =  df_copy_tper_vic2.AP6_13_1_2.replace('\\r', \"\", regex = True)\n",
    "df_copy_tper_vic2.AP6_13_1_2.value_counts()"
   ]
  },
  {
   "cell_type": "code",
   "execution_count": 43,
   "metadata": {},
   "outputs": [
    {
     "data": {
      "text/plain": [
       "99    92550\n",
       "1         1\n",
       "Name: AP6_13_1_3, dtype: int64"
      ]
     },
     "execution_count": 43,
     "metadata": {},
     "output_type": "execute_result"
    }
   ],
   "source": [
    "df_copy_tper_vic2.AP6_13_1_3.replace({'\\r':'99','9\\r':'99'}, inplace = True)\n",
    "df_copy_tper_vic2.AP6_13_1_3 =  df_copy_tper_vic2.AP6_13_1_3.replace('\\r', \"\", regex = True)\n",
    "df_copy_tper_vic2.AP6_13_1_3.value_counts()"
   ]
  },
  {
   "cell_type": "code",
   "execution_count": 44,
   "metadata": {},
   "outputs": [
    {
     "data": {
      "text/plain": [
       "99    92551\n",
       "Name: AP6_13_1_4, dtype: int64"
      ]
     },
     "execution_count": 44,
     "metadata": {},
     "output_type": "execute_result"
    }
   ],
   "source": [
    "df_copy_tper_vic2.AP6_13_1_4.replace({'\\r':'99','9\\r':'99'}, inplace = True)\n",
    "df_copy_tper_vic2.AP6_13_1_4 =  df_copy_tper_vic2.AP6_13_1_4.replace('\\r', \"\", regex = True)\n",
    "df_copy_tper_vic2.AP6_13_1_4.value_counts()"
   ]
  },
  {
   "cell_type": "code",
   "execution_count": 45,
   "metadata": {},
   "outputs": [
    {
     "data": {
      "text/plain": [
       "99    92532\n",
       "1        15\n",
       "2         4\n",
       "Name: AP6_11_2, dtype: int64"
      ]
     },
     "execution_count": 45,
     "metadata": {},
     "output_type": "execute_result"
    }
   ],
   "source": [
    "df_copy_tper_vic2.AP6_11_2.replace(dicc2, inplace = True)\n",
    "df_copy_tper_vic2.AP6_11_2.value_counts()"
   ]
  },
  {
   "cell_type": "code",
   "execution_count": 46,
   "metadata": {},
   "outputs": [
    {
     "data": {
      "text/plain": [
       "99    92536\n",
       "1        15\n",
       "Name: AP6_12_2, dtype: int64"
      ]
     },
     "execution_count": 46,
     "metadata": {},
     "output_type": "execute_result"
    }
   ],
   "source": [
    "df_copy_tper_vic2.AP6_12_2.replace({'\\r':'99','9\\r':'99'}, inplace = True)\n",
    "df_copy_tper_vic2.AP6_12_2 =  df_copy_tper_vic2.AP6_12_2.replace('\\r', \"\", regex = True)\n",
    "df_copy_tper_vic2.AP6_12_2.value_counts()"
   ]
  },
  {
   "cell_type": "code",
   "execution_count": 47,
   "metadata": {},
   "outputs": [
    {
     "data": {
      "text/plain": [
       "99    92536\n",
       "1        11\n",
       "2         2\n",
       "4         1\n",
       "3         1\n",
       "Name: AP6_13_2_1, dtype: int64"
      ]
     },
     "execution_count": 47,
     "metadata": {},
     "output_type": "execute_result"
    }
   ],
   "source": [
    "df_copy_tper_vic2.AP6_13_2_1.replace({'\\r':'99','9\\r':'99'}, inplace = True)\n",
    "df_copy_tper_vic2.AP6_13_2_1 =  df_copy_tper_vic2.AP6_13_2_1.replace('\\r', \"\", regex = True)\n",
    "df_copy_tper_vic2.AP6_13_2_1.value_counts()"
   ]
  },
  {
   "cell_type": "code",
   "execution_count": 48,
   "metadata": {},
   "outputs": [
    {
     "data": {
      "text/plain": [
       "99    92551\n",
       "Name: AP6_13_2_2, dtype: int64"
      ]
     },
     "execution_count": 48,
     "metadata": {},
     "output_type": "execute_result"
    }
   ],
   "source": [
    "df_copy_tper_vic2.AP6_13_2_2.replace({'\\r':'99','9\\r':'99'}, inplace = True)\n",
    "df_copy_tper_vic2.AP6_13_2_2 =  df_copy_tper_vic2.AP6_13_2_2.replace('\\r', \"\", regex = True)\n",
    "df_copy_tper_vic2.AP6_13_2_2.value_counts()"
   ]
  },
  {
   "cell_type": "code",
   "execution_count": 49,
   "metadata": {},
   "outputs": [
    {
     "data": {
      "text/plain": [
       "99    92551\n",
       "Name: AP6_13_2_3, dtype: int64"
      ]
     },
     "execution_count": 49,
     "metadata": {},
     "output_type": "execute_result"
    }
   ],
   "source": [
    "df_copy_tper_vic2.AP6_13_2_3.replace({'\\r':'99','9\\r':'99'}, inplace = True)\n",
    "df_copy_tper_vic2.AP6_13_2_3 =  df_copy_tper_vic2.AP6_13_2_3.replace('\\r', \"\", regex = True)\n",
    "df_copy_tper_vic2.AP6_13_2_3.value_counts()"
   ]
  },
  {
   "cell_type": "code",
   "execution_count": 50,
   "metadata": {},
   "outputs": [
    {
     "data": {
      "text/plain": [
       "99    92551\n",
       "Name: AP6_13_2_4, dtype: int64"
      ]
     },
     "execution_count": 50,
     "metadata": {},
     "output_type": "execute_result"
    }
   ],
   "source": [
    "df_copy_tper_vic2.AP6_13_2_4.replace({'\\r':'99','9\\r':'99'}, inplace = True)\n",
    "df_copy_tper_vic2.AP6_13_2_4 =  df_copy_tper_vic2.AP6_13_2_4.replace('\\r', \"\", regex = True)\n",
    "df_copy_tper_vic2.AP6_13_2_4.value_counts()"
   ]
  },
  {
   "cell_type": "code",
   "execution_count": 51,
   "metadata": {},
   "outputs": [
    {
     "data": {
      "text/plain": [
       "99    92547\n",
       "1         3\n",
       "2         1\n",
       "Name: AP6_11_3, dtype: int64"
      ]
     },
     "execution_count": 51,
     "metadata": {},
     "output_type": "execute_result"
    }
   ],
   "source": [
    "df_copy_tper_vic2.AP6_11_3.replace(dicc2, inplace = True)\n",
    "df_copy_tper_vic2.AP6_11_3.value_counts()"
   ]
  },
  {
   "cell_type": "code",
   "execution_count": 52,
   "metadata": {},
   "outputs": [
    {
     "data": {
      "text/plain": [
       "99    92548\n",
       "1         3\n",
       "Name: AP6_12_3, dtype: int64"
      ]
     },
     "execution_count": 52,
     "metadata": {},
     "output_type": "execute_result"
    }
   ],
   "source": [
    "df_copy_tper_vic2.AP6_12_3.replace({'\\r':'99','9\\r':'99'}, inplace = True)\n",
    "df_copy_tper_vic2.AP6_12_3 =  df_copy_tper_vic2.AP6_12_3.replace('\\r', \"\", regex = True)\n",
    "df_copy_tper_vic2.AP6_12_3.value_counts()"
   ]
  },
  {
   "cell_type": "code",
   "execution_count": 53,
   "metadata": {},
   "outputs": [
    {
     "data": {
      "text/plain": [
       "99    92549\n",
       "2         1\n",
       "1         1\n",
       "Name: AP6_11_4, dtype: int64"
      ]
     },
     "execution_count": 53,
     "metadata": {},
     "output_type": "execute_result"
    }
   ],
   "source": [
    "df_copy_tper_vic2.AP6_11_4.replace(dicc2, inplace = True)\n",
    "df_copy_tper_vic2.AP6_11_4.value_counts()"
   ]
  },
  {
   "cell_type": "code",
   "execution_count": 54,
   "metadata": {},
   "outputs": [
    {
     "data": {
      "text/plain": [
       "99    92549\n",
       "2         1\n",
       "1         1\n",
       "Name: AP6_11_5, dtype: int64"
      ]
     },
     "execution_count": 54,
     "metadata": {},
     "output_type": "execute_result"
    }
   ],
   "source": [
    "df_copy_tper_vic2.AP6_11_5.replace(dicc2, inplace = True)\n",
    "df_copy_tper_vic2.AP6_11_5.value_counts()"
   ]
  },
  {
   "cell_type": "code",
   "execution_count": 55,
   "metadata": {},
   "outputs": [
    {
     "data": {
      "text/plain": [
       "99    92550\n",
       "1         1\n",
       "Name: AP6_11_6, dtype: int64"
      ]
     },
     "execution_count": 55,
     "metadata": {},
     "output_type": "execute_result"
    }
   ],
   "source": [
    "df_copy_tper_vic2.AP6_11_6.replace(dicc2, inplace = True)\n",
    "df_copy_tper_vic2.AP6_11_6.value_counts()"
   ]
  },
  {
   "cell_type": "code",
   "execution_count": 56,
   "metadata": {},
   "outputs": [
    {
     "data": {
      "text/plain": [
       "99    92551\n",
       "Name: AP6_11_7, dtype: int64"
      ]
     },
     "execution_count": 56,
     "metadata": {},
     "output_type": "execute_result"
    }
   ],
   "source": [
    "df_copy_tper_vic2.AP6_11_7.replace(dicc2, inplace = True)\n",
    "df_copy_tper_vic2.AP6_11_7.value_counts()"
   ]
  },
  {
   "cell_type": "code",
   "execution_count": 57,
   "metadata": {},
   "outputs": [
    {
     "data": {
      "text/plain": [
       "99    92550\n",
       "1         1\n",
       "Name: AP6_12_4, dtype: int64"
      ]
     },
     "execution_count": 57,
     "metadata": {},
     "output_type": "execute_result"
    }
   ],
   "source": [
    "df_copy_tper_vic2.AP6_12_4.replace({'\\r':'99','9\\r':'99'}, inplace = True)\n",
    "df_copy_tper_vic2.AP6_12_4 =  df_copy_tper_vic2.AP6_12_4.replace('\\r', \"\", regex = True)\n",
    "df_copy_tper_vic2.AP6_12_4.value_counts()"
   ]
  },
  {
   "cell_type": "code",
   "execution_count": 58,
   "metadata": {},
   "outputs": [
    {
     "data": {
      "text/plain": [
       "99    92550\n",
       "1         1\n",
       "Name: AP6_12_5, dtype: int64"
      ]
     },
     "execution_count": 58,
     "metadata": {},
     "output_type": "execute_result"
    }
   ],
   "source": [
    "df_copy_tper_vic2.AP6_12_5.replace({'\\r':'99','9\\r':'99'}, inplace = True)\n",
    "df_copy_tper_vic2.AP6_12_5 =  df_copy_tper_vic2.AP6_12_5.replace('\\r', \"\", regex = True)\n",
    "df_copy_tper_vic2.AP6_12_5.value_counts()"
   ]
  },
  {
   "cell_type": "code",
   "execution_count": 59,
   "metadata": {},
   "outputs": [
    {
     "data": {
      "text/plain": [
       "99    92550\n",
       "1         1\n",
       "Name: AP6_12_6, dtype: int64"
      ]
     },
     "execution_count": 59,
     "metadata": {},
     "output_type": "execute_result"
    }
   ],
   "source": [
    "df_copy_tper_vic2.AP6_12_6.replace({'\\r':'99','9\\r':'99'}, inplace = True)\n",
    "df_copy_tper_vic2.AP6_12_6 =  df_copy_tper_vic2.AP6_12_6.replace('\\r', \"\", regex = True)\n",
    "df_copy_tper_vic2.AP6_12_6.value_counts()"
   ]
  },
  {
   "cell_type": "code",
   "execution_count": 60,
   "metadata": {},
   "outputs": [
    {
     "data": {
      "text/plain": [
       "99    92551\n",
       "Name: AP6_12_7, dtype: int64"
      ]
     },
     "execution_count": 60,
     "metadata": {},
     "output_type": "execute_result"
    }
   ],
   "source": [
    "df_copy_tper_vic2.AP6_12_7.replace({'\\r':'99','9\\r':'99'}, inplace = True)\n",
    "df_copy_tper_vic2.AP6_12_7 =  df_copy_tper_vic2.AP6_12_7.replace('\\r', \"\", regex = True)\n",
    "df_copy_tper_vic2.AP6_12_7.value_counts()"
   ]
  },
  {
   "cell_type": "code",
   "execution_count": 61,
   "metadata": {},
   "outputs": [
    {
     "data": {
      "text/plain": [
       "99    92548\n",
       "2         1\n",
       "1         1\n",
       "3         1\n",
       "Name: AP6_13_3_1, dtype: int64"
      ]
     },
     "execution_count": 61,
     "metadata": {},
     "output_type": "execute_result"
    }
   ],
   "source": [
    "df_copy_tper_vic2.AP6_13_3_1.replace({'\\r':'99','9\\r':'99'}, inplace = True)\n",
    "df_copy_tper_vic2.AP6_13_3_1 =  df_copy_tper_vic2.AP6_13_3_1.replace('\\r', \"\", regex = True)\n",
    "df_copy_tper_vic2.AP6_13_3_1.value_counts()"
   ]
  },
  {
   "cell_type": "code",
   "execution_count": 62,
   "metadata": {},
   "outputs": [
    {
     "data": {
      "text/plain": [
       "99    92551\n",
       "Name: AP6_13_3_2, dtype: int64"
      ]
     },
     "execution_count": 62,
     "metadata": {},
     "output_type": "execute_result"
    }
   ],
   "source": [
    "df_copy_tper_vic2.AP6_13_3_2.replace({'\\r':'99','9\\r':'99'}, inplace = True)\n",
    "df_copy_tper_vic2.AP6_13_3_2 =  df_copy_tper_vic2.AP6_13_3_2.replace('\\r', \"\", regex = True)\n",
    "df_copy_tper_vic2.AP6_13_3_2.value_counts()"
   ]
  },
  {
   "cell_type": "code",
   "execution_count": 63,
   "metadata": {},
   "outputs": [
    {
     "data": {
      "text/plain": [
       "99    92551\n",
       "Name: AP6_13_3_3, dtype: int64"
      ]
     },
     "execution_count": 63,
     "metadata": {},
     "output_type": "execute_result"
    }
   ],
   "source": [
    "df_copy_tper_vic2.AP6_13_3_3.replace({'\\r':'99','9\\r':'99'}, inplace = True)\n",
    "df_copy_tper_vic2.AP6_13_3_3 =  df_copy_tper_vic2.AP6_13_3_3.replace('\\r', \"\", regex = True)\n",
    "df_copy_tper_vic2.AP6_13_3_3.value_counts()"
   ]
  },
  {
   "cell_type": "code",
   "execution_count": 64,
   "metadata": {},
   "outputs": [
    {
     "data": {
      "text/plain": [
       "99    92551\n",
       "Name: AP6_13_3_4, dtype: int64"
      ]
     },
     "execution_count": 64,
     "metadata": {},
     "output_type": "execute_result"
    }
   ],
   "source": [
    "df_copy_tper_vic2.AP6_13_3_4.replace({'\\r':'99','9\\r':'99'}, inplace = True)\n",
    "df_copy_tper_vic2.AP6_13_3_4 =  df_copy_tper_vic2.AP6_13_3_4.replace('\\r', \"\", regex = True)\n",
    "df_copy_tper_vic2.AP6_13_3_4.value_counts()"
   ]
  },
  {
   "cell_type": "code",
   "execution_count": 65,
   "metadata": {},
   "outputs": [
    {
     "data": {
      "text/plain": [
       "99    92550\n",
       "2         1\n",
       "Name: AP6_13_4_1, dtype: int64"
      ]
     },
     "execution_count": 65,
     "metadata": {},
     "output_type": "execute_result"
    }
   ],
   "source": [
    "df_copy_tper_vic2.AP6_13_4_1.replace({'\\r':'99','9\\r':'99'}, inplace = True)\n",
    "df_copy_tper_vic2.AP6_13_4_1 =  df_copy_tper_vic2.AP6_13_4_1.replace('\\r', \"\", regex = True)\n",
    "df_copy_tper_vic2.AP6_13_4_1.value_counts()"
   ]
  },
  {
   "cell_type": "code",
   "execution_count": 66,
   "metadata": {},
   "outputs": [
    {
     "data": {
      "text/plain": [
       "99    92550\n",
       "2         1\n",
       "Name: AP6_13_5_1, dtype: int64"
      ]
     },
     "execution_count": 66,
     "metadata": {},
     "output_type": "execute_result"
    }
   ],
   "source": [
    "df_copy_tper_vic2.AP6_13_5_1.replace({'\\r':'99','9\\r':'99'}, inplace = True)\n",
    "df_copy_tper_vic2.AP6_13_5_1 =  df_copy_tper_vic2.AP6_13_5_1.replace('\\r', \"\", regex = True)\n",
    "df_copy_tper_vic2.AP6_13_5_1.value_counts()"
   ]
  },
  {
   "cell_type": "code",
   "execution_count": 67,
   "metadata": {},
   "outputs": [
    {
     "data": {
      "text/plain": [
       "99    92550\n",
       "2         1\n",
       "Name: AP6_13_6_1, dtype: int64"
      ]
     },
     "execution_count": 67,
     "metadata": {},
     "output_type": "execute_result"
    }
   ],
   "source": [
    "df_copy_tper_vic2.AP6_13_6_1.replace({'\\r':'99','9\\r':'99'}, inplace = True)\n",
    "df_copy_tper_vic2.AP6_13_6_1 =  df_copy_tper_vic2.AP6_13_6_1.replace('\\r', \"\", regex = True)\n",
    "df_copy_tper_vic2.AP6_13_6_1.value_counts()"
   ]
  },
  {
   "cell_type": "code",
   "execution_count": 68,
   "metadata": {},
   "outputs": [
    {
     "data": {
      "text/plain": [
       "99    92551\n",
       "Name: AP6_13_7_1, dtype: int64"
      ]
     },
     "execution_count": 68,
     "metadata": {},
     "output_type": "execute_result"
    }
   ],
   "source": [
    "df_copy_tper_vic2.AP6_13_7_1.replace({'\\r':'99','9\\r':'99'}, inplace = True)\n",
    "df_copy_tper_vic2.AP6_13_7_1 =  df_copy_tper_vic2.AP6_13_7_1.replace('\\r', \"\", regex = True)\n",
    "df_copy_tper_vic2.AP6_13_7_1.value_counts()"
   ]
  },
  {
   "cell_type": "code",
   "execution_count": 69,
   "metadata": {},
   "outputs": [
    {
     "data": {
      "text/plain": [
       "99    92551\n",
       "Name: AP6_13_4_2, dtype: int64"
      ]
     },
     "execution_count": 69,
     "metadata": {},
     "output_type": "execute_result"
    }
   ],
   "source": [
    "df_copy_tper_vic2.AP6_13_4_2.replace({'\\r':'99','9\\r':'99'}, inplace = True)\n",
    "df_copy_tper_vic2.AP6_13_4_2 =  df_copy_tper_vic2.AP6_13_4_2.replace('\\r', \"\", regex = True)\n",
    "df_copy_tper_vic2.AP6_13_4_2.value_counts()"
   ]
  },
  {
   "cell_type": "code",
   "execution_count": 70,
   "metadata": {},
   "outputs": [
    {
     "data": {
      "text/plain": [
       "99    92551\n",
       "Name: AP6_13_5_2, dtype: int64"
      ]
     },
     "execution_count": 70,
     "metadata": {},
     "output_type": "execute_result"
    }
   ],
   "source": [
    "df_copy_tper_vic2.AP6_13_5_2.replace({'\\r':'99','9\\r':'99'}, inplace = True)\n",
    "df_copy_tper_vic2.AP6_13_5_2 =  df_copy_tper_vic2.AP6_13_5_2.replace('\\r', \"\", regex = True)\n",
    "df_copy_tper_vic2.AP6_13_5_2.value_counts()"
   ]
  },
  {
   "cell_type": "code",
   "execution_count": 71,
   "metadata": {},
   "outputs": [
    {
     "data": {
      "text/plain": [
       "99    92551\n",
       "Name: AP6_13_6_2, dtype: int64"
      ]
     },
     "execution_count": 71,
     "metadata": {},
     "output_type": "execute_result"
    }
   ],
   "source": [
    "df_copy_tper_vic2.AP6_13_6_2.replace({'\\r':'99','9\\r':'99'}, inplace = True)\n",
    "df_copy_tper_vic2.AP6_13_6_2 =  df_copy_tper_vic2.AP6_13_6_2.replace('\\r', \"\", regex = True)\n",
    "df_copy_tper_vic2.AP6_13_6_2.value_counts()"
   ]
  },
  {
   "cell_type": "code",
   "execution_count": 72,
   "metadata": {},
   "outputs": [
    {
     "data": {
      "text/plain": [
       "99    92551\n",
       "Name: AP6_13_7_2, dtype: int64"
      ]
     },
     "execution_count": 72,
     "metadata": {},
     "output_type": "execute_result"
    }
   ],
   "source": [
    "df_copy_tper_vic2.AP6_13_7_2.replace({'\\r':'99','9\\r':'99'}, inplace = True)\n",
    "df_copy_tper_vic2.AP6_13_7_2 =  df_copy_tper_vic2.AP6_13_7_2.replace('\\r', \"\", regex = True)\n",
    "df_copy_tper_vic2.AP6_13_7_2.value_counts()"
   ]
  },
  {
   "cell_type": "code",
   "execution_count": 73,
   "metadata": {},
   "outputs": [
    {
     "data": {
      "text/plain": [
       "99    92551\n",
       "Name: AP6_13_4_3, dtype: int64"
      ]
     },
     "execution_count": 73,
     "metadata": {},
     "output_type": "execute_result"
    }
   ],
   "source": [
    "df_copy_tper_vic2.AP6_13_4_3.replace({'\\r':'99','9\\r':'99'}, inplace = True)\n",
    "df_copy_tper_vic2.AP6_13_4_3 =  df_copy_tper_vic2.AP6_13_4_3.replace('\\r', \"\", regex = True)\n",
    "df_copy_tper_vic2.AP6_13_4_3.value_counts()"
   ]
  },
  {
   "cell_type": "code",
   "execution_count": 74,
   "metadata": {},
   "outputs": [
    {
     "data": {
      "text/plain": [
       "99    92551\n",
       "Name: AP6_13_5_3, dtype: int64"
      ]
     },
     "execution_count": 74,
     "metadata": {},
     "output_type": "execute_result"
    }
   ],
   "source": [
    "df_copy_tper_vic2.AP6_13_5_3.replace({'\\r':'99','9\\r':'99'}, inplace = True)\n",
    "df_copy_tper_vic2.AP6_13_5_3 =  df_copy_tper_vic2.AP6_13_5_3.replace('\\r', \"\", regex = True)\n",
    "df_copy_tper_vic2.AP6_13_5_3.value_counts()"
   ]
  },
  {
   "cell_type": "code",
   "execution_count": 75,
   "metadata": {},
   "outputs": [
    {
     "data": {
      "text/plain": [
       "99    92551\n",
       "Name: AP6_13_6_3, dtype: int64"
      ]
     },
     "execution_count": 75,
     "metadata": {},
     "output_type": "execute_result"
    }
   ],
   "source": [
    "df_copy_tper_vic2.AP6_13_6_3.replace({'\\r':'99','9\\r':'99'}, inplace = True)\n",
    "df_copy_tper_vic2.AP6_13_6_3 =  df_copy_tper_vic2.AP6_13_6_3.replace('\\r', \"\", regex = True)\n",
    "df_copy_tper_vic2.AP6_13_6_3.value_counts()"
   ]
  },
  {
   "cell_type": "code",
   "execution_count": 76,
   "metadata": {},
   "outputs": [
    {
     "data": {
      "text/plain": [
       "99    92551\n",
       "Name: AP6_13_7_3, dtype: int64"
      ]
     },
     "execution_count": 76,
     "metadata": {},
     "output_type": "execute_result"
    }
   ],
   "source": [
    "df_copy_tper_vic2.AP6_13_7_3.replace({'\\r':'99','9\\r':'99'}, inplace = True)\n",
    "df_copy_tper_vic2.AP6_13_7_3 =  df_copy_tper_vic2.AP6_13_7_3.replace('\\r', \"\", regex = True)\n",
    "df_copy_tper_vic2.AP6_13_7_3.value_counts()"
   ]
  },
  {
   "cell_type": "code",
   "execution_count": 77,
   "metadata": {},
   "outputs": [
    {
     "data": {
      "text/plain": [
       "99    92551\n",
       "Name: AP6_13_4_4, dtype: int64"
      ]
     },
     "execution_count": 77,
     "metadata": {},
     "output_type": "execute_result"
    }
   ],
   "source": [
    "df_copy_tper_vic2.AP6_13_4_4.replace({'\\r':'99','9\\r':'99'}, inplace = True)\n",
    "df_copy_tper_vic2.AP6_13_4_4 =  df_copy_tper_vic2.AP6_13_4_4.replace('\\r', \"\", regex = True)\n",
    "df_copy_tper_vic2.AP6_13_4_4.value_counts()"
   ]
  },
  {
   "cell_type": "code",
   "execution_count": 78,
   "metadata": {},
   "outputs": [
    {
     "data": {
      "text/plain": [
       "99    92551\n",
       "Name: AP6_13_5_4, dtype: int64"
      ]
     },
     "execution_count": 78,
     "metadata": {},
     "output_type": "execute_result"
    }
   ],
   "source": [
    "df_copy_tper_vic2.AP6_13_5_4.replace({'\\r':'99','9\\r':'99'}, inplace = True)\n",
    "df_copy_tper_vic2.AP6_13_5_4 =  df_copy_tper_vic2.AP6_13_5_4.replace('\\r', \"\", regex = True)\n",
    "df_copy_tper_vic2.AP6_13_5_4.value_counts()"
   ]
  },
  {
   "cell_type": "code",
   "execution_count": 79,
   "metadata": {},
   "outputs": [
    {
     "data": {
      "text/plain": [
       "99    92551\n",
       "Name: AP6_13_6_4, dtype: int64"
      ]
     },
     "execution_count": 79,
     "metadata": {},
     "output_type": "execute_result"
    }
   ],
   "source": [
    "df_copy_tper_vic2.AP6_13_6_4.replace({'\\r':'99','9\\r':'99'}, inplace = True)\n",
    "df_copy_tper_vic2.AP6_13_6_4 =  df_copy_tper_vic2.AP6_13_6_4.replace('\\r', \"\", regex = True)\n",
    "df_copy_tper_vic2.AP6_13_6_4.value_counts()"
   ]
  },
  {
   "cell_type": "code",
   "execution_count": 80,
   "metadata": {},
   "outputs": [
    {
     "data": {
      "text/plain": [
       "99    92551\n",
       "Name: AP6_13_7_4, dtype: int64"
      ]
     },
     "execution_count": 80,
     "metadata": {},
     "output_type": "execute_result"
    }
   ],
   "source": [
    "df_copy_tper_vic2.AP6_13_7_4.replace({'\\r':'99','9\\r':'99'}, inplace = True)\n",
    "df_copy_tper_vic2.AP6_13_7_4 =  df_copy_tper_vic2.AP6_13_7_4.replace('\\r', \"\", regex = True)\n",
    "df_copy_tper_vic2.AP6_13_7_4.value_counts()"
   ]
  },
  {
   "cell_type": "code",
   "execution_count": 81,
   "metadata": {},
   "outputs": [
    {
     "data": {
      "text/plain": [
       "2     91989\n",
       "1       506\n",
       "99       56\n",
       "Name: AP6_14, dtype: int64"
      ]
     },
     "execution_count": 81,
     "metadata": {},
     "output_type": "execute_result"
    }
   ],
   "source": [
    "df_copy_tper_vic2.AP6_14.replace(dicc, inplace = True)\n",
    "df_copy_tper_vic2.AP6_14.value_counts()"
   ]
  },
  {
   "cell_type": "code",
   "execution_count": 82,
   "metadata": {},
   "outputs": [
    {
     "data": {
      "text/plain": [
       "2     92429\n",
       "1        72\n",
       "99       50\n",
       "Name: AP6_15_1, dtype: int64"
      ]
     },
     "execution_count": 82,
     "metadata": {},
     "output_type": "execute_result"
    }
   ],
   "source": [
    "df_copy_tper_vic2.AP6_15_1.replace(dicc, inplace = True)\n",
    "df_copy_tper_vic2.AP6_15_1.value_counts()"
   ]
  },
  {
   "cell_type": "code",
   "execution_count": 83,
   "metadata": {},
   "outputs": [
    {
     "data": {
      "text/plain": [
       "99    92479\n",
       "01       68\n",
       "02        3\n",
       "03        1\n",
       "Name: AP6_15_2, dtype: int64"
      ]
     },
     "execution_count": 83,
     "metadata": {},
     "output_type": "execute_result"
    }
   ],
   "source": [
    "df_copy_tper_vic2.AP6_15_2.replace({'\\r':'99','9\\r':'99'}, inplace = True)\n",
    "df_copy_tper_vic2.AP6_15_2 =  df_copy_tper_vic2.AP6_15_2.replace('\\r', \"\", regex = True)\n",
    "df_copy_tper_vic2.AP6_15_2.value_counts()"
   ]
  },
  {
   "cell_type": "code",
   "execution_count": 84,
   "metadata": {},
   "outputs": [
    {
     "data": {
      "text/plain": [
       "99    92479\n",
       "1        65\n",
       "2         7\n",
       "Name: AP6_16_1, dtype: int64"
      ]
     },
     "execution_count": 84,
     "metadata": {},
     "output_type": "execute_result"
    }
   ],
   "source": [
    "df_copy_tper_vic2.AP6_16_1.replace({'\\r':'99','9\\r':'99'}, inplace = True)\n",
    "df_copy_tper_vic2.AP6_16_1 =  df_copy_tper_vic2.AP6_16_1.replace('\\r', \"\", regex = True)\n",
    "df_copy_tper_vic2.AP6_16_1.value_counts()"
   ]
  },
  {
   "cell_type": "code",
   "execution_count": 85,
   "metadata": {},
   "outputs": [
    {
     "data": {
      "text/plain": [
       "99    92547\n",
       "1         3\n",
       "2         1\n",
       "Name: AP6_16_2, dtype: int64"
      ]
     },
     "execution_count": 85,
     "metadata": {},
     "output_type": "execute_result"
    }
   ],
   "source": [
    "df_copy_tper_vic2.AP6_16_2.replace({'\\r':'99','9\\r':'99'}, inplace = True)\n",
    "df_copy_tper_vic2.AP6_16_2 =  df_copy_tper_vic2.AP6_16_2.replace('\\r', \"\", regex = True)\n",
    "df_copy_tper_vic2.AP6_16_2.value_counts()"
   ]
  },
  {
   "cell_type": "code",
   "execution_count": 86,
   "metadata": {},
   "outputs": [
    {
     "data": {
      "text/plain": [
       "99    92550\n",
       "2         1\n",
       "Name: AP6_16_3, dtype: int64"
      ]
     },
     "execution_count": 86,
     "metadata": {},
     "output_type": "execute_result"
    }
   ],
   "source": [
    "df_copy_tper_vic2.AP6_16_3.replace({'\\r':'99','9\\r':'99'}, inplace = True)\n",
    "df_copy_tper_vic2.AP6_16_3 =  df_copy_tper_vic2.AP6_16_3.replace('\\r', \"\", regex = True)\n",
    "df_copy_tper_vic2.AP6_16_3.value_counts()"
   ]
  },
  {
   "cell_type": "code",
   "execution_count": 87,
   "metadata": {},
   "outputs": [
    {
     "data": {
      "text/plain": [
       "99    92550\n",
       "2         1\n",
       "Name: AP6_16_3, dtype: int64"
      ]
     },
     "execution_count": 87,
     "metadata": {},
     "output_type": "execute_result"
    }
   ],
   "source": [
    "df_copy_tper_vic2.AP6_16_3.replace({'\\r':'99','9\\r':'99'}, inplace = True)\n",
    "df_copy_tper_vic2.AP6_16_3 =  df_copy_tper_vic2.AP6_16_3.replace('\\r', \"\", regex = True)\n",
    "df_copy_tper_vic2.AP6_16_3.value_counts()"
   ]
  },
  {
   "cell_type": "code",
   "execution_count": 88,
   "metadata": {},
   "outputs": [
    {
     "data": {
      "text/plain": [
       "99    92551\n",
       "Name: AP6_16_4, dtype: int64"
      ]
     },
     "execution_count": 88,
     "metadata": {},
     "output_type": "execute_result"
    }
   ],
   "source": [
    "df_copy_tper_vic2.AP6_16_4.replace({'\\r':'99','9\\r':'99'}, inplace = True)\n",
    "df_copy_tper_vic2.AP6_16_4 =  df_copy_tper_vic2.AP6_16_4.replace('\\r', \"\", regex = True)\n",
    "df_copy_tper_vic2.AP6_16_4.value_counts()"
   ]
  },
  {
   "cell_type": "code",
   "execution_count": 89,
   "metadata": {},
   "outputs": [
    {
     "data": {
      "text/plain": [
       "99    92551\n",
       "Name: AP6_16_5, dtype: int64"
      ]
     },
     "execution_count": 89,
     "metadata": {},
     "output_type": "execute_result"
    }
   ],
   "source": [
    "df_copy_tper_vic2.AP6_16_5.replace({'\\r':'99','9\\r':'99'}, inplace = True)\n",
    "df_copy_tper_vic2.AP6_16_5 =  df_copy_tper_vic2.AP6_16_5.replace('\\r', \"\", regex = True)\n",
    "df_copy_tper_vic2.AP6_16_5.value_counts()"
   ]
  },
  {
   "cell_type": "code",
   "execution_count": 90,
   "metadata": {},
   "outputs": [
    {
     "data": {
      "text/plain": [
       "99    92551\n",
       "Name: AP6_16_6, dtype: int64"
      ]
     },
     "execution_count": 90,
     "metadata": {},
     "output_type": "execute_result"
    }
   ],
   "source": [
    "df_copy_tper_vic2.AP6_16_6.replace({'\\r':'99','9\\r':'99'}, inplace = True)\n",
    "df_copy_tper_vic2.AP6_16_6 =  df_copy_tper_vic2.AP6_16_6.replace('\\r', \"\", regex = True)\n",
    "df_copy_tper_vic2.AP6_16_6.value_counts()"
   ]
  },
  {
   "cell_type": "code",
   "execution_count": 91,
   "metadata": {},
   "outputs": [
    {
     "data": {
      "text/plain": [
       "99    92551\n",
       "Name: AP6_16_7, dtype: int64"
      ]
     },
     "execution_count": 91,
     "metadata": {},
     "output_type": "execute_result"
    }
   ],
   "source": [
    "df_copy_tper_vic2.AP6_16_7.replace({'\\r':'99','9\\r':'99'}, inplace = True)\n",
    "df_copy_tper_vic2.AP6_16_7 =  df_copy_tper_vic2.AP6_16_7.replace('\\r', \"\", regex = True)\n",
    "df_copy_tper_vic2.AP6_16_7.value_counts()"
   ]
  },
  {
   "cell_type": "code",
   "execution_count": 92,
   "metadata": {},
   "outputs": [
    {
     "data": {
      "text/plain": [
       "99    92486\n",
       "1        46\n",
       "2        10\n",
       "3         9\n",
       "Name: AP6_17_1, dtype: int64"
      ]
     },
     "execution_count": 92,
     "metadata": {},
     "output_type": "execute_result"
    }
   ],
   "source": [
    "df_copy_tper_vic2.AP6_17_1.replace({'\\r':'99','9\\r':'99'}, inplace = True)\n",
    "df_copy_tper_vic2.AP6_17_1 =  df_copy_tper_vic2.AP6_17_1.replace('\\r', \"\", regex = True)\n",
    "df_copy_tper_vic2.AP6_17_1.value_counts()"
   ]
  },
  {
   "cell_type": "code",
   "execution_count": 93,
   "metadata": {},
   "outputs": [
    {
     "data": {
      "text/plain": [
       "99    92548\n",
       "1         3\n",
       "Name: AP6_17_2, dtype: int64"
      ]
     },
     "execution_count": 93,
     "metadata": {},
     "output_type": "execute_result"
    }
   ],
   "source": [
    "df_copy_tper_vic2.AP6_17_2.replace({'\\r':'99','9\\r':'99'}, inplace = True)\n",
    "df_copy_tper_vic2.AP6_17_2 =  df_copy_tper_vic2.AP6_17_2.replace('\\r', \"\", regex = True)\n",
    "df_copy_tper_vic2.AP6_17_2.value_counts()"
   ]
  },
  {
   "cell_type": "code",
   "execution_count": 94,
   "metadata": {},
   "outputs": [
    {
     "data": {
      "text/plain": [
       "99    92551\n",
       "Name: AP6_17_3, dtype: int64"
      ]
     },
     "execution_count": 94,
     "metadata": {},
     "output_type": "execute_result"
    }
   ],
   "source": [
    "df_copy_tper_vic2.AP6_17_3.replace({'\\r':'99','9\\r':'99'}, inplace = True)\n",
    "df_copy_tper_vic2.AP6_17_3 =  df_copy_tper_vic2.AP6_17_3.replace('\\r', \"\", regex = True)\n",
    "df_copy_tper_vic2.AP6_17_3.value_counts()"
   ]
  },
  {
   "cell_type": "code",
   "execution_count": 95,
   "metadata": {},
   "outputs": [
    {
     "data": {
      "text/plain": [
       "99    92551\n",
       "Name: AP6_17_4, dtype: int64"
      ]
     },
     "execution_count": 95,
     "metadata": {},
     "output_type": "execute_result"
    }
   ],
   "source": [
    "df_copy_tper_vic2.AP6_17_4.replace({'\\r':'99','9\\r':'99'}, inplace = True)\n",
    "df_copy_tper_vic2.AP6_17_4 =  df_copy_tper_vic2.AP6_17_4.replace('\\r', \"\", regex = True)\n",
    "df_copy_tper_vic2.AP6_17_4.value_counts()"
   ]
  },
  {
   "cell_type": "code",
   "execution_count": 96,
   "metadata": {},
   "outputs": [
    {
     "data": {
      "text/plain": [
       "99    92551\n",
       "Name: AP6_17_5, dtype: int64"
      ]
     },
     "execution_count": 96,
     "metadata": {},
     "output_type": "execute_result"
    }
   ],
   "source": [
    "df_copy_tper_vic2.AP6_17_5.replace({'\\r':'99','9\\r':'99'}, inplace = True)\n",
    "df_copy_tper_vic2.AP6_17_5 =  df_copy_tper_vic2.AP6_17_5.replace('\\r', \"\", regex = True)\n",
    "df_copy_tper_vic2.AP6_17_5.value_counts()"
   ]
  },
  {
   "cell_type": "code",
   "execution_count": 97,
   "metadata": {},
   "outputs": [
    {
     "data": {
      "text/plain": [
       "99    92551\n",
       "Name: AP6_17_6, dtype: int64"
      ]
     },
     "execution_count": 97,
     "metadata": {},
     "output_type": "execute_result"
    }
   ],
   "source": [
    "df_copy_tper_vic2.AP6_17_6.replace({'\\r':'99','9\\r':'99'}, inplace = True)\n",
    "df_copy_tper_vic2.AP6_17_6 =  df_copy_tper_vic2.AP6_17_6.replace('\\r', \"\", regex = True)\n",
    "df_copy_tper_vic2.AP6_17_6.value_counts()"
   ]
  },
  {
   "cell_type": "code",
   "execution_count": 98,
   "metadata": {},
   "outputs": [
    {
     "data": {
      "text/plain": [
       "99    92551\n",
       "Name: AP6_17_7, dtype: int64"
      ]
     },
     "execution_count": 98,
     "metadata": {},
     "output_type": "execute_result"
    }
   ],
   "source": [
    "df_copy_tper_vic2.AP6_17_7.replace({'\\r':'99','9\\r':'99'}, inplace = True)\n",
    "df_copy_tper_vic2.AP6_17_7 =  df_copy_tper_vic2.AP6_17_7.replace('\\r', \"\", regex = True)\n",
    "df_copy_tper_vic2.AP6_17_7.value_counts()"
   ]
  },
  {
   "cell_type": "code",
   "execution_count": 99,
   "metadata": {},
   "outputs": [
    {
     "data": {
      "text/plain": [
       "99    92544\n",
       "1         7\n",
       "Name: AP6_18_1, dtype: int64"
      ]
     },
     "execution_count": 99,
     "metadata": {},
     "output_type": "execute_result"
    }
   ],
   "source": [
    "df_copy_tper_vic2.AP6_18_1.replace({'\\r':'99','9\\r':'99'}, inplace = True)\n",
    "df_copy_tper_vic2.AP6_18_1 =  df_copy_tper_vic2.AP6_18_1.replace('\\r', \"\", regex = True)\n",
    "df_copy_tper_vic2.AP6_18_1.value_counts()"
   ]
  },
  {
   "cell_type": "code",
   "execution_count": 100,
   "metadata": {},
   "outputs": [
    {
     "data": {
      "text/plain": [
       "99    92551\n",
       "Name: AP6_18_2, dtype: int64"
      ]
     },
     "execution_count": 100,
     "metadata": {},
     "output_type": "execute_result"
    }
   ],
   "source": [
    "df_copy_tper_vic2.AP6_18_2.replace({'\\r':'99','9\\r':'99'}, inplace = True)\n",
    "df_copy_tper_vic2.AP6_18_2 =  df_copy_tper_vic2.AP6_18_2.replace('\\r', \"\", regex = True)\n",
    "df_copy_tper_vic2.AP6_18_2.value_counts()"
   ]
  },
  {
   "cell_type": "code",
   "execution_count": 101,
   "metadata": {},
   "outputs": [
    {
     "data": {
      "text/plain": [
       "99    92551\n",
       "Name: AP6_18_3, dtype: int64"
      ]
     },
     "execution_count": 101,
     "metadata": {},
     "output_type": "execute_result"
    }
   ],
   "source": [
    "df_copy_tper_vic2.AP6_18_3.replace({'\\r':'99','9\\r':'99'}, inplace = True)\n",
    "df_copy_tper_vic2.AP6_18_3 =  df_copy_tper_vic2.AP6_18_3.replace('\\r', \"\", regex = True)\n",
    "df_copy_tper_vic2.AP6_18_3.value_counts()"
   ]
  },
  {
   "cell_type": "code",
   "execution_count": 102,
   "metadata": {},
   "outputs": [
    {
     "data": {
      "text/plain": [
       "99    92551\n",
       "Name: AP6_18_4, dtype: int64"
      ]
     },
     "execution_count": 102,
     "metadata": {},
     "output_type": "execute_result"
    }
   ],
   "source": [
    "df_copy_tper_vic2.AP6_18_4.replace({'\\r':'99','9\\r':'99'}, inplace = True)\n",
    "df_copy_tper_vic2.AP6_18_4 =  df_copy_tper_vic2.AP6_18_4.replace('\\r', \"\", regex = True)\n",
    "df_copy_tper_vic2.AP6_18_4.value_counts()"
   ]
  },
  {
   "cell_type": "code",
   "execution_count": 103,
   "metadata": {},
   "outputs": [
    {
     "data": {
      "text/plain": [
       "99    92551\n",
       "Name: AP6_18_5, dtype: int64"
      ]
     },
     "execution_count": 103,
     "metadata": {},
     "output_type": "execute_result"
    }
   ],
   "source": [
    "df_copy_tper_vic2.AP6_18_5.replace({'\\r':'99','9\\r':'99'}, inplace = True)\n",
    "df_copy_tper_vic2.AP6_18_5 =  df_copy_tper_vic2.AP6_18_5.replace('\\r', \"\", regex = True)\n",
    "df_copy_tper_vic2.AP6_18_5.value_counts()"
   ]
  },
  {
   "cell_type": "code",
   "execution_count": 104,
   "metadata": {},
   "outputs": [
    {
     "data": {
      "text/plain": [
       "99    92551\n",
       "Name: AP6_18_6, dtype: int64"
      ]
     },
     "execution_count": 104,
     "metadata": {},
     "output_type": "execute_result"
    }
   ],
   "source": [
    "df_copy_tper_vic2.AP6_18_6.replace({'\\r':'99','9\\r':'99'}, inplace = True)\n",
    "df_copy_tper_vic2.AP6_18_6 =  df_copy_tper_vic2.AP6_18_6.replace('\\r', \"\", regex = True)\n",
    "df_copy_tper_vic2.AP6_18_6.value_counts()"
   ]
  },
  {
   "cell_type": "code",
   "execution_count": 105,
   "metadata": {},
   "outputs": [
    {
     "data": {
      "text/plain": [
       "99    92551\n",
       "Name: AP6_18_7, dtype: int64"
      ]
     },
     "execution_count": 105,
     "metadata": {},
     "output_type": "execute_result"
    }
   ],
   "source": [
    "df_copy_tper_vic2.AP6_18_7.replace({'\\r':'99','9\\r':'99'}, inplace = True)\n",
    "df_copy_tper_vic2.AP6_18_7 =  df_copy_tper_vic2.AP6_18_7.replace('\\r', \"\", regex = True)\n",
    "df_copy_tper_vic2.AP6_18_7.value_counts()"
   ]
  },
  {
   "cell_type": "code",
   "execution_count": 106,
   "metadata": {},
   "outputs": [
    {
     "data": {
      "text/plain": [
       "2     91926\n",
       "1       567\n",
       "99       58\n",
       "Name: AP6_19, dtype: int64"
      ]
     },
     "execution_count": 106,
     "metadata": {},
     "output_type": "execute_result"
    }
   ],
   "source": [
    "df_copy_tper_vic2.AP6_19.replace(dicc, inplace = True)\n",
    "df_copy_tper_vic2.AP6_19.value_counts()"
   ]
  },
  {
   "cell_type": "code",
   "execution_count": 107,
   "metadata": {},
   "outputs": [
    {
     "data": {
      "text/plain": [
       "2     92433\n",
       "1        69\n",
       "99       49\n",
       "Name: AP6_20_1, dtype: int64"
      ]
     },
     "execution_count": 107,
     "metadata": {},
     "output_type": "execute_result"
    }
   ],
   "source": [
    "df_copy_tper_vic2.AP6_20_1.replace(dicc, inplace = True)\n",
    "df_copy_tper_vic2.AP6_20_1.value_counts()"
   ]
  },
  {
   "cell_type": "code",
   "execution_count": 108,
   "metadata": {},
   "outputs": [
    {
     "data": {
      "text/plain": [
       "\\r      92482\n",
       "01\\r       66\n",
       "02\\r        2\n",
       "03\\r        1\n",
       "Name: AP6_20_2, dtype: int64"
      ]
     },
     "execution_count": 108,
     "metadata": {},
     "output_type": "execute_result"
    }
   ],
   "source": [
    "df_copy_tper_vic2.AP6_20_2.value_counts()"
   ]
  },
  {
   "cell_type": "code",
   "execution_count": 109,
   "metadata": {},
   "outputs": [
    {
     "data": {
      "text/plain": [
       "99    92482\n",
       "01       66\n",
       "02        2\n",
       "03        1\n",
       "Name: AP6_20_2, dtype: int64"
      ]
     },
     "execution_count": 109,
     "metadata": {},
     "output_type": "execute_result"
    }
   ],
   "source": [
    "df_copy_tper_vic2.AP6_20_2.replace({'\\r':'99','9\\r':'99'}, inplace = True)\n",
    "df_copy_tper_vic2.AP6_20_2 =  df_copy_tper_vic2.AP6_20_2.replace('\\r', \"\", regex = True)\n",
    "df_copy_tper_vic2.AP6_20_2.value_counts()"
   ]
  },
  {
   "cell_type": "code",
   "execution_count": 110,
   "metadata": {},
   "outputs": [
    {
     "data": {
      "text/plain": [
       "99    92483\n",
       "1        57\n",
       "2        11\n",
       "Name: AP6_21_1, dtype: int64"
      ]
     },
     "execution_count": 110,
     "metadata": {},
     "output_type": "execute_result"
    }
   ],
   "source": [
    "df_copy_tper_vic2.AP6_21_1.replace({'\\r':'99','9\\r':'99'}, inplace = True)\n",
    "df_copy_tper_vic2.AP6_21_1 =  df_copy_tper_vic2.AP6_21_1.replace('\\r', \"\", regex = True)\n",
    "df_copy_tper_vic2.AP6_21_1.value_counts()"
   ]
  },
  {
   "cell_type": "code",
   "execution_count": 111,
   "metadata": {},
   "outputs": [
    {
     "data": {
      "text/plain": [
       "99    92548\n",
       "2         2\n",
       "1         1\n",
       "Name: AP6_21_2, dtype: int64"
      ]
     },
     "execution_count": 111,
     "metadata": {},
     "output_type": "execute_result"
    }
   ],
   "source": [
    "df_copy_tper_vic2.AP6_21_2.replace({'\\r':'99','9\\r':'99'}, inplace = True)\n",
    "df_copy_tper_vic2.AP6_21_2 =  df_copy_tper_vic2.AP6_21_2.replace('\\r', \"\", regex = True)\n",
    "df_copy_tper_vic2.AP6_21_2.value_counts()"
   ]
  },
  {
   "cell_type": "code",
   "execution_count": 112,
   "metadata": {},
   "outputs": [
    {
     "data": {
      "text/plain": [
       "99    92550\n",
       "2         1\n",
       "Name: AP6_21_3, dtype: int64"
      ]
     },
     "execution_count": 112,
     "metadata": {},
     "output_type": "execute_result"
    }
   ],
   "source": [
    "df_copy_tper_vic2.AP6_21_3.replace({'\\r':'99','9\\r':'99'}, inplace = True)\n",
    "df_copy_tper_vic2.AP6_21_3 =  df_copy_tper_vic2.AP6_21_3.replace('\\r', \"\", regex = True)\n",
    "df_copy_tper_vic2.AP6_21_3.value_counts()"
   ]
  },
  {
   "cell_type": "code",
   "execution_count": 113,
   "metadata": {},
   "outputs": [
    {
     "data": {
      "text/plain": [
       "99    92551\n",
       "Name: AP6_21_4, dtype: int64"
      ]
     },
     "execution_count": 113,
     "metadata": {},
     "output_type": "execute_result"
    }
   ],
   "source": [
    "df_copy_tper_vic2.AP6_21_4.replace({'\\r':'99','9\\r':'99'}, inplace = True)\n",
    "df_copy_tper_vic2.AP6_21_4 =  df_copy_tper_vic2.AP6_21_4.replace('\\r', \"\", regex = True)\n",
    "df_copy_tper_vic2.AP6_21_4.value_counts()"
   ]
  },
  {
   "cell_type": "code",
   "execution_count": 114,
   "metadata": {},
   "outputs": [
    {
     "data": {
      "text/plain": [
       "99    92551\n",
       "Name: AP6_21_5, dtype: int64"
      ]
     },
     "execution_count": 114,
     "metadata": {},
     "output_type": "execute_result"
    }
   ],
   "source": [
    "df_copy_tper_vic2.AP6_21_5.replace({'\\r':'99','9\\r':'99'}, inplace = True)\n",
    "df_copy_tper_vic2.AP6_21_5 =  df_copy_tper_vic2.AP6_21_5.replace('\\r', \"\", regex = True)\n",
    "df_copy_tper_vic2.AP6_21_5.value_counts()"
   ]
  },
  {
   "cell_type": "code",
   "execution_count": 115,
   "metadata": {},
   "outputs": [
    {
     "data": {
      "text/plain": [
       "99    92551\n",
       "Name: AP6_21_6, dtype: int64"
      ]
     },
     "execution_count": 115,
     "metadata": {},
     "output_type": "execute_result"
    }
   ],
   "source": [
    "df_copy_tper_vic2.AP6_21_6.replace({'\\r':'99','9\\r':'99'}, inplace = True)\n",
    "df_copy_tper_vic2.AP6_21_6 =  df_copy_tper_vic2.AP6_21_6.replace('\\r', \"\", regex = True)\n",
    "df_copy_tper_vic2.AP6_21_6.value_counts()"
   ]
  },
  {
   "cell_type": "code",
   "execution_count": 116,
   "metadata": {},
   "outputs": [
    {
     "data": {
      "text/plain": [
       "99    92551\n",
       "Name: AP6_21_7, dtype: int64"
      ]
     },
     "execution_count": 116,
     "metadata": {},
     "output_type": "execute_result"
    }
   ],
   "source": [
    "df_copy_tper_vic2.AP6_21_7.replace({'\\r':'99','9\\r':'99'}, inplace = True)\n",
    "df_copy_tper_vic2.AP6_21_7 =  df_copy_tper_vic2.AP6_21_7.replace('\\r', \"\", regex = True)\n",
    "df_copy_tper_vic2.AP6_21_7.value_counts()"
   ]
  },
  {
   "cell_type": "code",
   "execution_count": 117,
   "metadata": {},
   "outputs": [
    {
     "data": {
      "text/plain": [
       "99    92546\n",
       "1         5\n",
       "Name: AP6_22_1, dtype: int64"
      ]
     },
     "execution_count": 117,
     "metadata": {},
     "output_type": "execute_result"
    }
   ],
   "source": [
    "df_copy_tper_vic2.AP6_22_1.replace({'\\r':'99','9\\r':'99'}, inplace = True)\n",
    "df_copy_tper_vic2.AP6_22_1 =  df_copy_tper_vic2.AP6_22_1.replace('\\r', \"\", regex = True)\n",
    "df_copy_tper_vic2.AP6_22_1.value_counts()"
   ]
  },
  {
   "cell_type": "code",
   "execution_count": 118,
   "metadata": {},
   "outputs": [
    {
     "data": {
      "text/plain": [
       "99    92551\n",
       "Name: AP6_22_2, dtype: int64"
      ]
     },
     "execution_count": 118,
     "metadata": {},
     "output_type": "execute_result"
    }
   ],
   "source": [
    "df_copy_tper_vic2.AP6_22_2.replace({'\\r':'99','9\\r':'99'}, inplace = True)\n",
    "df_copy_tper_vic2.AP6_22_2=  df_copy_tper_vic2.AP6_22_2.replace('\\r', \"\", regex = True)\n",
    "df_copy_tper_vic2.AP6_22_2.value_counts()"
   ]
  },
  {
   "cell_type": "code",
   "execution_count": 119,
   "metadata": {},
   "outputs": [
    {
     "data": {
      "text/plain": [
       "99    92551\n",
       "Name: AP6_22_3, dtype: int64"
      ]
     },
     "execution_count": 119,
     "metadata": {},
     "output_type": "execute_result"
    }
   ],
   "source": [
    "df_copy_tper_vic2.AP6_22_3.replace({'\\r':'99','9\\r':'99'}, inplace = True)\n",
    "df_copy_tper_vic2.AP6_22_3 =  df_copy_tper_vic2.AP6_22_3.replace('\\r', \"\", regex = True)\n",
    "df_copy_tper_vic2.AP6_22_3.value_counts()"
   ]
  },
  {
   "cell_type": "code",
   "execution_count": 120,
   "metadata": {},
   "outputs": [
    {
     "data": {
      "text/plain": [
       "99    92551\n",
       "Name: AP6_22_4, dtype: int64"
      ]
     },
     "execution_count": 120,
     "metadata": {},
     "output_type": "execute_result"
    }
   ],
   "source": [
    "df_copy_tper_vic2.AP6_22_4.replace({'\\r':'99','9\\r':'99'}, inplace = True)\n",
    "df_copy_tper_vic2.AP6_22_4 =  df_copy_tper_vic2.AP6_22_4.replace('\\r', \"\", regex = True)\n",
    "df_copy_tper_vic2.AP6_22_4.value_counts()"
   ]
  },
  {
   "cell_type": "code",
   "execution_count": 121,
   "metadata": {},
   "outputs": [
    {
     "data": {
      "text/plain": [
       "99    92551\n",
       "Name: AP6_22_5, dtype: int64"
      ]
     },
     "execution_count": 121,
     "metadata": {},
     "output_type": "execute_result"
    }
   ],
   "source": [
    "df_copy_tper_vic2.AP6_22_5.replace({'\\r':'99','9\\r':'99'}, inplace = True)\n",
    "df_copy_tper_vic2.AP6_22_5 =  df_copy_tper_vic2.AP6_22_5.replace('\\r', \"\", regex = True)\n",
    "df_copy_tper_vic2.AP6_22_5.value_counts()"
   ]
  },
  {
   "cell_type": "code",
   "execution_count": 122,
   "metadata": {},
   "outputs": [
    {
     "data": {
      "text/plain": [
       "99    92551\n",
       "Name: AP6_22_6, dtype: int64"
      ]
     },
     "execution_count": 122,
     "metadata": {},
     "output_type": "execute_result"
    }
   ],
   "source": [
    "df_copy_tper_vic2.AP6_22_6.replace({'\\r':'99','9\\r':'99'}, inplace = True)\n",
    "df_copy_tper_vic2.AP6_22_6 =  df_copy_tper_vic2.AP6_22_6.replace('\\r', \"\", regex = True)\n",
    "df_copy_tper_vic2.AP6_22_6.value_counts()"
   ]
  },
  {
   "cell_type": "code",
   "execution_count": 123,
   "metadata": {},
   "outputs": [
    {
     "data": {
      "text/plain": [
       "99    92551\n",
       "Name: AP6_22_7, dtype: int64"
      ]
     },
     "execution_count": 123,
     "metadata": {},
     "output_type": "execute_result"
    }
   ],
   "source": [
    "df_copy_tper_vic2.AP6_22_7.replace({'\\r':'99','9\\r':'99'}, inplace = True)\n",
    "df_copy_tper_vic2.AP6_22_7 =  df_copy_tper_vic2.AP6_22_7.replace('\\r', \"\", regex = True)\n",
    "df_copy_tper_vic2.AP6_22_7.value_counts()"
   ]
  },
  {
   "cell_type": "code",
   "execution_count": 124,
   "metadata": {},
   "outputs": [
    {
     "data": {
      "text/plain": [
       "2     76252\n",
       "1     16256\n",
       "99       43\n",
       "Name: AP7_1, dtype: int64"
      ]
     },
     "execution_count": 124,
     "metadata": {},
     "output_type": "execute_result"
    }
   ],
   "source": [
    "df_copy_tper_vic2.AP7_1.replace(dicc, inplace = True)\n",
    "df_copy_tper_vic2.AP7_1.value_counts()"
   ]
  },
  {
   "cell_type": "code",
   "execution_count": 125,
   "metadata": {},
   "outputs": [
    {
     "data": {
      "text/plain": [
       "2     86779\n",
       "1      5725\n",
       "99       47\n",
       "Name: AP7_2, dtype: int64"
      ]
     },
     "execution_count": 125,
     "metadata": {},
     "output_type": "execute_result"
    }
   ],
   "source": [
    "df_copy_tper_vic2.AP7_2.replace(dicc, inplace = True)\n",
    "df_copy_tper_vic2.AP7_2.value_counts()"
   ]
  },
  {
   "cell_type": "code",
   "execution_count": 126,
   "metadata": {},
   "outputs": [
    {
     "data": {
      "text/plain": [
       "2     87585\n",
       "1      4892\n",
       "99       74\n",
       "Name: AP7_3_05, dtype: int64"
      ]
     },
     "execution_count": 126,
     "metadata": {},
     "output_type": "execute_result"
    }
   ],
   "source": [
    "df_copy_tper_vic2.AP7_3_05.replace(dicc, inplace = True)\n",
    "df_copy_tper_vic2.AP7_3_05.value_counts()"
   ]
  },
  {
   "cell_type": "code",
   "execution_count": 127,
   "metadata": {},
   "outputs": [
    {
     "data": {
      "text/plain": [
       "2     90820\n",
       "1      1536\n",
       "99      195\n",
       "Name: AP7_3_06, dtype: int64"
      ]
     },
     "execution_count": 127,
     "metadata": {},
     "output_type": "execute_result"
    }
   ],
   "source": [
    "df_copy_tper_vic2.AP7_3_06.replace(dicc, inplace = True)\n",
    "df_copy_tper_vic2.AP7_3_06.value_counts()"
   ]
  },
  {
   "cell_type": "code",
   "execution_count": 128,
   "metadata": {},
   "outputs": [
    {
     "data": {
      "text/plain": [
       "2     90693\n",
       "1      1807\n",
       "99       51\n",
       "Name: AP7_3_07, dtype: int64"
      ]
     },
     "execution_count": 128,
     "metadata": {},
     "output_type": "execute_result"
    }
   ],
   "source": [
    "df_copy_tper_vic2.AP7_3_07.replace(dicc, inplace = True)\n",
    "df_copy_tper_vic2.AP7_3_07.value_counts()"
   ]
  },
  {
   "cell_type": "code",
   "execution_count": 129,
   "metadata": {},
   "outputs": [
    {
     "data": {
      "text/plain": [
       "2     90880\n",
       "1      1617\n",
       "99       54\n",
       "Name: AP7_3_08, dtype: int64"
      ]
     },
     "execution_count": 129,
     "metadata": {},
     "output_type": "execute_result"
    }
   ],
   "source": [
    "df_copy_tper_vic2.AP7_3_08.replace(dicc, inplace = True)\n",
    "df_copy_tper_vic2.AP7_3_08.value_counts()"
   ]
  },
  {
   "cell_type": "code",
   "execution_count": 130,
   "metadata": {},
   "outputs": [
    {
     "data": {
      "text/plain": [
       "2     86497\n",
       "1      5984\n",
       "99       70\n",
       "Name: AP7_3_09, dtype: int64"
      ]
     },
     "execution_count": 130,
     "metadata": {},
     "output_type": "execute_result"
    }
   ],
   "source": [
    "df_copy_tper_vic2.AP7_3_09.replace(dicc, inplace = True)\n",
    "df_copy_tper_vic2.AP7_3_09.value_counts()"
   ]
  },
  {
   "cell_type": "code",
   "execution_count": 131,
   "metadata": {},
   "outputs": [
    {
     "data": {
      "text/plain": [
       "2     90196\n",
       "1      2296\n",
       "99       59\n",
       "Name: AP7_3_10, dtype: int64"
      ]
     },
     "execution_count": 131,
     "metadata": {},
     "output_type": "execute_result"
    }
   ],
   "source": [
    "df_copy_tper_vic2.AP7_3_10.replace(dicc, inplace = True)\n",
    "df_copy_tper_vic2.AP7_3_10.value_counts()"
   ]
  },
  {
   "cell_type": "code",
   "execution_count": 132,
   "metadata": {},
   "outputs": [
    {
     "data": {
      "text/plain": [
       "2     91615\n",
       "1       867\n",
       "99       69\n",
       "Name: AP7_3_11, dtype: int64"
      ]
     },
     "execution_count": 132,
     "metadata": {},
     "output_type": "execute_result"
    }
   ],
   "source": [
    "df_copy_tper_vic2.AP7_3_11.replace(dicc, inplace = True)\n",
    "df_copy_tper_vic2.AP7_3_11.value_counts()"
   ]
  },
  {
   "cell_type": "code",
   "execution_count": 133,
   "metadata": {},
   "outputs": [
    {
     "data": {
      "text/plain": [
       "2     92454\n",
       "1        72\n",
       "99       25\n",
       "Name: AP7_3_12, dtype: int64"
      ]
     },
     "execution_count": 133,
     "metadata": {},
     "output_type": "execute_result"
    }
   ],
   "source": [
    "df_copy_tper_vic2.AP7_3_12.replace(dicc, inplace = True)\n",
    "df_copy_tper_vic2.AP7_3_12.value_counts()"
   ]
  },
  {
   "cell_type": "code",
   "execution_count": 134,
   "metadata": {},
   "outputs": [
    {
     "data": {
      "text/plain": [
       "2     91988\n",
       "1       527\n",
       "99       36\n",
       "Name: AP7_3_13, dtype: int64"
      ]
     },
     "execution_count": 134,
     "metadata": {},
     "output_type": "execute_result"
    }
   ],
   "source": [
    "df_copy_tper_vic2.AP7_3_13.replace(dicc, inplace = True)\n",
    "df_copy_tper_vic2.AP7_3_13.value_counts()"
   ]
  },
  {
   "cell_type": "code",
   "execution_count": 135,
   "metadata": {},
   "outputs": [
    {
     "data": {
      "text/plain": [
       "2     92439\n",
       "1        71\n",
       "99       41\n",
       "Name: AP7_3_14, dtype: int64"
      ]
     },
     "execution_count": 135,
     "metadata": {},
     "output_type": "execute_result"
    }
   ],
   "source": [
    "df_copy_tper_vic2.AP7_3_14.replace(dicc, inplace = True)\n",
    "df_copy_tper_vic2.AP7_3_14.value_counts()"
   ]
  },
  {
   "cell_type": "code",
   "execution_count": 136,
   "metadata": {},
   "outputs": [
    {
     "data": {
      "text/plain": [
       "2     92017\n",
       "99      419\n",
       "1       115\n",
       "Name: AP7_3_15, dtype: int64"
      ]
     },
     "execution_count": 136,
     "metadata": {},
     "output_type": "execute_result"
    }
   ],
   "source": [
    "df_copy_tper_vic2.AP7_3_15.replace(dicc, inplace = True)\n",
    "df_copy_tper_vic2.AP7_3_15.value_counts()"
   ]
  },
  {
   "cell_type": "code",
   "execution_count": 137,
   "metadata": {},
   "outputs": [
    {
     "data": {
      "text/plain": [
       "99    87659\n",
       "01     4209\n",
       "02      510\n",
       "03      126\n",
       "04       24\n",
       "05       19\n",
       "20        1\n",
       "07        1\n",
       "30        1\n",
       "06        1\n",
       "Name: AP7_4_05, dtype: int64"
      ]
     },
     "execution_count": 137,
     "metadata": {},
     "output_type": "execute_result"
    }
   ],
   "source": [
    "df_copy_tper_vic2.AP7_4_05.replace({'\\r':'99','9\\r':'99'}, inplace = True)\n",
    "df_copy_tper_vic2.AP7_4_05 =  df_copy_tper_vic2.AP7_4_05.replace('\\r', \"\", regex = True)\n",
    "df_copy_tper_vic2.AP7_4_05.value_counts()"
   ]
  },
  {
   "cell_type": "code",
   "execution_count": 138,
   "metadata": {},
   "outputs": [
    {
     "data": {
      "text/plain": [
       "99    91015\n",
       "01     1339\n",
       "02      139\n",
       "03       32\n",
       "04       11\n",
       "05        7\n",
       "06        3\n",
       "10        2\n",
       "20        1\n",
       "07        1\n",
       "08        1\n",
       "Name: AP7_4_06, dtype: int64"
      ]
     },
     "execution_count": 138,
     "metadata": {},
     "output_type": "execute_result"
    }
   ],
   "source": [
    "df_copy_tper_vic2.AP7_4_06.replace({'\\r':'99','9\\r':'99'}, inplace = True)\n",
    "df_copy_tper_vic2.AP7_4_06 =  df_copy_tper_vic2.AP7_4_06.replace('\\r', \"\", regex = True)\n",
    "df_copy_tper_vic2.AP7_4_06.value_counts()"
   ]
  },
  {
   "cell_type": "code",
   "execution_count": 139,
   "metadata": {},
   "outputs": [
    {
     "data": {
      "text/plain": [
       "99    90744\n",
       "01     1599\n",
       "02      158\n",
       "03       31\n",
       "04       16\n",
       "05        2\n",
       "06        1\n",
       "Name: AP7_4_07, dtype: int64"
      ]
     },
     "execution_count": 139,
     "metadata": {},
     "output_type": "execute_result"
    }
   ],
   "source": [
    "df_copy_tper_vic2.AP7_4_07.replace({'\\r':'99','9\\r':'99'}, inplace = True)\n",
    "df_copy_tper_vic2.AP7_4_07 =  df_copy_tper_vic2.AP7_4_07.replace('\\r', \"\", regex = True)\n",
    "df_copy_tper_vic2.AP7_4_07.value_counts()"
   ]
  },
  {
   "cell_type": "code",
   "execution_count": 140,
   "metadata": {},
   "outputs": [
    {
     "data": {
      "text/plain": [
       "99    90934\n",
       "01     1481\n",
       "02      104\n",
       "03       23\n",
       "04        4\n",
       "05        3\n",
       "12        1\n",
       "10        1\n",
       "Name: AP7_4_08, dtype: int64"
      ]
     },
     "execution_count": 140,
     "metadata": {},
     "output_type": "execute_result"
    }
   ],
   "source": [
    "df_copy_tper_vic2.AP7_4_08.replace({'\\r':'99','9\\r':'99'}, inplace = True)\n",
    "df_copy_tper_vic2.AP7_4_08 =  df_copy_tper_vic2.AP7_4_08.replace('\\r', \"\", regex = True)\n",
    "df_copy_tper_vic2.AP7_4_08.value_counts()"
   ]
  },
  {
   "cell_type": "code",
   "execution_count": 141,
   "metadata": {},
   "outputs": [
    {
     "data": {
      "text/plain": [
       "99    86567\n",
       "01     5058\n",
       "02      617\n",
       "03      204\n",
       "04       43\n",
       "05       35\n",
       "10        8\n",
       "06        7\n",
       "07        3\n",
       "20        2\n",
       "50        1\n",
       "36        1\n",
       "15        1\n",
       "11        1\n",
       "08        1\n",
       "09        1\n",
       "12        1\n",
       "Name: AP7_4_09, dtype: int64"
      ]
     },
     "execution_count": 141,
     "metadata": {},
     "output_type": "execute_result"
    }
   ],
   "source": [
    "df_copy_tper_vic2.AP7_4_09.replace({'\\r':'99','9\\r':'99'}, inplace = True)\n",
    "df_copy_tper_vic2.AP7_4_09 =  df_copy_tper_vic2.AP7_4_09.replace('\\r', \"\", regex = True)\n",
    "df_copy_tper_vic2.AP7_4_09.value_counts()"
   ]
  },
  {
   "cell_type": "code",
   "execution_count": 142,
   "metadata": {},
   "outputs": [
    {
     "data": {
      "text/plain": [
       "99    90255\n",
       "01     2020\n",
       "02      175\n",
       "03       57\n",
       "04       19\n",
       "05       16\n",
       "10        5\n",
       "06        2\n",
       "07        1\n",
       "90        1\n",
       "Name: AP7_4_10, dtype: int64"
      ]
     },
     "execution_count": 142,
     "metadata": {},
     "output_type": "execute_result"
    }
   ],
   "source": [
    "df_copy_tper_vic2.AP7_4_10.replace({'\\r':'99','9\\r':'99'}, inplace = True)\n",
    "df_copy_tper_vic2.AP7_4_10 =  df_copy_tper_vic2.AP7_4_10.replace('\\r', \"\", regex = True)\n",
    "df_copy_tper_vic2.AP7_4_10.value_counts()"
   ]
  },
  {
   "cell_type": "code",
   "execution_count": 143,
   "metadata": {},
   "outputs": [
    {
     "data": {
      "text/plain": [
       "99    91684\n",
       "01      792\n",
       "02       47\n",
       "03       21\n",
       "05        5\n",
       "04        2\n",
       "Name: AP7_4_11, dtype: int64"
      ]
     },
     "execution_count": 143,
     "metadata": {},
     "output_type": "execute_result"
    }
   ],
   "source": [
    "df_copy_tper_vic2.AP7_4_11.replace({'\\r':'99','9\\r':'99'}, inplace = True)\n",
    "df_copy_tper_vic2.AP7_4_11 =  df_copy_tper_vic2.AP7_4_11.replace('\\r', \"\", regex = True)\n",
    "df_copy_tper_vic2.AP7_4_11.value_counts()"
   ]
  },
  {
   "cell_type": "code",
   "execution_count": 144,
   "metadata": {},
   "outputs": [
    {
     "data": {
      "text/plain": [
       "99    92479\n",
       "01       69\n",
       "02        2\n",
       "03        1\n",
       "Name: AP7_4_12, dtype: int64"
      ]
     },
     "execution_count": 144,
     "metadata": {},
     "output_type": "execute_result"
    }
   ],
   "source": [
    "df_copy_tper_vic2.AP7_4_12.replace({'\\r':'99','9\\r':'99'}, inplace = True)\n",
    "df_copy_tper_vic2.AP7_4_12 =  df_copy_tper_vic2.AP7_4_12.replace('\\r', \"\", regex = True)\n",
    "df_copy_tper_vic2.AP7_4_12.value_counts()"
   ]
  },
  {
   "cell_type": "code",
   "execution_count": 145,
   "metadata": {},
   "outputs": [
    {
     "data": {
      "text/plain": [
       "99    92025\n",
       "01      434\n",
       "02       45\n",
       "03       27\n",
       "05       12\n",
       "04        3\n",
       "10        2\n",
       "11        1\n",
       "15        1\n",
       "06        1\n",
       "Name: AP7_4_13, dtype: int64"
      ]
     },
     "execution_count": 145,
     "metadata": {},
     "output_type": "execute_result"
    }
   ],
   "source": [
    "df_copy_tper_vic2.AP7_4_13.replace({'\\r':'99','9\\r':'99'}, inplace = True)\n",
    "df_copy_tper_vic2.AP7_4_13 =  df_copy_tper_vic2.AP7_4_13.replace('\\r', \"\", regex = True)\n",
    "df_copy_tper_vic2.AP7_4_13.value_counts()"
   ]
  },
  {
   "cell_type": "code",
   "execution_count": 146,
   "metadata": {},
   "outputs": [
    {
     "data": {
      "text/plain": [
       "99    92480\n",
       "01       65\n",
       "02        3\n",
       "03        2\n",
       "20        1\n",
       "Name: AP7_4_14, dtype: int64"
      ]
     },
     "execution_count": 146,
     "metadata": {},
     "output_type": "execute_result"
    }
   ],
   "source": [
    "df_copy_tper_vic2.AP7_4_14.replace({'\\r':'99','9\\r':'99'}, inplace = True)\n",
    "df_copy_tper_vic2.AP7_4_14 =  df_copy_tper_vic2.AP7_4_14.replace('\\r', \"\", regex = True)\n",
    "df_copy_tper_vic2.AP7_4_14.value_counts()"
   ]
  },
  {
   "cell_type": "code",
   "execution_count": 147,
   "metadata": {},
   "outputs": [
    {
     "data": {
      "text/plain": [
       "99    92436\n",
       "01      111\n",
       "03        2\n",
       "02        2\n",
       "Name: AP7_4_15, dtype: int64"
      ]
     },
     "execution_count": 147,
     "metadata": {},
     "output_type": "execute_result"
    }
   ],
   "source": [
    "df_copy_tper_vic2.AP7_4_15.replace({'\\r':'99','9\\r':'99'}, inplace = True)\n",
    "df_copy_tper_vic2.AP7_4_15 =  df_copy_tper_vic2.AP7_4_15.replace('\\r', \"\", regex = True)\n",
    "df_copy_tper_vic2.AP7_4_15.value_counts()"
   ]
  },
  {
   "cell_type": "code",
   "execution_count": 148,
   "metadata": {},
   "outputs": [
    {
     "data": {
      "text/plain": [
       "181     509\n",
       "180     498\n",
       "209     479\n",
       "187     477\n",
       "201     449\n",
       "192     446\n",
       "196     441\n",
       "200     413\n",
       "184     396\n",
       "225     389\n",
       "176     388\n",
       "185     386\n",
       "205     384\n",
       "372     380\n",
       "195     377\n",
       "186     372\n",
       "206     370\n",
       "226     362\n",
       "388     353\n",
       "191     352\n",
       "182     351\n",
       "210     350\n",
       "220     343\n",
       "202     342\n",
       "170     340\n",
       "213     334\n",
       "197     333\n",
       "207     331\n",
       "215     328\n",
       "168     327\n",
       "       ... \n",
       "1206      2\n",
       "856       2\n",
       "894       2\n",
       "2434      2\n",
       "1406      2\n",
       "1307      2\n",
       "2820      2\n",
       "1801      2\n",
       "2260      2\n",
       "681       2\n",
       "1888      2\n",
       "1601      2\n",
       "1424      1\n",
       "2592      1\n",
       "1084      1\n",
       "1179      1\n",
       "2064      1\n",
       "2608      1\n",
       "874       1\n",
       "896       1\n",
       "986       1\n",
       "5759      1\n",
       "1263      1\n",
       "915       1\n",
       "662       1\n",
       "4557      1\n",
       "2511      1\n",
       "1133      1\n",
       "1490      1\n",
       "1191      1\n",
       "Name: FAC_HOG, Length: 1364, dtype: int64"
      ]
     },
     "execution_count": 148,
     "metadata": {},
     "output_type": "execute_result"
    }
   ],
   "source": [
    "df_copy_tper_vic2.FAC_HOG.value_counts()"
   ]
  },
  {
   "cell_type": "code",
   "execution_count": 149,
   "metadata": {},
   "outputs": [
    {
     "data": {
      "text/plain": [
       "99        57125\n",
       "000200      207\n",
       "000192      177\n",
       "000198      174\n",
       "000186      171\n",
       "000185      169\n",
       "000196      162\n",
       "000187      154\n",
       "000180      151\n",
       "000194      148\n",
       "000201      148\n",
       "000168      144\n",
       "000177      142\n",
       "000176      142\n",
       "000205      142\n",
       "000183      137\n",
       "000181      135\n",
       "000182      132\n",
       "000190      130\n",
       "000199      130\n",
       "000191      129\n",
       "000193      129\n",
       "000209      127\n",
       "000188      126\n",
       "000172      125\n",
       "000203      123\n",
       "000457      123\n",
       "000174      122\n",
       "000414      121\n",
       "000458      121\n",
       "          ...  \n",
       "001770        3\n",
       "000925        3\n",
       "001598        3\n",
       "001646        3\n",
       "001708        3\n",
       "000796        3\n",
       "001731        3\n",
       "000961        3\n",
       "002177        3\n",
       "001700        3\n",
       "002278        3\n",
       "001390        3\n",
       "001601        2\n",
       "002820        2\n",
       "000681        2\n",
       "002434        2\n",
       "002260        2\n",
       "000856        2\n",
       "000894        2\n",
       "000820        2\n",
       "002064        1\n",
       "000843        1\n",
       "001424        1\n",
       "000662        1\n",
       "001018        1\n",
       "001191        1\n",
       "000915        1\n",
       "002608        1\n",
       "002592        1\n",
       "004557        1\n",
       "Name: FAC_HOG_AM, Length: 1225, dtype: int64"
      ]
     },
     "execution_count": 149,
     "metadata": {},
     "output_type": "execute_result"
    }
   ],
   "source": [
    "df_copy_tper_vic2.FAC_HOG_AM.replace({'\\r':'99','9\\r':'99'}, inplace = True)\n",
    "df_copy_tper_vic2.FAC_HOG_AM =  df_copy_tper_vic2.FAC_HOG_AM.replace('\\r', \"\", regex = True)\n",
    "df_copy_tper_vic2.FAC_HOG_AM.value_counts()"
   ]
  },
  {
   "cell_type": "code",
   "execution_count": 150,
   "metadata": {},
   "outputs": [
    {
     "data": {
      "text/plain": [
       "361      217\n",
       "384      186\n",
       "362      176\n",
       "374      168\n",
       "372      164\n",
       "369      156\n",
       "410      156\n",
       "368      156\n",
       "371      155\n",
       "452      155\n",
       "403      155\n",
       "365      153\n",
       "450      152\n",
       "373      151\n",
       "437      151\n",
       "418      148\n",
       "400      148\n",
       "413      147\n",
       "345      147\n",
       "355      146\n",
       "360      143\n",
       "388      143\n",
       "352      143\n",
       "336      143\n",
       "463      143\n",
       "201      142\n",
       "429      141\n",
       "426      140\n",
       "451      139\n",
       "170      139\n",
       "        ... \n",
       "4218       1\n",
       "4043       1\n",
       "4331       1\n",
       "3539       1\n",
       "4022       1\n",
       "7945       1\n",
       "9934       1\n",
       "3928       1\n",
       "2989       1\n",
       "5555       1\n",
       "4267       1\n",
       "8474       1\n",
       "10348      1\n",
       "3595       1\n",
       "15957      1\n",
       "3312       1\n",
       "2152       1\n",
       "7625       1\n",
       "3467       1\n",
       "2399       1\n",
       "3376       1\n",
       "7953       1\n",
       "5363       1\n",
       "9422       1\n",
       "3859       1\n",
       "4346       1\n",
       "3211       1\n",
       "5968       1\n",
       "4636       1\n",
       "2472       1\n",
       "Name: FAC_ELE, Length: 4349, dtype: int64"
      ]
     },
     "execution_count": 150,
     "metadata": {},
     "output_type": "execute_result"
    }
   ],
   "source": [
    "df_copy_tper_vic2.FAC_ELE.value_counts()"
   ]
  },
  {
   "cell_type": "code",
   "execution_count": 151,
   "metadata": {},
   "outputs": [
    {
     "data": {
      "text/plain": [
       "99        57125\n",
       "000400       91\n",
       "000384       87\n",
       "000373       76\n",
       "000399       72\n",
       "000433       71\n",
       "000372       64\n",
       "000361       63\n",
       "000450       63\n",
       "000391       59\n",
       "000365       59\n",
       "000397       59\n",
       "000385       58\n",
       "000392       58\n",
       "000348       58\n",
       "000335       58\n",
       "000355       57\n",
       "000453       56\n",
       "000402       56\n",
       "000438       56\n",
       "000199       55\n",
       "000415       55\n",
       "000354       55\n",
       "000376       55\n",
       "000426       54\n",
       "000362       53\n",
       "000410       53\n",
       "000380       53\n",
       "000379       53\n",
       "000403       53\n",
       "          ...  \n",
       "005527        1\n",
       "003206        1\n",
       "006727        1\n",
       "004021        1\n",
       "011590        1\n",
       "005083        1\n",
       "005325        1\n",
       "002831        1\n",
       "004263        1\n",
       "003068        1\n",
       "002890        1\n",
       "003316        1\n",
       "002342        1\n",
       "002242        1\n",
       "003412        1\n",
       "002852        1\n",
       "008897        1\n",
       "007940        1\n",
       "006286        1\n",
       "002217        1\n",
       "002681        1\n",
       "013671        1\n",
       "005013        1\n",
       "002801        1\n",
       "003155        1\n",
       "002806        1\n",
       "002836        1\n",
       "010638        1\n",
       "003438        1\n",
       "003076        1\n",
       "Name: FAC_ELE_AM, Length: 3811, dtype: int64"
      ]
     },
     "execution_count": 151,
     "metadata": {},
     "output_type": "execute_result"
    }
   ],
   "source": [
    "df_copy_tper_vic2.FAC_ELE_AM.replace({'\\r':'99','9\\r':'99'}, inplace = True)\n",
    "df_copy_tper_vic2.FAC_ELE_AM =  df_copy_tper_vic2.FAC_ELE_AM.replace('\\r', \"\", regex = True)\n",
    "df_copy_tper_vic2.FAC_ELE_AM.value_counts()"
   ]
  },
  {
   "cell_type": "code",
   "execution_count": 152,
   "metadata": {},
   "outputs": [
    {
     "data": {
      "text/plain": [
       "U    48290\n",
       "C    23126\n",
       "R    21135\n",
       "Name: DOMINIO, dtype: int64"
      ]
     },
     "execution_count": 152,
     "metadata": {},
     "output_type": "execute_result"
    }
   ],
   "source": [
    "df_copy_tper_vic2.DOMINIO =  df_copy_tper_vic2.DOMINIO.replace('\\r', \"\", regex = True)\n",
    "df_copy_tper_vic2.DOMINIO.value_counts()"
   ]
  },
  {
   "cell_type": "code",
   "execution_count": 153,
   "metadata": {},
   "outputs": [
    {
     "data": {
      "text/plain": [
       "2    47369\n",
       "3    19801\n",
       "1    17202\n",
       "4     8179\n",
       "Name: ESTRATO, dtype: int64"
      ]
     },
     "execution_count": 153,
     "metadata": {},
     "output_type": "execute_result"
    }
   ],
   "source": [
    "df_copy_tper_vic2.ESTRATO.value_counts()"
   ]
  },
  {
   "cell_type": "code",
   "execution_count": 154,
   "metadata": {},
   "outputs": [
    {
     "data": {
      "text/plain": [
       "149    2797\n",
       "148    2188\n",
       "124    1531\n",
       "354    1315\n",
       "569    1097\n",
       "212    1039\n",
       "150    1024\n",
       "249     931\n",
       "126     931\n",
       "323     869\n",
       "374     861\n",
       "481     830\n",
       "394     734\n",
       "228     728\n",
       "232     692\n",
       "289     629\n",
       "491     614\n",
       "322     593\n",
       "127     587\n",
       "2       563\n",
       "423     562\n",
       "442     551\n",
       "324     543\n",
       "290     537\n",
       "229     525\n",
       "62      518\n",
       "515     515\n",
       "512     505\n",
       "168     503\n",
       "572     496\n",
       "       ... \n",
       "22       10\n",
       "137      10\n",
       "328      10\n",
       "280      10\n",
       "163      10\n",
       "276      10\n",
       "460       9\n",
       "404       9\n",
       "269       9\n",
       "26        9\n",
       "12        9\n",
       "544       9\n",
       "549       9\n",
       "6         9\n",
       "230       9\n",
       "68        9\n",
       "17        9\n",
       "551       8\n",
       "397       8\n",
       "443       8\n",
       "550       8\n",
       "578       8\n",
       "554       7\n",
       "501       7\n",
       "531       7\n",
       "489       7\n",
       "548       6\n",
       "197       6\n",
       "140       5\n",
       "114       3\n",
       "Name: EST_DIS, Length: 598, dtype: int64"
      ]
     },
     "execution_count": 154,
     "metadata": {},
     "output_type": "execute_result"
    }
   ],
   "source": [
    "df_copy_tper_vic2.EST_DIS.value_counts()"
   ]
  },
  {
   "cell_type": "code",
   "execution_count": 155,
   "metadata": {
    "scrolled": false
   },
   "outputs": [
    {
     "data": {
      "text/plain": [
       "5347     25\n",
       "8477     25\n",
       "13008    25\n",
       "7134     25\n",
       "6248     24\n",
       "10468    24\n",
       "2584     24\n",
       "7765     24\n",
       "11000    24\n",
       "1028     24\n",
       "10483    24\n",
       "10450    24\n",
       "7426     24\n",
       "9309     24\n",
       "7064     24\n",
       "7554     24\n",
       "1094     24\n",
       "5400     24\n",
       "7132     23\n",
       "7550     23\n",
       "13139    23\n",
       "12170    23\n",
       "6782     23\n",
       "12556    23\n",
       "270      23\n",
       "12159    23\n",
       "7060     23\n",
       "12986    23\n",
       "9329     23\n",
       "2652     23\n",
       "         ..\n",
       "8103      1\n",
       "8141      1\n",
       "2799      1\n",
       "9441      1\n",
       "9522      1\n",
       "2573      1\n",
       "2060      1\n",
       "10239     1\n",
       "8600      1\n",
       "12299     1\n",
       "678       1\n",
       "9535      1\n",
       "7270      1\n",
       "5575      1\n",
       "11760     1\n",
       "11266     1\n",
       "6372      1\n",
       "11207     1\n",
       "2758      1\n",
       "7536      1\n",
       "522       1\n",
       "2440      1\n",
       "3473      1\n",
       "5521      1\n",
       "8025      1\n",
       "9885      1\n",
       "9685      1\n",
       "7394      1\n",
       "10873     1\n",
       "9914      1\n",
       "Name: UPM_DIS, Length: 13195, dtype: int64"
      ]
     },
     "execution_count": 155,
     "metadata": {},
     "output_type": "execute_result"
    }
   ],
   "source": [
    "df_copy_tper_vic2.UPM_DIS.value_counts()"
   ]
  },
  {
   "cell_type": "code",
   "execution_count": 156,
   "metadata": {},
   "outputs": [
    {
     "data": {
      "text/html": [
       "<div>\n",
       "<style scoped>\n",
       "    .dataframe tbody tr th:only-of-type {\n",
       "        vertical-align: middle;\n",
       "    }\n",
       "\n",
       "    .dataframe tbody tr th {\n",
       "        vertical-align: top;\n",
       "    }\n",
       "\n",
       "    .dataframe thead th {\n",
       "        text-align: right;\n",
       "    }\n",
       "</style>\n",
       "<table border=\"1\" class=\"dataframe\">\n",
       "  <thead>\n",
       "    <tr style=\"text-align: right;\">\n",
       "      <th></th>\n",
       "      <th>UPM</th>\n",
       "      <th>VIV_SEL</th>\n",
       "      <th>HOGAR</th>\n",
       "      <th>RESUL_H</th>\n",
       "      <th>R_SEL</th>\n",
       "      <th>SEXO</th>\n",
       "      <th>EDAD</th>\n",
       "      <th>AREAM</th>\n",
       "      <th>CVE_ENT</th>\n",
       "      <th>NOM_ENT</th>\n",
       "      <th>...</th>\n",
       "      <th>AP7_3_15</th>\n",
       "      <th>AP7_4_15</th>\n",
       "      <th>FAC_HOG</th>\n",
       "      <th>FAC_ELE</th>\n",
       "      <th>FAC_HOG_AM</th>\n",
       "      <th>FAC_ELE_AM</th>\n",
       "      <th>DOMINIO</th>\n",
       "      <th>ESTRATO</th>\n",
       "      <th>EST_DIS</th>\n",
       "      <th>UPM_DIS</th>\n",
       "    </tr>\n",
       "  </thead>\n",
       "  <tbody>\n",
       "    <tr>\n",
       "      <th>0</th>\n",
       "      <td>100008</td>\n",
       "      <td>1</td>\n",
       "      <td>1</td>\n",
       "      <td>B</td>\n",
       "      <td>1</td>\n",
       "      <td>1</td>\n",
       "      <td>40</td>\n",
       "      <td>14</td>\n",
       "      <td>1</td>\n",
       "      <td>Aguascalientes\\r</td>\n",
       "      <td>...</td>\n",
       "      <td>2</td>\n",
       "      <td>99</td>\n",
       "      <td>204</td>\n",
       "      <td>408</td>\n",
       "      <td>000204</td>\n",
       "      <td>000408</td>\n",
       "      <td>U</td>\n",
       "      <td>4</td>\n",
       "      <td>3</td>\n",
       "      <td>1</td>\n",
       "    </tr>\n",
       "    <tr>\n",
       "      <th>1</th>\n",
       "      <td>100008</td>\n",
       "      <td>2</td>\n",
       "      <td>1</td>\n",
       "      <td>B</td>\n",
       "      <td>2</td>\n",
       "      <td>2</td>\n",
       "      <td>70</td>\n",
       "      <td>14</td>\n",
       "      <td>1</td>\n",
       "      <td>Aguascalientes\\r</td>\n",
       "      <td>...</td>\n",
       "      <td>2</td>\n",
       "      <td>99</td>\n",
       "      <td>204</td>\n",
       "      <td>611</td>\n",
       "      <td>000204</td>\n",
       "      <td>000611</td>\n",
       "      <td>U</td>\n",
       "      <td>4</td>\n",
       "      <td>3</td>\n",
       "      <td>1</td>\n",
       "    </tr>\n",
       "    <tr>\n",
       "      <th>2</th>\n",
       "      <td>100008</td>\n",
       "      <td>4</td>\n",
       "      <td>1</td>\n",
       "      <td>B</td>\n",
       "      <td>1</td>\n",
       "      <td>1</td>\n",
       "      <td>85</td>\n",
       "      <td>14</td>\n",
       "      <td>1</td>\n",
       "      <td>Aguascalientes\\r</td>\n",
       "      <td>...</td>\n",
       "      <td>2</td>\n",
       "      <td>99</td>\n",
       "      <td>204</td>\n",
       "      <td>408</td>\n",
       "      <td>000204</td>\n",
       "      <td>000408</td>\n",
       "      <td>U</td>\n",
       "      <td>4</td>\n",
       "      <td>3</td>\n",
       "      <td>1</td>\n",
       "    </tr>\n",
       "    <tr>\n",
       "      <th>3</th>\n",
       "      <td>100008</td>\n",
       "      <td>5</td>\n",
       "      <td>1</td>\n",
       "      <td>A</td>\n",
       "      <td>1</td>\n",
       "      <td>1</td>\n",
       "      <td>28</td>\n",
       "      <td>14</td>\n",
       "      <td>1</td>\n",
       "      <td>Aguascalientes\\r</td>\n",
       "      <td>...</td>\n",
       "      <td>2</td>\n",
       "      <td>99</td>\n",
       "      <td>204</td>\n",
       "      <td>408</td>\n",
       "      <td>000204</td>\n",
       "      <td>000408</td>\n",
       "      <td>U</td>\n",
       "      <td>4</td>\n",
       "      <td>3</td>\n",
       "      <td>1</td>\n",
       "    </tr>\n",
       "    <tr>\n",
       "      <th>4</th>\n",
       "      <td>100022</td>\n",
       "      <td>1</td>\n",
       "      <td>1</td>\n",
       "      <td>A</td>\n",
       "      <td>3</td>\n",
       "      <td>1</td>\n",
       "      <td>22</td>\n",
       "      <td>14</td>\n",
       "      <td>1</td>\n",
       "      <td>Aguascalientes\\r</td>\n",
       "      <td>...</td>\n",
       "      <td>2</td>\n",
       "      <td>99</td>\n",
       "      <td>198</td>\n",
       "      <td>595</td>\n",
       "      <td>000198</td>\n",
       "      <td>000595</td>\n",
       "      <td>U</td>\n",
       "      <td>3</td>\n",
       "      <td>2</td>\n",
       "      <td>2</td>\n",
       "    </tr>\n",
       "  </tbody>\n",
       "</table>\n",
       "<p>5 rows × 146 columns</p>\n",
       "</div>"
      ],
      "text/plain": [
       "      UPM  VIV_SEL  HOGAR RESUL_H  R_SEL  SEXO  EDAD AREAM  CVE_ENT  \\\n",
       "0  100008        1      1       B      1     1    40    14        1   \n",
       "1  100008        2      1       B      2     2    70    14        1   \n",
       "2  100008        4      1       B      1     1    85    14        1   \n",
       "3  100008        5      1       A      1     1    28    14        1   \n",
       "4  100022        1      1       A      3     1    22    14        1   \n",
       "\n",
       "            NOM_ENT   ...     AP7_3_15 AP7_4_15  FAC_HOG FAC_ELE  FAC_HOG_AM  \\\n",
       "0  Aguascalientes\\r   ...            2       99      204     408      000204   \n",
       "1  Aguascalientes\\r   ...            2       99      204     611      000204   \n",
       "2  Aguascalientes\\r   ...            2       99      204     408      000204   \n",
       "3  Aguascalientes\\r   ...            2       99      204     408      000204   \n",
       "4  Aguascalientes\\r   ...            2       99      198     595      000198   \n",
       "\n",
       "   FAC_ELE_AM  DOMINIO ESTRATO EST_DIS  UPM_DIS  \n",
       "0      000408        U       4       3        1  \n",
       "1      000611        U       4       3        1  \n",
       "2      000408        U       4       3        1  \n",
       "3      000408        U       4       3        1  \n",
       "4      000595        U       3       2        2  \n",
       "\n",
       "[5 rows x 146 columns]"
      ]
     },
     "execution_count": 156,
     "metadata": {},
     "output_type": "execute_result"
    }
   ],
   "source": [
    "df_copy_tper_vic2.head()"
   ]
  },
  {
   "cell_type": "code",
   "execution_count": 157,
   "metadata": {},
   "outputs": [
    {
     "data": {
      "text/plain": [
       "Ciudad de MÃ©xico\\r                  6203\n",
       "MichoacÃ¡n de Ocampo\\r               3746\n",
       "Tamaulipas\\r                         3738\n",
       "Sinaloa\\r                            3677\n",
       "Puebla\\r                             3645\n",
       "Chiapas\\r                            3636\n",
       "Veracruz de Ignacio de la Llave\\r    3575\n",
       "Chihuahua\\r                          3439\n",
       "YucatÃ¡n\\r                           3199\n",
       "Colima\\r                             3149\n",
       "Tabasco\\r                            3101\n",
       "Durango\\r                            2907\n",
       "Oaxaca\\r                             2823\n",
       "Hidalgo\\r                            2791\n",
       "QuerÃ©taro\\r                         2757\n",
       "Jalisco\\r                            2749\n",
       "MÃ©xico\\r                            2712\n",
       "Morelos\\r                            2702\n",
       "Baja California Sur\\r                2689\n",
       "Nuevo LeÃ³n\\r                        2653\n",
       "Coahuila de Zaragoza\\r               2645\n",
       "Baja California\\r                    2630\n",
       "Quintana Roo\\r                       2598\n",
       "Guerrero\\r                           2577\n",
       "Guanajuato\\r                         2393\n",
       "Tlaxcala\\r                           2314\n",
       "Campeche\\r                           2275\n",
       "Nayarit\\r                            1878\n",
       "Aguascalientes\\r                     1864\n",
       "Zacatecas\\r                          1858\n",
       "Sonora\\r                             1825\n",
       "San Luis Potosi                      1803\n",
       "Name: NOM_ENT, dtype: int64"
      ]
     },
     "execution_count": 157,
     "metadata": {},
     "output_type": "execute_result"
    }
   ],
   "source": [
    "df_copy_tper_vic2.NOM_ENT.value_counts()"
   ]
  },
  {
   "cell_type": "code",
   "execution_count": 158,
   "metadata": {},
   "outputs": [
    {
     "data": {
      "text/plain": [
       "Ciudad de MÃ©xico                  6203\n",
       "MichoacÃ¡n de Ocampo               3746\n",
       "Tamaulipas                         3738\n",
       "Sinaloa                            3677\n",
       "Puebla                             3645\n",
       "Chiapas                            3636\n",
       "Veracruz de Ignacio de la Llave    3575\n",
       "Chihuahua                          3439\n",
       "YucatÃ¡n                           3199\n",
       "Colima                             3149\n",
       "Tabasco                            3101\n",
       "Durango                            2907\n",
       "Oaxaca                             2823\n",
       "Hidalgo                            2791\n",
       "QuerÃ©taro                         2757\n",
       "Jalisco                            2749\n",
       "MÃ©xico                            2712\n",
       "Morelos                            2702\n",
       "Baja California Sur                2689\n",
       "Nuevo LeÃ³n                        2653\n",
       "Coahuila de Zaragoza               2645\n",
       "Baja California                    2630\n",
       "Quintana Roo                       2598\n",
       "Guerrero                           2577\n",
       "Guanajuato                         2393\n",
       "Tlaxcala                           2314\n",
       "Campeche                           2275\n",
       "Nayarit                            1878\n",
       "Aguascalientes                     1864\n",
       "Zacatecas                          1858\n",
       "Sonora                             1825\n",
       "San Luis Potosi                    1803\n",
       "Name: NOM_ENT, dtype: int64"
      ]
     },
     "execution_count": 158,
     "metadata": {},
     "output_type": "execute_result"
    }
   ],
   "source": [
    "df_copy_tper_vic2.NOM_ENT =  df_copy_tper_vic2.NOM_ENT.replace('\\r', \"\", regex = True)\n",
    "df_copy_tper_vic2.NOM_ENT.value_counts()"
   ]
  },
  {
   "cell_type": "code",
   "execution_count": 159,
   "metadata": {},
   "outputs": [
    {
     "data": {
      "text/plain": [
       "JuÃ¡rez                       2014\n",
       "Benito JuÃ¡rez                1774\n",
       "MÃ©rida                       1444\n",
       "Tijuana                       1284\n",
       "QuerÃ©taro                    1283\n",
       "Aguascalientes                1276\n",
       "La Paz                        1141\n",
       "CuliacÃ¡n                     1117\n",
       "Los Cabos                     1035\n",
       "Iztapalapa                    1015\n",
       "Durango                       1004\n",
       "Puebla                         995\n",
       "Centro                         987\n",
       "Reynosa                        974\n",
       "TorreÃ³n                       891\n",
       "Gustavo A. Madero              847\n",
       "Manzanillo                     807\n",
       "Mexicali                       802\n",
       "Campeche                       796\n",
       "CuauhtÃ©moc                    780\n",
       "GÃ³mez Palacio                 764\n",
       "Villa de Ãlvarez              713\n",
       "Guadalupe                      682\n",
       "Chihuahua                      668\n",
       "LeÃ³n                          664\n",
       "MazatlÃ¡n                      649\n",
       "Acapulco de JuÃ¡rez            645\n",
       "Tepic                          638\n",
       "Matamoros                      606\n",
       "Carmen                         594\n",
       "                              ... \n",
       "San Bartolo Coyotepec            9\n",
       "Tlalixtac de Cabrera             8\n",
       "San Antonio de la Cal            8\n",
       "San DamiÃ¡n TexÃ³loc             8\n",
       "San JerÃ³nimo Zacualpan          6\n",
       "Calimaya                         6\n",
       "San Gregorio Atzompa             5\n",
       "San Mateo Atenco                 5\n",
       "Chiautla                         5\n",
       "AmatlÃ¡n de los Reyes            5\n",
       "Otzolotepec                      5\n",
       "San Francisco ChindÃºa           5\n",
       "Nava                             5\n",
       "El Carmen                        5\n",
       "Atenco                           5\n",
       "Mariano Escobedo                 5\n",
       "TarÃ­mbaro                       5\n",
       "San Jacinto Amilpas              5\n",
       "Tlalnelhuayocan                  5\n",
       "Isla Mujeres                     5\n",
       "NatÃ­vitas                       5\n",
       "San SebastiÃ¡n Tutla             5\n",
       "TeotihuacÃ¡n                     5\n",
       "Almoloya de JuÃ¡rez              4\n",
       "Jaltenco                         4\n",
       "Santa Isabel Xiloxoxtla          4\n",
       "Juan C. Bonilla                  4\n",
       "San Lorenzo Cacaotepec           4\n",
       "Nextlalpan                       4\n",
       "San AgustÃ­n de las Juntas       3\n",
       "Name: NOM_MUN, Length: 1084, dtype: int64"
      ]
     },
     "execution_count": 159,
     "metadata": {},
     "output_type": "execute_result"
    }
   ],
   "source": [
    "df_copy_tper_vic2.NOM_MUN =  df_copy_tper_vic2.NOM_MUN.replace('\\r', \"\", regex = True)\n",
    "df_copy_tper_vic2.NOM_MUN.value_counts()"
   ]
  },
  {
   "cell_type": "code",
   "execution_count": 160,
   "metadata": {},
   "outputs": [
    {
     "data": {
      "text/plain": [
       "2    66321\n",
       "1    26230\n",
       "Name: RESUL_H, dtype: int64"
      ]
     },
     "execution_count": 160,
     "metadata": {},
     "output_type": "execute_result"
    }
   ],
   "source": [
    "df_copy_tper_vic2.RESUL_H.replace({'A':'1','B':'2'},inplace=True)\n",
    "df_copy_tper_vic2.RESUL_H.value_counts()"
   ]
  },
  {
   "cell_type": "code",
   "execution_count": 161,
   "metadata": {},
   "outputs": [
    {
     "data": {
      "text/plain": [
       "1    48290\n",
       "2    23126\n",
       "3    21135\n",
       "Name: DOMINIO, dtype: int64"
      ]
     },
     "execution_count": 161,
     "metadata": {},
     "output_type": "execute_result"
    }
   ],
   "source": [
    "df_copy_tper_vic2.DOMINIO.replace({'U':'1','C':'2','R':'3'},inplace=True)\n",
    "df_copy_tper_vic2.DOMINIO.value_counts()"
   ]
  },
  {
   "cell_type": "code",
   "execution_count": 162,
   "metadata": {},
   "outputs": [],
   "source": [
    "diccENT = {'Ciudad de MÃ©xico':'7', 'MichoacÃ¡n de Ocampo':'16','Tamaulipas':'29','Sinaloa':'25',\n",
    "           'Puebla':'21','Chiapas':'5', 'Veracruz de Ignacio de la Llave':'31','Chihuahua':'6',\n",
    "           'YucatÃ¡n':'32','Colima':'9', 'Tabasco':'28','Durango':'10','Oaxaca':'20','Hidalgo': '13',\n",
    "           'QuerÃ©taro':'22','Jalisco':'14','MÃ©xico':'15','Morelos':'17','Baja California Sur':'3', 'Guanajuato':'11',\n",
    "           'Nuevo LeÃ³n':'19','Coahuila de Zaragoza':'8', 'Baja California':'2', 'Quintana Roo':'23',\n",
    "           'Tlaxcala':'30','Campeche':'4', 'Guerrero':'12','Nayarit':'18','Aguascalientes':'1', \n",
    "           'Zacatecas':'33','Sonora':'26','San Luis Potosi':'27'}"
   ]
  },
  {
   "cell_type": "code",
   "execution_count": 165,
   "metadata": {},
   "outputs": [
    {
     "data": {
      "text/plain": [
       "7     6203\n",
       "16    3746\n",
       "29    3738\n",
       "25    3677\n",
       "21    3645\n",
       "5     3636\n",
       "31    3575\n",
       "6     3439\n",
       "32    3199\n",
       "9     3149\n",
       "28    3101\n",
       "10    2907\n",
       "20    2823\n",
       "13    2791\n",
       "22    2757\n",
       "14    2749\n",
       "15    2712\n",
       "17    2702\n",
       "3     2689\n",
       "19    2653\n",
       "8     2645\n",
       "2     2630\n",
       "23    2598\n",
       "12    2577\n",
       "11    2393\n",
       "30    2314\n",
       "4     2275\n",
       "18    1878\n",
       "1     1864\n",
       "33    1858\n",
       "26    1825\n",
       "27    1803\n",
       "Name: NOM_ENT, dtype: int64"
      ]
     },
     "execution_count": 165,
     "metadata": {},
     "output_type": "execute_result"
    }
   ],
   "source": [
    "df_copy_tper_vic2.NOM_ENT.replace(diccENT,inplace=True)\n",
    "df_copy_tper_vic2.NOM_ENT.value_counts()"
   ]
  },
  {
   "cell_type": "code",
   "execution_count": 167,
   "metadata": {},
   "outputs": [],
   "source": [
    "df_copy_tper_vic2.to_csv(\"TPer_vic2_Clean2017.csv\")"
   ]
  },
  {
   "cell_type": "code",
   "execution_count": null,
   "metadata": {},
   "outputs": [],
   "source": []
  }
 ],
 "metadata": {
  "kernelspec": {
   "display_name": "Python 3",
   "language": "python",
   "name": "python3"
  },
  "language_info": {
   "codemirror_mode": {
    "name": "ipython",
    "version": 3
   },
   "file_extension": ".py",
   "mimetype": "text/x-python",
   "name": "python",
   "nbconvert_exporter": "python",
   "pygments_lexer": "ipython3",
   "version": "3.6.5"
  }
 },
 "nbformat": 4,
 "nbformat_minor": 2
}
