{
 "cells": [
  {
   "cell_type": "code",
   "execution_count": 1,
   "metadata": {},
   "outputs": [],
   "source": [
    "import pandas as pd\n",
    "import numpy as np"
   ]
  },
  {
   "cell_type": "code",
   "execution_count": 2,
   "metadata": {},
   "outputs": [
    {
     "data": {
      "text/html": [
       "<div>\n",
       "<style scoped>\n",
       "    .dataframe tbody tr th:only-of-type {\n",
       "        vertical-align: middle;\n",
       "    }\n",
       "\n",
       "    .dataframe tbody tr th {\n",
       "        vertical-align: top;\n",
       "    }\n",
       "\n",
       "    .dataframe thead th {\n",
       "        text-align: right;\n",
       "    }\n",
       "</style>\n",
       "<table border=\"1\" class=\"dataframe\">\n",
       "  <thead>\n",
       "    <tr style=\"text-align: right;\">\n",
       "      <th></th>\n",
       "      <th>UPM</th>\n",
       "      <th>VIV_SEL</th>\n",
       "      <th>HOGAR</th>\n",
       "      <th>RESUL_H</th>\n",
       "      <th>R_SEL</th>\n",
       "      <th>AREAM</th>\n",
       "      <th>AP6_1_1</th>\n",
       "      <th>AP6_1_2</th>\n",
       "      <th>AP6_2</th>\n",
       "      <th>AP6_3</th>\n",
       "      <th>...</th>\n",
       "      <th>AP7_4_14</th>\n",
       "      <th>AP7_4_15</th>\n",
       "      <th>FAC_HOG</th>\n",
       "      <th>FAC_ELE</th>\n",
       "      <th>EST_DIS</th>\n",
       "      <th>UPM_DIS</th>\n",
       "      <th>DOMINIO</th>\n",
       "      <th>ESTRATO</th>\n",
       "      <th>FAC_HOG_AM</th>\n",
       "      <th>FAC_ELE_AM</th>\n",
       "    </tr>\n",
       "  </thead>\n",
       "  <tbody>\n",
       "    <tr>\n",
       "      <th>0</th>\n",
       "      <td>100006</td>\n",
       "      <td>1</td>\n",
       "      <td>1</td>\n",
       "      <td>B</td>\n",
       "      <td>1</td>\n",
       "      <td>14.0</td>\n",
       "      <td>1</td>\n",
       "      <td>1.0</td>\n",
       "      <td>2</td>\n",
       "      <td>2</td>\n",
       "      <td>...</td>\n",
       "      <td>NaN</td>\n",
       "      <td>NaN</td>\n",
       "      <td>172</td>\n",
       "      <td>516</td>\n",
       "      <td>5</td>\n",
       "      <td>1</td>\n",
       "      <td>U</td>\n",
       "      <td>3</td>\n",
       "      <td>173</td>\n",
       "      <td>519</td>\n",
       "    </tr>\n",
       "    <tr>\n",
       "      <th>1</th>\n",
       "      <td>100006</td>\n",
       "      <td>2</td>\n",
       "      <td>1</td>\n",
       "      <td>A</td>\n",
       "      <td>2</td>\n",
       "      <td>14.0</td>\n",
       "      <td>1</td>\n",
       "      <td>1.0</td>\n",
       "      <td>1</td>\n",
       "      <td>1</td>\n",
       "      <td>...</td>\n",
       "      <td>NaN</td>\n",
       "      <td>NaN</td>\n",
       "      <td>172</td>\n",
       "      <td>344</td>\n",
       "      <td>5</td>\n",
       "      <td>1</td>\n",
       "      <td>U</td>\n",
       "      <td>3</td>\n",
       "      <td>173</td>\n",
       "      <td>346</td>\n",
       "    </tr>\n",
       "    <tr>\n",
       "      <th>2</th>\n",
       "      <td>100006</td>\n",
       "      <td>3</td>\n",
       "      <td>1</td>\n",
       "      <td>A</td>\n",
       "      <td>1</td>\n",
       "      <td>14.0</td>\n",
       "      <td>1</td>\n",
       "      <td>1.0</td>\n",
       "      <td>1</td>\n",
       "      <td>2</td>\n",
       "      <td>...</td>\n",
       "      <td>NaN</td>\n",
       "      <td>NaN</td>\n",
       "      <td>172</td>\n",
       "      <td>344</td>\n",
       "      <td>5</td>\n",
       "      <td>1</td>\n",
       "      <td>U</td>\n",
       "      <td>3</td>\n",
       "      <td>173</td>\n",
       "      <td>346</td>\n",
       "    </tr>\n",
       "    <tr>\n",
       "      <th>3</th>\n",
       "      <td>100006</td>\n",
       "      <td>4</td>\n",
       "      <td>1</td>\n",
       "      <td>A</td>\n",
       "      <td>2</td>\n",
       "      <td>14.0</td>\n",
       "      <td>2</td>\n",
       "      <td>NaN</td>\n",
       "      <td>1</td>\n",
       "      <td>2</td>\n",
       "      <td>...</td>\n",
       "      <td>NaN</td>\n",
       "      <td>NaN</td>\n",
       "      <td>172</td>\n",
       "      <td>344</td>\n",
       "      <td>5</td>\n",
       "      <td>1</td>\n",
       "      <td>U</td>\n",
       "      <td>3</td>\n",
       "      <td>173</td>\n",
       "      <td>346</td>\n",
       "    </tr>\n",
       "    <tr>\n",
       "      <th>4</th>\n",
       "      <td>100006</td>\n",
       "      <td>5</td>\n",
       "      <td>1</td>\n",
       "      <td>B</td>\n",
       "      <td>1</td>\n",
       "      <td>14.0</td>\n",
       "      <td>2</td>\n",
       "      <td>NaN</td>\n",
       "      <td>2</td>\n",
       "      <td>2</td>\n",
       "      <td>...</td>\n",
       "      <td>NaN</td>\n",
       "      <td>NaN</td>\n",
       "      <td>172</td>\n",
       "      <td>172</td>\n",
       "      <td>5</td>\n",
       "      <td>1</td>\n",
       "      <td>U</td>\n",
       "      <td>3</td>\n",
       "      <td>173</td>\n",
       "      <td>173</td>\n",
       "    </tr>\n",
       "  </tbody>\n",
       "</table>\n",
       "<p>5 rows × 140 columns</p>\n",
       "</div>"
      ],
      "text/plain": [
       "      UPM  VIV_SEL  HOGAR RESUL_H  R_SEL  AREAM  AP6_1_1  AP6_1_2  AP6_2  \\\n",
       "0  100006        1      1       B      1   14.0        1      1.0      2   \n",
       "1  100006        2      1       A      2   14.0        1      1.0      1   \n",
       "2  100006        3      1       A      1   14.0        1      1.0      1   \n",
       "3  100006        4      1       A      2   14.0        2      NaN      1   \n",
       "4  100006        5      1       B      1   14.0        2      NaN      2   \n",
       "\n",
       "   AP6_3     ...      AP7_4_14  AP7_4_15  FAC_HOG  FAC_ELE  EST_DIS  UPM_DIS  \\\n",
       "0      2     ...           NaN       NaN      172      516        5        1   \n",
       "1      1     ...           NaN       NaN      172      344        5        1   \n",
       "2      2     ...           NaN       NaN      172      344        5        1   \n",
       "3      2     ...           NaN       NaN      172      344        5        1   \n",
       "4      2     ...           NaN       NaN      172      172        5        1   \n",
       "\n",
       "   DOMINIO  ESTRATO  FAC_HOG_AM  FAC_ELE_AM  \n",
       "0        U        3         173         519  \n",
       "1        U        3         173         346  \n",
       "2        U        3         173         346  \n",
       "3        U        3         173         346  \n",
       "4        U        3         173         173  \n",
       "\n",
       "[5 rows x 140 columns]"
      ]
     },
     "execution_count": 2,
     "metadata": {},
     "output_type": "execute_result"
    }
   ],
   "source": [
    "path = 'C:/Users/jorge/OneDrive/Escritorio/ProyectoJacobo/EnvipeLimpia/TPer_vic2_Clean2015.csv'\n",
    "df_tper_vic2 = pd.read_csv(path, low_memory=False)\n",
    "df_tper_vic2.head()"
   ]
  },
  {
   "cell_type": "code",
   "execution_count": 3,
   "metadata": {},
   "outputs": [
    {
     "data": {
      "text/plain": [
       "(84507, 140)"
      ]
     },
     "execution_count": 3,
     "metadata": {},
     "output_type": "execute_result"
    }
   ],
   "source": [
    "df_tper_vic2.shape"
   ]
  },
  {
   "cell_type": "code",
   "execution_count": 4,
   "metadata": {},
   "outputs": [],
   "source": [
    "df_copy_tper_vic2 = df_tper_vic2"
   ]
  },
  {
   "cell_type": "code",
   "execution_count": 5,
   "metadata": {},
   "outputs": [
    {
     "data": {
      "text/plain": [
       "(84507, 140)"
      ]
     },
     "execution_count": 5,
     "metadata": {},
     "output_type": "execute_result"
    }
   ],
   "source": [
    "df_copy_tper_vic2.shape"
   ]
  },
  {
   "cell_type": "code",
   "execution_count": 6,
   "metadata": {},
   "outputs": [
    {
     "data": {
      "text/plain": [
       "1105556    28\n",
       "1603622    26\n",
       "1561283    25\n",
       "2403768    25\n",
       "1107848    24\n",
       "2161758    24\n",
       "1604286    23\n",
       "1604586    23\n",
       "1108653    23\n",
       "762321     23\n",
       "702870     23\n",
       "3103888    23\n",
       "1661402    23\n",
       "2202792    23\n",
       "3104138    23\n",
       "704514     23\n",
       "1301738    23\n",
       "1161354    23\n",
       "2107270    23\n",
       "1160163    23\n",
       "401487     23\n",
       "3160249    23\n",
       "2901192    23\n",
       "2560148    23\n",
       "2107983    23\n",
       "1360799    22\n",
       "762510     22\n",
       "601515     22\n",
       "704535     22\n",
       "2860233    22\n",
       "           ..\n",
       "702108      1\n",
       "201805      1\n",
       "1703509     1\n",
       "2300577     1\n",
       "600325      1\n",
       "401020      1\n",
       "503914      1\n",
       "2302665     1\n",
       "2501720     1\n",
       "1901536     1\n",
       "701217      1\n",
       "2300878     1\n",
       "2805603     1\n",
       "2201629     1\n",
       "2105343     1\n",
       "2300853     1\n",
       "2802943     1\n",
       "503672      1\n",
       "2805754     1\n",
       "204694      1\n",
       "1200494     1\n",
       "2300470     1\n",
       "3003303     1\n",
       "2806062     1\n",
       "2301515     1\n",
       "1502819     1\n",
       "1700569     1\n",
       "1529197     1\n",
       "2502622     1\n",
       "504069      1\n",
       "Name: UPM, Length: 11726, dtype: int64"
      ]
     },
     "execution_count": 6,
     "metadata": {},
     "output_type": "execute_result"
    }
   ],
   "source": [
    "df_copy_tper_vic2.UPM.value_counts()"
   ]
  },
  {
   "cell_type": "code",
   "execution_count": 7,
   "metadata": {},
   "outputs": [
    {
     "data": {
      "text/plain": [
       "2     10327\n",
       "4     10316\n",
       "3     10269\n",
       "1     10247\n",
       "5     10226\n",
       "6      2219\n",
       "11     2218\n",
       "7      2216\n",
       "8      2215\n",
       "15     2212\n",
       "17     2208\n",
       "9      2206\n",
       "10     2203\n",
       "16     2201\n",
       "14     2200\n",
       "12     2195\n",
       "18     2194\n",
       "13     2174\n",
       "19     2156\n",
       "20     2050\n",
       "21      187\n",
       "22       54\n",
       "23       12\n",
       "24        2\n",
       "Name: VIV_SEL, dtype: int64"
      ]
     },
     "execution_count": 7,
     "metadata": {},
     "output_type": "execute_result"
    }
   ],
   "source": [
    "df_copy_tper_vic2.VIV_SEL.value_counts()"
   ]
  },
  {
   "cell_type": "code",
   "execution_count": 8,
   "metadata": {},
   "outputs": [
    {
     "data": {
      "text/plain": [
       "1    82364\n",
       "2     1845\n",
       "3      262\n",
       "4       32\n",
       "5        3\n",
       "6        1\n",
       "Name: HOGAR, dtype: int64"
      ]
     },
     "execution_count": 8,
     "metadata": {},
     "output_type": "execute_result"
    }
   ],
   "source": [
    "df_copy_tper_vic2.HOGAR.value_counts()"
   ]
  },
  {
   "cell_type": "code",
   "execution_count": 9,
   "metadata": {},
   "outputs": [
    {
     "data": {
      "text/plain": [
       "B    61014\n",
       "A    23493\n",
       "Name: RESUL_H, dtype: int64"
      ]
     },
     "execution_count": 9,
     "metadata": {},
     "output_type": "execute_result"
    }
   ],
   "source": [
    "df_copy_tper_vic2.RESUL_H.value_counts()"
   ]
  },
  {
   "cell_type": "code",
   "execution_count": 10,
   "metadata": {},
   "outputs": [
    {
     "data": {
      "text/plain": [
       "B    61014\n",
       "A    23493\n",
       "Name: RESUL_H, dtype: int64"
      ]
     },
     "execution_count": 10,
     "metadata": {},
     "output_type": "execute_result"
    }
   ],
   "source": [
    "df_copy_tper_vic2.RESUL_H.replace({'A\\r':'A', 'B\\r':'B' },inplace=True)\n",
    "df_copy_tper_vic2.RESUL_H.value_counts()"
   ]
  },
  {
   "cell_type": "code",
   "execution_count": 11,
   "metadata": {},
   "outputs": [
    {
     "data": {
      "text/plain": [
       "1     42021\n",
       "2     29065\n",
       "3      8327\n",
       "4      3244\n",
       "5      1121\n",
       "6       408\n",
       "7       157\n",
       "8        85\n",
       "9        40\n",
       "10       19\n",
       "11        9\n",
       "12        7\n",
       "19        1\n",
       "18        1\n",
       "16        1\n",
       "14        1\n",
       "Name: R_SEL, dtype: int64"
      ]
     },
     "execution_count": 11,
     "metadata": {},
     "output_type": "execute_result"
    }
   ],
   "source": [
    "df_copy_tper_vic2.R_SEL.value_counts()"
   ]
  },
  {
   "cell_type": "code",
   "execution_count": 12,
   "metadata": {},
   "outputs": [
    {
     "data": {
      "text/plain": [
       "1.0     3498\n",
       "3.0     2105\n",
       "8.0     1537\n",
       "2.0     1367\n",
       "39.0    1298\n",
       "33.0    1278\n",
       "4.0     1194\n",
       "14.0    1193\n",
       "36.0    1151\n",
       "21.0    1146\n",
       "29.0    1107\n",
       "41.0    1106\n",
       "10.0    1020\n",
       "24.0     925\n",
       "26.0     893\n",
       "40.0     866\n",
       "9.0      761\n",
       "7.0      717\n",
       "17.0     709\n",
       "28.0     647\n",
       "27.0     637\n",
       "5.0      609\n",
       "15.0     568\n",
       "18.0     548\n",
       "12.0     524\n",
       "25.0     500\n",
       "13.0     496\n",
       "19.0     414\n",
       "31.0     376\n",
       "32.0     331\n",
       "43.0     323\n",
       "16.0     156\n",
       "Name: AREAM, dtype: int64"
      ]
     },
     "execution_count": 12,
     "metadata": {},
     "output_type": "execute_result"
    }
   ],
   "source": [
    "df_copy_tper_vic2.AREAM.value_counts()"
   ]
  },
  {
   "cell_type": "code",
   "execution_count": 33,
   "metadata": {},
   "outputs": [],
   "source": [
    "diccDec = {0.0:'0',1.0:'1',2.0:'2',3.0:'3',4.0:'4',5.0:'5',6.0:'6',7.0:'7',8.0:'8',9.0:'9',10.0:'10',11.0:'11',12.0:'12',\n",
    "           13.0:'13',14.0:'14',15.0:'15',16.0:'16',17.0:'17',18.0:'18',19.0:'19',20.0:'20',21.0:'21',22.0:'22',23.0:'23',\n",
    "           24.0:'24',25.0:'25',26.0:'26',27.0:'27',28.0:'28',29.0:'29',30.0:'30',31.0:'31',32.0:'32',33.0:'33',34.0:'34',\n",
    "           35.0:'35',36.0:'36',37.0:'37',38.0:'38',39.0:'39',40.0:'40',41.0:'41',42.0:'42',43.0:'43',44.0:'44',45.0:'45',\n",
    "           50.0:'50',60.0:'60',99.0:'99'}"
   ]
  },
  {
   "cell_type": "code",
   "execution_count": 14,
   "metadata": {},
   "outputs": [
    {
     "data": {
      "text/plain": [
       "1     3498\n",
       "3     2105\n",
       "8     1537\n",
       "2     1367\n",
       "39    1298\n",
       "33    1278\n",
       "4     1194\n",
       "14    1193\n",
       "36    1151\n",
       "21    1146\n",
       "29    1107\n",
       "41    1106\n",
       "10    1020\n",
       "24     925\n",
       "26     893\n",
       "40     866\n",
       "9      761\n",
       "7      717\n",
       "17     709\n",
       "28     647\n",
       "27     637\n",
       "5      609\n",
       "15     568\n",
       "18     548\n",
       "12     524\n",
       "25     500\n",
       "13     496\n",
       "19     414\n",
       "31     376\n",
       "32     331\n",
       "43     323\n",
       "16     156\n",
       "Name: AREAM, dtype: int64"
      ]
     },
     "execution_count": 14,
     "metadata": {},
     "output_type": "execute_result"
    }
   ],
   "source": [
    "df_copy_tper_vic2.AREAM.replace(diccDec , inplace = True)\n",
    "df_copy_tper_vic2.AREAM.value_counts()"
   ]
  },
  {
   "cell_type": "code",
   "execution_count": 15,
   "metadata": {},
   "outputs": [],
   "source": [
    "dicc = {9:99}"
   ]
  },
  {
   "cell_type": "code",
   "execution_count": 16,
   "metadata": {},
   "outputs": [
    {
     "data": {
      "text/plain": [
       "2     47679\n",
       "1     36705\n",
       "99      123\n",
       "Name: AP6_1_1, dtype: int64"
      ]
     },
     "execution_count": 16,
     "metadata": {},
     "output_type": "execute_result"
    }
   ],
   "source": [
    "df_copy_tper_vic2.AP6_1_1.replace(dicc, inplace = True)\n",
    "df_copy_tper_vic2.AP6_1_1.value_counts()"
   ]
  },
  {
   "cell_type": "code",
   "execution_count": 19,
   "metadata": {},
   "outputs": [
    {
     "data": {
      "text/plain": [
       "1     27898\n",
       "2      7156\n",
       "3      1247\n",
       "4       300\n",
       "5        79\n",
       "6        17\n",
       "7         4\n",
       "99        2\n",
       "30        1\n",
       "8         1\n",
       "Name: AP6_1_2, dtype: int64"
      ]
     },
     "execution_count": 19,
     "metadata": {},
     "output_type": "execute_result"
    }
   ],
   "source": [
    "df_copy_tper_vic2.AP6_1_2.replace(diccDec, inplace = True)\n",
    "df_copy_tper_vic2.AP6_1_2.value_counts()"
   ]
  },
  {
   "cell_type": "code",
   "execution_count": 20,
   "metadata": {},
   "outputs": [
    {
     "data": {
      "text/plain": [
       "2     55845\n",
       "1     28611\n",
       "99       51\n",
       "Name: AP6_2, dtype: int64"
      ]
     },
     "execution_count": 20,
     "metadata": {},
     "output_type": "execute_result"
    }
   ],
   "source": [
    "df_copy_tper_vic2.AP6_2.replace(dicc, inplace = True)\n",
    "df_copy_tper_vic2.AP6_2.value_counts()"
   ]
  },
  {
   "cell_type": "code",
   "execution_count": 21,
   "metadata": {},
   "outputs": [
    {
     "data": {
      "text/plain": [
       "2     74371\n",
       "1     10102\n",
       "99       34\n",
       "Name: AP6_3, dtype: int64"
      ]
     },
     "execution_count": 21,
     "metadata": {},
     "output_type": "execute_result"
    }
   ],
   "source": [
    "df_copy_tper_vic2.AP6_3.replace(dicc, inplace = True)\n",
    "df_copy_tper_vic2.AP6_3.value_counts()"
   ]
  },
  {
   "cell_type": "code",
   "execution_count": 22,
   "metadata": {},
   "outputs": [
    {
     "data": {
      "text/plain": [
       "2     83225\n",
       "1      1239\n",
       "99       43\n",
       "Name: AP6_4_01, dtype: int64"
      ]
     },
     "execution_count": 22,
     "metadata": {},
     "output_type": "execute_result"
    }
   ],
   "source": [
    "df_copy_tper_vic2.AP6_4_01.replace(dicc, inplace = True)\n",
    "df_copy_tper_vic2.AP6_4_01.value_counts()"
   ]
  },
  {
   "cell_type": "code",
   "execution_count": 23,
   "metadata": {},
   "outputs": [],
   "source": [
    "dicc2 = {'\\r':'99','1\\r':'1','2\\r':'2','9\\r':'99'}"
   ]
  },
  {
   "cell_type": "code",
   "execution_count": 26,
   "metadata": {},
   "outputs": [
    {
     "data": {
      "text/plain": [
       "1    1061\n",
       "2     178\n",
       "Name: AP6_5_01, dtype: int64"
      ]
     },
     "execution_count": 26,
     "metadata": {},
     "output_type": "execute_result"
    }
   ],
   "source": [
    "df_copy_tper_vic2.AP6_5_01.replace(diccDec, inplace = True)\n",
    "df_copy_tper_vic2.AP6_5_01.value_counts()"
   ]
  },
  {
   "cell_type": "code",
   "execution_count": 27,
   "metadata": {},
   "outputs": [
    {
     "data": {
      "text/plain": [
       "1    998\n",
       "2     59\n",
       "3      2\n",
       "4      1\n",
       "5      1\n",
       "Name: AP6_6_01, dtype: int64"
      ]
     },
     "execution_count": 27,
     "metadata": {},
     "output_type": "execute_result"
    }
   ],
   "source": [
    "df_copy_tper_vic2.AP6_6_01.replace(diccDec, inplace = True)\n",
    "df_copy_tper_vic2.AP6_6_01.value_counts()"
   ]
  },
  {
   "cell_type": "code",
   "execution_count": 28,
   "metadata": {},
   "outputs": [
    {
     "data": {
      "text/plain": [
       "2     78427\n",
       "1      6034\n",
       "99       46\n",
       "Name: AP6_4_02, dtype: int64"
      ]
     },
     "execution_count": 28,
     "metadata": {},
     "output_type": "execute_result"
    }
   ],
   "source": [
    "df_copy_tper_vic2.AP6_4_02.replace(dicc, inplace = True)\n",
    "df_copy_tper_vic2.AP6_4_02.value_counts()"
   ]
  },
  {
   "cell_type": "code",
   "execution_count": 29,
   "metadata": {},
   "outputs": [
    {
     "data": {
      "text/plain": [
       "1    5580\n",
       "2     454\n",
       "Name: AP6_5_02, dtype: int64"
      ]
     },
     "execution_count": 29,
     "metadata": {},
     "output_type": "execute_result"
    }
   ],
   "source": [
    "df_copy_tper_vic2.AP6_5_02.replace(diccDec, inplace = True)\n",
    "df_copy_tper_vic2.AP6_5_02.value_counts()"
   ]
  },
  {
   "cell_type": "code",
   "execution_count": 30,
   "metadata": {},
   "outputs": [
    {
     "data": {
      "text/plain": [
       "1     4040\n",
       "2     1110\n",
       "3      331\n",
       "4       63\n",
       "5       22\n",
       "6        7\n",
       "10       3\n",
       "8        2\n",
       "24       1\n",
       "7        1\n",
       "Name: AP6_6_02, dtype: int64"
      ]
     },
     "execution_count": 30,
     "metadata": {},
     "output_type": "execute_result"
    }
   ],
   "source": [
    "df_copy_tper_vic2.AP6_6_02.replace(diccDec, inplace = True)\n",
    "df_copy_tper_vic2.AP6_6_02.value_counts()"
   ]
  },
  {
   "cell_type": "code",
   "execution_count": 31,
   "metadata": {},
   "outputs": [
    {
     "data": {
      "text/plain": [
       "2     78711\n",
       "1      5737\n",
       "99       59\n",
       "Name: AP6_4_03, dtype: int64"
      ]
     },
     "execution_count": 31,
     "metadata": {},
     "output_type": "execute_result"
    }
   ],
   "source": [
    "df_copy_tper_vic2.AP6_4_03.replace(dicc, inplace = True)\n",
    "df_copy_tper_vic2.AP6_4_03.value_counts()"
   ]
  },
  {
   "cell_type": "code",
   "execution_count": 34,
   "metadata": {},
   "outputs": [
    {
     "data": {
      "text/plain": [
       "1     4063\n",
       "2     1090\n",
       "3      405\n",
       "4       74\n",
       "5       68\n",
       "10      11\n",
       "6       10\n",
       "8        4\n",
       "7        4\n",
       "20       3\n",
       "15       1\n",
       "9        1\n",
       "60       1\n",
       "37       1\n",
       "50       1\n",
       "Name: AP6_6_03, dtype: int64"
      ]
     },
     "execution_count": 34,
     "metadata": {},
     "output_type": "execute_result"
    }
   ],
   "source": [
    "df_copy_tper_vic2.AP6_6_03.replace(diccDec, inplace = True)\n",
    "df_copy_tper_vic2.AP6_6_03.value_counts()"
   ]
  },
  {
   "cell_type": "code",
   "execution_count": 35,
   "metadata": {},
   "outputs": [
    {
     "data": {
      "text/plain": [
       "2     79834\n",
       "1      4609\n",
       "99       64\n",
       "Name: AP6_4_04, dtype: int64"
      ]
     },
     "execution_count": 35,
     "metadata": {},
     "output_type": "execute_result"
    }
   ],
   "source": [
    "df_copy_tper_vic2.AP6_4_04.replace(dicc, inplace = True)\n",
    "df_copy_tper_vic2.AP6_4_04.value_counts()"
   ]
  },
  {
   "cell_type": "code",
   "execution_count": 40,
   "metadata": {},
   "outputs": [
    {
     "data": {
      "text/plain": [
       "1     3814\n",
       "2      617\n",
       "3      129\n",
       "4       29\n",
       "5       17\n",
       "6        2\n",
       "12       1\n",
       "Name: AP6_6_04, dtype: int64"
      ]
     },
     "execution_count": 40,
     "metadata": {},
     "output_type": "execute_result"
    }
   ],
   "source": [
    "df_copy_tper_vic2.AP6_6_04.replace(diccDec, inplace = True)\n",
    "df_copy_tper_vic2.AP6_6_04.value_counts()"
   ]
  },
  {
   "cell_type": "code",
   "execution_count": 36,
   "metadata": {},
   "outputs": [
    {
     "data": {
      "text/plain": [
       "2     65381\n",
       "1     19078\n",
       "99       48\n",
       "Name: AP6_7, dtype: int64"
      ]
     },
     "execution_count": 36,
     "metadata": {},
     "output_type": "execute_result"
    }
   ],
   "source": [
    "df_copy_tper_vic2.AP6_7.replace(dicc, inplace = True)\n",
    "df_copy_tper_vic2.AP6_7.value_counts()"
   ]
  },
  {
   "cell_type": "code",
   "execution_count": 39,
   "metadata": {},
   "outputs": [
    {
     "data": {
      "text/plain": [
       "2     23010\n",
       "1      2174\n",
       "3      1796\n",
       "99       24\n",
       "Name: AP6_8, dtype: int64"
      ]
     },
     "execution_count": 39,
     "metadata": {},
     "output_type": "execute_result"
    }
   ],
   "source": [
    "df_copy_tper_vic2.AP6_8.replace(diccDec, inplace = True)\n",
    "df_copy_tper_vic2.AP6_8.value_counts()"
   ]
  },
  {
   "cell_type": "code",
   "execution_count": 37,
   "metadata": {},
   "outputs": [
    {
     "data": {
      "text/plain": [
       "2     83576\n",
       "1       886\n",
       "99       45\n",
       "Name: AP6_9, dtype: int64"
      ]
     },
     "execution_count": 37,
     "metadata": {},
     "output_type": "execute_result"
    }
   ],
   "source": [
    "df_copy_tper_vic2.AP6_9.replace(dicc, inplace = True)\n",
    "df_copy_tper_vic2.AP6_9.value_counts()"
   ]
  },
  {
   "cell_type": "code",
   "execution_count": 38,
   "metadata": {},
   "outputs": [
    {
     "data": {
      "text/plain": [
       "2     84243\n",
       "1       227\n",
       "99       37\n",
       "Name: AP6_10_1, dtype: int64"
      ]
     },
     "execution_count": 38,
     "metadata": {},
     "output_type": "execute_result"
    }
   ],
   "source": [
    "df_copy_tper_vic2.AP6_10_1.replace(dicc, inplace = True)\n",
    "df_copy_tper_vic2.AP6_10_1.value_counts()"
   ]
  },
  {
   "cell_type": "code",
   "execution_count": 41,
   "metadata": {},
   "outputs": [
    {
     "data": {
      "text/plain": [
       "1    203\n",
       "2     19\n",
       "3      3\n",
       "6      1\n",
       "7      1\n",
       "Name: AP6_10_2, dtype: int64"
      ]
     },
     "execution_count": 41,
     "metadata": {},
     "output_type": "execute_result"
    }
   ],
   "source": [
    "df_copy_tper_vic2.AP6_10_2.replace(diccDec, inplace = True)\n",
    "df_copy_tper_vic2.AP6_10_2.value_counts()"
   ]
  },
  {
   "cell_type": "code",
   "execution_count": 43,
   "metadata": {},
   "outputs": [
    {
     "data": {
      "text/plain": [
       "1    195\n",
       "2     32\n",
       "Name: AP6_11_1, dtype: int64"
      ]
     },
     "execution_count": 43,
     "metadata": {},
     "output_type": "execute_result"
    }
   ],
   "source": [
    "df_copy_tper_vic2.AP6_11_1.replace(diccDec, inplace = True)\n",
    "df_copy_tper_vic2.AP6_11_1.value_counts()"
   ]
  },
  {
   "cell_type": "code",
   "execution_count": 44,
   "metadata": {},
   "outputs": [
    {
     "data": {
      "text/plain": [
       "1    183\n",
       "2     11\n",
       "3      1\n",
       "Name: AP6_12_1, dtype: int64"
      ]
     },
     "execution_count": 44,
     "metadata": {},
     "output_type": "execute_result"
    }
   ],
   "source": [
    "df_copy_tper_vic2.AP6_12_1.replace(diccDec, inplace = True)\n",
    "df_copy_tper_vic2.AP6_12_1.value_counts()"
   ]
  },
  {
   "cell_type": "code",
   "execution_count": 45,
   "metadata": {},
   "outputs": [
    {
     "data": {
      "text/plain": [
       "1     106\n",
       "2      45\n",
       "3      19\n",
       "4      10\n",
       "99      8\n",
       "6       6\n",
       "5       1\n",
       "Name: AP6_13_1_1, dtype: int64"
      ]
     },
     "execution_count": 45,
     "metadata": {},
     "output_type": "execute_result"
    }
   ],
   "source": [
    "df_copy_tper_vic2.AP6_13_1_1.replace(diccDec, inplace = True)\n",
    "df_copy_tper_vic2.AP6_13_1_1.value_counts()"
   ]
  },
  {
   "cell_type": "code",
   "execution_count": 46,
   "metadata": {},
   "outputs": [
    {
     "data": {
      "text/plain": [
       "1     7\n",
       "2     2\n",
       "3     2\n",
       "99    1\n",
       "Name: AP6_13_1_2, dtype: int64"
      ]
     },
     "execution_count": 46,
     "metadata": {},
     "output_type": "execute_result"
    }
   ],
   "source": [
    "df_copy_tper_vic2.AP6_13_1_2.replace(diccDec, inplace = True)\n",
    "df_copy_tper_vic2.AP6_13_1_2.value_counts()"
   ]
  },
  {
   "cell_type": "code",
   "execution_count": 47,
   "metadata": {},
   "outputs": [
    {
     "data": {
      "text/plain": [
       "1    1\n",
       "Name: AP6_13_1_3, dtype: int64"
      ]
     },
     "execution_count": 47,
     "metadata": {},
     "output_type": "execute_result"
    }
   ],
   "source": [
    "df_copy_tper_vic2.AP6_13_1_3.replace(diccDec, inplace = True)\n",
    "df_copy_tper_vic2.AP6_13_1_3.value_counts()"
   ]
  },
  {
   "cell_type": "code",
   "execution_count": 48,
   "metadata": {},
   "outputs": [
    {
     "data": {
      "text/plain": [
       "99    84507\n",
       "Name: AP6_13_1_4, dtype: int64"
      ]
     },
     "execution_count": 48,
     "metadata": {},
     "output_type": "execute_result"
    }
   ],
   "source": [
    "df_copy_tper_vic2.AP6_13_1_4.replace(diccDec, inplace = True)\n",
    "df_copy_tper_vic2.AP6_13_1_4.value_counts()"
   ]
  },
  {
   "cell_type": "code",
   "execution_count": 49,
   "metadata": {},
   "outputs": [
    {
     "data": {
      "text/plain": [
       "1    17\n",
       "2     7\n",
       "Name: AP6_11_2, dtype: int64"
      ]
     },
     "execution_count": 49,
     "metadata": {},
     "output_type": "execute_result"
    }
   ],
   "source": [
    "df_copy_tper_vic2.AP6_11_2.replace(diccDec, inplace = True)\n",
    "df_copy_tper_vic2.AP6_11_2.value_counts()"
   ]
  },
  {
   "cell_type": "code",
   "execution_count": 50,
   "metadata": {},
   "outputs": [
    {
     "data": {
      "text/plain": [
       "1    17\n",
       "Name: AP6_12_2, dtype: int64"
      ]
     },
     "execution_count": 50,
     "metadata": {},
     "output_type": "execute_result"
    }
   ],
   "source": [
    "df_copy_tper_vic2.AP6_12_2.replace(diccDec, inplace = True)\n",
    "df_copy_tper_vic2.AP6_12_2.value_counts()"
   ]
  },
  {
   "cell_type": "code",
   "execution_count": 51,
   "metadata": {},
   "outputs": [
    {
     "data": {
      "text/plain": [
       "1    11\n",
       "2     4\n",
       "4     1\n",
       "3     1\n",
       "Name: AP6_13_2_1, dtype: int64"
      ]
     },
     "execution_count": 51,
     "metadata": {},
     "output_type": "execute_result"
    }
   ],
   "source": [
    "df_copy_tper_vic2.AP6_13_2_1.replace(diccDec, inplace = True)\n",
    "df_copy_tper_vic2.AP6_13_2_1.value_counts()"
   ]
  },
  {
   "cell_type": "code",
   "execution_count": 52,
   "metadata": {},
   "outputs": [
    {
     "data": {
      "text/plain": [
       "99    84507\n",
       "Name: AP6_13_2_2, dtype: int64"
      ]
     },
     "execution_count": 52,
     "metadata": {},
     "output_type": "execute_result"
    }
   ],
   "source": [
    "df_copy_tper_vic2.AP6_13_2_2.replace(diccDec, inplace = True)\n",
    "df_copy_tper_vic2.AP6_13_2_2.value_counts()"
   ]
  },
  {
   "cell_type": "code",
   "execution_count": 53,
   "metadata": {},
   "outputs": [
    {
     "data": {
      "text/plain": [
       "99    84507\n",
       "Name: AP6_13_2_3, dtype: int64"
      ]
     },
     "execution_count": 53,
     "metadata": {},
     "output_type": "execute_result"
    }
   ],
   "source": [
    "df_copy_tper_vic2.AP6_13_2_3.replace(diccDec, inplace = True)\n",
    "df_copy_tper_vic2.AP6_13_2_3.value_counts()"
   ]
  },
  {
   "cell_type": "code",
   "execution_count": 54,
   "metadata": {},
   "outputs": [
    {
     "data": {
      "text/plain": [
       "99    84507\n",
       "Name: AP6_13_2_4, dtype: int64"
      ]
     },
     "execution_count": 54,
     "metadata": {},
     "output_type": "execute_result"
    }
   ],
   "source": [
    "df_copy_tper_vic2.AP6_13_2_4.replace(diccDec, inplace = True)\n",
    "df_copy_tper_vic2.AP6_13_2_4.value_counts()"
   ]
  },
  {
   "cell_type": "code",
   "execution_count": 55,
   "metadata": {},
   "outputs": [
    {
     "data": {
      "text/plain": [
       "1    5\n",
       "Name: AP6_11_3, dtype: int64"
      ]
     },
     "execution_count": 55,
     "metadata": {},
     "output_type": "execute_result"
    }
   ],
   "source": [
    "df_copy_tper_vic2.AP6_11_3.replace(diccDec, inplace = True)\n",
    "df_copy_tper_vic2.AP6_11_3.value_counts()"
   ]
  },
  {
   "cell_type": "code",
   "execution_count": 58,
   "metadata": {},
   "outputs": [
    {
     "data": {
      "text/plain": [
       "1    5\n",
       "Name: AP6_12_3, dtype: int64"
      ]
     },
     "execution_count": 58,
     "metadata": {},
     "output_type": "execute_result"
    }
   ],
   "source": [
    "df_copy_tper_vic2.AP6_12_3.replace(diccDec, inplace = True)\n",
    "df_copy_tper_vic2.AP6_12_3.value_counts()"
   ]
  },
  {
   "cell_type": "code",
   "execution_count": 56,
   "metadata": {},
   "outputs": [
    {
     "data": {
      "text/plain": [
       "1    2\n",
       "Name: AP6_11_4, dtype: int64"
      ]
     },
     "execution_count": 56,
     "metadata": {},
     "output_type": "execute_result"
    }
   ],
   "source": [
    "df_copy_tper_vic2.AP6_11_4.replace(diccDec, inplace = True)\n",
    "df_copy_tper_vic2.AP6_11_4.value_counts()"
   ]
  },
  {
   "cell_type": "code",
   "execution_count": 57,
   "metadata": {},
   "outputs": [
    {
     "data": {
      "text/plain": [
       "1    2\n",
       "Name: AP6_11_5, dtype: int64"
      ]
     },
     "execution_count": 57,
     "metadata": {},
     "output_type": "execute_result"
    }
   ],
   "source": [
    "df_copy_tper_vic2.AP6_11_5.replace(diccDec, inplace = True)\n",
    "df_copy_tper_vic2.AP6_11_5.value_counts()"
   ]
  },
  {
   "cell_type": "code",
   "execution_count": 59,
   "metadata": {},
   "outputs": [
    {
     "data": {
      "text/plain": [
       "2    1\n",
       "1    1\n",
       "Name: AP6_11_6, dtype: int64"
      ]
     },
     "execution_count": 59,
     "metadata": {},
     "output_type": "execute_result"
    }
   ],
   "source": [
    "df_copy_tper_vic2.AP6_11_6.replace(diccDec, inplace = True)\n",
    "df_copy_tper_vic2.AP6_11_6.value_counts()"
   ]
  },
  {
   "cell_type": "code",
   "execution_count": 60,
   "metadata": {},
   "outputs": [
    {
     "data": {
      "text/plain": [
       "1    1\n",
       "Name: AP6_11_7, dtype: int64"
      ]
     },
     "execution_count": 60,
     "metadata": {},
     "output_type": "execute_result"
    }
   ],
   "source": [
    "df_copy_tper_vic2.AP6_11_7.replace(diccDec, inplace = True)\n",
    "df_copy_tper_vic2.AP6_11_7.value_counts()"
   ]
  },
  {
   "cell_type": "code",
   "execution_count": 61,
   "metadata": {},
   "outputs": [
    {
     "data": {
      "text/plain": [
       "1    2\n",
       "Name: AP6_12_4, dtype: int64"
      ]
     },
     "execution_count": 61,
     "metadata": {},
     "output_type": "execute_result"
    }
   ],
   "source": [
    "df_copy_tper_vic2.AP6_12_4.replace(diccDec, inplace = True)\n",
    "df_copy_tper_vic2.AP6_12_4.value_counts()"
   ]
  },
  {
   "cell_type": "code",
   "execution_count": 62,
   "metadata": {},
   "outputs": [
    {
     "data": {
      "text/plain": [
       "1    2\n",
       "Name: AP6_12_5, dtype: int64"
      ]
     },
     "execution_count": 62,
     "metadata": {},
     "output_type": "execute_result"
    }
   ],
   "source": [
    "df_copy_tper_vic2.AP6_12_5.replace(diccDec, inplace = True)\n",
    "df_copy_tper_vic2.AP6_12_5.value_counts()"
   ]
  },
  {
   "cell_type": "code",
   "execution_count": 63,
   "metadata": {},
   "outputs": [
    {
     "data": {
      "text/plain": [
       "1    1\n",
       "Name: AP6_12_6, dtype: int64"
      ]
     },
     "execution_count": 63,
     "metadata": {},
     "output_type": "execute_result"
    }
   ],
   "source": [
    "df_copy_tper_vic2.AP6_12_6.replace(diccDec, inplace = True)\n",
    "df_copy_tper_vic2.AP6_12_6.value_counts()"
   ]
  },
  {
   "cell_type": "code",
   "execution_count": 64,
   "metadata": {},
   "outputs": [
    {
     "data": {
      "text/plain": [
       "1    1\n",
       "Name: AP6_12_7, dtype: int64"
      ]
     },
     "execution_count": 64,
     "metadata": {},
     "output_type": "execute_result"
    }
   ],
   "source": [
    "df_copy_tper_vic2.AP6_12_7.replace(diccDec, inplace = True)\n",
    "df_copy_tper_vic2.AP6_12_7.value_counts()"
   ]
  },
  {
   "cell_type": "code",
   "execution_count": 65,
   "metadata": {},
   "outputs": [
    {
     "data": {
      "text/plain": [
       "2    2\n",
       "1    2\n",
       "3    1\n",
       "Name: AP6_13_3_1, dtype: int64"
      ]
     },
     "execution_count": 65,
     "metadata": {},
     "output_type": "execute_result"
    }
   ],
   "source": [
    "df_copy_tper_vic2.AP6_13_3_1.replace(diccDec, inplace = True)\n",
    "df_copy_tper_vic2.AP6_13_3_1.value_counts()"
   ]
  },
  {
   "cell_type": "code",
   "execution_count": 66,
   "metadata": {},
   "outputs": [
    {
     "data": {
      "text/plain": [
       "99    84507\n",
       "Name: AP6_13_3_2, dtype: int64"
      ]
     },
     "execution_count": 66,
     "metadata": {},
     "output_type": "execute_result"
    }
   ],
   "source": [
    "df_copy_tper_vic2.AP6_13_3_2.replace(diccDec, inplace = True)\n",
    "df_copy_tper_vic2.AP6_13_3_2.value_counts()"
   ]
  },
  {
   "cell_type": "code",
   "execution_count": 69,
   "metadata": {},
   "outputs": [
    {
     "data": {
      "text/plain": [
       "99    84507\n",
       "Name: AP6_13_3_3, dtype: int64"
      ]
     },
     "execution_count": 69,
     "metadata": {},
     "output_type": "execute_result"
    }
   ],
   "source": [
    "df_copy_tper_vic2.AP6_13_3_3.replace(diccDec, inplace = True)\n",
    "df_copy_tper_vic2.AP6_13_3_3.value_counts()"
   ]
  },
  {
   "cell_type": "code",
   "execution_count": 70,
   "metadata": {},
   "outputs": [
    {
     "data": {
      "text/plain": [
       "99    84507\n",
       "Name: AP6_13_3_4, dtype: int64"
      ]
     },
     "execution_count": 70,
     "metadata": {},
     "output_type": "execute_result"
    }
   ],
   "source": [
    "df_copy_tper_vic2.AP6_13_3_4.replace(diccDec, inplace = True)\n",
    "df_copy_tper_vic2.AP6_13_3_4.value_counts()"
   ]
  },
  {
   "cell_type": "code",
   "execution_count": 72,
   "metadata": {},
   "outputs": [
    {
     "data": {
      "text/plain": [
       "3    1\n",
       "1    1\n",
       "Name: AP6_13_4_1, dtype: int64"
      ]
     },
     "execution_count": 72,
     "metadata": {},
     "output_type": "execute_result"
    }
   ],
   "source": [
    "df_copy_tper_vic2.AP6_13_4_1.replace(diccDec, inplace = True)\n",
    "df_copy_tper_vic2.AP6_13_4_1.value_counts()"
   ]
  },
  {
   "cell_type": "code",
   "execution_count": 73,
   "metadata": {},
   "outputs": [
    {
     "data": {
      "text/plain": [
       "3    1\n",
       "1    1\n",
       "Name: AP6_13_5_1, dtype: int64"
      ]
     },
     "execution_count": 73,
     "metadata": {},
     "output_type": "execute_result"
    }
   ],
   "source": [
    "df_copy_tper_vic2.AP6_13_5_1.replace(diccDec, inplace = True)\n",
    "df_copy_tper_vic2.AP6_13_5_1.value_counts()"
   ]
  },
  {
   "cell_type": "code",
   "execution_count": 74,
   "metadata": {},
   "outputs": [
    {
     "data": {
      "text/plain": [
       "3    1\n",
       "Name: AP6_13_6_1, dtype: int64"
      ]
     },
     "execution_count": 74,
     "metadata": {},
     "output_type": "execute_result"
    }
   ],
   "source": [
    "df_copy_tper_vic2.AP6_13_6_1.replace(diccDec, inplace = True)\n",
    "df_copy_tper_vic2.AP6_13_6_1.value_counts()"
   ]
  },
  {
   "cell_type": "code",
   "execution_count": 75,
   "metadata": {},
   "outputs": [
    {
     "data": {
      "text/plain": [
       "3    1\n",
       "Name: AP6_13_7_1, dtype: int64"
      ]
     },
     "execution_count": 75,
     "metadata": {},
     "output_type": "execute_result"
    }
   ],
   "source": [
    "df_copy_tper_vic2.AP6_13_7_1.replace(diccDec, inplace = True)\n",
    "df_copy_tper_vic2.AP6_13_7_1.value_counts()"
   ]
  },
  {
   "cell_type": "code",
   "execution_count": 76,
   "metadata": {},
   "outputs": [
    {
     "data": {
      "text/plain": [
       "99    84507\n",
       "Name: AP6_13_4_2, dtype: int64"
      ]
     },
     "execution_count": 76,
     "metadata": {},
     "output_type": "execute_result"
    }
   ],
   "source": [
    "df_copy_tper_vic2.AP6_13_4_2.replace(diccDec, inplace = True)\n",
    "df_copy_tper_vic2.AP6_13_4_2.value_counts()"
   ]
  },
  {
   "cell_type": "code",
   "execution_count": 77,
   "metadata": {},
   "outputs": [
    {
     "data": {
      "text/plain": [
       "99    84507\n",
       "Name: AP6_13_5_2, dtype: int64"
      ]
     },
     "execution_count": 77,
     "metadata": {},
     "output_type": "execute_result"
    }
   ],
   "source": [
    "df_copy_tper_vic2.AP6_13_5_2.replace(diccDec, inplace = True)\n",
    "df_copy_tper_vic2.AP6_13_5_2.value_counts()"
   ]
  },
  {
   "cell_type": "code",
   "execution_count": 78,
   "metadata": {},
   "outputs": [
    {
     "data": {
      "text/plain": [
       "99    84507\n",
       "Name: AP6_13_6_2, dtype: int64"
      ]
     },
     "execution_count": 78,
     "metadata": {},
     "output_type": "execute_result"
    }
   ],
   "source": [
    "df_copy_tper_vic2.AP6_13_6_2.replace(diccDec, inplace = True)\n",
    "df_copy_tper_vic2.AP6_13_6_2.value_counts()"
   ]
  },
  {
   "cell_type": "code",
   "execution_count": 79,
   "metadata": {},
   "outputs": [
    {
     "data": {
      "text/plain": [
       "99    84507\n",
       "Name: AP6_13_7_2, dtype: int64"
      ]
     },
     "execution_count": 79,
     "metadata": {},
     "output_type": "execute_result"
    }
   ],
   "source": [
    "df_copy_tper_vic2.AP6_13_7_2.replace(diccDec, inplace = True)\n",
    "df_copy_tper_vic2.AP6_13_7_2.value_counts()"
   ]
  },
  {
   "cell_type": "code",
   "execution_count": 80,
   "metadata": {},
   "outputs": [
    {
     "data": {
      "text/plain": [
       "99    84507\n",
       "Name: AP6_13_4_3, dtype: int64"
      ]
     },
     "execution_count": 80,
     "metadata": {},
     "output_type": "execute_result"
    }
   ],
   "source": [
    "df_copy_tper_vic2.AP6_13_4_3.replace(diccDec, inplace = True)\n",
    "df_copy_tper_vic2.AP6_13_4_3.value_counts()"
   ]
  },
  {
   "cell_type": "code",
   "execution_count": 82,
   "metadata": {},
   "outputs": [
    {
     "data": {
      "text/plain": [
       "99    84507\n",
       "Name: AP6_13_5_3, dtype: int64"
      ]
     },
     "execution_count": 82,
     "metadata": {},
     "output_type": "execute_result"
    }
   ],
   "source": [
    "df_copy_tper_vic2.AP6_13_5_3.replace(diccDec, inplace = True)\n",
    "df_copy_tper_vic2.AP6_13_5_3.value_counts()"
   ]
  },
  {
   "cell_type": "code",
   "execution_count": 83,
   "metadata": {},
   "outputs": [
    {
     "data": {
      "text/plain": [
       "99    84507\n",
       "Name: AP6_13_6_3, dtype: int64"
      ]
     },
     "execution_count": 83,
     "metadata": {},
     "output_type": "execute_result"
    }
   ],
   "source": [
    "df_copy_tper_vic2.AP6_13_6_3.replace(diccDec, inplace = True)\n",
    "df_copy_tper_vic2.AP6_13_6_3.value_counts()"
   ]
  },
  {
   "cell_type": "code",
   "execution_count": 84,
   "metadata": {},
   "outputs": [
    {
     "data": {
      "text/plain": [
       "99    84507\n",
       "Name: AP6_13_7_3, dtype: int64"
      ]
     },
     "execution_count": 84,
     "metadata": {},
     "output_type": "execute_result"
    }
   ],
   "source": [
    "df_copy_tper_vic2.AP6_13_7_3.replace(diccDec, inplace = True)\n",
    "df_copy_tper_vic2.AP6_13_7_3.value_counts()"
   ]
  },
  {
   "cell_type": "code",
   "execution_count": 85,
   "metadata": {},
   "outputs": [
    {
     "data": {
      "text/plain": [
       "99    84507\n",
       "Name: AP6_13_4_4, dtype: int64"
      ]
     },
     "execution_count": 85,
     "metadata": {},
     "output_type": "execute_result"
    }
   ],
   "source": [
    "df_copy_tper_vic2.AP6_13_4_4.replace(diccDec, inplace = True)\n",
    "df_copy_tper_vic2.AP6_13_4_4.value_counts()"
   ]
  },
  {
   "cell_type": "code",
   "execution_count": 86,
   "metadata": {},
   "outputs": [
    {
     "data": {
      "text/plain": [
       "99    84507\n",
       "Name: AP6_13_5_4, dtype: int64"
      ]
     },
     "execution_count": 86,
     "metadata": {},
     "output_type": "execute_result"
    }
   ],
   "source": [
    "df_copy_tper_vic2.AP6_13_5_4.replace(diccDec, inplace = True)\n",
    "df_copy_tper_vic2.AP6_13_5_4.value_counts()"
   ]
  },
  {
   "cell_type": "code",
   "execution_count": 87,
   "metadata": {},
   "outputs": [
    {
     "data": {
      "text/plain": [
       "99    84507\n",
       "Name: AP6_13_6_4, dtype: int64"
      ]
     },
     "execution_count": 87,
     "metadata": {},
     "output_type": "execute_result"
    }
   ],
   "source": [
    "df_copy_tper_vic2.AP6_13_6_4.replace(diccDec, inplace = True)\n",
    "df_copy_tper_vic2.AP6_13_6_4.value_counts()"
   ]
  },
  {
   "cell_type": "code",
   "execution_count": 88,
   "metadata": {},
   "outputs": [
    {
     "data": {
      "text/plain": [
       "99    84507\n",
       "Name: AP6_13_7_4, dtype: int64"
      ]
     },
     "execution_count": 88,
     "metadata": {},
     "output_type": "execute_result"
    }
   ],
   "source": [
    "df_copy_tper_vic2.AP6_13_7_4.replace(diccDec, inplace = True)\n",
    "df_copy_tper_vic2.AP6_13_7_4.value_counts()"
   ]
  },
  {
   "cell_type": "code",
   "execution_count": 67,
   "metadata": {},
   "outputs": [
    {
     "data": {
      "text/plain": [
       "2     83845\n",
       "1       622\n",
       "99       40\n",
       "Name: AP6_14, dtype: int64"
      ]
     },
     "execution_count": 67,
     "metadata": {},
     "output_type": "execute_result"
    }
   ],
   "source": [
    "df_copy_tper_vic2.AP6_14.replace(dicc, inplace = True)\n",
    "df_copy_tper_vic2.AP6_14.value_counts()"
   ]
  },
  {
   "cell_type": "code",
   "execution_count": 68,
   "metadata": {},
   "outputs": [
    {
     "data": {
      "text/plain": [
       "2     84339\n",
       "1       130\n",
       "99       38\n",
       "Name: AP6_15_1, dtype: int64"
      ]
     },
     "execution_count": 68,
     "metadata": {},
     "output_type": "execute_result"
    }
   ],
   "source": [
    "df_copy_tper_vic2.AP6_15_1.replace(dicc, inplace = True)\n",
    "df_copy_tper_vic2.AP6_15_1.value_counts()"
   ]
  },
  {
   "cell_type": "code",
   "execution_count": 91,
   "metadata": {},
   "outputs": [
    {
     "data": {
      "text/plain": [
       "1    112\n",
       "2     15\n",
       "3      2\n",
       "7      1\n",
       "Name: AP6_15_2, dtype: int64"
      ]
     },
     "execution_count": 91,
     "metadata": {},
     "output_type": "execute_result"
    }
   ],
   "source": [
    "df_copy_tper_vic2.AP6_15_2.replace(diccDec, inplace = True)\n",
    "df_copy_tper_vic2.AP6_15_2.value_counts()"
   ]
  },
  {
   "cell_type": "code",
   "execution_count": 90,
   "metadata": {},
   "outputs": [
    {
     "data": {
      "text/plain": [
       "1    107\n",
       "2     23\n",
       "Name: AP6_16_1, dtype: int64"
      ]
     },
     "execution_count": 90,
     "metadata": {},
     "output_type": "execute_result"
    }
   ],
   "source": [
    "df_copy_tper_vic2.AP6_16_1.replace(diccDec, inplace = True)\n",
    "df_copy_tper_vic2.AP6_16_1.value_counts()"
   ]
  },
  {
   "cell_type": "code",
   "execution_count": null,
   "metadata": {},
   "outputs": [],
   "source": [
    "df_copy_tper_vic2.AP6_16_2.replace(diccDec, inplace = True)\n",
    "df_copy_tper_vic2.AP6_16_2 =  df_copy_tper_vic2.AP6_16_2.replace('\\r', \"\", regex = True)\n",
    "df_copy_tper_vic2.AP6_16_2.value_counts()"
   ]
  },
  {
   "cell_type": "code",
   "execution_count": null,
   "metadata": {},
   "outputs": [],
   "source": [
    "df_copy_tper_vic2.AP6_16_3.replace(diccDec, inplace = True)\n",
    "df_copy_tper_vic2.AP6_16_3.value_counts()"
   ]
  },
  {
   "cell_type": "code",
   "execution_count": 92,
   "metadata": {},
   "outputs": [
    {
     "data": {
      "text/plain": [
       "2    2\n",
       "1    1\n",
       "Name: AP6_16_3, dtype: int64"
      ]
     },
     "execution_count": 92,
     "metadata": {},
     "output_type": "execute_result"
    }
   ],
   "source": [
    "df_copy_tper_vic2.AP6_16_3.replace(diccDec, inplace = True)\n",
    "df_copy_tper_vic2.AP6_16_3.value_counts()"
   ]
  },
  {
   "cell_type": "code",
   "execution_count": 93,
   "metadata": {},
   "outputs": [
    {
     "data": {
      "text/plain": [
       "2    1\n",
       "Name: AP6_16_4, dtype: int64"
      ]
     },
     "execution_count": 93,
     "metadata": {},
     "output_type": "execute_result"
    }
   ],
   "source": [
    "df_copy_tper_vic2.AP6_16_4.replace(diccDec, inplace = True)\n",
    "df_copy_tper_vic2.AP6_16_4.value_counts()"
   ]
  },
  {
   "cell_type": "code",
   "execution_count": 94,
   "metadata": {},
   "outputs": [
    {
     "data": {
      "text/plain": [
       "2    1\n",
       "Name: AP6_16_5, dtype: int64"
      ]
     },
     "execution_count": 94,
     "metadata": {},
     "output_type": "execute_result"
    }
   ],
   "source": [
    "df_copy_tper_vic2.AP6_16_5.replace(diccDec, inplace = True)\n",
    "df_copy_tper_vic2.AP6_16_5.value_counts()"
   ]
  },
  {
   "cell_type": "code",
   "execution_count": 95,
   "metadata": {},
   "outputs": [
    {
     "data": {
      "text/plain": [
       "1    1\n",
       "Name: AP6_16_6, dtype: int64"
      ]
     },
     "execution_count": 95,
     "metadata": {},
     "output_type": "execute_result"
    }
   ],
   "source": [
    "df_copy_tper_vic2.AP6_16_6.replace(diccDec, inplace = True)\n",
    "df_copy_tper_vic2.AP6_16_6.value_counts()"
   ]
  },
  {
   "cell_type": "code",
   "execution_count": 96,
   "metadata": {},
   "outputs": [
    {
     "data": {
      "text/plain": [
       "99    1\n",
       "Name: AP6_16_7, dtype: int64"
      ]
     },
     "execution_count": 96,
     "metadata": {},
     "output_type": "execute_result"
    }
   ],
   "source": [
    "df_copy_tper_vic2.AP6_16_7.replace(diccDec, inplace = True)\n",
    "df_copy_tper_vic2.AP6_16_7.value_counts()"
   ]
  },
  {
   "cell_type": "code",
   "execution_count": 97,
   "metadata": {},
   "outputs": [
    {
     "data": {
      "text/plain": [
       "1     82\n",
       "2     15\n",
       "3      9\n",
       "99     1\n",
       "Name: AP6_17_1, dtype: int64"
      ]
     },
     "execution_count": 97,
     "metadata": {},
     "output_type": "execute_result"
    }
   ],
   "source": [
    "df_copy_tper_vic2.AP6_17_1.replace(diccDec, inplace = True)\n",
    "df_copy_tper_vic2.AP6_17_1.value_counts()"
   ]
  },
  {
   "cell_type": "code",
   "execution_count": null,
   "metadata": {},
   "outputs": [],
   "source": [
    "df_copy_tper_vic2.AP6_17_2.replace({'\\r':'99','9\\r':'99'}, inplace = True)\n",
    "df_copy_tper_vic2.AP6_17_2 =  df_copy_tper_vic2.AP6_17_2.replace('\\r', \"\", regex = True)\n",
    "df_copy_tper_vic2.AP6_17_2.value_counts()"
   ]
  },
  {
   "cell_type": "code",
   "execution_count": 98,
   "metadata": {},
   "outputs": [
    {
     "data": {
      "text/plain": [
       "1    1\n",
       "Name: AP6_17_3, dtype: int64"
      ]
     },
     "execution_count": 98,
     "metadata": {},
     "output_type": "execute_result"
    }
   ],
   "source": [
    "df_copy_tper_vic2.AP6_17_3.replace(diccDec, inplace = True)\n",
    "df_copy_tper_vic2.AP6_17_3.value_counts()"
   ]
  },
  {
   "cell_type": "code",
   "execution_count": 99,
   "metadata": {},
   "outputs": [
    {
     "data": {
      "text/plain": [
       "99    84507\n",
       "Name: AP6_17_4, dtype: int64"
      ]
     },
     "execution_count": 99,
     "metadata": {},
     "output_type": "execute_result"
    }
   ],
   "source": [
    "df_copy_tper_vic2.AP6_17_4.replace(diccDec, inplace = True)\n",
    "df_copy_tper_vic2.AP6_17_4.value_counts()"
   ]
  },
  {
   "cell_type": "code",
   "execution_count": 100,
   "metadata": {},
   "outputs": [
    {
     "data": {
      "text/plain": [
       "99    84507\n",
       "Name: AP6_17_5, dtype: int64"
      ]
     },
     "execution_count": 100,
     "metadata": {},
     "output_type": "execute_result"
    }
   ],
   "source": [
    "df_copy_tper_vic2.AP6_17_5.replace(diccDec, inplace = True)\n",
    "df_copy_tper_vic2.AP6_17_5.value_counts()"
   ]
  },
  {
   "cell_type": "code",
   "execution_count": 101,
   "metadata": {},
   "outputs": [
    {
     "data": {
      "text/plain": [
       "3    1\n",
       "Name: AP6_17_6, dtype: int64"
      ]
     },
     "execution_count": 101,
     "metadata": {},
     "output_type": "execute_result"
    }
   ],
   "source": [
    "df_copy_tper_vic2.AP6_17_6.replace(diccDec, inplace = True)\n",
    "df_copy_tper_vic2.AP6_17_6.value_counts()"
   ]
  },
  {
   "cell_type": "code",
   "execution_count": 102,
   "metadata": {},
   "outputs": [
    {
     "data": {
      "text/plain": [
       "99    84507\n",
       "Name: AP6_17_7, dtype: int64"
      ]
     },
     "execution_count": 102,
     "metadata": {},
     "output_type": "execute_result"
    }
   ],
   "source": [
    "df_copy_tper_vic2.AP6_17_7.replace(diccDec, inplace = True)\n",
    "df_copy_tper_vic2.AP6_17_7.value_counts()"
   ]
  },
  {
   "cell_type": "code",
   "execution_count": 103,
   "metadata": {},
   "outputs": [
    {
     "data": {
      "text/plain": [
       "1    16\n",
       "2     1\n",
       "Name: AP6_18_1, dtype: int64"
      ]
     },
     "execution_count": 103,
     "metadata": {},
     "output_type": "execute_result"
    }
   ],
   "source": [
    "df_copy_tper_vic2.AP6_18_1.replace(diccDec, inplace = True)\n",
    "df_copy_tper_vic2.AP6_18_1.value_counts()"
   ]
  },
  {
   "cell_type": "code",
   "execution_count": 104,
   "metadata": {},
   "outputs": [
    {
     "data": {
      "text/plain": [
       "1    4\n",
       "Name: AP6_18_2, dtype: int64"
      ]
     },
     "execution_count": 104,
     "metadata": {},
     "output_type": "execute_result"
    }
   ],
   "source": [
    "df_copy_tper_vic2.AP6_18_2.replace(diccDec, inplace = True)\n",
    "df_copy_tper_vic2.AP6_18_2.value_counts()"
   ]
  },
  {
   "cell_type": "code",
   "execution_count": 105,
   "metadata": {},
   "outputs": [
    {
     "data": {
      "text/plain": [
       "99    84507\n",
       "Name: AP6_18_3, dtype: int64"
      ]
     },
     "execution_count": 105,
     "metadata": {},
     "output_type": "execute_result"
    }
   ],
   "source": [
    "df_copy_tper_vic2.AP6_18_3.replace(diccDec, inplace = True)\n",
    "df_copy_tper_vic2.AP6_18_3.value_counts()"
   ]
  },
  {
   "cell_type": "code",
   "execution_count": 106,
   "metadata": {},
   "outputs": [
    {
     "data": {
      "text/plain": [
       "99    84507\n",
       "Name: AP6_18_4, dtype: int64"
      ]
     },
     "execution_count": 106,
     "metadata": {},
     "output_type": "execute_result"
    }
   ],
   "source": [
    "df_copy_tper_vic2.AP6_18_4.replace(diccDec, inplace = True)\n",
    "df_copy_tper_vic2.AP6_18_4.value_counts()"
   ]
  },
  {
   "cell_type": "code",
   "execution_count": 107,
   "metadata": {},
   "outputs": [
    {
     "data": {
      "text/plain": [
       "99    84507\n",
       "Name: AP6_18_5, dtype: int64"
      ]
     },
     "execution_count": 107,
     "metadata": {},
     "output_type": "execute_result"
    }
   ],
   "source": [
    "df_copy_tper_vic2.AP6_18_5.replace(diccDec, inplace = True)\n",
    "df_copy_tper_vic2.AP6_18_5.value_counts()"
   ]
  },
  {
   "cell_type": "code",
   "execution_count": 108,
   "metadata": {},
   "outputs": [
    {
     "data": {
      "text/plain": [
       "99    84507\n",
       "Name: AP6_18_6, dtype: int64"
      ]
     },
     "execution_count": 108,
     "metadata": {},
     "output_type": "execute_result"
    }
   ],
   "source": [
    "df_copy_tper_vic2.AP6_18_6.replace(diccDec, inplace = True)\n",
    "df_copy_tper_vic2.AP6_18_6.value_counts()"
   ]
  },
  {
   "cell_type": "code",
   "execution_count": 109,
   "metadata": {},
   "outputs": [
    {
     "data": {
      "text/plain": [
       "99    84507\n",
       "Name: AP6_18_7, dtype: int64"
      ]
     },
     "execution_count": 109,
     "metadata": {},
     "output_type": "execute_result"
    }
   ],
   "source": [
    "df_copy_tper_vic2.AP6_18_7.replace(diccDec, inplace = True)\n",
    "df_copy_tper_vic2.AP6_18_7.value_counts()"
   ]
  },
  {
   "cell_type": "code",
   "execution_count": 110,
   "metadata": {},
   "outputs": [
    {
     "data": {
      "text/plain": [
       "2     83821\n",
       "1       634\n",
       "99       52\n",
       "Name: AP6_19, dtype: int64"
      ]
     },
     "execution_count": 110,
     "metadata": {},
     "output_type": "execute_result"
    }
   ],
   "source": [
    "df_copy_tper_vic2.AP6_19.replace(dicc, inplace = True)\n",
    "df_copy_tper_vic2.AP6_19.value_counts()"
   ]
  },
  {
   "cell_type": "code",
   "execution_count": 111,
   "metadata": {},
   "outputs": [
    {
     "data": {
      "text/plain": [
       "2     84375\n",
       "1        75\n",
       "99       57\n",
       "Name: AP6_20_1, dtype: int64"
      ]
     },
     "execution_count": 111,
     "metadata": {},
     "output_type": "execute_result"
    }
   ],
   "source": [
    "df_copy_tper_vic2.AP6_20_1.replace(dicc, inplace = True)\n",
    "df_copy_tper_vic2.AP6_20_1.value_counts()"
   ]
  },
  {
   "cell_type": "code",
   "execution_count": 115,
   "metadata": {},
   "outputs": [
    {
     "data": {
      "text/plain": [
       "1    70\n",
       "2     5\n",
       "Name: AP6_20_2, dtype: int64"
      ]
     },
     "execution_count": 115,
     "metadata": {},
     "output_type": "execute_result"
    }
   ],
   "source": [
    "df_copy_tper_vic2.AP6_20_2.replace(diccDec, inplace = True)\n",
    "df_copy_tper_vic2.AP6_20_2.value_counts()"
   ]
  },
  {
   "cell_type": "code",
   "execution_count": 116,
   "metadata": {},
   "outputs": [
    {
     "data": {
      "text/plain": [
       "1    70\n",
       "2     5\n",
       "Name: AP6_20_2, dtype: int64"
      ]
     },
     "execution_count": 116,
     "metadata": {},
     "output_type": "execute_result"
    }
   ],
   "source": [
    "df_copy_tper_vic2.AP6_20_2.replace(diccDec, inplace = True)\n",
    "df_copy_tper_vic2.AP6_20_2.value_counts()"
   ]
  },
  {
   "cell_type": "code",
   "execution_count": 117,
   "metadata": {},
   "outputs": [
    {
     "data": {
      "text/plain": [
       "1    52\n",
       "2    23\n",
       "Name: AP6_21_1, dtype: int64"
      ]
     },
     "execution_count": 117,
     "metadata": {},
     "output_type": "execute_result"
    }
   ],
   "source": [
    "df_copy_tper_vic2.AP6_21_1.replace(diccDec, inplace = True)\n",
    "df_copy_tper_vic2.AP6_21_1.value_counts()"
   ]
  },
  {
   "cell_type": "code",
   "execution_count": 118,
   "metadata": {},
   "outputs": [
    {
     "data": {
      "text/plain": [
       "2    3\n",
       "1    2\n",
       "Name: AP6_21_2, dtype: int64"
      ]
     },
     "execution_count": 118,
     "metadata": {},
     "output_type": "execute_result"
    }
   ],
   "source": [
    "df_copy_tper_vic2.AP6_21_2.replace(diccDec, inplace = True)\n",
    "df_copy_tper_vic2.AP6_21_2.value_counts()"
   ]
  },
  {
   "cell_type": "code",
   "execution_count": 119,
   "metadata": {},
   "outputs": [
    {
     "data": {
      "text/plain": [
       "99    84507\n",
       "Name: AP6_21_3, dtype: int64"
      ]
     },
     "execution_count": 119,
     "metadata": {},
     "output_type": "execute_result"
    }
   ],
   "source": [
    "df_copy_tper_vic2.AP6_21_3.replace(diccDec, inplace = True)\n",
    "df_copy_tper_vic2.AP6_21_3.value_counts()"
   ]
  },
  {
   "cell_type": "code",
   "execution_count": 120,
   "metadata": {},
   "outputs": [
    {
     "data": {
      "text/plain": [
       "99    84507\n",
       "Name: AP6_21_4, dtype: int64"
      ]
     },
     "execution_count": 120,
     "metadata": {},
     "output_type": "execute_result"
    }
   ],
   "source": [
    "df_copy_tper_vic2.AP6_21_4.replace(diccDec, inplace = True)\n",
    "df_copy_tper_vic2.AP6_21_4.value_counts()"
   ]
  },
  {
   "cell_type": "code",
   "execution_count": 121,
   "metadata": {},
   "outputs": [
    {
     "data": {
      "text/plain": [
       "99    84507\n",
       "Name: AP6_21_5, dtype: int64"
      ]
     },
     "execution_count": 121,
     "metadata": {},
     "output_type": "execute_result"
    }
   ],
   "source": [
    "df_copy_tper_vic2.AP6_21_5.replace(diccDec, inplace = True)\n",
    "df_copy_tper_vic2.AP6_21_5.value_counts()"
   ]
  },
  {
   "cell_type": "code",
   "execution_count": 122,
   "metadata": {},
   "outputs": [
    {
     "data": {
      "text/plain": [
       "99    84507\n",
       "Name: AP6_21_6, dtype: int64"
      ]
     },
     "execution_count": 122,
     "metadata": {},
     "output_type": "execute_result"
    }
   ],
   "source": [
    "df_copy_tper_vic2.AP6_21_6.replace(diccDec, inplace = True)\n",
    "df_copy_tper_vic2.AP6_21_6.value_counts()"
   ]
  },
  {
   "cell_type": "code",
   "execution_count": 123,
   "metadata": {},
   "outputs": [
    {
     "data": {
      "text/plain": [
       "99    84507\n",
       "Name: AP6_21_7, dtype: int64"
      ]
     },
     "execution_count": 123,
     "metadata": {},
     "output_type": "execute_result"
    }
   ],
   "source": [
    "df_copy_tper_vic2.AP6_21_7.replace(diccDec, inplace = True)\n",
    "df_copy_tper_vic2.AP6_21_7.value_counts()"
   ]
  },
  {
   "cell_type": "code",
   "execution_count": 124,
   "metadata": {},
   "outputs": [
    {
     "data": {
      "text/plain": [
       "1    7\n",
       "2    1\n",
       "Name: AP6_22_1, dtype: int64"
      ]
     },
     "execution_count": 124,
     "metadata": {},
     "output_type": "execute_result"
    }
   ],
   "source": [
    "df_copy_tper_vic2.AP6_22_1.replace(diccDec, inplace = True)\n",
    "df_copy_tper_vic2.AP6_22_1.value_counts()"
   ]
  },
  {
   "cell_type": "code",
   "execution_count": 125,
   "metadata": {},
   "outputs": [
    {
     "data": {
      "text/plain": [
       "99    84507\n",
       "Name: AP6_22_2, dtype: int64"
      ]
     },
     "execution_count": 125,
     "metadata": {},
     "output_type": "execute_result"
    }
   ],
   "source": [
    "df_copy_tper_vic2.AP6_22_2.replace(diccDec, inplace = True)\n",
    "df_copy_tper_vic2.AP6_22_2.value_counts()"
   ]
  },
  {
   "cell_type": "code",
   "execution_count": 126,
   "metadata": {},
   "outputs": [
    {
     "data": {
      "text/plain": [
       "99    84507\n",
       "Name: AP6_22_3, dtype: int64"
      ]
     },
     "execution_count": 126,
     "metadata": {},
     "output_type": "execute_result"
    }
   ],
   "source": [
    "df_copy_tper_vic2.AP6_22_3.replace(diccDec, inplace = True)\n",
    "df_copy_tper_vic2.AP6_22_3.value_counts()"
   ]
  },
  {
   "cell_type": "code",
   "execution_count": 127,
   "metadata": {},
   "outputs": [
    {
     "data": {
      "text/plain": [
       "99    84507\n",
       "Name: AP6_22_4, dtype: int64"
      ]
     },
     "execution_count": 127,
     "metadata": {},
     "output_type": "execute_result"
    }
   ],
   "source": [
    "df_copy_tper_vic2.AP6_22_4.replace(diccDec, inplace = True)\n",
    "df_copy_tper_vic2.AP6_22_4.value_counts()"
   ]
  },
  {
   "cell_type": "code",
   "execution_count": 128,
   "metadata": {},
   "outputs": [
    {
     "data": {
      "text/plain": [
       "99    84507\n",
       "Name: AP6_22_5, dtype: int64"
      ]
     },
     "execution_count": 128,
     "metadata": {},
     "output_type": "execute_result"
    }
   ],
   "source": [
    "df_copy_tper_vic2.AP6_22_5.replace(diccDec, inplace = True)\n",
    "df_copy_tper_vic2.AP6_22_5.value_counts()"
   ]
  },
  {
   "cell_type": "code",
   "execution_count": 129,
   "metadata": {},
   "outputs": [
    {
     "data": {
      "text/plain": [
       "99    84507\n",
       "Name: AP6_22_6, dtype: int64"
      ]
     },
     "execution_count": 129,
     "metadata": {},
     "output_type": "execute_result"
    }
   ],
   "source": [
    "df_copy_tper_vic2.AP6_22_6.replace(diccDec, inplace = True)\n",
    "df_copy_tper_vic2.AP6_22_6.value_counts()"
   ]
  },
  {
   "cell_type": "code",
   "execution_count": 130,
   "metadata": {},
   "outputs": [
    {
     "data": {
      "text/plain": [
       "99    84507\n",
       "Name: AP6_22_7, dtype: int64"
      ]
     },
     "execution_count": 130,
     "metadata": {},
     "output_type": "execute_result"
    }
   ],
   "source": [
    "df_copy_tper_vic2.AP6_22_7.replace(diccDec, inplace = True)\n",
    "df_copy_tper_vic2.AP6_22_7.value_counts()"
   ]
  },
  {
   "cell_type": "code",
   "execution_count": 131,
   "metadata": {},
   "outputs": [
    {
     "data": {
      "text/plain": [
       "2     71044\n",
       "1     13424\n",
       "99       39\n",
       "Name: AP7_1, dtype: int64"
      ]
     },
     "execution_count": 131,
     "metadata": {},
     "output_type": "execute_result"
    }
   ],
   "source": [
    "df_copy_tper_vic2.AP7_1.replace(dicc, inplace = True)\n",
    "df_copy_tper_vic2.AP7_1.value_counts()"
   ]
  },
  {
   "cell_type": "code",
   "execution_count": 132,
   "metadata": {},
   "outputs": [
    {
     "data": {
      "text/plain": [
       "2     80006\n",
       "1      4471\n",
       "99       30\n",
       "Name: AP7_2, dtype: int64"
      ]
     },
     "execution_count": 132,
     "metadata": {},
     "output_type": "execute_result"
    }
   ],
   "source": [
    "df_copy_tper_vic2.AP7_2.replace(dicc, inplace = True)\n",
    "df_copy_tper_vic2.AP7_2.value_counts()"
   ]
  },
  {
   "cell_type": "code",
   "execution_count": 133,
   "metadata": {},
   "outputs": [
    {
     "data": {
      "text/plain": [
       "2     80290\n",
       "1      4152\n",
       "99       65\n",
       "Name: AP7_3_05, dtype: int64"
      ]
     },
     "execution_count": 133,
     "metadata": {},
     "output_type": "execute_result"
    }
   ],
   "source": [
    "df_copy_tper_vic2.AP7_3_05.replace(dicc, inplace = True)\n",
    "df_copy_tper_vic2.AP7_3_05.value_counts()"
   ]
  },
  {
   "cell_type": "code",
   "execution_count": 134,
   "metadata": {},
   "outputs": [
    {
     "data": {
      "text/plain": [
       "2     83247\n",
       "1      1222\n",
       "99       38\n",
       "Name: AP7_3_06, dtype: int64"
      ]
     },
     "execution_count": 134,
     "metadata": {},
     "output_type": "execute_result"
    }
   ],
   "source": [
    "df_copy_tper_vic2.AP7_3_06.replace(dicc, inplace = True)\n",
    "df_copy_tper_vic2.AP7_3_06.value_counts()"
   ]
  },
  {
   "cell_type": "code",
   "execution_count": 135,
   "metadata": {},
   "outputs": [
    {
     "data": {
      "text/plain": [
       "2     83107\n",
       "1      1316\n",
       "99       84\n",
       "Name: AP7_3_07, dtype: int64"
      ]
     },
     "execution_count": 135,
     "metadata": {},
     "output_type": "execute_result"
    }
   ],
   "source": [
    "df_copy_tper_vic2.AP7_3_07.replace(dicc, inplace = True)\n",
    "df_copy_tper_vic2.AP7_3_07.value_counts()"
   ]
  },
  {
   "cell_type": "code",
   "execution_count": 136,
   "metadata": {},
   "outputs": [
    {
     "data": {
      "text/plain": [
       "2     82977\n",
       "1      1483\n",
       "99       47\n",
       "Name: AP7_3_08, dtype: int64"
      ]
     },
     "execution_count": 136,
     "metadata": {},
     "output_type": "execute_result"
    }
   ],
   "source": [
    "df_copy_tper_vic2.AP7_3_08.replace(dicc, inplace = True)\n",
    "df_copy_tper_vic2.AP7_3_08.value_counts()"
   ]
  },
  {
   "cell_type": "code",
   "execution_count": 137,
   "metadata": {},
   "outputs": [
    {
     "data": {
      "text/plain": [
       "2     79394\n",
       "1      5066\n",
       "99       47\n",
       "Name: AP7_3_09, dtype: int64"
      ]
     },
     "execution_count": 137,
     "metadata": {},
     "output_type": "execute_result"
    }
   ],
   "source": [
    "df_copy_tper_vic2.AP7_3_09.replace(dicc, inplace = True)\n",
    "df_copy_tper_vic2.AP7_3_09.value_counts()"
   ]
  },
  {
   "cell_type": "code",
   "execution_count": 138,
   "metadata": {},
   "outputs": [
    {
     "data": {
      "text/plain": [
       "2     82225\n",
       "1      2192\n",
       "99       90\n",
       "Name: AP7_3_10, dtype: int64"
      ]
     },
     "execution_count": 138,
     "metadata": {},
     "output_type": "execute_result"
    }
   ],
   "source": [
    "df_copy_tper_vic2.AP7_3_10.replace(dicc, inplace = True)\n",
    "df_copy_tper_vic2.AP7_3_10.value_counts()"
   ]
  },
  {
   "cell_type": "code",
   "execution_count": 139,
   "metadata": {},
   "outputs": [
    {
     "data": {
      "text/plain": [
       "2     83686\n",
       "1       778\n",
       "99       43\n",
       "Name: AP7_3_11, dtype: int64"
      ]
     },
     "execution_count": 139,
     "metadata": {},
     "output_type": "execute_result"
    }
   ],
   "source": [
    "df_copy_tper_vic2.AP7_3_11.replace(dicc, inplace = True)\n",
    "df_copy_tper_vic2.AP7_3_11.value_counts()"
   ]
  },
  {
   "cell_type": "code",
   "execution_count": 140,
   "metadata": {},
   "outputs": [
    {
     "data": {
      "text/plain": [
       "2     84385\n",
       "1        75\n",
       "99       47\n",
       "Name: AP7_3_12, dtype: int64"
      ]
     },
     "execution_count": 140,
     "metadata": {},
     "output_type": "execute_result"
    }
   ],
   "source": [
    "df_copy_tper_vic2.AP7_3_12.replace(dicc, inplace = True)\n",
    "df_copy_tper_vic2.AP7_3_12.value_counts()"
   ]
  },
  {
   "cell_type": "code",
   "execution_count": 141,
   "metadata": {},
   "outputs": [
    {
     "data": {
      "text/plain": [
       "2     84083\n",
       "1       382\n",
       "99       42\n",
       "Name: AP7_3_13, dtype: int64"
      ]
     },
     "execution_count": 141,
     "metadata": {},
     "output_type": "execute_result"
    }
   ],
   "source": [
    "df_copy_tper_vic2.AP7_3_13.replace(dicc, inplace = True)\n",
    "df_copy_tper_vic2.AP7_3_13.value_counts()"
   ]
  },
  {
   "cell_type": "code",
   "execution_count": 142,
   "metadata": {},
   "outputs": [
    {
     "data": {
      "text/plain": [
       "2     84376\n",
       "99       80\n",
       "1        51\n",
       "Name: AP7_3_14, dtype: int64"
      ]
     },
     "execution_count": 142,
     "metadata": {},
     "output_type": "execute_result"
    }
   ],
   "source": [
    "df_copy_tper_vic2.AP7_3_14.replace(dicc, inplace = True)\n",
    "df_copy_tper_vic2.AP7_3_14.value_counts()"
   ]
  },
  {
   "cell_type": "code",
   "execution_count": 143,
   "metadata": {},
   "outputs": [
    {
     "data": {
      "text/plain": [
       "2     84373\n",
       "1        85\n",
       "99       49\n",
       "Name: AP7_3_15, dtype: int64"
      ]
     },
     "execution_count": 143,
     "metadata": {},
     "output_type": "execute_result"
    }
   ],
   "source": [
    "df_copy_tper_vic2.AP7_3_15.replace(dicc, inplace = True)\n",
    "df_copy_tper_vic2.AP7_3_15.value_counts()"
   ]
  },
  {
   "cell_type": "code",
   "execution_count": 145,
   "metadata": {},
   "outputs": [
    {
     "data": {
      "text/plain": [
       "1     3293\n",
       "2      620\n",
       "3      167\n",
       "4       37\n",
       "5       21\n",
       "6        6\n",
       "10       3\n",
       "8        2\n",
       "7        2\n",
       "36       1\n",
       "Name: AP7_4_05, dtype: int64"
      ]
     },
     "execution_count": 145,
     "metadata": {},
     "output_type": "execute_result"
    }
   ],
   "source": [
    "df_copy_tper_vic2.AP7_4_05.replace(diccDec, inplace = True)\n",
    "df_copy_tper_vic2.AP7_4_05.value_counts()"
   ]
  },
  {
   "cell_type": "code",
   "execution_count": 146,
   "metadata": {},
   "outputs": [
    {
     "data": {
      "text/plain": [
       "1    1030\n",
       "2     140\n",
       "3      40\n",
       "4       8\n",
       "5       4\n",
       "Name: AP7_4_06, dtype: int64"
      ]
     },
     "execution_count": 146,
     "metadata": {},
     "output_type": "execute_result"
    }
   ],
   "source": [
    "df_copy_tper_vic2.AP7_4_06.replace(diccDec, inplace = True)\n",
    "df_copy_tper_vic2.AP7_4_06.value_counts()"
   ]
  },
  {
   "cell_type": "code",
   "execution_count": 147,
   "metadata": {},
   "outputs": [
    {
     "data": {
      "text/plain": [
       "1     1130\n",
       "2      156\n",
       "3       25\n",
       "4        3\n",
       "8        1\n",
       "12       1\n",
       "Name: AP7_4_07, dtype: int64"
      ]
     },
     "execution_count": 147,
     "metadata": {},
     "output_type": "execute_result"
    }
   ],
   "source": [
    "df_copy_tper_vic2.AP7_4_07.replace(diccDec, inplace = True)\n",
    "df_copy_tper_vic2.AP7_4_07.value_counts()"
   ]
  },
  {
   "cell_type": "code",
   "execution_count": 148,
   "metadata": {},
   "outputs": [
    {
     "data": {
      "text/plain": [
       "1    1320\n",
       "2     133\n",
       "3      15\n",
       "4       7\n",
       "5       6\n",
       "6       1\n",
       "9       1\n",
       "Name: AP7_4_08, dtype: int64"
      ]
     },
     "execution_count": 148,
     "metadata": {},
     "output_type": "execute_result"
    }
   ],
   "source": [
    "df_copy_tper_vic2.AP7_4_08.replace(diccDec, inplace = True)\n",
    "df_copy_tper_vic2.AP7_4_08.value_counts()"
   ]
  },
  {
   "cell_type": "code",
   "execution_count": 149,
   "metadata": {},
   "outputs": [
    {
     "data": {
      "text/plain": [
       "1     3771\n",
       "2      803\n",
       "3      329\n",
       "4       66\n",
       "5       66\n",
       "6        9\n",
       "10       6\n",
       "7        5\n",
       "8        4\n",
       "20       3\n",
       "15       2\n",
       "36       1\n",
       "13       1\n",
       "Name: AP7_4_09, dtype: int64"
      ]
     },
     "execution_count": 149,
     "metadata": {},
     "output_type": "execute_result"
    }
   ],
   "source": [
    "df_copy_tper_vic2.AP7_4_09.replace(diccDec, inplace = True)\n",
    "df_copy_tper_vic2.AP7_4_09.value_counts()"
   ]
  },
  {
   "cell_type": "code",
   "execution_count": 150,
   "metadata": {},
   "outputs": [
    {
     "data": {
      "text/plain": [
       "1     1695\n",
       "2      298\n",
       "3      118\n",
       "4       28\n",
       "5       25\n",
       "10       9\n",
       "6        5\n",
       "8        3\n",
       "7        3\n",
       "20       3\n",
       "12       3\n",
       "9        1\n",
       "99       1\n",
       "Name: AP7_4_10, dtype: int64"
      ]
     },
     "execution_count": 150,
     "metadata": {},
     "output_type": "execute_result"
    }
   ],
   "source": [
    "df_copy_tper_vic2.AP7_4_10.replace(diccDec, inplace = True)\n",
    "df_copy_tper_vic2.AP7_4_10.value_counts()"
   ]
  },
  {
   "cell_type": "code",
   "execution_count": 151,
   "metadata": {},
   "outputs": [
    {
     "data": {
      "text/plain": [
       "1     669\n",
       "2      74\n",
       "3      18\n",
       "4       6\n",
       "5       6\n",
       "10      2\n",
       "6       1\n",
       "8       1\n",
       "20      1\n",
       "Name: AP7_4_11, dtype: int64"
      ]
     },
     "execution_count": 151,
     "metadata": {},
     "output_type": "execute_result"
    }
   ],
   "source": [
    "df_copy_tper_vic2.AP7_4_11.replace(diccDec, inplace = True)\n",
    "df_copy_tper_vic2.AP7_4_11.value_counts()"
   ]
  },
  {
   "cell_type": "code",
   "execution_count": 152,
   "metadata": {},
   "outputs": [
    {
     "data": {
      "text/plain": [
       "1    70\n",
       "2     4\n",
       "3     1\n",
       "Name: AP7_4_12, dtype: int64"
      ]
     },
     "execution_count": 152,
     "metadata": {},
     "output_type": "execute_result"
    }
   ],
   "source": [
    "df_copy_tper_vic2.AP7_4_12.replace(diccDec, inplace = True)\n",
    "df_copy_tper_vic2.AP7_4_12.value_counts()"
   ]
  },
  {
   "cell_type": "code",
   "execution_count": 153,
   "metadata": {},
   "outputs": [
    {
     "data": {
      "text/plain": [
       "1       287\n",
       "2        44\n",
       "3        36\n",
       "4         6\n",
       "5         5\n",
       "10        2\n",
       "6         1\n",
       "53.0      1\n",
       "Name: AP7_4_13, dtype: int64"
      ]
     },
     "execution_count": 153,
     "metadata": {},
     "output_type": "execute_result"
    }
   ],
   "source": [
    "df_copy_tper_vic2.AP7_4_13.replace(diccDec, inplace = True)\n",
    "df_copy_tper_vic2.AP7_4_13.value_counts()"
   ]
  },
  {
   "cell_type": "code",
   "execution_count": 154,
   "metadata": {},
   "outputs": [
    {
     "data": {
      "text/plain": [
       "1     42\n",
       "2      5\n",
       "3      2\n",
       "4      1\n",
       "25     1\n",
       "Name: AP7_4_14, dtype: int64"
      ]
     },
     "execution_count": 154,
     "metadata": {},
     "output_type": "execute_result"
    }
   ],
   "source": [
    "df_copy_tper_vic2.AP7_4_14.replace(diccDec, inplace = True)\n",
    "df_copy_tper_vic2.AP7_4_14.value_counts()"
   ]
  },
  {
   "cell_type": "code",
   "execution_count": 155,
   "metadata": {},
   "outputs": [
    {
     "data": {
      "text/plain": [
       "1    79\n",
       "2     6\n",
       "Name: AP7_4_15, dtype: int64"
      ]
     },
     "execution_count": 155,
     "metadata": {},
     "output_type": "execute_result"
    }
   ],
   "source": [
    "df_copy_tper_vic2.AP7_4_15.replace(diccDec, inplace = True)\n",
    "df_copy_tper_vic2.AP7_4_15.value_counts()"
   ]
  },
  {
   "cell_type": "code",
   "execution_count": 156,
   "metadata": {},
   "outputs": [
    {
     "data": {
      "text/plain": [
       "356     429\n",
       "194     406\n",
       "190     381\n",
       "203     371\n",
       "195     368\n",
       "217     365\n",
       "185     363\n",
       "220     362\n",
       "207     350\n",
       "206     350\n",
       "189     349\n",
       "184     346\n",
       "183     343\n",
       "174     339\n",
       "198     336\n",
       "188     325\n",
       "172     325\n",
       "210     323\n",
       "191     319\n",
       "353     312\n",
       "177     308\n",
       "178     301\n",
       "200     301\n",
       "186     296\n",
       "181     295\n",
       "180     295\n",
       "170     293\n",
       "213     293\n",
       "197     292\n",
       "199     289\n",
       "       ... \n",
       "1951      3\n",
       "1759      3\n",
       "1684      3\n",
       "1634      3\n",
       "1044      3\n",
       "1393      3\n",
       "2018      3\n",
       "1404      3\n",
       "1896      3\n",
       "1704      3\n",
       "766       3\n",
       "894       3\n",
       "1838      3\n",
       "1262      2\n",
       "2428      2\n",
       "2023      2\n",
       "747       2\n",
       "1529      2\n",
       "2330      2\n",
       "611       2\n",
       "2052      2\n",
       "2166      2\n",
       "2354      2\n",
       "750       2\n",
       "1901      2\n",
       "1719      2\n",
       "1969      2\n",
       "1806      2\n",
       "952       1\n",
       "2644      1\n",
       "Name: FAC_HOG, Length: 1487, dtype: int64"
      ]
     },
     "execution_count": 156,
     "metadata": {},
     "output_type": "execute_result"
    }
   ],
   "source": [
    "df_copy_tper_vic2.FAC_HOG.value_counts()"
   ]
  },
  {
   "cell_type": "code",
   "execution_count": 158,
   "metadata": {},
   "outputs": [
    {
     "data": {
      "text/plain": [
       "99      54507\n",
       "188       193\n",
       "192       180\n",
       "187       174\n",
       "213       169\n",
       "189       163\n",
       "196       163\n",
       "208       154\n",
       "218       154\n",
       "200       151\n",
       "197       148\n",
       "209       144\n",
       "191       144\n",
       "178       143\n",
       "184       142\n",
       "190       142\n",
       "214       141\n",
       "183       138\n",
       "182       137\n",
       "199       135\n",
       "205       135\n",
       "202       134\n",
       "186       134\n",
       "194       132\n",
       "193       130\n",
       "206       129\n",
       "210       129\n",
       "180       126\n",
       "185       125\n",
       "211       124\n",
       "        ...  \n",
       "820         3\n",
       "1326        3\n",
       "1876        3\n",
       "1877        3\n",
       "1750        3\n",
       "1856        3\n",
       "1739        3\n",
       "2117        2\n",
       "1865        2\n",
       "1429        2\n",
       "1224        2\n",
       "2410        2\n",
       "1867        2\n",
       "1911        2\n",
       "2288        2\n",
       "1490        2\n",
       "2268        2\n",
       "2013        2\n",
       "865         2\n",
       "732         2\n",
       "1769        2\n",
       "1648        2\n",
       "1906        2\n",
       "2144        2\n",
       "2103        2\n",
       "1879        2\n",
       "1728        1\n",
       "676         1\n",
       "2639        1\n",
       "1334        1\n",
       "Name: FAC_HOG_AM, Length: 1386, dtype: int64"
      ]
     },
     "execution_count": 158,
     "metadata": {},
     "output_type": "execute_result"
    }
   ],
   "source": [
    "df_copy_tper_vic2.FAC_HOG_AM.replace({0:'99'}, inplace = True)\n",
    "df_copy_tper_vic2.FAC_HOG_AM.value_counts()"
   ]
  },
  {
   "cell_type": "code",
   "execution_count": 159,
   "metadata": {},
   "outputs": [
    {
     "data": {
      "text/plain": [
       "356      245\n",
       "712      239\n",
       "390      231\n",
       "354      229\n",
       "378      228\n",
       "388      225\n",
       "396      224\n",
       "366      221\n",
       "412      216\n",
       "414      212\n",
       "380      211\n",
       "344      210\n",
       "370      210\n",
       "420      207\n",
       "348      207\n",
       "368      205\n",
       "360      204\n",
       "406      200\n",
       "376      199\n",
       "372      197\n",
       "660      197\n",
       "450      194\n",
       "618      193\n",
       "384      189\n",
       "382      188\n",
       "340      186\n",
       "174      182\n",
       "434      181\n",
       "392      179\n",
       "362      178\n",
       "        ... \n",
       "2421       1\n",
       "9738       1\n",
       "8560       1\n",
       "13896      1\n",
       "5772       1\n",
       "12552      1\n",
       "4767       1\n",
       "9930       1\n",
       "3304       1\n",
       "4214       1\n",
       "1934       1\n",
       "6092       1\n",
       "2613       1\n",
       "3215       1\n",
       "2997       1\n",
       "3087       1\n",
       "5110       1\n",
       "3125       1\n",
       "809        1\n",
       "5004       1\n",
       "2895       1\n",
       "7479       1\n",
       "9712       1\n",
       "8970       1\n",
       "3765       1\n",
       "6861       1\n",
       "9305       1\n",
       "8305       1\n",
       "4364       1\n",
       "5478       1\n",
       "Name: FAC_ELE, Length: 3961, dtype: int64"
      ]
     },
     "execution_count": 159,
     "metadata": {},
     "output_type": "execute_result"
    }
   ],
   "source": [
    "df_copy_tper_vic2.FAC_ELE.value_counts()"
   ]
  },
  {
   "cell_type": "code",
   "execution_count": 161,
   "metadata": {},
   "outputs": [
    {
     "data": {
      "text/plain": [
       "99      54507\n",
       "372       102\n",
       "384       100\n",
       "374        98\n",
       "376        96\n",
       "436        95\n",
       "426        93\n",
       "378        90\n",
       "192        87\n",
       "400        84\n",
       "392        84\n",
       "356        84\n",
       "404        83\n",
       "416        82\n",
       "360        81\n",
       "364        80\n",
       "414        79\n",
       "418        79\n",
       "368        78\n",
       "420        78\n",
       "202        77\n",
       "444        77\n",
       "428        77\n",
       "432        76\n",
       "412        76\n",
       "380        76\n",
       "342        75\n",
       "408        75\n",
       "410        75\n",
       "394        74\n",
       "        ...  \n",
       "3705        1\n",
       "3696        1\n",
       "3540        1\n",
       "3447        1\n",
       "3458        1\n",
       "3459        1\n",
       "3472        1\n",
       "3482        1\n",
       "3493        1\n",
       "3496        1\n",
       "3498        1\n",
       "3513        1\n",
       "3514        1\n",
       "3522        1\n",
       "3532        1\n",
       "3563        1\n",
       "3695        1\n",
       "3566        1\n",
       "3576        1\n",
       "3584        1\n",
       "3588        1\n",
       "3590        1\n",
       "3604        1\n",
       "3621        1\n",
       "3622        1\n",
       "3652        1\n",
       "3680        1\n",
       "3690        1\n",
       "3692        1\n",
       "41          1\n",
       "Name: FAC_ELE_AM, Length: 3592, dtype: int64"
      ]
     },
     "execution_count": 161,
     "metadata": {},
     "output_type": "execute_result"
    }
   ],
   "source": [
    "df_copy_tper_vic2.FAC_ELE_AM.replace({0:'99'}, inplace = True)\n",
    "df_copy_tper_vic2.FAC_ELE_AM.value_counts()"
   ]
  },
  {
   "cell_type": "code",
   "execution_count": 162,
   "metadata": {},
   "outputs": [
    {
     "data": {
      "text/plain": [
       "U    40263\n",
       "C    22798\n",
       "R    21446\n",
       "Name: DOMINIO, dtype: int64"
      ]
     },
     "execution_count": 162,
     "metadata": {},
     "output_type": "execute_result"
    }
   ],
   "source": [
    "df_copy_tper_vic2.DOMINIO.value_counts()"
   ]
  },
  {
   "cell_type": "code",
   "execution_count": 163,
   "metadata": {},
   "outputs": [
    {
     "data": {
      "text/plain": [
       "2    43824\n",
       "1    17120\n",
       "3    16738\n",
       "4     6825\n",
       "Name: ESTRATO, dtype: int64"
      ]
     },
     "execution_count": 163,
     "metadata": {},
     "output_type": "execute_result"
    }
   ],
   "source": [
    "df_copy_tper_vic2.ESTRATO.value_counts()"
   ]
  },
  {
   "cell_type": "code",
   "execution_count": 164,
   "metadata": {},
   "outputs": [
    {
     "data": {
      "text/plain": [
       "46     1643\n",
       "205    1289\n",
       "108    1246\n",
       "140    1171\n",
       "218    1153\n",
       "104    1103\n",
       "80     1073\n",
       "212    1070\n",
       "165    1014\n",
       "193     971\n",
       "85      968\n",
       "38      961\n",
       "147     929\n",
       "136     894\n",
       "120     868\n",
       "16      852\n",
       "195     852\n",
       "57      846\n",
       "61      830\n",
       "13      818\n",
       "41      795\n",
       "148     791\n",
       "216     775\n",
       "117     743\n",
       "56      730\n",
       "176     727\n",
       "60      724\n",
       "12      720\n",
       "86      718\n",
       "206     717\n",
       "       ... \n",
       "124      74\n",
       "132      69\n",
       "133      68\n",
       "2        67\n",
       "48       63\n",
       "99       59\n",
       "150      59\n",
       "168      58\n",
       "170      54\n",
       "33       51\n",
       "9        51\n",
       "204      50\n",
       "51       43\n",
       "228      41\n",
       "208      40\n",
       "59       39\n",
       "103      29\n",
       "188      28\n",
       "27       27\n",
       "142      24\n",
       "66       20\n",
       "145      18\n",
       "134      18\n",
       "74       16\n",
       "220      13\n",
       "84       11\n",
       "11       10\n",
       "180       9\n",
       "95        9\n",
       "112       8\n",
       "Name: EST_DIS, Length: 238, dtype: int64"
      ]
     },
     "execution_count": 164,
     "metadata": {},
     "output_type": "execute_result"
    }
   ],
   "source": [
    "df_copy_tper_vic2.EST_DIS.value_counts()"
   ]
  },
  {
   "cell_type": "code",
   "execution_count": 165,
   "metadata": {
    "scrolled": false
   },
   "outputs": [
    {
     "data": {
      "text/plain": [
       "4057     28\n",
       "5746     26\n",
       "5526     25\n",
       "8669     25\n",
       "7638     24\n",
       "4088     24\n",
       "4134     23\n",
       "2574     23\n",
       "7574     23\n",
       "7550     23\n",
       "10561    23\n",
       "2492     23\n",
       "4096     23\n",
       "5778     23\n",
       "11525    23\n",
       "7959     23\n",
       "5873     23\n",
       "11542    23\n",
       "11512    23\n",
       "1355     23\n",
       "2444     23\n",
       "9156     23\n",
       "4110     23\n",
       "4530     23\n",
       "5770     23\n",
       "5827     22\n",
       "7571     22\n",
       "2596     22\n",
       "11543    22\n",
       "2489     22\n",
       "         ..\n",
       "9984      1\n",
       "1305      1\n",
       "6245      1\n",
       "1633      1\n",
       "10809     1\n",
       "508       1\n",
       "10579     1\n",
       "10161     1\n",
       "6852      1\n",
       "8878      1\n",
       "8143      1\n",
       "8966      1\n",
       "10022     1\n",
       "5113      1\n",
       "10834     1\n",
       "10838     1\n",
       "6190      1\n",
       "7492      1\n",
       "7848      1\n",
       "9416      1\n",
       "9777      1\n",
       "8098      1\n",
       "10023     1\n",
       "8115      1\n",
       "5415      1\n",
       "9569      1\n",
       "9959      1\n",
       "10085     1\n",
       "2917      1\n",
       "1298      1\n",
       "Name: UPM_DIS, Length: 11726, dtype: int64"
      ]
     },
     "execution_count": 165,
     "metadata": {},
     "output_type": "execute_result"
    }
   ],
   "source": [
    "df_copy_tper_vic2.UPM_DIS.value_counts()"
   ]
  },
  {
   "cell_type": "code",
   "execution_count": 166,
   "metadata": {},
   "outputs": [
    {
     "data": {
      "text/html": [
       "<div>\n",
       "<style scoped>\n",
       "    .dataframe tbody tr th:only-of-type {\n",
       "        vertical-align: middle;\n",
       "    }\n",
       "\n",
       "    .dataframe tbody tr th {\n",
       "        vertical-align: top;\n",
       "    }\n",
       "\n",
       "    .dataframe thead th {\n",
       "        text-align: right;\n",
       "    }\n",
       "</style>\n",
       "<table border=\"1\" class=\"dataframe\">\n",
       "  <thead>\n",
       "    <tr style=\"text-align: right;\">\n",
       "      <th></th>\n",
       "      <th>UPM</th>\n",
       "      <th>VIV_SEL</th>\n",
       "      <th>HOGAR</th>\n",
       "      <th>RESUL_H</th>\n",
       "      <th>R_SEL</th>\n",
       "      <th>AREAM</th>\n",
       "      <th>AP6_1_1</th>\n",
       "      <th>AP6_1_2</th>\n",
       "      <th>AP6_2</th>\n",
       "      <th>AP6_3</th>\n",
       "      <th>...</th>\n",
       "      <th>AP7_4_14</th>\n",
       "      <th>AP7_4_15</th>\n",
       "      <th>FAC_HOG</th>\n",
       "      <th>FAC_ELE</th>\n",
       "      <th>EST_DIS</th>\n",
       "      <th>UPM_DIS</th>\n",
       "      <th>DOMINIO</th>\n",
       "      <th>ESTRATO</th>\n",
       "      <th>FAC_HOG_AM</th>\n",
       "      <th>FAC_ELE_AM</th>\n",
       "    </tr>\n",
       "  </thead>\n",
       "  <tbody>\n",
       "    <tr>\n",
       "      <th>0</th>\n",
       "      <td>100006</td>\n",
       "      <td>1</td>\n",
       "      <td>1</td>\n",
       "      <td>B</td>\n",
       "      <td>1</td>\n",
       "      <td>14</td>\n",
       "      <td>1</td>\n",
       "      <td>1</td>\n",
       "      <td>2</td>\n",
       "      <td>2</td>\n",
       "      <td>...</td>\n",
       "      <td>NaN</td>\n",
       "      <td>NaN</td>\n",
       "      <td>172</td>\n",
       "      <td>516</td>\n",
       "      <td>5</td>\n",
       "      <td>1</td>\n",
       "      <td>U</td>\n",
       "      <td>3</td>\n",
       "      <td>173</td>\n",
       "      <td>519</td>\n",
       "    </tr>\n",
       "    <tr>\n",
       "      <th>1</th>\n",
       "      <td>100006</td>\n",
       "      <td>2</td>\n",
       "      <td>1</td>\n",
       "      <td>A</td>\n",
       "      <td>2</td>\n",
       "      <td>14</td>\n",
       "      <td>1</td>\n",
       "      <td>1</td>\n",
       "      <td>1</td>\n",
       "      <td>1</td>\n",
       "      <td>...</td>\n",
       "      <td>NaN</td>\n",
       "      <td>NaN</td>\n",
       "      <td>172</td>\n",
       "      <td>344</td>\n",
       "      <td>5</td>\n",
       "      <td>1</td>\n",
       "      <td>U</td>\n",
       "      <td>3</td>\n",
       "      <td>173</td>\n",
       "      <td>346</td>\n",
       "    </tr>\n",
       "    <tr>\n",
       "      <th>2</th>\n",
       "      <td>100006</td>\n",
       "      <td>3</td>\n",
       "      <td>1</td>\n",
       "      <td>A</td>\n",
       "      <td>1</td>\n",
       "      <td>14</td>\n",
       "      <td>1</td>\n",
       "      <td>1</td>\n",
       "      <td>1</td>\n",
       "      <td>2</td>\n",
       "      <td>...</td>\n",
       "      <td>NaN</td>\n",
       "      <td>NaN</td>\n",
       "      <td>172</td>\n",
       "      <td>344</td>\n",
       "      <td>5</td>\n",
       "      <td>1</td>\n",
       "      <td>U</td>\n",
       "      <td>3</td>\n",
       "      <td>173</td>\n",
       "      <td>346</td>\n",
       "    </tr>\n",
       "    <tr>\n",
       "      <th>3</th>\n",
       "      <td>100006</td>\n",
       "      <td>4</td>\n",
       "      <td>1</td>\n",
       "      <td>A</td>\n",
       "      <td>2</td>\n",
       "      <td>14</td>\n",
       "      <td>2</td>\n",
       "      <td>NaN</td>\n",
       "      <td>1</td>\n",
       "      <td>2</td>\n",
       "      <td>...</td>\n",
       "      <td>NaN</td>\n",
       "      <td>NaN</td>\n",
       "      <td>172</td>\n",
       "      <td>344</td>\n",
       "      <td>5</td>\n",
       "      <td>1</td>\n",
       "      <td>U</td>\n",
       "      <td>3</td>\n",
       "      <td>173</td>\n",
       "      <td>346</td>\n",
       "    </tr>\n",
       "    <tr>\n",
       "      <th>4</th>\n",
       "      <td>100006</td>\n",
       "      <td>5</td>\n",
       "      <td>1</td>\n",
       "      <td>B</td>\n",
       "      <td>1</td>\n",
       "      <td>14</td>\n",
       "      <td>2</td>\n",
       "      <td>NaN</td>\n",
       "      <td>2</td>\n",
       "      <td>2</td>\n",
       "      <td>...</td>\n",
       "      <td>NaN</td>\n",
       "      <td>NaN</td>\n",
       "      <td>172</td>\n",
       "      <td>172</td>\n",
       "      <td>5</td>\n",
       "      <td>1</td>\n",
       "      <td>U</td>\n",
       "      <td>3</td>\n",
       "      <td>173</td>\n",
       "      <td>173</td>\n",
       "    </tr>\n",
       "  </tbody>\n",
       "</table>\n",
       "<p>5 rows × 140 columns</p>\n",
       "</div>"
      ],
      "text/plain": [
       "      UPM  VIV_SEL  HOGAR RESUL_H  R_SEL AREAM  AP6_1_1 AP6_1_2  AP6_2  AP6_3  \\\n",
       "0  100006        1      1       B      1    14        1       1      2      2   \n",
       "1  100006        2      1       A      2    14        1       1      1      1   \n",
       "2  100006        3      1       A      1    14        1       1      1      2   \n",
       "3  100006        4      1       A      2    14        2     NaN      1      2   \n",
       "4  100006        5      1       B      1    14        2     NaN      2      2   \n",
       "\n",
       "     ...      AP7_4_14 AP7_4_15 FAC_HOG  FAC_ELE EST_DIS UPM_DIS  DOMINIO  \\\n",
       "0    ...           NaN      NaN     172      516       5       1        U   \n",
       "1    ...           NaN      NaN     172      344       5       1        U   \n",
       "2    ...           NaN      NaN     172      344       5       1        U   \n",
       "3    ...           NaN      NaN     172      344       5       1        U   \n",
       "4    ...           NaN      NaN     172      172       5       1        U   \n",
       "\n",
       "  ESTRATO  FAC_HOG_AM FAC_ELE_AM  \n",
       "0       3         173        519  \n",
       "1       3         173        346  \n",
       "2       3         173        346  \n",
       "3       3         173        346  \n",
       "4       3         173        173  \n",
       "\n",
       "[5 rows x 140 columns]"
      ]
     },
     "execution_count": 166,
     "metadata": {},
     "output_type": "execute_result"
    }
   ],
   "source": [
    "df_copy_tper_vic2.head()"
   ]
  },
  {
   "cell_type": "code",
   "execution_count": 168,
   "metadata": {},
   "outputs": [
    {
     "data": {
      "text/plain": [
       "2    61014\n",
       "1    23493\n",
       "Name: RESUL_H, dtype: int64"
      ]
     },
     "execution_count": 168,
     "metadata": {},
     "output_type": "execute_result"
    }
   ],
   "source": [
    "df_copy_tper_vic2.RESUL_H.replace({'A':'1','B':'2'},inplace=True)\n",
    "df_copy_tper_vic2.RESUL_H.value_counts()"
   ]
  },
  {
   "cell_type": "code",
   "execution_count": 169,
   "metadata": {},
   "outputs": [
    {
     "data": {
      "text/plain": [
       "1    40263\n",
       "2    22798\n",
       "3    21446\n",
       "Name: DOMINIO, dtype: int64"
      ]
     },
     "execution_count": 169,
     "metadata": {},
     "output_type": "execute_result"
    }
   ],
   "source": [
    "df_copy_tper_vic2.DOMINIO.replace({'U':'1','C':'2','R':'3'},inplace=True)\n",
    "df_copy_tper_vic2.DOMINIO.value_counts()"
   ]
  },
  {
   "cell_type": "code",
   "execution_count": 172,
   "metadata": {},
   "outputs": [
    {
     "data": {
      "text/html": [
       "<div>\n",
       "<style scoped>\n",
       "    .dataframe tbody tr th:only-of-type {\n",
       "        vertical-align: middle;\n",
       "    }\n",
       "\n",
       "    .dataframe tbody tr th {\n",
       "        vertical-align: top;\n",
       "    }\n",
       "\n",
       "    .dataframe thead th {\n",
       "        text-align: right;\n",
       "    }\n",
       "</style>\n",
       "<table border=\"1\" class=\"dataframe\">\n",
       "  <thead>\n",
       "    <tr style=\"text-align: right;\">\n",
       "      <th></th>\n",
       "      <th>UPM</th>\n",
       "      <th>VIV_SEL</th>\n",
       "      <th>HOGAR</th>\n",
       "      <th>RESUL_H</th>\n",
       "      <th>R_SEL</th>\n",
       "      <th>AREAM</th>\n",
       "      <th>AP6_1_1</th>\n",
       "      <th>AP6_1_2</th>\n",
       "      <th>AP6_2</th>\n",
       "      <th>AP6_3</th>\n",
       "      <th>...</th>\n",
       "      <th>AP7_4_14</th>\n",
       "      <th>AP7_4_15</th>\n",
       "      <th>FAC_HOG</th>\n",
       "      <th>FAC_ELE</th>\n",
       "      <th>EST_DIS</th>\n",
       "      <th>UPM_DIS</th>\n",
       "      <th>DOMINIO</th>\n",
       "      <th>ESTRATO</th>\n",
       "      <th>FAC_HOG_AM</th>\n",
       "      <th>FAC_ELE_AM</th>\n",
       "    </tr>\n",
       "  </thead>\n",
       "  <tbody>\n",
       "    <tr>\n",
       "      <th>0</th>\n",
       "      <td>100006</td>\n",
       "      <td>1</td>\n",
       "      <td>1</td>\n",
       "      <td>2</td>\n",
       "      <td>1</td>\n",
       "      <td>14</td>\n",
       "      <td>1</td>\n",
       "      <td>1</td>\n",
       "      <td>2</td>\n",
       "      <td>2</td>\n",
       "      <td>...</td>\n",
       "      <td>NaN</td>\n",
       "      <td>NaN</td>\n",
       "      <td>172</td>\n",
       "      <td>516</td>\n",
       "      <td>5</td>\n",
       "      <td>1</td>\n",
       "      <td>1</td>\n",
       "      <td>3</td>\n",
       "      <td>173</td>\n",
       "      <td>519</td>\n",
       "    </tr>\n",
       "    <tr>\n",
       "      <th>1</th>\n",
       "      <td>100006</td>\n",
       "      <td>2</td>\n",
       "      <td>1</td>\n",
       "      <td>1</td>\n",
       "      <td>2</td>\n",
       "      <td>14</td>\n",
       "      <td>1</td>\n",
       "      <td>1</td>\n",
       "      <td>1</td>\n",
       "      <td>1</td>\n",
       "      <td>...</td>\n",
       "      <td>NaN</td>\n",
       "      <td>NaN</td>\n",
       "      <td>172</td>\n",
       "      <td>344</td>\n",
       "      <td>5</td>\n",
       "      <td>1</td>\n",
       "      <td>1</td>\n",
       "      <td>3</td>\n",
       "      <td>173</td>\n",
       "      <td>346</td>\n",
       "    </tr>\n",
       "    <tr>\n",
       "      <th>2</th>\n",
       "      <td>100006</td>\n",
       "      <td>3</td>\n",
       "      <td>1</td>\n",
       "      <td>1</td>\n",
       "      <td>1</td>\n",
       "      <td>14</td>\n",
       "      <td>1</td>\n",
       "      <td>1</td>\n",
       "      <td>1</td>\n",
       "      <td>2</td>\n",
       "      <td>...</td>\n",
       "      <td>NaN</td>\n",
       "      <td>NaN</td>\n",
       "      <td>172</td>\n",
       "      <td>344</td>\n",
       "      <td>5</td>\n",
       "      <td>1</td>\n",
       "      <td>1</td>\n",
       "      <td>3</td>\n",
       "      <td>173</td>\n",
       "      <td>346</td>\n",
       "    </tr>\n",
       "    <tr>\n",
       "      <th>3</th>\n",
       "      <td>100006</td>\n",
       "      <td>4</td>\n",
       "      <td>1</td>\n",
       "      <td>1</td>\n",
       "      <td>2</td>\n",
       "      <td>14</td>\n",
       "      <td>2</td>\n",
       "      <td>NaN</td>\n",
       "      <td>1</td>\n",
       "      <td>2</td>\n",
       "      <td>...</td>\n",
       "      <td>NaN</td>\n",
       "      <td>NaN</td>\n",
       "      <td>172</td>\n",
       "      <td>344</td>\n",
       "      <td>5</td>\n",
       "      <td>1</td>\n",
       "      <td>1</td>\n",
       "      <td>3</td>\n",
       "      <td>173</td>\n",
       "      <td>346</td>\n",
       "    </tr>\n",
       "    <tr>\n",
       "      <th>4</th>\n",
       "      <td>100006</td>\n",
       "      <td>5</td>\n",
       "      <td>1</td>\n",
       "      <td>2</td>\n",
       "      <td>1</td>\n",
       "      <td>14</td>\n",
       "      <td>2</td>\n",
       "      <td>NaN</td>\n",
       "      <td>2</td>\n",
       "      <td>2</td>\n",
       "      <td>...</td>\n",
       "      <td>NaN</td>\n",
       "      <td>NaN</td>\n",
       "      <td>172</td>\n",
       "      <td>172</td>\n",
       "      <td>5</td>\n",
       "      <td>1</td>\n",
       "      <td>1</td>\n",
       "      <td>3</td>\n",
       "      <td>173</td>\n",
       "      <td>173</td>\n",
       "    </tr>\n",
       "  </tbody>\n",
       "</table>\n",
       "<p>5 rows × 140 columns</p>\n",
       "</div>"
      ],
      "text/plain": [
       "      UPM  VIV_SEL  HOGAR RESUL_H  R_SEL AREAM  AP6_1_1 AP6_1_2  AP6_2  AP6_3  \\\n",
       "0  100006        1      1       2      1    14        1       1      2      2   \n",
       "1  100006        2      1       1      2    14        1       1      1      1   \n",
       "2  100006        3      1       1      1    14        1       1      1      2   \n",
       "3  100006        4      1       1      2    14        2     NaN      1      2   \n",
       "4  100006        5      1       2      1    14        2     NaN      2      2   \n",
       "\n",
       "     ...      AP7_4_14 AP7_4_15 FAC_HOG  FAC_ELE EST_DIS UPM_DIS  DOMINIO  \\\n",
       "0    ...           NaN      NaN     172      516       5       1        1   \n",
       "1    ...           NaN      NaN     172      344       5       1        1   \n",
       "2    ...           NaN      NaN     172      344       5       1        1   \n",
       "3    ...           NaN      NaN     172      344       5       1        1   \n",
       "4    ...           NaN      NaN     172      172       5       1        1   \n",
       "\n",
       "  ESTRATO  FAC_HOG_AM FAC_ELE_AM  \n",
       "0       3         173        519  \n",
       "1       3         173        346  \n",
       "2       3         173        346  \n",
       "3       3         173        346  \n",
       "4       3         173        173  \n",
       "\n",
       "[5 rows x 140 columns]"
      ]
     },
     "execution_count": 172,
     "metadata": {},
     "output_type": "execute_result"
    }
   ],
   "source": [
    "df_copy_tper_vic2.head()"
   ]
  },
  {
   "cell_type": "code",
   "execution_count": 175,
   "metadata": {},
   "outputs": [],
   "source": [
    "n = df_copy_tper_vic2.columns.values.tolist()"
   ]
  },
  {
   "cell_type": "code",
   "execution_count": 176,
   "metadata": {},
   "outputs": [],
   "source": [
    "for i in n:\n",
    "    l = [] \n",
    "    for j in df_copy_tper_vic2[i]:\n",
    "        k = str(j)\n",
    "        if(k != \"nan\"):\n",
    "            k = int(eval(k))\n",
    "            l.append(k)\n",
    "        else:\n",
    "            l.append(\"TTT\")\n",
    "    df_copy_tper_vic2[i] = l"
   ]
  },
  {
   "cell_type": "code",
   "execution_count": 177,
   "metadata": {},
   "outputs": [
    {
     "data": {
      "text/html": [
       "<div>\n",
       "<style scoped>\n",
       "    .dataframe tbody tr th:only-of-type {\n",
       "        vertical-align: middle;\n",
       "    }\n",
       "\n",
       "    .dataframe tbody tr th {\n",
       "        vertical-align: top;\n",
       "    }\n",
       "\n",
       "    .dataframe thead th {\n",
       "        text-align: right;\n",
       "    }\n",
       "</style>\n",
       "<table border=\"1\" class=\"dataframe\">\n",
       "  <thead>\n",
       "    <tr style=\"text-align: right;\">\n",
       "      <th></th>\n",
       "      <th>UPM</th>\n",
       "      <th>VIV_SEL</th>\n",
       "      <th>HOGAR</th>\n",
       "      <th>RESUL_H</th>\n",
       "      <th>R_SEL</th>\n",
       "      <th>AREAM</th>\n",
       "      <th>AP6_1_1</th>\n",
       "      <th>AP6_1_2</th>\n",
       "      <th>AP6_2</th>\n",
       "      <th>AP6_3</th>\n",
       "      <th>...</th>\n",
       "      <th>AP7_4_14</th>\n",
       "      <th>AP7_4_15</th>\n",
       "      <th>FAC_HOG</th>\n",
       "      <th>FAC_ELE</th>\n",
       "      <th>EST_DIS</th>\n",
       "      <th>UPM_DIS</th>\n",
       "      <th>DOMINIO</th>\n",
       "      <th>ESTRATO</th>\n",
       "      <th>FAC_HOG_AM</th>\n",
       "      <th>FAC_ELE_AM</th>\n",
       "    </tr>\n",
       "  </thead>\n",
       "  <tbody>\n",
       "    <tr>\n",
       "      <th>0</th>\n",
       "      <td>100006</td>\n",
       "      <td>1</td>\n",
       "      <td>1</td>\n",
       "      <td>2</td>\n",
       "      <td>1</td>\n",
       "      <td>14</td>\n",
       "      <td>1</td>\n",
       "      <td>1</td>\n",
       "      <td>2</td>\n",
       "      <td>2</td>\n",
       "      <td>...</td>\n",
       "      <td>TTT</td>\n",
       "      <td>TTT</td>\n",
       "      <td>172</td>\n",
       "      <td>516</td>\n",
       "      <td>5</td>\n",
       "      <td>1</td>\n",
       "      <td>1</td>\n",
       "      <td>3</td>\n",
       "      <td>173</td>\n",
       "      <td>519</td>\n",
       "    </tr>\n",
       "    <tr>\n",
       "      <th>1</th>\n",
       "      <td>100006</td>\n",
       "      <td>2</td>\n",
       "      <td>1</td>\n",
       "      <td>1</td>\n",
       "      <td>2</td>\n",
       "      <td>14</td>\n",
       "      <td>1</td>\n",
       "      <td>1</td>\n",
       "      <td>1</td>\n",
       "      <td>1</td>\n",
       "      <td>...</td>\n",
       "      <td>TTT</td>\n",
       "      <td>TTT</td>\n",
       "      <td>172</td>\n",
       "      <td>344</td>\n",
       "      <td>5</td>\n",
       "      <td>1</td>\n",
       "      <td>1</td>\n",
       "      <td>3</td>\n",
       "      <td>173</td>\n",
       "      <td>346</td>\n",
       "    </tr>\n",
       "    <tr>\n",
       "      <th>2</th>\n",
       "      <td>100006</td>\n",
       "      <td>3</td>\n",
       "      <td>1</td>\n",
       "      <td>1</td>\n",
       "      <td>1</td>\n",
       "      <td>14</td>\n",
       "      <td>1</td>\n",
       "      <td>1</td>\n",
       "      <td>1</td>\n",
       "      <td>2</td>\n",
       "      <td>...</td>\n",
       "      <td>TTT</td>\n",
       "      <td>TTT</td>\n",
       "      <td>172</td>\n",
       "      <td>344</td>\n",
       "      <td>5</td>\n",
       "      <td>1</td>\n",
       "      <td>1</td>\n",
       "      <td>3</td>\n",
       "      <td>173</td>\n",
       "      <td>346</td>\n",
       "    </tr>\n",
       "    <tr>\n",
       "      <th>3</th>\n",
       "      <td>100006</td>\n",
       "      <td>4</td>\n",
       "      <td>1</td>\n",
       "      <td>1</td>\n",
       "      <td>2</td>\n",
       "      <td>14</td>\n",
       "      <td>2</td>\n",
       "      <td>TTT</td>\n",
       "      <td>1</td>\n",
       "      <td>2</td>\n",
       "      <td>...</td>\n",
       "      <td>TTT</td>\n",
       "      <td>TTT</td>\n",
       "      <td>172</td>\n",
       "      <td>344</td>\n",
       "      <td>5</td>\n",
       "      <td>1</td>\n",
       "      <td>1</td>\n",
       "      <td>3</td>\n",
       "      <td>173</td>\n",
       "      <td>346</td>\n",
       "    </tr>\n",
       "    <tr>\n",
       "      <th>4</th>\n",
       "      <td>100006</td>\n",
       "      <td>5</td>\n",
       "      <td>1</td>\n",
       "      <td>2</td>\n",
       "      <td>1</td>\n",
       "      <td>14</td>\n",
       "      <td>2</td>\n",
       "      <td>TTT</td>\n",
       "      <td>2</td>\n",
       "      <td>2</td>\n",
       "      <td>...</td>\n",
       "      <td>TTT</td>\n",
       "      <td>TTT</td>\n",
       "      <td>172</td>\n",
       "      <td>172</td>\n",
       "      <td>5</td>\n",
       "      <td>1</td>\n",
       "      <td>1</td>\n",
       "      <td>3</td>\n",
       "      <td>173</td>\n",
       "      <td>173</td>\n",
       "    </tr>\n",
       "  </tbody>\n",
       "</table>\n",
       "<p>5 rows × 140 columns</p>\n",
       "</div>"
      ],
      "text/plain": [
       "      UPM  VIV_SEL  HOGAR  RESUL_H  R_SEL AREAM  AP6_1_1 AP6_1_2  AP6_2  \\\n",
       "0  100006        1      1        2      1    14        1       1      2   \n",
       "1  100006        2      1        1      2    14        1       1      1   \n",
       "2  100006        3      1        1      1    14        1       1      1   \n",
       "3  100006        4      1        1      2    14        2     TTT      1   \n",
       "4  100006        5      1        2      1    14        2     TTT      2   \n",
       "\n",
       "   AP6_3    ...      AP7_4_14 AP7_4_15 FAC_HOG  FAC_ELE EST_DIS UPM_DIS  \\\n",
       "0      2    ...           TTT      TTT     172      516       5       1   \n",
       "1      1    ...           TTT      TTT     172      344       5       1   \n",
       "2      2    ...           TTT      TTT     172      344       5       1   \n",
       "3      2    ...           TTT      TTT     172      344       5       1   \n",
       "4      2    ...           TTT      TTT     172      172       5       1   \n",
       "\n",
       "   DOMINIO ESTRATO  FAC_HOG_AM FAC_ELE_AM  \n",
       "0        1       3         173        519  \n",
       "1        1       3         173        346  \n",
       "2        1       3         173        346  \n",
       "3        1       3         173        346  \n",
       "4        1       3         173        173  \n",
       "\n",
       "[5 rows x 140 columns]"
      ]
     },
     "execution_count": 177,
     "metadata": {},
     "output_type": "execute_result"
    }
   ],
   "source": [
    "df_copy_tper_vic2.head()"
   ]
  },
  {
   "cell_type": "code",
   "execution_count": 178,
   "metadata": {},
   "outputs": [
    {
     "data": {
      "text/plain": [
       "(84507, 140)"
      ]
     },
     "execution_count": 178,
     "metadata": {},
     "output_type": "execute_result"
    }
   ],
   "source": [
    "df_copy_tper_vic2.shape"
   ]
  },
  {
   "cell_type": "code",
   "execution_count": 180,
   "metadata": {},
   "outputs": [
    {
     "data": {
      "text/plain": [
       "TTT    47802\n",
       "1      27898\n",
       "2       7156\n",
       "3       1247\n",
       "4        300\n",
       "5         79\n",
       "6         17\n",
       "7          4\n",
       "99         2\n",
       "30         1\n",
       "8          1\n",
       "Name: AP6_1_2, dtype: int64"
      ]
     },
     "execution_count": 180,
     "metadata": {},
     "output_type": "execute_result"
    }
   ],
   "source": [
    "df_copy_tper_vic2.AP6_1_2.value_counts()"
   ]
  },
  {
   "cell_type": "code",
   "execution_count": 181,
   "metadata": {},
   "outputs": [],
   "source": [
    "df_copy_tper_vic2.to_csv(\"TPer_vic2_Clean2015_2.csv\")"
   ]
  },
  {
   "cell_type": "code",
   "execution_count": null,
   "metadata": {},
   "outputs": [],
   "source": []
  }
 ],
 "metadata": {
  "kernelspec": {
   "display_name": "Python 3",
   "language": "python",
   "name": "python3"
  },
  "language_info": {
   "codemirror_mode": {
    "name": "ipython",
    "version": 3
   },
   "file_extension": ".py",
   "mimetype": "text/x-python",
   "name": "python",
   "nbconvert_exporter": "python",
   "pygments_lexer": "ipython3",
   "version": "3.6.5"
  }
 },
 "nbformat": 4,
 "nbformat_minor": 2
}
