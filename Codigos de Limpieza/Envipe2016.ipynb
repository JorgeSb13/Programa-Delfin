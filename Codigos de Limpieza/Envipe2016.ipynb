{
 "cells": [
  {
   "cell_type": "code",
   "execution_count": 1,
   "metadata": {},
   "outputs": [],
   "source": [
    "import pandas as pd\n",
    "import numpy as np"
   ]
  },
  {
   "cell_type": "code",
   "execution_count": 3,
   "metadata": {},
   "outputs": [
    {
     "data": {
      "text/html": [
       "<div>\n",
       "<style scoped>\n",
       "    .dataframe tbody tr th:only-of-type {\n",
       "        vertical-align: middle;\n",
       "    }\n",
       "\n",
       "    .dataframe tbody tr th {\n",
       "        vertical-align: top;\n",
       "    }\n",
       "\n",
       "    .dataframe thead th {\n",
       "        text-align: right;\n",
       "    }\n",
       "</style>\n",
       "<table border=\"1\" class=\"dataframe\">\n",
       "  <thead>\n",
       "    <tr style=\"text-align: right;\">\n",
       "      <th></th>\n",
       "      <th>UPM</th>\n",
       "      <th>VIV_SEL</th>\n",
       "      <th>HOGAR</th>\n",
       "      <th>RESUL_H</th>\n",
       "      <th>R_SEL</th>\n",
       "      <th>AREAM</th>\n",
       "      <th>AP6_1_1</th>\n",
       "      <th>AP6_1_2</th>\n",
       "      <th>AP6_2</th>\n",
       "      <th>AP6_3</th>\n",
       "      <th>...</th>\n",
       "      <th>AP7_3_15</th>\n",
       "      <th>AP7_4_15</th>\n",
       "      <th>FAC_HOG</th>\n",
       "      <th>FAC_ELE</th>\n",
       "      <th>FAC_HOG_AM</th>\n",
       "      <th>FAC_ELE_AM</th>\n",
       "      <th>DOMINIO</th>\n",
       "      <th>ESTRATO</th>\n",
       "      <th>EST_DIS</th>\n",
       "      <th>UPM_DIS</th>\n",
       "    </tr>\n",
       "  </thead>\n",
       "  <tbody>\n",
       "    <tr>\n",
       "      <th>0</th>\n",
       "      <td>100006</td>\n",
       "      <td>1</td>\n",
       "      <td>1</td>\n",
       "      <td>B\\r</td>\n",
       "      <td>3</td>\n",
       "      <td>14\\r</td>\n",
       "      <td>2</td>\n",
       "      <td>\\r</td>\n",
       "      <td>1</td>\n",
       "      <td>2</td>\n",
       "      <td>...</td>\n",
       "      <td>2</td>\n",
       "      <td>\\r</td>\n",
       "      <td>168</td>\n",
       "      <td>841</td>\n",
       "      <td>000168\\r</td>\n",
       "      <td>000841\\r</td>\n",
       "      <td>U\\r</td>\n",
       "      <td>3</td>\n",
       "      <td>2</td>\n",
       "      <td>1</td>\n",
       "    </tr>\n",
       "    <tr>\n",
       "      <th>1</th>\n",
       "      <td>100006</td>\n",
       "      <td>2</td>\n",
       "      <td>1</td>\n",
       "      <td>B\\r</td>\n",
       "      <td>1</td>\n",
       "      <td>14\\r</td>\n",
       "      <td>1</td>\n",
       "      <td>01\\r</td>\n",
       "      <td>2</td>\n",
       "      <td>2</td>\n",
       "      <td>...</td>\n",
       "      <td>2</td>\n",
       "      <td>\\r</td>\n",
       "      <td>168</td>\n",
       "      <td>336</td>\n",
       "      <td>000168\\r</td>\n",
       "      <td>000336\\r</td>\n",
       "      <td>U\\r</td>\n",
       "      <td>3</td>\n",
       "      <td>2</td>\n",
       "      <td>1</td>\n",
       "    </tr>\n",
       "    <tr>\n",
       "      <th>2</th>\n",
       "      <td>100006</td>\n",
       "      <td>3</td>\n",
       "      <td>1</td>\n",
       "      <td>B\\r</td>\n",
       "      <td>4</td>\n",
       "      <td>14\\r</td>\n",
       "      <td>2</td>\n",
       "      <td>\\r</td>\n",
       "      <td>1</td>\n",
       "      <td>2</td>\n",
       "      <td>...</td>\n",
       "      <td>2</td>\n",
       "      <td>\\r</td>\n",
       "      <td>168</td>\n",
       "      <td>673</td>\n",
       "      <td>000168\\r</td>\n",
       "      <td>000673\\r</td>\n",
       "      <td>U\\r</td>\n",
       "      <td>3</td>\n",
       "      <td>2</td>\n",
       "      <td>1</td>\n",
       "    </tr>\n",
       "    <tr>\n",
       "      <th>3</th>\n",
       "      <td>100006</td>\n",
       "      <td>4</td>\n",
       "      <td>1</td>\n",
       "      <td>A\\r</td>\n",
       "      <td>1</td>\n",
       "      <td>14\\r</td>\n",
       "      <td>1</td>\n",
       "      <td>01\\r</td>\n",
       "      <td>2</td>\n",
       "      <td>1</td>\n",
       "      <td>...</td>\n",
       "      <td>2</td>\n",
       "      <td>\\r</td>\n",
       "      <td>168</td>\n",
       "      <td>168</td>\n",
       "      <td>000168\\r</td>\n",
       "      <td>000168\\r</td>\n",
       "      <td>U\\r</td>\n",
       "      <td>3</td>\n",
       "      <td>2</td>\n",
       "      <td>1</td>\n",
       "    </tr>\n",
       "    <tr>\n",
       "      <th>4</th>\n",
       "      <td>100006</td>\n",
       "      <td>4</td>\n",
       "      <td>2</td>\n",
       "      <td>B\\r</td>\n",
       "      <td>1</td>\n",
       "      <td>\\r</td>\n",
       "      <td>2</td>\n",
       "      <td>\\r</td>\n",
       "      <td>1</td>\n",
       "      <td>2</td>\n",
       "      <td>...</td>\n",
       "      <td>2</td>\n",
       "      <td>\\r</td>\n",
       "      <td>168</td>\n",
       "      <td>168</td>\n",
       "      <td>\\r</td>\n",
       "      <td>\\r</td>\n",
       "      <td>U\\r</td>\n",
       "      <td>3</td>\n",
       "      <td>2</td>\n",
       "      <td>1</td>\n",
       "    </tr>\n",
       "  </tbody>\n",
       "</table>\n",
       "<p>5 rows × 140 columns</p>\n",
       "</div>"
      ],
      "text/plain": [
       "      UPM  VIV_SEL  HOGAR RESUL_H  R_SEL AREAM  AP6_1_1 AP6_1_2  AP6_2  AP6_3  \\\n",
       "0  100006        1      1     B\\r      3  14\\r        2      \\r      1      2   \n",
       "1  100006        2      1     B\\r      1  14\\r        1    01\\r      2      2   \n",
       "2  100006        3      1     B\\r      4  14\\r        2      \\r      1      2   \n",
       "3  100006        4      1     A\\r      1  14\\r        1    01\\r      2      1   \n",
       "4  100006        4      2     B\\r      1    \\r        2      \\r      1      2   \n",
       "\n",
       "    ...    AP7_3_15 AP7_4_15 FAC_HOG  FAC_ELE FAC_HOG_AM FAC_ELE_AM  DOMINIO  \\\n",
       "0   ...           2       \\r     168      841   000168\\r   000841\\r      U\\r   \n",
       "1   ...           2       \\r     168      336   000168\\r   000336\\r      U\\r   \n",
       "2   ...           2       \\r     168      673   000168\\r   000673\\r      U\\r   \n",
       "3   ...           2       \\r     168      168   000168\\r   000168\\r      U\\r   \n",
       "4   ...           2       \\r     168      168         \\r         \\r      U\\r   \n",
       "\n",
       "  ESTRATO  EST_DIS UPM_DIS  \n",
       "0       3        2       1  \n",
       "1       3        2       1  \n",
       "2       3        2       1  \n",
       "3       3        2       1  \n",
       "4       3        2       1  \n",
       "\n",
       "[5 rows x 140 columns]"
      ]
     },
     "execution_count": 3,
     "metadata": {},
     "output_type": "execute_result"
    }
   ],
   "source": [
    "path = 'C:/Users/jorge/OneDrive/Escritorio/ProyectoJacobo/Envipe2016/tper_vic2_envipe2016/conjunto_de_datos/tper_vic2_envipe2016.csv'\n",
    "df_tper_vic2 = pd.read_csv(path, low_memory=False)\n",
    "df_tper_vic2.head()"
   ]
  },
  {
   "cell_type": "code",
   "execution_count": 4,
   "metadata": {},
   "outputs": [
    {
     "data": {
      "text/plain": [
       "(85744, 140)"
      ]
     },
     "execution_count": 4,
     "metadata": {},
     "output_type": "execute_result"
    }
   ],
   "source": [
    "df_tper_vic2.shape"
   ]
  },
  {
   "cell_type": "code",
   "execution_count": 5,
   "metadata": {},
   "outputs": [],
   "source": [
    "df_copy_tper_vic2 = df_tper_vic2"
   ]
  },
  {
   "cell_type": "code",
   "execution_count": 6,
   "metadata": {},
   "outputs": [
    {
     "data": {
      "text/plain": [
       "(85744, 140)"
      ]
     },
     "execution_count": 6,
     "metadata": {},
     "output_type": "execute_result"
    }
   ],
   "source": [
    "df_copy_tper_vic2.shape"
   ]
  },
  {
   "cell_type": "code",
   "execution_count": 7,
   "metadata": {},
   "outputs": [
    {
     "data": {
      "text/plain": [
       "102347     25\n",
       "1302569    25\n",
       "3061498    25\n",
       "3062357    24\n",
       "1360015    24\n",
       "1661402    24\n",
       "2760517    24\n",
       "3160237    24\n",
       "2260397    24\n",
       "1703222    23\n",
       "1461346    23\n",
       "704042     23\n",
       "702937     23\n",
       "3008605    23\n",
       "2560704    23\n",
       "1603866    23\n",
       "2202925    23\n",
       "3160258    23\n",
       "2760112    23\n",
       "1105675    23\n",
       "1660785    23\n",
       "1301325    23\n",
       "1527245    23\n",
       "2760633    23\n",
       "660011     23\n",
       "1604153    23\n",
       "702488     23\n",
       "1261106    23\n",
       "3160220    23\n",
       "2260580    23\n",
       "           ..\n",
       "1104134     1\n",
       "2302423     1\n",
       "1907834     1\n",
       "2302859     1\n",
       "203577      1\n",
       "2302035     1\n",
       "1201533     1\n",
       "1701317     1\n",
       "1602500     1\n",
       "1903262     1\n",
       "2200854     1\n",
       "1101942     1\n",
       "2806514     1\n",
       "2502068     1\n",
       "2501720     1\n",
       "1702737     1\n",
       "1109125     1\n",
       "2700388     1\n",
       "2805314     1\n",
       "2804295     1\n",
       "2803819     1\n",
       "3200406     1\n",
       "1529197     1\n",
       "1908835     1\n",
       "2804321     1\n",
       "1901580     1\n",
       "2102318     1\n",
       "2805484     1\n",
       "3001124     1\n",
       "1201340     1\n",
       "Name: UPM, Length: 11902, dtype: int64"
      ]
     },
     "execution_count": 7,
     "metadata": {},
     "output_type": "execute_result"
    }
   ],
   "source": [
    "df_copy_tper_vic2.UPM.value_counts()"
   ]
  },
  {
   "cell_type": "code",
   "execution_count": 8,
   "metadata": {},
   "outputs": [
    {
     "data": {
      "text/plain": [
       "3     10627\n",
       "1     10607\n",
       "4     10568\n",
       "2     10563\n",
       "5     10494\n",
       "9      2216\n",
       "8      2201\n",
       "16     2196\n",
       "7      2184\n",
       "6      2182\n",
       "10     2182\n",
       "15     2179\n",
       "12     2178\n",
       "13     2177\n",
       "14     2168\n",
       "11     2164\n",
       "18     2164\n",
       "19     2163\n",
       "17     2161\n",
       "20     2080\n",
       "21      196\n",
       "22       73\n",
       "23       15\n",
       "24        5\n",
       "25        1\n",
       "Name: VIV_SEL, dtype: int64"
      ]
     },
     "execution_count": 8,
     "metadata": {},
     "output_type": "execute_result"
    }
   ],
   "source": [
    "df_copy_tper_vic2.VIV_SEL.value_counts()"
   ]
  },
  {
   "cell_type": "code",
   "execution_count": 9,
   "metadata": {},
   "outputs": [
    {
     "data": {
      "text/plain": [
       "1    84108\n",
       "2     1418\n",
       "3      194\n",
       "4       21\n",
       "5        3\n",
       "Name: HOGAR, dtype: int64"
      ]
     },
     "execution_count": 9,
     "metadata": {},
     "output_type": "execute_result"
    }
   ],
   "source": [
    "df_copy_tper_vic2.HOGAR.value_counts()"
   ]
  },
  {
   "cell_type": "code",
   "execution_count": 10,
   "metadata": {},
   "outputs": [
    {
     "data": {
      "text/plain": [
       "B\\r    62354\n",
       "A\\r    23390\n",
       "Name: RESUL_H, dtype: int64"
      ]
     },
     "execution_count": 10,
     "metadata": {},
     "output_type": "execute_result"
    }
   ],
   "source": [
    "df_copy_tper_vic2.RESUL_H.value_counts()"
   ]
  },
  {
   "cell_type": "code",
   "execution_count": 11,
   "metadata": {},
   "outputs": [
    {
     "data": {
      "text/plain": [
       "B    62354\n",
       "A    23390\n",
       "Name: RESUL_H, dtype: int64"
      ]
     },
     "execution_count": 11,
     "metadata": {},
     "output_type": "execute_result"
    }
   ],
   "source": [
    "df_copy_tper_vic2.RESUL_H.replace({'A\\r':'A', 'B\\r':'B' },inplace=True)\n",
    "df_copy_tper_vic2.RESUL_H.value_counts()"
   ]
  },
  {
   "cell_type": "code",
   "execution_count": 12,
   "metadata": {},
   "outputs": [
    {
     "data": {
      "text/plain": [
       "1     42961\n",
       "2     29484\n",
       "3      8416\n",
       "4      3138\n",
       "5      1080\n",
       "6       380\n",
       "7       162\n",
       "8        77\n",
       "9        24\n",
       "10       11\n",
       "11        5\n",
       "14        2\n",
       "13        2\n",
       "12        2\n",
       "Name: R_SEL, dtype: int64"
      ]
     },
     "execution_count": 12,
     "metadata": {},
     "output_type": "execute_result"
    }
   ],
   "source": [
    "df_copy_tper_vic2.R_SEL.value_counts()"
   ]
  },
  {
   "cell_type": "code",
   "execution_count": 14,
   "metadata": {},
   "outputs": [
    {
     "data": {
      "text/plain": [
       "\\r      56185\n",
       "01\\r     3669\n",
       "03\\r     2073\n",
       "08\\r     1538\n",
       "02\\r     1375\n",
       "39\\r     1279\n",
       "33\\r     1250\n",
       "36\\r     1222\n",
       "04\\r     1220\n",
       "41\\r     1212\n",
       "14\\r     1190\n",
       "21\\r     1113\n",
       "29\\r     1082\n",
       "40\\r      925\n",
       "24\\r      854\n",
       "26\\r      840\n",
       "10\\r      767\n",
       "28\\r      679\n",
       "07\\r      673\n",
       "09\\r      646\n",
       "27\\r      635\n",
       "17\\r      623\n",
       "05\\r      552\n",
       "18\\r      551\n",
       "13\\r      519\n",
       "19\\r      503\n",
       "25\\r      501\n",
       "15\\r      501\n",
       "43\\r      387\n",
       "31\\r      378\n",
       "32\\r      311\n",
       "12\\r      295\n",
       "16\\r      196\n",
       "Name: AREAM, dtype: int64"
      ]
     },
     "execution_count": 14,
     "metadata": {},
     "output_type": "execute_result"
    }
   ],
   "source": [
    "df_copy_tper_vic2.AREAM.value_counts()"
   ]
  },
  {
   "cell_type": "code",
   "execution_count": 15,
   "metadata": {},
   "outputs": [],
   "source": [
    "#l=[]\n",
    "#for i in df_copy_tper_vic2.AREAM:\n",
    " #   k = str(i)\n",
    "  #  if(k != \"nan\"):\n",
    "   #     k = int(eval(k))\n",
    "    #    l.append(k)\n",
    "    #else:\n",
    "     #   l.append(k)\n",
    "#df_copy_tper_vic2.AREAM = l\n",
    "#df_copy_tper_vic2.AREAM.value_counts()"
   ]
  },
  {
   "cell_type": "code",
   "execution_count": 16,
   "metadata": {},
   "outputs": [
    {
     "data": {
      "text/plain": [
       "99    56185\n",
       "01     3669\n",
       "03     2073\n",
       "08     1538\n",
       "02     1375\n",
       "39     1279\n",
       "33     1250\n",
       "36     1222\n",
       "04     1220\n",
       "41     1212\n",
       "14     1190\n",
       "21     1113\n",
       "29     1082\n",
       "40      925\n",
       "24      854\n",
       "26      840\n",
       "10      767\n",
       "28      679\n",
       "07      673\n",
       "09      646\n",
       "27      635\n",
       "17      623\n",
       "05      552\n",
       "18      551\n",
       "13      519\n",
       "19      503\n",
       "15      501\n",
       "25      501\n",
       "43      387\n",
       "31      378\n",
       "32      311\n",
       "12      295\n",
       "16      196\n",
       "Name: AREAM, dtype: int64"
      ]
     },
     "execution_count": 16,
     "metadata": {},
     "output_type": "execute_result"
    }
   ],
   "source": [
    "df_copy_tper_vic2.AREAM.replace({'\\r':'99'} , inplace = True)\n",
    "df_copy_tper_vic2.AREAM =  df_copy_tper_vic2.AREAM.replace('\\r', \"\", regex = True)\n",
    "df_copy_tper_vic2.AREAM.value_counts()"
   ]
  },
  {
   "cell_type": "code",
   "execution_count": 17,
   "metadata": {},
   "outputs": [],
   "source": [
    "dicc = {9:99}"
   ]
  },
  {
   "cell_type": "code",
   "execution_count": 18,
   "metadata": {},
   "outputs": [
    {
     "data": {
      "text/plain": [
       "2     48541\n",
       "1     37078\n",
       "99      125\n",
       "Name: AP6_1_1, dtype: int64"
      ]
     },
     "execution_count": 18,
     "metadata": {},
     "output_type": "execute_result"
    }
   ],
   "source": [
    "df_copy_tper_vic2.AP6_1_1.replace(dicc, inplace = True)\n",
    "df_copy_tper_vic2.AP6_1_1.value_counts()"
   ]
  },
  {
   "cell_type": "code",
   "execution_count": 19,
   "metadata": {},
   "outputs": [
    {
     "data": {
      "text/plain": [
       "99    56185\n",
       "01     3669\n",
       "03     2073\n",
       "08     1538\n",
       "02     1375\n",
       "39     1279\n",
       "33     1250\n",
       "36     1222\n",
       "04     1220\n",
       "41     1212\n",
       "14     1190\n",
       "21     1113\n",
       "29     1082\n",
       "40      925\n",
       "24      854\n",
       "26      840\n",
       "10      767\n",
       "28      679\n",
       "07      673\n",
       "09      646\n",
       "27      635\n",
       "17      623\n",
       "05      552\n",
       "18      551\n",
       "13      519\n",
       "19      503\n",
       "15      501\n",
       "25      501\n",
       "43      387\n",
       "31      378\n",
       "32      311\n",
       "12      295\n",
       "16      196\n",
       "Name: AP6_1_2, dtype: int64"
      ]
     },
     "execution_count": 19,
     "metadata": {},
     "output_type": "execute_result"
    }
   ],
   "source": [
    "df_copy_tper_vic2.AP6_1_2.replace({'\\r':'99'}, inplace = True)\n",
    "df_copy_tper_vic2.AP6_1_2 =  df_copy_tper_vic2.AREAM.replace('\\r', \"\", regex = True)\n",
    "df_copy_tper_vic2.AP6_1_2.value_counts()"
   ]
  },
  {
   "cell_type": "code",
   "execution_count": 20,
   "metadata": {},
   "outputs": [
    {
     "data": {
      "text/plain": [
       "2     54377\n",
       "1     31322\n",
       "99       45\n",
       "Name: AP6_2, dtype: int64"
      ]
     },
     "execution_count": 20,
     "metadata": {},
     "output_type": "execute_result"
    }
   ],
   "source": [
    "df_copy_tper_vic2.AP6_2.replace(dicc, inplace = True)\n",
    "df_copy_tper_vic2.AP6_2.value_counts()"
   ]
  },
  {
   "cell_type": "code",
   "execution_count": 21,
   "metadata": {},
   "outputs": [
    {
     "data": {
      "text/plain": [
       "2     74012\n",
       "1     11694\n",
       "99       38\n",
       "Name: AP6_3, dtype: int64"
      ]
     },
     "execution_count": 21,
     "metadata": {},
     "output_type": "execute_result"
    }
   ],
   "source": [
    "df_copy_tper_vic2.AP6_3.replace(dicc, inplace = True)\n",
    "df_copy_tper_vic2.AP6_3.value_counts()"
   ]
  },
  {
   "cell_type": "code",
   "execution_count": 22,
   "metadata": {},
   "outputs": [
    {
     "data": {
      "text/plain": [
       "2     84304\n",
       "1      1421\n",
       "99       19\n",
       "Name: AP6_4_01, dtype: int64"
      ]
     },
     "execution_count": 22,
     "metadata": {},
     "output_type": "execute_result"
    }
   ],
   "source": [
    "df_copy_tper_vic2.AP6_4_01.replace(dicc, inplace = True)\n",
    "df_copy_tper_vic2.AP6_4_01.value_counts()"
   ]
  },
  {
   "cell_type": "code",
   "execution_count": 23,
   "metadata": {},
   "outputs": [],
   "source": [
    "dicc2 = {'\\r':'99','1\\r':'1','2\\r':'2','9\\r':'99'}"
   ]
  },
  {
   "cell_type": "code",
   "execution_count": 24,
   "metadata": {},
   "outputs": [
    {
     "data": {
      "text/plain": [
       "99    84323\n",
       "1       916\n",
       "2       505\n",
       "Name: AP6_5_01, dtype: int64"
      ]
     },
     "execution_count": 24,
     "metadata": {},
     "output_type": "execute_result"
    }
   ],
   "source": [
    "df_copy_tper_vic2.AP6_5_01.replace(dicc2, inplace = True)\n",
    "df_copy_tper_vic2.AP6_5_01.value_counts()"
   ]
  },
  {
   "cell_type": "code",
   "execution_count": 25,
   "metadata": {},
   "outputs": [
    {
     "data": {
      "text/plain": [
       "99    84828\n",
       "1       873\n",
       "2        37\n",
       "3         6\n",
       "Name: AP6_6_01, dtype: int64"
      ]
     },
     "execution_count": 25,
     "metadata": {},
     "output_type": "execute_result"
    }
   ],
   "source": [
    "df_copy_tper_vic2.AP6_6_01.replace({'\\r':'99'}, inplace = True)\n",
    "df_copy_tper_vic2.AP6_6_01 =  df_copy_tper_vic2.AP6_6_01.replace('\\r', \"\", regex = True)\n",
    "df_copy_tper_vic2.AP6_6_01.value_counts()"
   ]
  },
  {
   "cell_type": "code",
   "execution_count": 26,
   "metadata": {},
   "outputs": [
    {
     "data": {
      "text/plain": [
       "2     79939\n",
       "1      5782\n",
       "99       23\n",
       "Name: AP6_4_02, dtype: int64"
      ]
     },
     "execution_count": 26,
     "metadata": {},
     "output_type": "execute_result"
    }
   ],
   "source": [
    "df_copy_tper_vic2.AP6_4_02.replace(dicc, inplace = True)\n",
    "df_copy_tper_vic2.AP6_4_02.value_counts()"
   ]
  },
  {
   "cell_type": "code",
   "execution_count": 27,
   "metadata": {},
   "outputs": [
    {
     "data": {
      "text/plain": [
       "99    79962\n",
       "1      5186\n",
       "2       596\n",
       "Name: AP6_5_02, dtype: int64"
      ]
     },
     "execution_count": 27,
     "metadata": {},
     "output_type": "execute_result"
    }
   ],
   "source": [
    "df_copy_tper_vic2.AP6_5_02.replace(dicc2, inplace = True)\n",
    "df_copy_tper_vic2.AP6_5_02.value_counts()"
   ]
  },
  {
   "cell_type": "code",
   "execution_count": 28,
   "metadata": {},
   "outputs": [
    {
     "data": {
      "text/plain": [
       "99    80558\n",
       "1      4080\n",
       "2       812\n",
       "3       220\n",
       "4        55\n",
       "5        11\n",
       "7         4\n",
       "10        1\n",
       "11        1\n",
       "6         1\n",
       "15        1\n",
       "Name: AP6_6_02, dtype: int64"
      ]
     },
     "execution_count": 28,
     "metadata": {},
     "output_type": "execute_result"
    }
   ],
   "source": [
    "df_copy_tper_vic2.AP6_6_02.replace({'\\r':'99'}, inplace = True)\n",
    "df_copy_tper_vic2.AP6_6_02 =  df_copy_tper_vic2.AP6_6_02.replace('\\r', \"\", regex = True)\n",
    "df_copy_tper_vic2.AP6_6_02.value_counts()"
   ]
  },
  {
   "cell_type": "code",
   "execution_count": 29,
   "metadata": {},
   "outputs": [
    {
     "data": {
      "text/plain": [
       "2     80798\n",
       "1      4912\n",
       "99       34\n",
       "Name: AP6_4_03, dtype: int64"
      ]
     },
     "execution_count": 29,
     "metadata": {},
     "output_type": "execute_result"
    }
   ],
   "source": [
    "df_copy_tper_vic2.AP6_4_03.replace(dicc, inplace = True)\n",
    "df_copy_tper_vic2.AP6_4_03.value_counts()"
   ]
  },
  {
   "cell_type": "code",
   "execution_count": 30,
   "metadata": {},
   "outputs": [
    {
     "data": {
      "text/plain": [
       "99    80832\n",
       "1      3915\n",
       "2       657\n",
       "3       216\n",
       "4        54\n",
       "5        47\n",
       "10        6\n",
       "6         6\n",
       "7         3\n",
       "20        2\n",
       "15        2\n",
       "8         2\n",
       "12        1\n",
       "9         1\n",
       "Name: AP6_6_03, dtype: int64"
      ]
     },
     "execution_count": 30,
     "metadata": {},
     "output_type": "execute_result"
    }
   ],
   "source": [
    "df_copy_tper_vic2.AP6_6_03.replace({'\\r':'99'}, inplace = True)\n",
    "df_copy_tper_vic2.AP6_6_03 =  df_copy_tper_vic2.AP6_6_03.replace('\\r', \"\", regex = True)\n",
    "df_copy_tper_vic2.AP6_6_03.value_counts()"
   ]
  },
  {
   "cell_type": "code",
   "execution_count": 31,
   "metadata": {},
   "outputs": [
    {
     "data": {
      "text/plain": [
       "2     81032\n",
       "1      4668\n",
       "99       44\n",
       "Name: AP6_4_04, dtype: int64"
      ]
     },
     "execution_count": 31,
     "metadata": {},
     "output_type": "execute_result"
    }
   ],
   "source": [
    "df_copy_tper_vic2.AP6_4_04.replace(dicc, inplace = True)\n",
    "df_copy_tper_vic2.AP6_4_04.value_counts()"
   ]
  },
  {
   "cell_type": "code",
   "execution_count": 32,
   "metadata": {},
   "outputs": [
    {
     "data": {
      "text/plain": [
       "99    81076\n",
       "1      3976\n",
       "2       521\n",
       "3       124\n",
       "4        27\n",
       "5        12\n",
       "6         6\n",
       "10        1\n",
       "8         1\n",
       "Name: AP6_6_04, dtype: int64"
      ]
     },
     "execution_count": 32,
     "metadata": {},
     "output_type": "execute_result"
    }
   ],
   "source": [
    "df_copy_tper_vic2.AP6_6_04.replace({'\\r':'99'}, inplace = True)\n",
    "df_copy_tper_vic2.AP6_6_04 =  df_copy_tper_vic2.AP6_6_04.replace('\\r', \"\", regex = True)\n",
    "df_copy_tper_vic2.AP6_6_04.value_counts()"
   ]
  },
  {
   "cell_type": "code",
   "execution_count": 33,
   "metadata": {},
   "outputs": [
    {
     "data": {
      "text/plain": [
       "2     66093\n",
       "1     19623\n",
       "99       28\n",
       "Name: AP6_7, dtype: int64"
      ]
     },
     "execution_count": 33,
     "metadata": {},
     "output_type": "execute_result"
    }
   ],
   "source": [
    "df_copy_tper_vic2.AP6_7.replace(dicc, inplace = True)\n",
    "df_copy_tper_vic2.AP6_7.value_counts()"
   ]
  },
  {
   "cell_type": "code",
   "execution_count": 34,
   "metadata": {},
   "outputs": [
    {
     "data": {
      "text/plain": [
       "99    60883\n",
       "2     21689\n",
       "1      1959\n",
       "3      1213\n",
       "Name: AP6_8, dtype: int64"
      ]
     },
     "execution_count": 34,
     "metadata": {},
     "output_type": "execute_result"
    }
   ],
   "source": [
    "df_copy_tper_vic2.AP6_8.replace({'\\r':'99','9\\r':'99'}, inplace = True)\n",
    "df_copy_tper_vic2.AP6_8 =  df_copy_tper_vic2.AP6_8.replace('\\r', \"\", regex = True)\n",
    "df_copy_tper_vic2.AP6_8.value_counts()"
   ]
  },
  {
   "cell_type": "code",
   "execution_count": 35,
   "metadata": {},
   "outputs": [
    {
     "data": {
      "text/plain": [
       "2     84785\n",
       "1       922\n",
       "99       37\n",
       "Name: AP6_9, dtype: int64"
      ]
     },
     "execution_count": 35,
     "metadata": {},
     "output_type": "execute_result"
    }
   ],
   "source": [
    "df_copy_tper_vic2.AP6_9.replace(dicc, inplace = True)\n",
    "df_copy_tper_vic2.AP6_9.value_counts()"
   ]
  },
  {
   "cell_type": "code",
   "execution_count": 36,
   "metadata": {},
   "outputs": [
    {
     "data": {
      "text/plain": [
       "2     85566\n",
       "1       147\n",
       "99       31\n",
       "Name: AP6_10_1, dtype: int64"
      ]
     },
     "execution_count": 36,
     "metadata": {},
     "output_type": "execute_result"
    }
   ],
   "source": [
    "df_copy_tper_vic2.AP6_10_1.replace(dicc, inplace = True)\n",
    "df_copy_tper_vic2.AP6_10_1.value_counts()"
   ]
  },
  {
   "cell_type": "code",
   "execution_count": 37,
   "metadata": {},
   "outputs": [
    {
     "data": {
      "text/plain": [
       "99    85597\n",
       "01      136\n",
       "02        8\n",
       "03        2\n",
       "04        1\n",
       "Name: AP6_10_2, dtype: int64"
      ]
     },
     "execution_count": 37,
     "metadata": {},
     "output_type": "execute_result"
    }
   ],
   "source": [
    "df_copy_tper_vic2.AP6_10_2.replace({'\\r':'99','9\\r':'99'}, inplace = True)\n",
    "df_copy_tper_vic2.AP6_10_2 =  df_copy_tper_vic2.AP6_10_2.replace('\\r', \"\", regex = True)\n",
    "df_copy_tper_vic2.AP6_10_2.value_counts()"
   ]
  },
  {
   "cell_type": "code",
   "execution_count": 38,
   "metadata": {},
   "outputs": [
    {
     "data": {
      "text/plain": [
       "99    85598\n",
       "1       118\n",
       "2        28\n",
       "Name: AP6_11_1, dtype: int64"
      ]
     },
     "execution_count": 38,
     "metadata": {},
     "output_type": "execute_result"
    }
   ],
   "source": [
    "df_copy_tper_vic2.AP6_11_1.replace(dicc2, inplace = True)\n",
    "df_copy_tper_vic2.AP6_11_1.value_counts()"
   ]
  },
  {
   "cell_type": "code",
   "execution_count": 39,
   "metadata": {},
   "outputs": [
    {
     "data": {
      "text/plain": [
       "99    85626\n",
       "1       114\n",
       "2         3\n",
       "3         1\n",
       "Name: AP6_12_1, dtype: int64"
      ]
     },
     "execution_count": 39,
     "metadata": {},
     "output_type": "execute_result"
    }
   ],
   "source": [
    "df_copy_tper_vic2.AP6_12_1.replace({'\\r':'99','9\\r':'99'}, inplace = True)\n",
    "df_copy_tper_vic2.AP6_12_1 =  df_copy_tper_vic2.AP6_12_1.replace('\\r', \"\", regex = True)\n",
    "df_copy_tper_vic2.AP6_12_1.value_counts()"
   ]
  },
  {
   "cell_type": "code",
   "execution_count": 40,
   "metadata": {},
   "outputs": [
    {
     "data": {
      "text/plain": [
       "99    85628\n",
       "1        75\n",
       "2        30\n",
       "3         6\n",
       "4         3\n",
       "6         1\n",
       "5         1\n",
       "Name: AP6_13_1_1, dtype: int64"
      ]
     },
     "execution_count": 40,
     "metadata": {},
     "output_type": "execute_result"
    }
   ],
   "source": [
    "df_copy_tper_vic2.AP6_13_1_1.replace({'\\r':'99','9\\r':'99'}, inplace = True)\n",
    "df_copy_tper_vic2.AP6_13_1_1 =  df_copy_tper_vic2.AP6_13_1_1.replace('\\r', \"\", regex = True)\n",
    "df_copy_tper_vic2.AP6_13_1_1.value_counts()"
   ]
  },
  {
   "cell_type": "code",
   "execution_count": 41,
   "metadata": {},
   "outputs": [
    {
     "data": {
      "text/plain": [
       "99    85740\n",
       "1         3\n",
       "3         1\n",
       "Name: AP6_13_1_2, dtype: int64"
      ]
     },
     "execution_count": 41,
     "metadata": {},
     "output_type": "execute_result"
    }
   ],
   "source": [
    "df_copy_tper_vic2.AP6_13_1_2.replace({'\\r':'99','9\\r':'99'}, inplace = True)\n",
    "df_copy_tper_vic2.AP6_13_1_2 =  df_copy_tper_vic2.AP6_13_1_2.replace('\\r', \"\", regex = True)\n",
    "df_copy_tper_vic2.AP6_13_1_2.value_counts()"
   ]
  },
  {
   "cell_type": "code",
   "execution_count": 42,
   "metadata": {},
   "outputs": [
    {
     "data": {
      "text/plain": [
       "99    85743\n",
       "1         1\n",
       "Name: AP6_13_1_3, dtype: int64"
      ]
     },
     "execution_count": 42,
     "metadata": {},
     "output_type": "execute_result"
    }
   ],
   "source": [
    "df_copy_tper_vic2.AP6_13_1_3.replace({'\\r':'99','9\\r':'99'}, inplace = True)\n",
    "df_copy_tper_vic2.AP6_13_1_3 =  df_copy_tper_vic2.AP6_13_1_3.replace('\\r', \"\", regex = True)\n",
    "df_copy_tper_vic2.AP6_13_1_3.value_counts()"
   ]
  },
  {
   "cell_type": "code",
   "execution_count": 43,
   "metadata": {},
   "outputs": [
    {
     "data": {
      "text/plain": [
       "99    85744\n",
       "Name: AP6_13_1_4, dtype: int64"
      ]
     },
     "execution_count": 43,
     "metadata": {},
     "output_type": "execute_result"
    }
   ],
   "source": [
    "df_copy_tper_vic2.AP6_13_1_4.replace({'\\r':'99','9\\r':'99'}, inplace = True)\n",
    "df_copy_tper_vic2.AP6_13_1_4 =  df_copy_tper_vic2.AP6_13_1_4.replace('\\r', \"\", regex = True)\n",
    "df_copy_tper_vic2.AP6_13_1_4.value_counts()"
   ]
  },
  {
   "cell_type": "code",
   "execution_count": 44,
   "metadata": {},
   "outputs": [
    {
     "data": {
      "text/plain": [
       "99    85733\n",
       "1         8\n",
       "2         3\n",
       "Name: AP6_11_2, dtype: int64"
      ]
     },
     "execution_count": 44,
     "metadata": {},
     "output_type": "execute_result"
    }
   ],
   "source": [
    "df_copy_tper_vic2.AP6_11_2.replace(dicc2, inplace = True)\n",
    "df_copy_tper_vic2.AP6_11_2.value_counts()"
   ]
  },
  {
   "cell_type": "code",
   "execution_count": 45,
   "metadata": {},
   "outputs": [
    {
     "data": {
      "text/plain": [
       "99    85736\n",
       "1         7\n",
       "2         1\n",
       "Name: AP6_12_2, dtype: int64"
      ]
     },
     "execution_count": 45,
     "metadata": {},
     "output_type": "execute_result"
    }
   ],
   "source": [
    "df_copy_tper_vic2.AP6_12_2.replace({'\\r':'99','9\\r':'99'}, inplace = True)\n",
    "df_copy_tper_vic2.AP6_12_2 =  df_copy_tper_vic2.AP6_12_2.replace('\\r', \"\", regex = True)\n",
    "df_copy_tper_vic2.AP6_12_2.value_counts()"
   ]
  },
  {
   "cell_type": "code",
   "execution_count": 46,
   "metadata": {},
   "outputs": [
    {
     "data": {
      "text/plain": [
       "99    85736\n",
       "1         6\n",
       "2         1\n",
       "3         1\n",
       "Name: AP6_13_2_1, dtype: int64"
      ]
     },
     "execution_count": 46,
     "metadata": {},
     "output_type": "execute_result"
    }
   ],
   "source": [
    "df_copy_tper_vic2.AP6_13_2_1.replace({'\\r':'99','9\\r':'99'}, inplace = True)\n",
    "df_copy_tper_vic2.AP6_13_2_1 =  df_copy_tper_vic2.AP6_13_2_1.replace('\\r', \"\", regex = True)\n",
    "df_copy_tper_vic2.AP6_13_2_1.value_counts()"
   ]
  },
  {
   "cell_type": "code",
   "execution_count": 47,
   "metadata": {},
   "outputs": [
    {
     "data": {
      "text/plain": [
       "99    85743\n",
       "1         1\n",
       "Name: AP6_13_2_2, dtype: int64"
      ]
     },
     "execution_count": 47,
     "metadata": {},
     "output_type": "execute_result"
    }
   ],
   "source": [
    "df_copy_tper_vic2.AP6_13_2_2.replace({'\\r':'99','9\\r':'99'}, inplace = True)\n",
    "df_copy_tper_vic2.AP6_13_2_2 =  df_copy_tper_vic2.AP6_13_2_2.replace('\\r', \"\", regex = True)\n",
    "df_copy_tper_vic2.AP6_13_2_2.value_counts()"
   ]
  },
  {
   "cell_type": "code",
   "execution_count": 48,
   "metadata": {},
   "outputs": [
    {
     "data": {
      "text/plain": [
       "99    85744\n",
       "Name: AP6_13_2_3, dtype: int64"
      ]
     },
     "execution_count": 48,
     "metadata": {},
     "output_type": "execute_result"
    }
   ],
   "source": [
    "df_copy_tper_vic2.AP6_13_2_3.replace({'\\r':'99','9\\r':'99'}, inplace = True)\n",
    "df_copy_tper_vic2.AP6_13_2_3 =  df_copy_tper_vic2.AP6_13_2_3.replace('\\r', \"\", regex = True)\n",
    "df_copy_tper_vic2.AP6_13_2_3.value_counts()"
   ]
  },
  {
   "cell_type": "code",
   "execution_count": 49,
   "metadata": {},
   "outputs": [
    {
     "data": {
      "text/plain": [
       "99    85744\n",
       "Name: AP6_13_2_4, dtype: int64"
      ]
     },
     "execution_count": 49,
     "metadata": {},
     "output_type": "execute_result"
    }
   ],
   "source": [
    "df_copy_tper_vic2.AP6_13_2_4.replace({'\\r':'99','9\\r':'99'}, inplace = True)\n",
    "df_copy_tper_vic2.AP6_13_2_4 =  df_copy_tper_vic2.AP6_13_2_4.replace('\\r', \"\", regex = True)\n",
    "df_copy_tper_vic2.AP6_13_2_4.value_counts()"
   ]
  },
  {
   "cell_type": "code",
   "execution_count": 50,
   "metadata": {},
   "outputs": [
    {
     "data": {
      "text/plain": [
       "99    85741\n",
       "1         3\n",
       "Name: AP6_11_3, dtype: int64"
      ]
     },
     "execution_count": 50,
     "metadata": {},
     "output_type": "execute_result"
    }
   ],
   "source": [
    "df_copy_tper_vic2.AP6_11_3.replace(dicc2, inplace = True)\n",
    "df_copy_tper_vic2.AP6_11_3.value_counts()"
   ]
  },
  {
   "cell_type": "code",
   "execution_count": 51,
   "metadata": {},
   "outputs": [
    {
     "data": {
      "text/plain": [
       "99    85741\n",
       "1         3\n",
       "Name: AP6_12_3, dtype: int64"
      ]
     },
     "execution_count": 51,
     "metadata": {},
     "output_type": "execute_result"
    }
   ],
   "source": [
    "df_copy_tper_vic2.AP6_12_3.replace({'\\r':'99','9\\r':'99'}, inplace = True)\n",
    "df_copy_tper_vic2.AP6_12_3 =  df_copy_tper_vic2.AP6_12_3.replace('\\r', \"\", regex = True)\n",
    "df_copy_tper_vic2.AP6_12_3.value_counts()"
   ]
  },
  {
   "cell_type": "code",
   "execution_count": 52,
   "metadata": {},
   "outputs": [
    {
     "data": {
      "text/plain": [
       "99    85743\n",
       "1         1\n",
       "Name: AP6_11_4, dtype: int64"
      ]
     },
     "execution_count": 52,
     "metadata": {},
     "output_type": "execute_result"
    }
   ],
   "source": [
    "df_copy_tper_vic2.AP6_11_4.replace(dicc2, inplace = True)\n",
    "df_copy_tper_vic2.AP6_11_4.value_counts()"
   ]
  },
  {
   "cell_type": "code",
   "execution_count": 53,
   "metadata": {},
   "outputs": [
    {
     "data": {
      "text/plain": [
       "99    85744\n",
       "Name: AP6_11_5, dtype: int64"
      ]
     },
     "execution_count": 53,
     "metadata": {},
     "output_type": "execute_result"
    }
   ],
   "source": [
    "df_copy_tper_vic2.AP6_11_5.replace(dicc2, inplace = True)\n",
    "df_copy_tper_vic2.AP6_11_5.value_counts()"
   ]
  },
  {
   "cell_type": "code",
   "execution_count": 54,
   "metadata": {},
   "outputs": [
    {
     "data": {
      "text/plain": [
       "99    85744\n",
       "Name: AP6_11_6, dtype: int64"
      ]
     },
     "execution_count": 54,
     "metadata": {},
     "output_type": "execute_result"
    }
   ],
   "source": [
    "df_copy_tper_vic2.AP6_11_6.replace(dicc2, inplace = True)\n",
    "df_copy_tper_vic2.AP6_11_6.value_counts()"
   ]
  },
  {
   "cell_type": "code",
   "execution_count": 55,
   "metadata": {},
   "outputs": [
    {
     "data": {
      "text/plain": [
       "99    85744\n",
       "Name: AP6_11_7, dtype: int64"
      ]
     },
     "execution_count": 55,
     "metadata": {},
     "output_type": "execute_result"
    }
   ],
   "source": [
    "df_copy_tper_vic2.AP6_11_7.replace(dicc2, inplace = True)\n",
    "df_copy_tper_vic2.AP6_11_7.value_counts()"
   ]
  },
  {
   "cell_type": "code",
   "execution_count": 56,
   "metadata": {},
   "outputs": [
    {
     "data": {
      "text/plain": [
       "99    85743\n",
       "1         1\n",
       "Name: AP6_12_4, dtype: int64"
      ]
     },
     "execution_count": 56,
     "metadata": {},
     "output_type": "execute_result"
    }
   ],
   "source": [
    "df_copy_tper_vic2.AP6_12_4.replace({'\\r':'99','9\\r':'99'}, inplace = True)\n",
    "df_copy_tper_vic2.AP6_12_4 =  df_copy_tper_vic2.AP6_12_4.replace('\\r', \"\", regex = True)\n",
    "df_copy_tper_vic2.AP6_12_4.value_counts()"
   ]
  },
  {
   "cell_type": "code",
   "execution_count": 57,
   "metadata": {},
   "outputs": [
    {
     "data": {
      "text/plain": [
       "99    85744\n",
       "Name: AP6_12_5, dtype: int64"
      ]
     },
     "execution_count": 57,
     "metadata": {},
     "output_type": "execute_result"
    }
   ],
   "source": [
    "df_copy_tper_vic2.AP6_12_5.replace({'\\r':'99','9\\r':'99'}, inplace = True)\n",
    "df_copy_tper_vic2.AP6_12_5 =  df_copy_tper_vic2.AP6_12_5.replace('\\r', \"\", regex = True)\n",
    "df_copy_tper_vic2.AP6_12_5.value_counts()"
   ]
  },
  {
   "cell_type": "code",
   "execution_count": 58,
   "metadata": {},
   "outputs": [
    {
     "data": {
      "text/plain": [
       "99    85744\n",
       "Name: AP6_12_6, dtype: int64"
      ]
     },
     "execution_count": 58,
     "metadata": {},
     "output_type": "execute_result"
    }
   ],
   "source": [
    "df_copy_tper_vic2.AP6_12_6.replace({'\\r':'99','9\\r':'99'}, inplace = True)\n",
    "df_copy_tper_vic2.AP6_12_6 =  df_copy_tper_vic2.AP6_12_6.replace('\\r', \"\", regex = True)\n",
    "df_copy_tper_vic2.AP6_12_6.value_counts()"
   ]
  },
  {
   "cell_type": "code",
   "execution_count": 59,
   "metadata": {},
   "outputs": [
    {
     "data": {
      "text/plain": [
       "99    85744\n",
       "Name: AP6_12_7, dtype: int64"
      ]
     },
     "execution_count": 59,
     "metadata": {},
     "output_type": "execute_result"
    }
   ],
   "source": [
    "df_copy_tper_vic2.AP6_12_7.replace({'\\r':'99','9\\r':'99'}, inplace = True)\n",
    "df_copy_tper_vic2.AP6_12_7 =  df_copy_tper_vic2.AP6_12_7.replace('\\r', \"\", regex = True)\n",
    "df_copy_tper_vic2.AP6_12_7.value_counts()"
   ]
  },
  {
   "cell_type": "code",
   "execution_count": 60,
   "metadata": {},
   "outputs": [
    {
     "data": {
      "text/plain": [
       "99    85741\n",
       "1         1\n",
       "2         1\n",
       "3         1\n",
       "Name: AP6_13_3_1, dtype: int64"
      ]
     },
     "execution_count": 60,
     "metadata": {},
     "output_type": "execute_result"
    }
   ],
   "source": [
    "df_copy_tper_vic2.AP6_13_3_1.replace({'\\r':'99','9\\r':'99'}, inplace = True)\n",
    "df_copy_tper_vic2.AP6_13_3_1 =  df_copy_tper_vic2.AP6_13_3_1.replace('\\r', \"\", regex = True)\n",
    "df_copy_tper_vic2.AP6_13_3_1.value_counts()"
   ]
  },
  {
   "cell_type": "code",
   "execution_count": 61,
   "metadata": {},
   "outputs": [
    {
     "data": {
      "text/plain": [
       "99    85744\n",
       "Name: AP6_13_3_2, dtype: int64"
      ]
     },
     "execution_count": 61,
     "metadata": {},
     "output_type": "execute_result"
    }
   ],
   "source": [
    "df_copy_tper_vic2.AP6_13_3_2.replace({'\\r':'99','9\\r':'99'}, inplace = True)\n",
    "df_copy_tper_vic2.AP6_13_3_2 =  df_copy_tper_vic2.AP6_13_3_2.replace('\\r', \"\", regex = True)\n",
    "df_copy_tper_vic2.AP6_13_3_2.value_counts()"
   ]
  },
  {
   "cell_type": "code",
   "execution_count": 62,
   "metadata": {},
   "outputs": [
    {
     "data": {
      "text/plain": [
       "99    85744\n",
       "Name: AP6_13_3_3, dtype: int64"
      ]
     },
     "execution_count": 62,
     "metadata": {},
     "output_type": "execute_result"
    }
   ],
   "source": [
    "df_copy_tper_vic2.AP6_13_3_3.replace({'\\r':'99','9\\r':'99'}, inplace = True)\n",
    "df_copy_tper_vic2.AP6_13_3_3 =  df_copy_tper_vic2.AP6_13_3_3.replace('\\r', \"\", regex = True)\n",
    "df_copy_tper_vic2.AP6_13_3_3.value_counts()"
   ]
  },
  {
   "cell_type": "code",
   "execution_count": 63,
   "metadata": {},
   "outputs": [
    {
     "data": {
      "text/plain": [
       "99    85744\n",
       "Name: AP6_13_3_4, dtype: int64"
      ]
     },
     "execution_count": 63,
     "metadata": {},
     "output_type": "execute_result"
    }
   ],
   "source": [
    "df_copy_tper_vic2.AP6_13_3_4.replace({'\\r':'99','9\\r':'99'}, inplace = True)\n",
    "df_copy_tper_vic2.AP6_13_3_4 =  df_copy_tper_vic2.AP6_13_3_4.replace('\\r', \"\", regex = True)\n",
    "df_copy_tper_vic2.AP6_13_3_4.value_counts()"
   ]
  },
  {
   "cell_type": "code",
   "execution_count": 64,
   "metadata": {},
   "outputs": [
    {
     "data": {
      "text/plain": [
       "99    85743\n",
       "2         1\n",
       "Name: AP6_13_4_1, dtype: int64"
      ]
     },
     "execution_count": 64,
     "metadata": {},
     "output_type": "execute_result"
    }
   ],
   "source": [
    "df_copy_tper_vic2.AP6_13_4_1.replace({'\\r':'99','9\\r':'99'}, inplace = True)\n",
    "df_copy_tper_vic2.AP6_13_4_1 =  df_copy_tper_vic2.AP6_13_4_1.replace('\\r', \"\", regex = True)\n",
    "df_copy_tper_vic2.AP6_13_4_1.value_counts()"
   ]
  },
  {
   "cell_type": "code",
   "execution_count": 65,
   "metadata": {},
   "outputs": [
    {
     "data": {
      "text/plain": [
       "99    85744\n",
       "Name: AP6_13_5_1, dtype: int64"
      ]
     },
     "execution_count": 65,
     "metadata": {},
     "output_type": "execute_result"
    }
   ],
   "source": [
    "df_copy_tper_vic2.AP6_13_5_1.replace({'\\r':'99','9\\r':'99'}, inplace = True)\n",
    "df_copy_tper_vic2.AP6_13_5_1 =  df_copy_tper_vic2.AP6_13_5_1.replace('\\r', \"\", regex = True)\n",
    "df_copy_tper_vic2.AP6_13_5_1.value_counts()"
   ]
  },
  {
   "cell_type": "code",
   "execution_count": 66,
   "metadata": {},
   "outputs": [
    {
     "data": {
      "text/plain": [
       "99    85744\n",
       "Name: AP6_13_6_1, dtype: int64"
      ]
     },
     "execution_count": 66,
     "metadata": {},
     "output_type": "execute_result"
    }
   ],
   "source": [
    "df_copy_tper_vic2.AP6_13_6_1.replace({'\\r':'99','9\\r':'99'}, inplace = True)\n",
    "df_copy_tper_vic2.AP6_13_6_1 =  df_copy_tper_vic2.AP6_13_6_1.replace('\\r', \"\", regex = True)\n",
    "df_copy_tper_vic2.AP6_13_6_1.value_counts()"
   ]
  },
  {
   "cell_type": "code",
   "execution_count": 67,
   "metadata": {},
   "outputs": [
    {
     "data": {
      "text/plain": [
       "99    85744\n",
       "Name: AP6_13_7_1, dtype: int64"
      ]
     },
     "execution_count": 67,
     "metadata": {},
     "output_type": "execute_result"
    }
   ],
   "source": [
    "df_copy_tper_vic2.AP6_13_7_1.replace({'\\r':'99','9\\r':'99'}, inplace = True)\n",
    "df_copy_tper_vic2.AP6_13_7_1 =  df_copy_tper_vic2.AP6_13_7_1.replace('\\r', \"\", regex = True)\n",
    "df_copy_tper_vic2.AP6_13_7_1.value_counts()"
   ]
  },
  {
   "cell_type": "code",
   "execution_count": 68,
   "metadata": {},
   "outputs": [
    {
     "data": {
      "text/plain": [
       "99    85744\n",
       "Name: AP6_13_4_2, dtype: int64"
      ]
     },
     "execution_count": 68,
     "metadata": {},
     "output_type": "execute_result"
    }
   ],
   "source": [
    "df_copy_tper_vic2.AP6_13_4_2.replace({'\\r':'99','9\\r':'99'}, inplace = True)\n",
    "df_copy_tper_vic2.AP6_13_4_2 =  df_copy_tper_vic2.AP6_13_4_2.replace('\\r', \"\", regex = True)\n",
    "df_copy_tper_vic2.AP6_13_4_2.value_counts()"
   ]
  },
  {
   "cell_type": "code",
   "execution_count": 69,
   "metadata": {},
   "outputs": [
    {
     "data": {
      "text/plain": [
       "99    85744\n",
       "Name: AP6_13_5_2, dtype: int64"
      ]
     },
     "execution_count": 69,
     "metadata": {},
     "output_type": "execute_result"
    }
   ],
   "source": [
    "df_copy_tper_vic2.AP6_13_5_2.replace({'\\r':'99','9\\r':'99'}, inplace = True)\n",
    "df_copy_tper_vic2.AP6_13_5_2 =  df_copy_tper_vic2.AP6_13_5_2.replace('\\r', \"\", regex = True)\n",
    "df_copy_tper_vic2.AP6_13_5_2.value_counts()"
   ]
  },
  {
   "cell_type": "code",
   "execution_count": 70,
   "metadata": {},
   "outputs": [
    {
     "data": {
      "text/plain": [
       "99    85744\n",
       "Name: AP6_13_6_2, dtype: int64"
      ]
     },
     "execution_count": 70,
     "metadata": {},
     "output_type": "execute_result"
    }
   ],
   "source": [
    "df_copy_tper_vic2.AP6_13_6_2.replace({'\\r':'99','9\\r':'99'}, inplace = True)\n",
    "df_copy_tper_vic2.AP6_13_6_2 =  df_copy_tper_vic2.AP6_13_6_2.replace('\\r', \"\", regex = True)\n",
    "df_copy_tper_vic2.AP6_13_6_2.value_counts()"
   ]
  },
  {
   "cell_type": "code",
   "execution_count": 71,
   "metadata": {},
   "outputs": [
    {
     "data": {
      "text/plain": [
       "99    85744\n",
       "Name: AP6_13_7_2, dtype: int64"
      ]
     },
     "execution_count": 71,
     "metadata": {},
     "output_type": "execute_result"
    }
   ],
   "source": [
    "df_copy_tper_vic2.AP6_13_7_2.replace({'\\r':'99','9\\r':'99'}, inplace = True)\n",
    "df_copy_tper_vic2.AP6_13_7_2 =  df_copy_tper_vic2.AP6_13_7_2.replace('\\r', \"\", regex = True)\n",
    "df_copy_tper_vic2.AP6_13_7_2.value_counts()"
   ]
  },
  {
   "cell_type": "code",
   "execution_count": 72,
   "metadata": {},
   "outputs": [
    {
     "data": {
      "text/plain": [
       "99    85744\n",
       "Name: AP6_13_4_3, dtype: int64"
      ]
     },
     "execution_count": 72,
     "metadata": {},
     "output_type": "execute_result"
    }
   ],
   "source": [
    "df_copy_tper_vic2.AP6_13_4_3.replace({'\\r':'99','9\\r':'99'}, inplace = True)\n",
    "df_copy_tper_vic2.AP6_13_4_3 =  df_copy_tper_vic2.AP6_13_4_3.replace('\\r', \"\", regex = True)\n",
    "df_copy_tper_vic2.AP6_13_4_3.value_counts()"
   ]
  },
  {
   "cell_type": "code",
   "execution_count": 73,
   "metadata": {},
   "outputs": [
    {
     "data": {
      "text/plain": [
       "99    85744\n",
       "Name: AP6_13_5_3, dtype: int64"
      ]
     },
     "execution_count": 73,
     "metadata": {},
     "output_type": "execute_result"
    }
   ],
   "source": [
    "df_copy_tper_vic2.AP6_13_5_3.replace({'\\r':'99','9\\r':'99'}, inplace = True)\n",
    "df_copy_tper_vic2.AP6_13_5_3 =  df_copy_tper_vic2.AP6_13_5_3.replace('\\r', \"\", regex = True)\n",
    "df_copy_tper_vic2.AP6_13_5_3.value_counts()"
   ]
  },
  {
   "cell_type": "code",
   "execution_count": 74,
   "metadata": {},
   "outputs": [
    {
     "data": {
      "text/plain": [
       "99    85744\n",
       "Name: AP6_13_6_3, dtype: int64"
      ]
     },
     "execution_count": 74,
     "metadata": {},
     "output_type": "execute_result"
    }
   ],
   "source": [
    "df_copy_tper_vic2.AP6_13_6_3.replace({'\\r':'99','9\\r':'99'}, inplace = True)\n",
    "df_copy_tper_vic2.AP6_13_6_3 =  df_copy_tper_vic2.AP6_13_6_3.replace('\\r', \"\", regex = True)\n",
    "df_copy_tper_vic2.AP6_13_6_3.value_counts()"
   ]
  },
  {
   "cell_type": "code",
   "execution_count": 75,
   "metadata": {},
   "outputs": [
    {
     "data": {
      "text/plain": [
       "99    85744\n",
       "Name: AP6_13_7_3, dtype: int64"
      ]
     },
     "execution_count": 75,
     "metadata": {},
     "output_type": "execute_result"
    }
   ],
   "source": [
    "df_copy_tper_vic2.AP6_13_7_3.replace({'\\r':'99','9\\r':'99'}, inplace = True)\n",
    "df_copy_tper_vic2.AP6_13_7_3 =  df_copy_tper_vic2.AP6_13_7_3.replace('\\r', \"\", regex = True)\n",
    "df_copy_tper_vic2.AP6_13_7_3.value_counts()"
   ]
  },
  {
   "cell_type": "code",
   "execution_count": 76,
   "metadata": {},
   "outputs": [
    {
     "data": {
      "text/plain": [
       "99    85744\n",
       "Name: AP6_13_4_4, dtype: int64"
      ]
     },
     "execution_count": 76,
     "metadata": {},
     "output_type": "execute_result"
    }
   ],
   "source": [
    "df_copy_tper_vic2.AP6_13_4_4.replace({'\\r':'99','9\\r':'99'}, inplace = True)\n",
    "df_copy_tper_vic2.AP6_13_4_4 =  df_copy_tper_vic2.AP6_13_4_4.replace('\\r', \"\", regex = True)\n",
    "df_copy_tper_vic2.AP6_13_4_4.value_counts()"
   ]
  },
  {
   "cell_type": "code",
   "execution_count": 77,
   "metadata": {},
   "outputs": [
    {
     "data": {
      "text/plain": [
       "99    85744\n",
       "Name: AP6_13_5_4, dtype: int64"
      ]
     },
     "execution_count": 77,
     "metadata": {},
     "output_type": "execute_result"
    }
   ],
   "source": [
    "df_copy_tper_vic2.AP6_13_5_4.replace({'\\r':'99','9\\r':'99'}, inplace = True)\n",
    "df_copy_tper_vic2.AP6_13_5_4 =  df_copy_tper_vic2.AP6_13_5_4.replace('\\r', \"\", regex = True)\n",
    "df_copy_tper_vic2.AP6_13_5_4.value_counts()"
   ]
  },
  {
   "cell_type": "code",
   "execution_count": 78,
   "metadata": {},
   "outputs": [
    {
     "data": {
      "text/plain": [
       "99    85744\n",
       "Name: AP6_13_6_4, dtype: int64"
      ]
     },
     "execution_count": 78,
     "metadata": {},
     "output_type": "execute_result"
    }
   ],
   "source": [
    "df_copy_tper_vic2.AP6_13_6_4.replace({'\\r':'99','9\\r':'99'}, inplace = True)\n",
    "df_copy_tper_vic2.AP6_13_6_4 =  df_copy_tper_vic2.AP6_13_6_4.replace('\\r', \"\", regex = True)\n",
    "df_copy_tper_vic2.AP6_13_6_4.value_counts()"
   ]
  },
  {
   "cell_type": "code",
   "execution_count": 79,
   "metadata": {},
   "outputs": [
    {
     "data": {
      "text/plain": [
       "99    85744\n",
       "Name: AP6_13_7_4, dtype: int64"
      ]
     },
     "execution_count": 79,
     "metadata": {},
     "output_type": "execute_result"
    }
   ],
   "source": [
    "df_copy_tper_vic2.AP6_13_7_4.replace({'\\r':'99','9\\r':'99'}, inplace = True)\n",
    "df_copy_tper_vic2.AP6_13_7_4 =  df_copy_tper_vic2.AP6_13_7_4.replace('\\r', \"\", regex = True)\n",
    "df_copy_tper_vic2.AP6_13_7_4.value_counts()"
   ]
  },
  {
   "cell_type": "code",
   "execution_count": 80,
   "metadata": {},
   "outputs": [
    {
     "data": {
      "text/plain": [
       "2     85223\n",
       "1       489\n",
       "99       32\n",
       "Name: AP6_14, dtype: int64"
      ]
     },
     "execution_count": 80,
     "metadata": {},
     "output_type": "execute_result"
    }
   ],
   "source": [
    "df_copy_tper_vic2.AP6_14.replace(dicc, inplace = True)\n",
    "df_copy_tper_vic2.AP6_14.value_counts()"
   ]
  },
  {
   "cell_type": "code",
   "execution_count": 81,
   "metadata": {},
   "outputs": [
    {
     "data": {
      "text/plain": [
       "2     85606\n",
       "1       106\n",
       "99       32\n",
       "Name: AP6_15_1, dtype: int64"
      ]
     },
     "execution_count": 81,
     "metadata": {},
     "output_type": "execute_result"
    }
   ],
   "source": [
    "df_copy_tper_vic2.AP6_15_1.replace(dicc, inplace = True)\n",
    "df_copy_tper_vic2.AP6_15_1.value_counts()"
   ]
  },
  {
   "cell_type": "code",
   "execution_count": 82,
   "metadata": {},
   "outputs": [
    {
     "data": {
      "text/plain": [
       "99    85638\n",
       "01       97\n",
       "02        9\n",
       "Name: AP6_15_2, dtype: int64"
      ]
     },
     "execution_count": 82,
     "metadata": {},
     "output_type": "execute_result"
    }
   ],
   "source": [
    "df_copy_tper_vic2.AP6_15_2.replace({'\\r':'99','9\\r':'99'}, inplace = True)\n",
    "df_copy_tper_vic2.AP6_15_2 =  df_copy_tper_vic2.AP6_15_2.replace('\\r', \"\", regex = True)\n",
    "df_copy_tper_vic2.AP6_15_2.value_counts()"
   ]
  },
  {
   "cell_type": "code",
   "execution_count": 83,
   "metadata": {},
   "outputs": [
    {
     "data": {
      "text/plain": [
       "99    85638\n",
       "1        89\n",
       "2        17\n",
       "Name: AP6_16_1, dtype: int64"
      ]
     },
     "execution_count": 83,
     "metadata": {},
     "output_type": "execute_result"
    }
   ],
   "source": [
    "df_copy_tper_vic2.AP6_16_1.replace({'\\r':'99','9\\r':'99'}, inplace = True)\n",
    "df_copy_tper_vic2.AP6_16_1 =  df_copy_tper_vic2.AP6_16_1.replace('\\r', \"\", regex = True)\n",
    "df_copy_tper_vic2.AP6_16_1.value_counts()"
   ]
  },
  {
   "cell_type": "code",
   "execution_count": 84,
   "metadata": {},
   "outputs": [
    {
     "data": {
      "text/plain": [
       "99    85735\n",
       "1         7\n",
       "2         2\n",
       "Name: AP6_16_2, dtype: int64"
      ]
     },
     "execution_count": 84,
     "metadata": {},
     "output_type": "execute_result"
    }
   ],
   "source": [
    "df_copy_tper_vic2.AP6_16_2.replace({'\\r':'99','9\\r':'99'}, inplace = True)\n",
    "df_copy_tper_vic2.AP6_16_2 =  df_copy_tper_vic2.AP6_16_2.replace('\\r', \"\", regex = True)\n",
    "df_copy_tper_vic2.AP6_16_2.value_counts()"
   ]
  },
  {
   "cell_type": "code",
   "execution_count": 85,
   "metadata": {},
   "outputs": [
    {
     "data": {
      "text/plain": [
       "99    85744\n",
       "Name: AP6_16_3, dtype: int64"
      ]
     },
     "execution_count": 85,
     "metadata": {},
     "output_type": "execute_result"
    }
   ],
   "source": [
    "df_copy_tper_vic2.AP6_16_3.replace({'\\r':'99','9\\r':'99'}, inplace = True)\n",
    "df_copy_tper_vic2.AP6_16_3 =  df_copy_tper_vic2.AP6_16_3.replace('\\r', \"\", regex = True)\n",
    "df_copy_tper_vic2.AP6_16_3.value_counts()"
   ]
  },
  {
   "cell_type": "code",
   "execution_count": 86,
   "metadata": {},
   "outputs": [
    {
     "data": {
      "text/plain": [
       "99    85744\n",
       "Name: AP6_16_3, dtype: int64"
      ]
     },
     "execution_count": 86,
     "metadata": {},
     "output_type": "execute_result"
    }
   ],
   "source": [
    "df_copy_tper_vic2.AP6_16_3.replace({'\\r':'99','9\\r':'99'}, inplace = True)\n",
    "df_copy_tper_vic2.AP6_16_3 =  df_copy_tper_vic2.AP6_16_3.replace('\\r', \"\", regex = True)\n",
    "df_copy_tper_vic2.AP6_16_3.value_counts()"
   ]
  },
  {
   "cell_type": "code",
   "execution_count": 87,
   "metadata": {},
   "outputs": [
    {
     "data": {
      "text/plain": [
       "99    85744\n",
       "Name: AP6_16_4, dtype: int64"
      ]
     },
     "execution_count": 87,
     "metadata": {},
     "output_type": "execute_result"
    }
   ],
   "source": [
    "df_copy_tper_vic2.AP6_16_4.replace({'\\r':'99','9\\r':'99'}, inplace = True)\n",
    "df_copy_tper_vic2.AP6_16_4 =  df_copy_tper_vic2.AP6_16_4.replace('\\r', \"\", regex = True)\n",
    "df_copy_tper_vic2.AP6_16_4.value_counts()"
   ]
  },
  {
   "cell_type": "code",
   "execution_count": 88,
   "metadata": {},
   "outputs": [
    {
     "data": {
      "text/plain": [
       "99    85744\n",
       "Name: AP6_16_5, dtype: int64"
      ]
     },
     "execution_count": 88,
     "metadata": {},
     "output_type": "execute_result"
    }
   ],
   "source": [
    "df_copy_tper_vic2.AP6_16_5.replace({'\\r':'99','9\\r':'99'}, inplace = True)\n",
    "df_copy_tper_vic2.AP6_16_5 =  df_copy_tper_vic2.AP6_16_5.replace('\\r', \"\", regex = True)\n",
    "df_copy_tper_vic2.AP6_16_5.value_counts()"
   ]
  },
  {
   "cell_type": "code",
   "execution_count": 89,
   "metadata": {},
   "outputs": [
    {
     "data": {
      "text/plain": [
       "99    85744\n",
       "Name: AP6_16_6, dtype: int64"
      ]
     },
     "execution_count": 89,
     "metadata": {},
     "output_type": "execute_result"
    }
   ],
   "source": [
    "df_copy_tper_vic2.AP6_16_6.replace({'\\r':'99','9\\r':'99'}, inplace = True)\n",
    "df_copy_tper_vic2.AP6_16_6 =  df_copy_tper_vic2.AP6_16_6.replace('\\r', \"\", regex = True)\n",
    "df_copy_tper_vic2.AP6_16_6.value_counts()"
   ]
  },
  {
   "cell_type": "code",
   "execution_count": 90,
   "metadata": {},
   "outputs": [
    {
     "data": {
      "text/plain": [
       "99    85744\n",
       "Name: AP6_16_7, dtype: int64"
      ]
     },
     "execution_count": 90,
     "metadata": {},
     "output_type": "execute_result"
    }
   ],
   "source": [
    "df_copy_tper_vic2.AP6_16_7.replace({'\\r':'99','9\\r':'99'}, inplace = True)\n",
    "df_copy_tper_vic2.AP6_16_7 =  df_copy_tper_vic2.AP6_16_7.replace('\\r', \"\", regex = True)\n",
    "df_copy_tper_vic2.AP6_16_7.value_counts()"
   ]
  },
  {
   "cell_type": "code",
   "execution_count": 91,
   "metadata": {},
   "outputs": [
    {
     "data": {
      "text/plain": [
       "99    85655\n",
       "1        63\n",
       "2        14\n",
       "3        12\n",
       "Name: AP6_17_1, dtype: int64"
      ]
     },
     "execution_count": 91,
     "metadata": {},
     "output_type": "execute_result"
    }
   ],
   "source": [
    "df_copy_tper_vic2.AP6_17_1.replace({'\\r':'99','9\\r':'99'}, inplace = True)\n",
    "df_copy_tper_vic2.AP6_17_1 =  df_copy_tper_vic2.AP6_17_1.replace('\\r', \"\", regex = True)\n",
    "df_copy_tper_vic2.AP6_17_1.value_counts()"
   ]
  },
  {
   "cell_type": "code",
   "execution_count": 92,
   "metadata": {},
   "outputs": [
    {
     "data": {
      "text/plain": [
       "99    85737\n",
       "1         4\n",
       "2         2\n",
       "3         1\n",
       "Name: AP6_17_2, dtype: int64"
      ]
     },
     "execution_count": 92,
     "metadata": {},
     "output_type": "execute_result"
    }
   ],
   "source": [
    "df_copy_tper_vic2.AP6_17_2.replace({'\\r':'99','9\\r':'99'}, inplace = True)\n",
    "df_copy_tper_vic2.AP6_17_2 =  df_copy_tper_vic2.AP6_17_2.replace('\\r', \"\", regex = True)\n",
    "df_copy_tper_vic2.AP6_17_2.value_counts()"
   ]
  },
  {
   "cell_type": "code",
   "execution_count": 93,
   "metadata": {},
   "outputs": [
    {
     "data": {
      "text/plain": [
       "99    85744\n",
       "Name: AP6_17_3, dtype: int64"
      ]
     },
     "execution_count": 93,
     "metadata": {},
     "output_type": "execute_result"
    }
   ],
   "source": [
    "df_copy_tper_vic2.AP6_17_3.replace({'\\r':'99','9\\r':'99'}, inplace = True)\n",
    "df_copy_tper_vic2.AP6_17_3 =  df_copy_tper_vic2.AP6_17_3.replace('\\r', \"\", regex = True)\n",
    "df_copy_tper_vic2.AP6_17_3.value_counts()"
   ]
  },
  {
   "cell_type": "code",
   "execution_count": 94,
   "metadata": {},
   "outputs": [
    {
     "data": {
      "text/plain": [
       "99    85744\n",
       "Name: AP6_17_4, dtype: int64"
      ]
     },
     "execution_count": 94,
     "metadata": {},
     "output_type": "execute_result"
    }
   ],
   "source": [
    "df_copy_tper_vic2.AP6_17_4.replace({'\\r':'99','9\\r':'99'}, inplace = True)\n",
    "df_copy_tper_vic2.AP6_17_4 =  df_copy_tper_vic2.AP6_17_4.replace('\\r', \"\", regex = True)\n",
    "df_copy_tper_vic2.AP6_17_4.value_counts()"
   ]
  },
  {
   "cell_type": "code",
   "execution_count": 95,
   "metadata": {},
   "outputs": [
    {
     "data": {
      "text/plain": [
       "99    85744\n",
       "Name: AP6_17_5, dtype: int64"
      ]
     },
     "execution_count": 95,
     "metadata": {},
     "output_type": "execute_result"
    }
   ],
   "source": [
    "df_copy_tper_vic2.AP6_17_5.replace({'\\r':'99','9\\r':'99'}, inplace = True)\n",
    "df_copy_tper_vic2.AP6_17_5 =  df_copy_tper_vic2.AP6_17_5.replace('\\r', \"\", regex = True)\n",
    "df_copy_tper_vic2.AP6_17_5.value_counts()"
   ]
  },
  {
   "cell_type": "code",
   "execution_count": 96,
   "metadata": {},
   "outputs": [
    {
     "data": {
      "text/plain": [
       "99    85744\n",
       "Name: AP6_17_6, dtype: int64"
      ]
     },
     "execution_count": 96,
     "metadata": {},
     "output_type": "execute_result"
    }
   ],
   "source": [
    "df_copy_tper_vic2.AP6_17_6.replace({'\\r':'99','9\\r':'99'}, inplace = True)\n",
    "df_copy_tper_vic2.AP6_17_6 =  df_copy_tper_vic2.AP6_17_6.replace('\\r', \"\", regex = True)\n",
    "df_copy_tper_vic2.AP6_17_6.value_counts()"
   ]
  },
  {
   "cell_type": "code",
   "execution_count": 97,
   "metadata": {},
   "outputs": [
    {
     "data": {
      "text/plain": [
       "99    85744\n",
       "Name: AP6_17_7, dtype: int64"
      ]
     },
     "execution_count": 97,
     "metadata": {},
     "output_type": "execute_result"
    }
   ],
   "source": [
    "df_copy_tper_vic2.AP6_17_7.replace({'\\r':'99','9\\r':'99'}, inplace = True)\n",
    "df_copy_tper_vic2.AP6_17_7 =  df_copy_tper_vic2.AP6_17_7.replace('\\r', \"\", regex = True)\n",
    "df_copy_tper_vic2.AP6_17_7.value_counts()"
   ]
  },
  {
   "cell_type": "code",
   "execution_count": 98,
   "metadata": {},
   "outputs": [
    {
     "data": {
      "text/plain": [
       "99    85734\n",
       "1        10\n",
       "Name: AP6_18_1, dtype: int64"
      ]
     },
     "execution_count": 98,
     "metadata": {},
     "output_type": "execute_result"
    }
   ],
   "source": [
    "df_copy_tper_vic2.AP6_18_1.replace({'\\r':'99','9\\r':'99'}, inplace = True)\n",
    "df_copy_tper_vic2.AP6_18_1 =  df_copy_tper_vic2.AP6_18_1.replace('\\r', \"\", regex = True)\n",
    "df_copy_tper_vic2.AP6_18_1.value_counts()"
   ]
  },
  {
   "cell_type": "code",
   "execution_count": 99,
   "metadata": {},
   "outputs": [
    {
     "data": {
      "text/plain": [
       "99    85743\n",
       "1         1\n",
       "Name: AP6_18_2, dtype: int64"
      ]
     },
     "execution_count": 99,
     "metadata": {},
     "output_type": "execute_result"
    }
   ],
   "source": [
    "df_copy_tper_vic2.AP6_18_2.replace({'\\r':'99','9\\r':'99'}, inplace = True)\n",
    "df_copy_tper_vic2.AP6_18_2 =  df_copy_tper_vic2.AP6_18_2.replace('\\r', \"\", regex = True)\n",
    "df_copy_tper_vic2.AP6_18_2.value_counts()"
   ]
  },
  {
   "cell_type": "code",
   "execution_count": 100,
   "metadata": {},
   "outputs": [
    {
     "data": {
      "text/plain": [
       "99    85744\n",
       "Name: AP6_18_3, dtype: int64"
      ]
     },
     "execution_count": 100,
     "metadata": {},
     "output_type": "execute_result"
    }
   ],
   "source": [
    "df_copy_tper_vic2.AP6_18_3.replace({'\\r':'99','9\\r':'99'}, inplace = True)\n",
    "df_copy_tper_vic2.AP6_18_3 =  df_copy_tper_vic2.AP6_18_3.replace('\\r', \"\", regex = True)\n",
    "df_copy_tper_vic2.AP6_18_3.value_counts()"
   ]
  },
  {
   "cell_type": "code",
   "execution_count": 101,
   "metadata": {},
   "outputs": [
    {
     "data": {
      "text/plain": [
       "99    85744\n",
       "Name: AP6_18_4, dtype: int64"
      ]
     },
     "execution_count": 101,
     "metadata": {},
     "output_type": "execute_result"
    }
   ],
   "source": [
    "df_copy_tper_vic2.AP6_18_4.replace({'\\r':'99','9\\r':'99'}, inplace = True)\n",
    "df_copy_tper_vic2.AP6_18_4 =  df_copy_tper_vic2.AP6_18_4.replace('\\r', \"\", regex = True)\n",
    "df_copy_tper_vic2.AP6_18_4.value_counts()"
   ]
  },
  {
   "cell_type": "code",
   "execution_count": 102,
   "metadata": {},
   "outputs": [
    {
     "data": {
      "text/plain": [
       "99    85744\n",
       "Name: AP6_18_5, dtype: int64"
      ]
     },
     "execution_count": 102,
     "metadata": {},
     "output_type": "execute_result"
    }
   ],
   "source": [
    "df_copy_tper_vic2.AP6_18_5.replace({'\\r':'99','9\\r':'99'}, inplace = True)\n",
    "df_copy_tper_vic2.AP6_18_5 =  df_copy_tper_vic2.AP6_18_5.replace('\\r', \"\", regex = True)\n",
    "df_copy_tper_vic2.AP6_18_5.value_counts()"
   ]
  },
  {
   "cell_type": "code",
   "execution_count": 103,
   "metadata": {},
   "outputs": [
    {
     "data": {
      "text/plain": [
       "99    85744\n",
       "Name: AP6_18_6, dtype: int64"
      ]
     },
     "execution_count": 103,
     "metadata": {},
     "output_type": "execute_result"
    }
   ],
   "source": [
    "df_copy_tper_vic2.AP6_18_6.replace({'\\r':'99','9\\r':'99'}, inplace = True)\n",
    "df_copy_tper_vic2.AP6_18_6 =  df_copy_tper_vic2.AP6_18_6.replace('\\r', \"\", regex = True)\n",
    "df_copy_tper_vic2.AP6_18_6.value_counts()"
   ]
  },
  {
   "cell_type": "code",
   "execution_count": 104,
   "metadata": {},
   "outputs": [
    {
     "data": {
      "text/plain": [
       "99    85744\n",
       "Name: AP6_18_7, dtype: int64"
      ]
     },
     "execution_count": 104,
     "metadata": {},
     "output_type": "execute_result"
    }
   ],
   "source": [
    "df_copy_tper_vic2.AP6_18_7.replace({'\\r':'99','9\\r':'99'}, inplace = True)\n",
    "df_copy_tper_vic2.AP6_18_7 =  df_copy_tper_vic2.AP6_18_7.replace('\\r', \"\", regex = True)\n",
    "df_copy_tper_vic2.AP6_18_7.value_counts()"
   ]
  },
  {
   "cell_type": "code",
   "execution_count": 105,
   "metadata": {},
   "outputs": [
    {
     "data": {
      "text/plain": [
       "2     85098\n",
       "1       609\n",
       "99       37\n",
       "Name: AP6_19, dtype: int64"
      ]
     },
     "execution_count": 105,
     "metadata": {},
     "output_type": "execute_result"
    }
   ],
   "source": [
    "df_copy_tper_vic2.AP6_19.replace(dicc, inplace = True)\n",
    "df_copy_tper_vic2.AP6_19.value_counts()"
   ]
  },
  {
   "cell_type": "code",
   "execution_count": 106,
   "metadata": {},
   "outputs": [
    {
     "data": {
      "text/plain": [
       "2     85626\n",
       "1        82\n",
       "99       36\n",
       "Name: AP6_20_1, dtype: int64"
      ]
     },
     "execution_count": 106,
     "metadata": {},
     "output_type": "execute_result"
    }
   ],
   "source": [
    "df_copy_tper_vic2.AP6_20_1.replace(dicc, inplace = True)\n",
    "df_copy_tper_vic2.AP6_20_1.value_counts()"
   ]
  },
  {
   "cell_type": "code",
   "execution_count": 107,
   "metadata": {},
   "outputs": [
    {
     "data": {
      "text/plain": [
       "\\r      85662\n",
       "01\\r       78\n",
       "02\\r        4\n",
       "Name: AP6_20_2, dtype: int64"
      ]
     },
     "execution_count": 107,
     "metadata": {},
     "output_type": "execute_result"
    }
   ],
   "source": [
    "df_copy_tper_vic2.AP6_20_2.value_counts()"
   ]
  },
  {
   "cell_type": "code",
   "execution_count": 108,
   "metadata": {},
   "outputs": [
    {
     "data": {
      "text/plain": [
       "99    85662\n",
       "01       78\n",
       "02        4\n",
       "Name: AP6_20_2, dtype: int64"
      ]
     },
     "execution_count": 108,
     "metadata": {},
     "output_type": "execute_result"
    }
   ],
   "source": [
    "df_copy_tper_vic2.AP6_20_2.replace({'\\r':'99','9\\r':'99'}, inplace = True)\n",
    "df_copy_tper_vic2.AP6_20_2 =  df_copy_tper_vic2.AP6_20_2.replace('\\r', \"\", regex = True)\n",
    "df_copy_tper_vic2.AP6_20_2.value_counts()"
   ]
  },
  {
   "cell_type": "code",
   "execution_count": 109,
   "metadata": {},
   "outputs": [
    {
     "data": {
      "text/plain": [
       "99    85663\n",
       "1        59\n",
       "2        22\n",
       "Name: AP6_21_1, dtype: int64"
      ]
     },
     "execution_count": 109,
     "metadata": {},
     "output_type": "execute_result"
    }
   ],
   "source": [
    "df_copy_tper_vic2.AP6_21_1.replace({'\\r':'99','9\\r':'99'}, inplace = True)\n",
    "df_copy_tper_vic2.AP6_21_1 =  df_copy_tper_vic2.AP6_21_1.replace('\\r', \"\", regex = True)\n",
    "df_copy_tper_vic2.AP6_21_1.value_counts()"
   ]
  },
  {
   "cell_type": "code",
   "execution_count": 110,
   "metadata": {},
   "outputs": [
    {
     "data": {
      "text/plain": [
       "99    85740\n",
       "1         2\n",
       "2         2\n",
       "Name: AP6_21_2, dtype: int64"
      ]
     },
     "execution_count": 110,
     "metadata": {},
     "output_type": "execute_result"
    }
   ],
   "source": [
    "df_copy_tper_vic2.AP6_21_2.replace({'\\r':'99','9\\r':'99'}, inplace = True)\n",
    "df_copy_tper_vic2.AP6_21_2 =  df_copy_tper_vic2.AP6_21_2.replace('\\r', \"\", regex = True)\n",
    "df_copy_tper_vic2.AP6_21_2.value_counts()"
   ]
  },
  {
   "cell_type": "code",
   "execution_count": 111,
   "metadata": {},
   "outputs": [
    {
     "data": {
      "text/plain": [
       "99    85744\n",
       "Name: AP6_21_3, dtype: int64"
      ]
     },
     "execution_count": 111,
     "metadata": {},
     "output_type": "execute_result"
    }
   ],
   "source": [
    "df_copy_tper_vic2.AP6_21_3.replace({'\\r':'99','9\\r':'99'}, inplace = True)\n",
    "df_copy_tper_vic2.AP6_21_3 =  df_copy_tper_vic2.AP6_21_3.replace('\\r', \"\", regex = True)\n",
    "df_copy_tper_vic2.AP6_21_3.value_counts()"
   ]
  },
  {
   "cell_type": "code",
   "execution_count": 112,
   "metadata": {},
   "outputs": [
    {
     "data": {
      "text/plain": [
       "99    85744\n",
       "Name: AP6_21_4, dtype: int64"
      ]
     },
     "execution_count": 112,
     "metadata": {},
     "output_type": "execute_result"
    }
   ],
   "source": [
    "df_copy_tper_vic2.AP6_21_4.replace({'\\r':'99','9\\r':'99'}, inplace = True)\n",
    "df_copy_tper_vic2.AP6_21_4 =  df_copy_tper_vic2.AP6_21_4.replace('\\r', \"\", regex = True)\n",
    "df_copy_tper_vic2.AP6_21_4.value_counts()"
   ]
  },
  {
   "cell_type": "code",
   "execution_count": 113,
   "metadata": {},
   "outputs": [
    {
     "data": {
      "text/plain": [
       "99    85744\n",
       "Name: AP6_21_5, dtype: int64"
      ]
     },
     "execution_count": 113,
     "metadata": {},
     "output_type": "execute_result"
    }
   ],
   "source": [
    "df_copy_tper_vic2.AP6_21_5.replace({'\\r':'99','9\\r':'99'}, inplace = True)\n",
    "df_copy_tper_vic2.AP6_21_5 =  df_copy_tper_vic2.AP6_21_5.replace('\\r', \"\", regex = True)\n",
    "df_copy_tper_vic2.AP6_21_5.value_counts()"
   ]
  },
  {
   "cell_type": "code",
   "execution_count": 114,
   "metadata": {},
   "outputs": [
    {
     "data": {
      "text/plain": [
       "99    85744\n",
       "Name: AP6_21_6, dtype: int64"
      ]
     },
     "execution_count": 114,
     "metadata": {},
     "output_type": "execute_result"
    }
   ],
   "source": [
    "df_copy_tper_vic2.AP6_21_6.replace({'\\r':'99','9\\r':'99'}, inplace = True)\n",
    "df_copy_tper_vic2.AP6_21_6 =  df_copy_tper_vic2.AP6_21_6.replace('\\r', \"\", regex = True)\n",
    "df_copy_tper_vic2.AP6_21_6.value_counts()"
   ]
  },
  {
   "cell_type": "code",
   "execution_count": 115,
   "metadata": {},
   "outputs": [
    {
     "data": {
      "text/plain": [
       "99    85744\n",
       "Name: AP6_21_7, dtype: int64"
      ]
     },
     "execution_count": 115,
     "metadata": {},
     "output_type": "execute_result"
    }
   ],
   "source": [
    "df_copy_tper_vic2.AP6_21_7.replace({'\\r':'99','9\\r':'99'}, inplace = True)\n",
    "df_copy_tper_vic2.AP6_21_7 =  df_copy_tper_vic2.AP6_21_7.replace('\\r', \"\", regex = True)\n",
    "df_copy_tper_vic2.AP6_21_7.value_counts()"
   ]
  },
  {
   "cell_type": "code",
   "execution_count": 116,
   "metadata": {},
   "outputs": [
    {
     "data": {
      "text/plain": [
       "99    85732\n",
       "1        11\n",
       "2         1\n",
       "Name: AP6_22_1, dtype: int64"
      ]
     },
     "execution_count": 116,
     "metadata": {},
     "output_type": "execute_result"
    }
   ],
   "source": [
    "df_copy_tper_vic2.AP6_22_1.replace({'\\r':'99','9\\r':'99'}, inplace = True)\n",
    "df_copy_tper_vic2.AP6_22_1 =  df_copy_tper_vic2.AP6_22_1.replace('\\r', \"\", regex = True)\n",
    "df_copy_tper_vic2.AP6_22_1.value_counts()"
   ]
  },
  {
   "cell_type": "code",
   "execution_count": 117,
   "metadata": {},
   "outputs": [
    {
     "data": {
      "text/plain": [
       "99    85743\n",
       "1         1\n",
       "Name: AP6_22_2, dtype: int64"
      ]
     },
     "execution_count": 117,
     "metadata": {},
     "output_type": "execute_result"
    }
   ],
   "source": [
    "df_copy_tper_vic2.AP6_22_2.replace({'\\r':'99','9\\r':'99'}, inplace = True)\n",
    "df_copy_tper_vic2.AP6_22_2=  df_copy_tper_vic2.AP6_22_2.replace('\\r', \"\", regex = True)\n",
    "df_copy_tper_vic2.AP6_22_2.value_counts()"
   ]
  },
  {
   "cell_type": "code",
   "execution_count": 118,
   "metadata": {},
   "outputs": [
    {
     "data": {
      "text/plain": [
       "99    85744\n",
       "Name: AP6_22_3, dtype: int64"
      ]
     },
     "execution_count": 118,
     "metadata": {},
     "output_type": "execute_result"
    }
   ],
   "source": [
    "df_copy_tper_vic2.AP6_22_3.replace({'\\r':'99','9\\r':'99'}, inplace = True)\n",
    "df_copy_tper_vic2.AP6_22_3 =  df_copy_tper_vic2.AP6_22_3.replace('\\r', \"\", regex = True)\n",
    "df_copy_tper_vic2.AP6_22_3.value_counts()"
   ]
  },
  {
   "cell_type": "code",
   "execution_count": 119,
   "metadata": {},
   "outputs": [
    {
     "data": {
      "text/plain": [
       "99    85744\n",
       "Name: AP6_22_4, dtype: int64"
      ]
     },
     "execution_count": 119,
     "metadata": {},
     "output_type": "execute_result"
    }
   ],
   "source": [
    "df_copy_tper_vic2.AP6_22_4.replace({'\\r':'99','9\\r':'99'}, inplace = True)\n",
    "df_copy_tper_vic2.AP6_22_4 =  df_copy_tper_vic2.AP6_22_4.replace('\\r', \"\", regex = True)\n",
    "df_copy_tper_vic2.AP6_22_4.value_counts()"
   ]
  },
  {
   "cell_type": "code",
   "execution_count": 120,
   "metadata": {},
   "outputs": [
    {
     "data": {
      "text/plain": [
       "99    85744\n",
       "Name: AP6_22_5, dtype: int64"
      ]
     },
     "execution_count": 120,
     "metadata": {},
     "output_type": "execute_result"
    }
   ],
   "source": [
    "df_copy_tper_vic2.AP6_22_5.replace({'\\r':'99','9\\r':'99'}, inplace = True)\n",
    "df_copy_tper_vic2.AP6_22_5 =  df_copy_tper_vic2.AP6_22_5.replace('\\r', \"\", regex = True)\n",
    "df_copy_tper_vic2.AP6_22_5.value_counts()"
   ]
  },
  {
   "cell_type": "code",
   "execution_count": 121,
   "metadata": {},
   "outputs": [
    {
     "data": {
      "text/plain": [
       "99    85744\n",
       "Name: AP6_22_6, dtype: int64"
      ]
     },
     "execution_count": 121,
     "metadata": {},
     "output_type": "execute_result"
    }
   ],
   "source": [
    "df_copy_tper_vic2.AP6_22_6.replace({'\\r':'99','9\\r':'99'}, inplace = True)\n",
    "df_copy_tper_vic2.AP6_22_6 =  df_copy_tper_vic2.AP6_22_6.replace('\\r', \"\", regex = True)\n",
    "df_copy_tper_vic2.AP6_22_6.value_counts()"
   ]
  },
  {
   "cell_type": "code",
   "execution_count": 122,
   "metadata": {},
   "outputs": [
    {
     "data": {
      "text/plain": [
       "99    85744\n",
       "Name: AP6_22_7, dtype: int64"
      ]
     },
     "execution_count": 122,
     "metadata": {},
     "output_type": "execute_result"
    }
   ],
   "source": [
    "df_copy_tper_vic2.AP6_22_7.replace({'\\r':'99','9\\r':'99'}, inplace = True)\n",
    "df_copy_tper_vic2.AP6_22_7 =  df_copy_tper_vic2.AP6_22_7.replace('\\r', \"\", regex = True)\n",
    "df_copy_tper_vic2.AP6_22_7.value_counts()"
   ]
  },
  {
   "cell_type": "code",
   "execution_count": 123,
   "metadata": {},
   "outputs": [
    {
     "data": {
      "text/plain": [
       "2     72116\n",
       "1     13598\n",
       "99       30\n",
       "Name: AP7_1, dtype: int64"
      ]
     },
     "execution_count": 123,
     "metadata": {},
     "output_type": "execute_result"
    }
   ],
   "source": [
    "df_copy_tper_vic2.AP7_1.replace(dicc, inplace = True)\n",
    "df_copy_tper_vic2.AP7_1.value_counts()"
   ]
  },
  {
   "cell_type": "code",
   "execution_count": 124,
   "metadata": {},
   "outputs": [
    {
     "data": {
      "text/plain": [
       "2     80727\n",
       "1      4989\n",
       "99       28\n",
       "Name: AP7_2, dtype: int64"
      ]
     },
     "execution_count": 124,
     "metadata": {},
     "output_type": "execute_result"
    }
   ],
   "source": [
    "df_copy_tper_vic2.AP7_2.replace(dicc, inplace = True)\n",
    "df_copy_tper_vic2.AP7_2.value_counts()"
   ]
  },
  {
   "cell_type": "code",
   "execution_count": 125,
   "metadata": {},
   "outputs": [
    {
     "data": {
      "text/plain": [
       "2     81648\n",
       "1      4072\n",
       "99       24\n",
       "Name: AP7_3_05, dtype: int64"
      ]
     },
     "execution_count": 125,
     "metadata": {},
     "output_type": "execute_result"
    }
   ],
   "source": [
    "df_copy_tper_vic2.AP7_3_05.replace(dicc, inplace = True)\n",
    "df_copy_tper_vic2.AP7_3_05.value_counts()"
   ]
  },
  {
   "cell_type": "code",
   "execution_count": 126,
   "metadata": {},
   "outputs": [
    {
     "data": {
      "text/plain": [
       "2     84665\n",
       "1      1047\n",
       "99       32\n",
       "Name: AP7_3_06, dtype: int64"
      ]
     },
     "execution_count": 126,
     "metadata": {},
     "output_type": "execute_result"
    }
   ],
   "source": [
    "df_copy_tper_vic2.AP7_3_06.replace(dicc, inplace = True)\n",
    "df_copy_tper_vic2.AP7_3_06.value_counts()"
   ]
  },
  {
   "cell_type": "code",
   "execution_count": 127,
   "metadata": {},
   "outputs": [
    {
     "data": {
      "text/plain": [
       "2     84361\n",
       "1      1350\n",
       "99       33\n",
       "Name: AP7_3_07, dtype: int64"
      ]
     },
     "execution_count": 127,
     "metadata": {},
     "output_type": "execute_result"
    }
   ],
   "source": [
    "df_copy_tper_vic2.AP7_3_07.replace(dicc, inplace = True)\n",
    "df_copy_tper_vic2.AP7_3_07.value_counts()"
   ]
  },
  {
   "cell_type": "code",
   "execution_count": 128,
   "metadata": {},
   "outputs": [
    {
     "data": {
      "text/plain": [
       "2     84288\n",
       "1      1430\n",
       "99       26\n",
       "Name: AP7_3_08, dtype: int64"
      ]
     },
     "execution_count": 128,
     "metadata": {},
     "output_type": "execute_result"
    }
   ],
   "source": [
    "df_copy_tper_vic2.AP7_3_08.replace(dicc, inplace = True)\n",
    "df_copy_tper_vic2.AP7_3_08.value_counts()"
   ]
  },
  {
   "cell_type": "code",
   "execution_count": 129,
   "metadata": {},
   "outputs": [
    {
     "data": {
      "text/plain": [
       "2     80473\n",
       "1      5246\n",
       "99       25\n",
       "Name: AP7_3_09, dtype: int64"
      ]
     },
     "execution_count": 129,
     "metadata": {},
     "output_type": "execute_result"
    }
   ],
   "source": [
    "df_copy_tper_vic2.AP7_3_09.replace(dicc, inplace = True)\n",
    "df_copy_tper_vic2.AP7_3_09.value_counts()"
   ]
  },
  {
   "cell_type": "code",
   "execution_count": 130,
   "metadata": {},
   "outputs": [
    {
     "data": {
      "text/plain": [
       "2     83690\n",
       "1      2030\n",
       "99       24\n",
       "Name: AP7_3_10, dtype: int64"
      ]
     },
     "execution_count": 130,
     "metadata": {},
     "output_type": "execute_result"
    }
   ],
   "source": [
    "df_copy_tper_vic2.AP7_3_10.replace(dicc, inplace = True)\n",
    "df_copy_tper_vic2.AP7_3_10.value_counts()"
   ]
  },
  {
   "cell_type": "code",
   "execution_count": 131,
   "metadata": {},
   "outputs": [
    {
     "data": {
      "text/plain": [
       "2     84758\n",
       "1       959\n",
       "99       27\n",
       "Name: AP7_3_11, dtype: int64"
      ]
     },
     "execution_count": 131,
     "metadata": {},
     "output_type": "execute_result"
    }
   ],
   "source": [
    "df_copy_tper_vic2.AP7_3_11.replace(dicc, inplace = True)\n",
    "df_copy_tper_vic2.AP7_3_11.value_counts()"
   ]
  },
  {
   "cell_type": "code",
   "execution_count": 132,
   "metadata": {},
   "outputs": [
    {
     "data": {
      "text/plain": [
       "2     85660\n",
       "1        57\n",
       "99       27\n",
       "Name: AP7_3_12, dtype: int64"
      ]
     },
     "execution_count": 132,
     "metadata": {},
     "output_type": "execute_result"
    }
   ],
   "source": [
    "df_copy_tper_vic2.AP7_3_12.replace(dicc, inplace = True)\n",
    "df_copy_tper_vic2.AP7_3_12.value_counts()"
   ]
  },
  {
   "cell_type": "code",
   "execution_count": 133,
   "metadata": {},
   "outputs": [
    {
     "data": {
      "text/plain": [
       "2     85314\n",
       "1       399\n",
       "99       31\n",
       "Name: AP7_3_13, dtype: int64"
      ]
     },
     "execution_count": 133,
     "metadata": {},
     "output_type": "execute_result"
    }
   ],
   "source": [
    "df_copy_tper_vic2.AP7_3_13.replace(dicc, inplace = True)\n",
    "df_copy_tper_vic2.AP7_3_13.value_counts()"
   ]
  },
  {
   "cell_type": "code",
   "execution_count": 134,
   "metadata": {},
   "outputs": [
    {
     "data": {
      "text/plain": [
       "2     85644\n",
       "1        68\n",
       "99       32\n",
       "Name: AP7_3_14, dtype: int64"
      ]
     },
     "execution_count": 134,
     "metadata": {},
     "output_type": "execute_result"
    }
   ],
   "source": [
    "df_copy_tper_vic2.AP7_3_14.replace(dicc, inplace = True)\n",
    "df_copy_tper_vic2.AP7_3_14.value_counts()"
   ]
  },
  {
   "cell_type": "code",
   "execution_count": 135,
   "metadata": {},
   "outputs": [
    {
     "data": {
      "text/plain": [
       "2     85415\n",
       "99      247\n",
       "1        82\n",
       "Name: AP7_3_15, dtype: int64"
      ]
     },
     "execution_count": 135,
     "metadata": {},
     "output_type": "execute_result"
    }
   ],
   "source": [
    "df_copy_tper_vic2.AP7_3_15.replace(dicc, inplace = True)\n",
    "df_copy_tper_vic2.AP7_3_15.value_counts()"
   ]
  },
  {
   "cell_type": "code",
   "execution_count": 136,
   "metadata": {},
   "outputs": [
    {
     "data": {
      "text/plain": [
       "99    81672\n",
       "1      3486\n",
       "2       455\n",
       "3        95\n",
       "4        22\n",
       "5        10\n",
       "7         2\n",
       "20        1\n",
       "6         1\n",
       "Name: AP7_4_05, dtype: int64"
      ]
     },
     "execution_count": 136,
     "metadata": {},
     "output_type": "execute_result"
    }
   ],
   "source": [
    "df_copy_tper_vic2.AP7_4_05.replace({'\\r':'99','9\\r':'99'}, inplace = True)\n",
    "df_copy_tper_vic2.AP7_4_05 =  df_copy_tper_vic2.AP7_4_05.replace('\\r', \"\", regex = True)\n",
    "df_copy_tper_vic2.AP7_4_05.value_counts()"
   ]
  },
  {
   "cell_type": "code",
   "execution_count": 137,
   "metadata": {},
   "outputs": [
    {
     "data": {
      "text/plain": [
       "99    84698\n",
       "1       934\n",
       "2        87\n",
       "3        13\n",
       "4        10\n",
       "20        1\n",
       "5         1\n",
       "Name: AP7_4_06, dtype: int64"
      ]
     },
     "execution_count": 137,
     "metadata": {},
     "output_type": "execute_result"
    }
   ],
   "source": [
    "df_copy_tper_vic2.AP7_4_06.replace({'\\r':'99','9\\r':'99'}, inplace = True)\n",
    "df_copy_tper_vic2.AP7_4_06 =  df_copy_tper_vic2.AP7_4_06.replace('\\r', \"\", regex = True)\n",
    "df_copy_tper_vic2.AP7_4_06.value_counts()"
   ]
  },
  {
   "cell_type": "code",
   "execution_count": 138,
   "metadata": {},
   "outputs": [
    {
     "data": {
      "text/plain": [
       "99    84394\n",
       "1      1186\n",
       "2       135\n",
       "3        25\n",
       "6         2\n",
       "4         1\n",
       "5         1\n",
       "Name: AP7_4_07, dtype: int64"
      ]
     },
     "execution_count": 138,
     "metadata": {},
     "output_type": "execute_result"
    }
   ],
   "source": [
    "df_copy_tper_vic2.AP7_4_07.replace({'\\r':'99','9\\r':'99'}, inplace = True)\n",
    "df_copy_tper_vic2.AP7_4_07 =  df_copy_tper_vic2.AP7_4_07.replace('\\r', \"\", regex = True)\n",
    "df_copy_tper_vic2.AP7_4_07.value_counts()"
   ]
  },
  {
   "cell_type": "code",
   "execution_count": 139,
   "metadata": {},
   "outputs": [
    {
     "data": {
      "text/plain": [
       "99    84314\n",
       "1      1287\n",
       "2       109\n",
       "3        23\n",
       "4         6\n",
       "5         2\n",
       "10        1\n",
       "6         1\n",
       "8         1\n",
       "Name: AP7_4_08, dtype: int64"
      ]
     },
     "execution_count": 139,
     "metadata": {},
     "output_type": "execute_result"
    }
   ],
   "source": [
    "df_copy_tper_vic2.AP7_4_08.replace({'\\r':'99','9\\r':'99'}, inplace = True)\n",
    "df_copy_tper_vic2.AP7_4_08 =  df_copy_tper_vic2.AP7_4_08.replace('\\r', \"\", regex = True)\n",
    "df_copy_tper_vic2.AP7_4_08.value_counts()"
   ]
  },
  {
   "cell_type": "code",
   "execution_count": 140,
   "metadata": {},
   "outputs": [
    {
     "data": {
      "text/plain": [
       "99    80499\n",
       "1      4314\n",
       "2       612\n",
       "3       213\n",
       "4        57\n",
       "5        30\n",
       "10        8\n",
       "6         8\n",
       "8         2\n",
       "20        1\n",
       "Name: AP7_4_09, dtype: int64"
      ]
     },
     "execution_count": 140,
     "metadata": {},
     "output_type": "execute_result"
    }
   ],
   "source": [
    "df_copy_tper_vic2.AP7_4_09.replace({'\\r':'99','9\\r':'99'}, inplace = True)\n",
    "df_copy_tper_vic2.AP7_4_09 =  df_copy_tper_vic2.AP7_4_09.replace('\\r', \"\", regex = True)\n",
    "df_copy_tper_vic2.AP7_4_09.value_counts()"
   ]
  },
  {
   "cell_type": "code",
   "execution_count": 141,
   "metadata": {},
   "outputs": [
    {
     "data": {
      "text/plain": [
       "99    83714\n",
       "1      1717\n",
       "2       206\n",
       "3        58\n",
       "5        20\n",
       "4        17\n",
       "10        6\n",
       "7         2\n",
       "20        1\n",
       "6         1\n",
       "30        1\n",
       "8         1\n",
       "Name: AP7_4_10, dtype: int64"
      ]
     },
     "execution_count": 141,
     "metadata": {},
     "output_type": "execute_result"
    }
   ],
   "source": [
    "df_copy_tper_vic2.AP7_4_10.replace({'\\r':'99','9\\r':'99'}, inplace = True)\n",
    "df_copy_tper_vic2.AP7_4_10 =  df_copy_tper_vic2.AP7_4_10.replace('\\r', \"\", regex = True)\n",
    "df_copy_tper_vic2.AP7_4_10.value_counts()"
   ]
  },
  {
   "cell_type": "code",
   "execution_count": 142,
   "metadata": {},
   "outputs": [
    {
     "data": {
      "text/plain": [
       "99    84785\n",
       "1       853\n",
       "2        67\n",
       "3        20\n",
       "4         8\n",
       "5         6\n",
       "10        2\n",
       "6         2\n",
       "25        1\n",
       "Name: AP7_4_11, dtype: int64"
      ]
     },
     "execution_count": 142,
     "metadata": {},
     "output_type": "execute_result"
    }
   ],
   "source": [
    "df_copy_tper_vic2.AP7_4_11.replace({'\\r':'99','9\\r':'99'}, inplace = True)\n",
    "df_copy_tper_vic2.AP7_4_11 =  df_copy_tper_vic2.AP7_4_11.replace('\\r', \"\", regex = True)\n",
    "df_copy_tper_vic2.AP7_4_11.value_counts()"
   ]
  },
  {
   "cell_type": "code",
   "execution_count": 143,
   "metadata": {},
   "outputs": [
    {
     "data": {
      "text/plain": [
       "99    85687\n",
       "1        52\n",
       "2         4\n",
       "3         1\n",
       "Name: AP7_4_12, dtype: int64"
      ]
     },
     "execution_count": 143,
     "metadata": {},
     "output_type": "execute_result"
    }
   ],
   "source": [
    "df_copy_tper_vic2.AP7_4_12.replace({'\\r':'99','9\\r':'99'}, inplace = True)\n",
    "df_copy_tper_vic2.AP7_4_12 =  df_copy_tper_vic2.AP7_4_12.replace('\\r', \"\", regex = True)\n",
    "df_copy_tper_vic2.AP7_4_12.value_counts()"
   ]
  },
  {
   "cell_type": "code",
   "execution_count": 144,
   "metadata": {},
   "outputs": [
    {
     "data": {
      "text/plain": [
       "99    85345\n",
       "1       312\n",
       "2        45\n",
       "3        20\n",
       "4        11\n",
       "5         5\n",
       "12        1\n",
       "7         1\n",
       "10        1\n",
       "6         1\n",
       "15        1\n",
       "8         1\n",
       "Name: AP7_4_13, dtype: int64"
      ]
     },
     "execution_count": 144,
     "metadata": {},
     "output_type": "execute_result"
    }
   ],
   "source": [
    "df_copy_tper_vic2.AP7_4_13.replace({'\\r':'99','9\\r':'99'}, inplace = True)\n",
    "df_copy_tper_vic2.AP7_4_13 =  df_copy_tper_vic2.AP7_4_13.replace('\\r', \"\", regex = True)\n",
    "df_copy_tper_vic2.AP7_4_13.value_counts()"
   ]
  },
  {
   "cell_type": "code",
   "execution_count": 145,
   "metadata": {},
   "outputs": [
    {
     "data": {
      "text/plain": [
       "99    85676\n",
       "1        53\n",
       "2        10\n",
       "4         2\n",
       "3         2\n",
       "10        1\n",
       "Name: AP7_4_14, dtype: int64"
      ]
     },
     "execution_count": 145,
     "metadata": {},
     "output_type": "execute_result"
    }
   ],
   "source": [
    "df_copy_tper_vic2.AP7_4_14.replace({'\\r':'99','9\\r':'99'}, inplace = True)\n",
    "df_copy_tper_vic2.AP7_4_14 =  df_copy_tper_vic2.AP7_4_14.replace('\\r', \"\", regex = True)\n",
    "df_copy_tper_vic2.AP7_4_14.value_counts()"
   ]
  },
  {
   "cell_type": "code",
   "execution_count": 146,
   "metadata": {},
   "outputs": [
    {
     "data": {
      "text/plain": [
       "99    85662\n",
       "1        77\n",
       "2         3\n",
       "10        1\n",
       "3         1\n",
       "Name: AP7_4_15, dtype: int64"
      ]
     },
     "execution_count": 146,
     "metadata": {},
     "output_type": "execute_result"
    }
   ],
   "source": [
    "df_copy_tper_vic2.AP7_4_15.replace({'\\r':'99','9\\r':'99'}, inplace = True)\n",
    "df_copy_tper_vic2.AP7_4_15 =  df_copy_tper_vic2.AP7_4_15.replace('\\r', \"\", regex = True)\n",
    "df_copy_tper_vic2.AP7_4_15.value_counts()"
   ]
  },
  {
   "cell_type": "code",
   "execution_count": 147,
   "metadata": {},
   "outputs": [
    {
     "data": {
      "text/plain": [
       "187     559\n",
       "191     513\n",
       "185     429\n",
       "192     420\n",
       "167     391\n",
       "189     385\n",
       "166     384\n",
       "168     379\n",
       "181     376\n",
       "207     371\n",
       "178     366\n",
       "213     362\n",
       "203     342\n",
       "175     336\n",
       "200     334\n",
       "182     333\n",
       "190     330\n",
       "194     328\n",
       "204     326\n",
       "218     324\n",
       "230     323\n",
       "197     322\n",
       "170     321\n",
       "186     319\n",
       "188     316\n",
       "180     313\n",
       "195     311\n",
       "206     306\n",
       "173     304\n",
       "177     304\n",
       "       ... \n",
       "1448      3\n",
       "1023      2\n",
       "1934      2\n",
       "928       2\n",
       "1121      2\n",
       "2080      2\n",
       "843       2\n",
       "1431      2\n",
       "2374      2\n",
       "1757      2\n",
       "869       2\n",
       "822       2\n",
       "2064      2\n",
       "43        2\n",
       "1745      2\n",
       "1991      2\n",
       "813       2\n",
       "1032      2\n",
       "1079      2\n",
       "1784      2\n",
       "1426      1\n",
       "962       1\n",
       "1170      1\n",
       "969       1\n",
       "1038      1\n",
       "1854      1\n",
       "2398      1\n",
       "1236      1\n",
       "2658      1\n",
       "1976      1\n",
       "Name: FAC_HOG, Length: 1457, dtype: int64"
      ]
     },
     "execution_count": 147,
     "metadata": {},
     "output_type": "execute_result"
    }
   ],
   "source": [
    "df_copy_tper_vic2.FAC_HOG.value_counts()"
   ]
  },
  {
   "cell_type": "code",
   "execution_count": 148,
   "metadata": {},
   "outputs": [
    {
     "data": {
      "text/plain": [
       "99        56185\n",
       "000180      194\n",
       "000187      169\n",
       "000193      168\n",
       "000185      168\n",
       "000191      168\n",
       "000178      163\n",
       "000168      157\n",
       "000194      151\n",
       "000189      148\n",
       "000183      147\n",
       "000166      142\n",
       "000186      138\n",
       "000184      137\n",
       "000203      131\n",
       "000169      131\n",
       "000207      128\n",
       "000188      126\n",
       "000192      126\n",
       "000181      125\n",
       "000196      124\n",
       "000182      123\n",
       "000200      121\n",
       "000211      121\n",
       "000155      120\n",
       "000190      120\n",
       "000160      118\n",
       "000228      118\n",
       "000195      116\n",
       "000170      114\n",
       "          ...  \n",
       "000836        3\n",
       "000575        3\n",
       "000529        3\n",
       "001814        3\n",
       "002283        3\n",
       "000858        3\n",
       "002374        2\n",
       "000813        2\n",
       "001784        2\n",
       "000557        2\n",
       "001934        2\n",
       "001745        2\n",
       "000869        2\n",
       "000942        2\n",
       "001991        2\n",
       "000724        2\n",
       "002064        2\n",
       "001079        2\n",
       "001431        2\n",
       "001121        2\n",
       "001757        2\n",
       "001854        1\n",
       "001976        1\n",
       "001170        1\n",
       "002398        1\n",
       "000962        1\n",
       "000969        1\n",
       "001087        1\n",
       "001426        1\n",
       "002658        1\n",
       "Name: FAC_HOG_AM, Length: 1376, dtype: int64"
      ]
     },
     "execution_count": 148,
     "metadata": {},
     "output_type": "execute_result"
    }
   ],
   "source": [
    "df_copy_tper_vic2.FAC_HOG_AM.replace({'\\r':'99','9\\r':'99'}, inplace = True)\n",
    "df_copy_tper_vic2.FAC_HOG_AM =  df_copy_tper_vic2.FAC_HOG_AM.replace('\\r', \"\", regex = True)\n",
    "df_copy_tper_vic2.FAC_HOG_AM.value_counts()"
   ]
  },
  {
   "cell_type": "code",
   "execution_count": 149,
   "metadata": {},
   "outputs": [
    {
     "data": {
      "text/plain": [
       "382      227\n",
       "334      184\n",
       "373      179\n",
       "356      160\n",
       "384      157\n",
       "374      157\n",
       "413      148\n",
       "378      147\n",
       "369      142\n",
       "389      141\n",
       "427      140\n",
       "362      139\n",
       "350      139\n",
       "566      139\n",
       "428      138\n",
       "336      136\n",
       "409      136\n",
       "375      136\n",
       "407      135\n",
       "379      135\n",
       "318      133\n",
       "388      131\n",
       "381      130\n",
       "340      130\n",
       "401      130\n",
       "371      130\n",
       "335      127\n",
       "180      127\n",
       "787      127\n",
       "361      127\n",
       "        ... \n",
       "5478       1\n",
       "4069       1\n",
       "5350       1\n",
       "10504      1\n",
       "3301       1\n",
       "5094       1\n",
       "2981       1\n",
       "6887       1\n",
       "4431       1\n",
       "3917       1\n",
       "10056      1\n",
       "2957       1\n",
       "4775       1\n",
       "5735       1\n",
       "7718       1\n",
       "3428       1\n",
       "5351       1\n",
       "3236       1\n",
       "2788       1\n",
       "3277       1\n",
       "5454       1\n",
       "6182       1\n",
       "4519       1\n",
       "3533       1\n",
       "5582       1\n",
       "6566       1\n",
       "7695       1\n",
       "4391       1\n",
       "2340       1\n",
       "4649       1\n",
       "Name: FAC_ELE, Length: 4676, dtype: int64"
      ]
     },
     "execution_count": 149,
     "metadata": {},
     "output_type": "execute_result"
    }
   ],
   "source": [
    "df_copy_tper_vic2.FAC_ELE.value_counts()"
   ]
  },
  {
   "cell_type": "code",
   "execution_count": 150,
   "metadata": {},
   "outputs": [
    {
     "data": {
      "text/plain": [
       "99        56185\n",
       "000388       59\n",
       "000384       58\n",
       "000368       55\n",
       "000382       55\n",
       "000387       54\n",
       "000356       54\n",
       "000185       52\n",
       "000372       52\n",
       "000390       51\n",
       "000360       50\n",
       "000386       49\n",
       "000166       49\n",
       "000366       48\n",
       "000335       48\n",
       "000369       47\n",
       "000374       47\n",
       "000191       47\n",
       "000200       47\n",
       "000418       47\n",
       "000193       46\n",
       "000178       46\n",
       "000423       45\n",
       "000361       45\n",
       "000378       45\n",
       "000414       45\n",
       "000348       44\n",
       "000413       44\n",
       "000352       44\n",
       "000319       44\n",
       "          ...  \n",
       "005926        1\n",
       "007145        1\n",
       "006138        1\n",
       "001879        1\n",
       "003333        1\n",
       "002960        1\n",
       "005587        1\n",
       "004912        1\n",
       "002269        1\n",
       "004031        1\n",
       "003428        1\n",
       "003170        1\n",
       "002300        1\n",
       "006135        1\n",
       "001857        1\n",
       "008636        1\n",
       "007121        1\n",
       "003674        1\n",
       "002370        1\n",
       "002239        1\n",
       "004129        1\n",
       "002502        1\n",
       "015275        1\n",
       "001830        1\n",
       "006032        1\n",
       "005954        1\n",
       "005289        1\n",
       "004989        1\n",
       "007621        1\n",
       "009374        1\n",
       "Name: FAC_ELE_AM, Length: 4187, dtype: int64"
      ]
     },
     "execution_count": 150,
     "metadata": {},
     "output_type": "execute_result"
    }
   ],
   "source": [
    "df_copy_tper_vic2.FAC_ELE_AM.replace({'\\r':'99','9\\r':'99'}, inplace = True)\n",
    "df_copy_tper_vic2.FAC_ELE_AM =  df_copy_tper_vic2.FAC_ELE_AM.replace('\\r', \"\", regex = True)\n",
    "df_copy_tper_vic2.FAC_ELE_AM.value_counts()"
   ]
  },
  {
   "cell_type": "code",
   "execution_count": 151,
   "metadata": {},
   "outputs": [
    {
     "data": {
      "text/plain": [
       "U    41941\n",
       "C    22739\n",
       "R    21064\n",
       "Name: DOMINIO, dtype: int64"
      ]
     },
     "execution_count": 151,
     "metadata": {},
     "output_type": "execute_result"
    }
   ],
   "source": [
    "df_copy_tper_vic2.DOMINIO =  df_copy_tper_vic2.DOMINIO.replace('\\r', \"\", regex = True)\n",
    "df_copy_tper_vic2.DOMINIO.value_counts()"
   ]
  },
  {
   "cell_type": "code",
   "execution_count": 152,
   "metadata": {},
   "outputs": [
    {
     "data": {
      "text/plain": [
       "2    44412\n",
       "1    17112\n",
       "3    17047\n",
       "4     7173\n",
       "Name: ESTRATO, dtype: int64"
      ]
     },
     "execution_count": 152,
     "metadata": {},
     "output_type": "execute_result"
    }
   ],
   "source": [
    "df_copy_tper_vic2.ESTRATO.value_counts()"
   ]
  },
  {
   "cell_type": "code",
   "execution_count": 153,
   "metadata": {},
   "outputs": [
    {
     "data": {
      "text/plain": [
       "123    1576\n",
       "351    1253\n",
       "566    1112\n",
       "209    1052\n",
       "246     956\n",
       "478     879\n",
       "320     879\n",
       "147     849\n",
       "371     805\n",
       "391     743\n",
       "225     731\n",
       "146     696\n",
       "229     687\n",
       "286     647\n",
       "319     625\n",
       "420     570\n",
       "2       565\n",
       "321     552\n",
       "439     539\n",
       "512     537\n",
       "287     536\n",
       "62      534\n",
       "125     528\n",
       "226     524\n",
       "479     523\n",
       "509     518\n",
       "569     487\n",
       "165     482\n",
       "91      479\n",
       "595     473\n",
       "       ... \n",
       "273      10\n",
       "17       10\n",
       "335      10\n",
       "440      10\n",
       "546       9\n",
       "136       9\n",
       "198       9\n",
       "548       9\n",
       "325       9\n",
       "547       9\n",
       "160       9\n",
       "12        9\n",
       "266       9\n",
       "401       9\n",
       "210       9\n",
       "545       8\n",
       "73        8\n",
       "139       8\n",
       "498       8\n",
       "551       8\n",
       "486       8\n",
       "457       8\n",
       "26        8\n",
       "575       8\n",
       "487       7\n",
       "422       7\n",
       "528       7\n",
       "68        7\n",
       "296       6\n",
       "194       3\n",
       "Name: EST_DIS, Length: 595, dtype: int64"
      ]
     },
     "execution_count": 153,
     "metadata": {},
     "output_type": "execute_result"
    }
   ],
   "source": [
    "df_copy_tper_vic2.EST_DIS.value_counts()"
   ]
  },
  {
   "cell_type": "code",
   "execution_count": 154,
   "metadata": {
    "scrolled": false
   },
   "outputs": [
    {
     "data": {
      "text/plain": [
       "4649     25\n",
       "11233    25\n",
       "284      25\n",
       "9867     24\n",
       "11248    24\n",
       "4670     24\n",
       "8112     24\n",
       "5956     24\n",
       "11711    24\n",
       "9331     23\n",
       "5576     23\n",
       "5847     23\n",
       "2535     23\n",
       "8080     23\n",
       "5936     23\n",
       "9833     23\n",
       "4594     23\n",
       "11710    23\n",
       "11162    23\n",
       "4113     23\n",
       "8124     23\n",
       "5130     23\n",
       "2484     23\n",
       "6306     23\n",
       "5838     23\n",
       "9876     23\n",
       "11713    23\n",
       "4477     23\n",
       "2301     23\n",
       "2507     23\n",
       "         ..\n",
       "5109      1\n",
       "9038      1\n",
       "10397     1\n",
       "7841      1\n",
       "10195     1\n",
       "10928     1\n",
       "10247     1\n",
       "10257     1\n",
       "10181     1\n",
       "8530      1\n",
       "6915      1\n",
       "8332      1\n",
       "9680      1\n",
       "4312      1\n",
       "519       1\n",
       "6630      1\n",
       "11347     1\n",
       "6578      1\n",
       "4166      1\n",
       "4323      1\n",
       "10090     1\n",
       "6332      1\n",
       "11769     1\n",
       "10218     1\n",
       "10292     1\n",
       "7423      1\n",
       "11299     1\n",
       "6193      1\n",
       "5596      1\n",
       "10217     1\n",
       "Name: UPM_DIS, Length: 11902, dtype: int64"
      ]
     },
     "execution_count": 154,
     "metadata": {},
     "output_type": "execute_result"
    }
   ],
   "source": [
    "df_copy_tper_vic2.UPM_DIS.value_counts()"
   ]
  },
  {
   "cell_type": "code",
   "execution_count": 155,
   "metadata": {},
   "outputs": [
    {
     "data": {
      "text/html": [
       "<div>\n",
       "<style scoped>\n",
       "    .dataframe tbody tr th:only-of-type {\n",
       "        vertical-align: middle;\n",
       "    }\n",
       "\n",
       "    .dataframe tbody tr th {\n",
       "        vertical-align: top;\n",
       "    }\n",
       "\n",
       "    .dataframe thead th {\n",
       "        text-align: right;\n",
       "    }\n",
       "</style>\n",
       "<table border=\"1\" class=\"dataframe\">\n",
       "  <thead>\n",
       "    <tr style=\"text-align: right;\">\n",
       "      <th></th>\n",
       "      <th>UPM</th>\n",
       "      <th>VIV_SEL</th>\n",
       "      <th>HOGAR</th>\n",
       "      <th>RESUL_H</th>\n",
       "      <th>R_SEL</th>\n",
       "      <th>AREAM</th>\n",
       "      <th>AP6_1_1</th>\n",
       "      <th>AP6_1_2</th>\n",
       "      <th>AP6_2</th>\n",
       "      <th>AP6_3</th>\n",
       "      <th>...</th>\n",
       "      <th>AP7_3_15</th>\n",
       "      <th>AP7_4_15</th>\n",
       "      <th>FAC_HOG</th>\n",
       "      <th>FAC_ELE</th>\n",
       "      <th>FAC_HOG_AM</th>\n",
       "      <th>FAC_ELE_AM</th>\n",
       "      <th>DOMINIO</th>\n",
       "      <th>ESTRATO</th>\n",
       "      <th>EST_DIS</th>\n",
       "      <th>UPM_DIS</th>\n",
       "    </tr>\n",
       "  </thead>\n",
       "  <tbody>\n",
       "    <tr>\n",
       "      <th>0</th>\n",
       "      <td>100006</td>\n",
       "      <td>1</td>\n",
       "      <td>1</td>\n",
       "      <td>B</td>\n",
       "      <td>3</td>\n",
       "      <td>14</td>\n",
       "      <td>2</td>\n",
       "      <td>14</td>\n",
       "      <td>1</td>\n",
       "      <td>2</td>\n",
       "      <td>...</td>\n",
       "      <td>2</td>\n",
       "      <td>99</td>\n",
       "      <td>168</td>\n",
       "      <td>841</td>\n",
       "      <td>000168</td>\n",
       "      <td>000841</td>\n",
       "      <td>U</td>\n",
       "      <td>3</td>\n",
       "      <td>2</td>\n",
       "      <td>1</td>\n",
       "    </tr>\n",
       "    <tr>\n",
       "      <th>1</th>\n",
       "      <td>100006</td>\n",
       "      <td>2</td>\n",
       "      <td>1</td>\n",
       "      <td>B</td>\n",
       "      <td>1</td>\n",
       "      <td>14</td>\n",
       "      <td>1</td>\n",
       "      <td>14</td>\n",
       "      <td>2</td>\n",
       "      <td>2</td>\n",
       "      <td>...</td>\n",
       "      <td>2</td>\n",
       "      <td>99</td>\n",
       "      <td>168</td>\n",
       "      <td>336</td>\n",
       "      <td>000168</td>\n",
       "      <td>000336</td>\n",
       "      <td>U</td>\n",
       "      <td>3</td>\n",
       "      <td>2</td>\n",
       "      <td>1</td>\n",
       "    </tr>\n",
       "    <tr>\n",
       "      <th>2</th>\n",
       "      <td>100006</td>\n",
       "      <td>3</td>\n",
       "      <td>1</td>\n",
       "      <td>B</td>\n",
       "      <td>4</td>\n",
       "      <td>14</td>\n",
       "      <td>2</td>\n",
       "      <td>14</td>\n",
       "      <td>1</td>\n",
       "      <td>2</td>\n",
       "      <td>...</td>\n",
       "      <td>2</td>\n",
       "      <td>99</td>\n",
       "      <td>168</td>\n",
       "      <td>673</td>\n",
       "      <td>000168</td>\n",
       "      <td>000673</td>\n",
       "      <td>U</td>\n",
       "      <td>3</td>\n",
       "      <td>2</td>\n",
       "      <td>1</td>\n",
       "    </tr>\n",
       "    <tr>\n",
       "      <th>3</th>\n",
       "      <td>100006</td>\n",
       "      <td>4</td>\n",
       "      <td>1</td>\n",
       "      <td>A</td>\n",
       "      <td>1</td>\n",
       "      <td>14</td>\n",
       "      <td>1</td>\n",
       "      <td>14</td>\n",
       "      <td>2</td>\n",
       "      <td>1</td>\n",
       "      <td>...</td>\n",
       "      <td>2</td>\n",
       "      <td>99</td>\n",
       "      <td>168</td>\n",
       "      <td>168</td>\n",
       "      <td>000168</td>\n",
       "      <td>000168</td>\n",
       "      <td>U</td>\n",
       "      <td>3</td>\n",
       "      <td>2</td>\n",
       "      <td>1</td>\n",
       "    </tr>\n",
       "    <tr>\n",
       "      <th>4</th>\n",
       "      <td>100006</td>\n",
       "      <td>4</td>\n",
       "      <td>2</td>\n",
       "      <td>B</td>\n",
       "      <td>1</td>\n",
       "      <td>99</td>\n",
       "      <td>2</td>\n",
       "      <td>99</td>\n",
       "      <td>1</td>\n",
       "      <td>2</td>\n",
       "      <td>...</td>\n",
       "      <td>2</td>\n",
       "      <td>99</td>\n",
       "      <td>168</td>\n",
       "      <td>168</td>\n",
       "      <td>99</td>\n",
       "      <td>99</td>\n",
       "      <td>U</td>\n",
       "      <td>3</td>\n",
       "      <td>2</td>\n",
       "      <td>1</td>\n",
       "    </tr>\n",
       "  </tbody>\n",
       "</table>\n",
       "<p>5 rows × 140 columns</p>\n",
       "</div>"
      ],
      "text/plain": [
       "      UPM  VIV_SEL  HOGAR RESUL_H  R_SEL AREAM  AP6_1_1 AP6_1_2  AP6_2  AP6_3  \\\n",
       "0  100006        1      1       B      3    14        2      14      1      2   \n",
       "1  100006        2      1       B      1    14        1      14      2      2   \n",
       "2  100006        3      1       B      4    14        2      14      1      2   \n",
       "3  100006        4      1       A      1    14        1      14      2      1   \n",
       "4  100006        4      2       B      1    99        2      99      1      2   \n",
       "\n",
       "    ...    AP7_3_15 AP7_4_15 FAC_HOG  FAC_ELE FAC_HOG_AM FAC_ELE_AM  DOMINIO  \\\n",
       "0   ...           2       99     168      841     000168     000841        U   \n",
       "1   ...           2       99     168      336     000168     000336        U   \n",
       "2   ...           2       99     168      673     000168     000673        U   \n",
       "3   ...           2       99     168      168     000168     000168        U   \n",
       "4   ...           2       99     168      168         99         99        U   \n",
       "\n",
       "  ESTRATO  EST_DIS UPM_DIS  \n",
       "0       3        2       1  \n",
       "1       3        2       1  \n",
       "2       3        2       1  \n",
       "3       3        2       1  \n",
       "4       3        2       1  \n",
       "\n",
       "[5 rows x 140 columns]"
      ]
     },
     "execution_count": 155,
     "metadata": {},
     "output_type": "execute_result"
    }
   ],
   "source": [
    "df_copy_tper_vic2.head()"
   ]
  },
  {
   "cell_type": "code",
   "execution_count": 157,
   "metadata": {},
   "outputs": [
    {
     "data": {
      "text/plain": [
       "2    62354\n",
       "1    23390\n",
       "Name: RESUL_H, dtype: int64"
      ]
     },
     "execution_count": 157,
     "metadata": {},
     "output_type": "execute_result"
    }
   ],
   "source": [
    "df_copy_tper_vic2.RESUL_H.replace({'A':'1','B':'2'},inplace=True)\n",
    "df_copy_tper_vic2.RESUL_H.value_counts()"
   ]
  },
  {
   "cell_type": "code",
   "execution_count": 158,
   "metadata": {},
   "outputs": [
    {
     "data": {
      "text/plain": [
       "1    41941\n",
       "2    22739\n",
       "3    21064\n",
       "Name: DOMINIO, dtype: int64"
      ]
     },
     "execution_count": 158,
     "metadata": {},
     "output_type": "execute_result"
    }
   ],
   "source": [
    "df_copy_tper_vic2.DOMINIO.replace({'U':'1','C':'2','R':'3'},inplace=True)\n",
    "df_copy_tper_vic2.DOMINIO.value_counts()"
   ]
  },
  {
   "cell_type": "code",
   "execution_count": 159,
   "metadata": {},
   "outputs": [],
   "source": [
    "df_copy_tper_vic2.to_csv(\"TPer_vic2_Clean2016.csv\")"
   ]
  },
  {
   "cell_type": "code",
   "execution_count": null,
   "metadata": {},
   "outputs": [],
   "source": []
  }
 ],
 "metadata": {
  "kernelspec": {
   "display_name": "Python 3",
   "language": "python",
   "name": "python3"
  },
  "language_info": {
   "codemirror_mode": {
    "name": "ipython",
    "version": 3
   },
   "file_extension": ".py",
   "mimetype": "text/x-python",
   "name": "python",
   "nbconvert_exporter": "python",
   "pygments_lexer": "ipython3",
   "version": "3.6.5"
  }
 },
 "nbformat": 4,
 "nbformat_minor": 2
}
