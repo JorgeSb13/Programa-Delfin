{
 "cells": [
  {
   "cell_type": "code",
   "execution_count": 1,
   "metadata": {},
   "outputs": [],
   "source": [
    "import pandas as pd\n",
    "import numpy as np"
   ]
  },
  {
   "cell_type": "code",
   "execution_count": 2,
   "metadata": {},
   "outputs": [
    {
     "data": {
      "text/html": [
       "<div>\n",
       "<style scoped>\n",
       "    .dataframe tbody tr th:only-of-type {\n",
       "        vertical-align: middle;\n",
       "    }\n",
       "\n",
       "    .dataframe tbody tr th {\n",
       "        vertical-align: top;\n",
       "    }\n",
       "\n",
       "    .dataframe thead th {\n",
       "        text-align: right;\n",
       "    }\n",
       "</style>\n",
       "<table border=\"1\" class=\"dataframe\">\n",
       "  <thead>\n",
       "    <tr style=\"text-align: right;\">\n",
       "      <th></th>\n",
       "      <th>CONTROL</th>\n",
       "      <th>VIV_SEL</th>\n",
       "      <th>HOGAR</th>\n",
       "      <th>RESUL_H</th>\n",
       "      <th>R_SEL</th>\n",
       "      <th>AREAM</th>\n",
       "      <th>AP6_1_1</th>\n",
       "      <th>AP6_1_2</th>\n",
       "      <th>AP6_2</th>\n",
       "      <th>AP6_3</th>\n",
       "      <th>...</th>\n",
       "      <th>AP7_4_14</th>\n",
       "      <th>AP7_3_15</th>\n",
       "      <th>AP7_4_15</th>\n",
       "      <th>FAC_HOG</th>\n",
       "      <th>FAC_ELE</th>\n",
       "      <th>DOM</th>\n",
       "      <th>EST</th>\n",
       "      <th>UPM</th>\n",
       "      <th>FAC_HOG_AM</th>\n",
       "      <th>FAC_ELE_AM</th>\n",
       "    </tr>\n",
       "  </thead>\n",
       "  <tbody>\n",
       "    <tr>\n",
       "      <th>0</th>\n",
       "      <td>100001</td>\n",
       "      <td>1</td>\n",
       "      <td>1</td>\n",
       "      <td>B</td>\n",
       "      <td>1</td>\n",
       "      <td>14.0</td>\n",
       "      <td>2</td>\n",
       "      <td>NaN</td>\n",
       "      <td>2</td>\n",
       "      <td>2</td>\n",
       "      <td>...</td>\n",
       "      <td>NaN</td>\n",
       "      <td>2</td>\n",
       "      <td>NaN</td>\n",
       "      <td>191</td>\n",
       "      <td>382</td>\n",
       "      <td>U</td>\n",
       "      <td>5</td>\n",
       "      <td>1</td>\n",
       "      <td>192.0</td>\n",
       "      <td>384.0</td>\n",
       "    </tr>\n",
       "    <tr>\n",
       "      <th>1</th>\n",
       "      <td>100001</td>\n",
       "      <td>2</td>\n",
       "      <td>1</td>\n",
       "      <td>B</td>\n",
       "      <td>2</td>\n",
       "      <td>14.0</td>\n",
       "      <td>2</td>\n",
       "      <td>NaN</td>\n",
       "      <td>2</td>\n",
       "      <td>2</td>\n",
       "      <td>...</td>\n",
       "      <td>NaN</td>\n",
       "      <td>2</td>\n",
       "      <td>NaN</td>\n",
       "      <td>191</td>\n",
       "      <td>382</td>\n",
       "      <td>U</td>\n",
       "      <td>5</td>\n",
       "      <td>1</td>\n",
       "      <td>192.0</td>\n",
       "      <td>384.0</td>\n",
       "    </tr>\n",
       "    <tr>\n",
       "      <th>2</th>\n",
       "      <td>100001</td>\n",
       "      <td>3</td>\n",
       "      <td>1</td>\n",
       "      <td>B</td>\n",
       "      <td>1</td>\n",
       "      <td>14.0</td>\n",
       "      <td>1</td>\n",
       "      <td>1.0</td>\n",
       "      <td>1</td>\n",
       "      <td>2</td>\n",
       "      <td>...</td>\n",
       "      <td>NaN</td>\n",
       "      <td>2</td>\n",
       "      <td>NaN</td>\n",
       "      <td>191</td>\n",
       "      <td>764</td>\n",
       "      <td>U</td>\n",
       "      <td>5</td>\n",
       "      <td>1</td>\n",
       "      <td>192.0</td>\n",
       "      <td>768.0</td>\n",
       "    </tr>\n",
       "    <tr>\n",
       "      <th>3</th>\n",
       "      <td>100001</td>\n",
       "      <td>4</td>\n",
       "      <td>1</td>\n",
       "      <td>A</td>\n",
       "      <td>1</td>\n",
       "      <td>14.0</td>\n",
       "      <td>2</td>\n",
       "      <td>NaN</td>\n",
       "      <td>1</td>\n",
       "      <td>2</td>\n",
       "      <td>...</td>\n",
       "      <td>NaN</td>\n",
       "      <td>2</td>\n",
       "      <td>NaN</td>\n",
       "      <td>191</td>\n",
       "      <td>764</td>\n",
       "      <td>U</td>\n",
       "      <td>5</td>\n",
       "      <td>1</td>\n",
       "      <td>192.0</td>\n",
       "      <td>768.0</td>\n",
       "    </tr>\n",
       "    <tr>\n",
       "      <th>4</th>\n",
       "      <td>100001</td>\n",
       "      <td>5</td>\n",
       "      <td>1</td>\n",
       "      <td>B</td>\n",
       "      <td>3</td>\n",
       "      <td>14.0</td>\n",
       "      <td>1</td>\n",
       "      <td>1.0</td>\n",
       "      <td>2</td>\n",
       "      <td>2</td>\n",
       "      <td>...</td>\n",
       "      <td>NaN</td>\n",
       "      <td>2</td>\n",
       "      <td>NaN</td>\n",
       "      <td>191</td>\n",
       "      <td>573</td>\n",
       "      <td>U</td>\n",
       "      <td>5</td>\n",
       "      <td>1</td>\n",
       "      <td>192.0</td>\n",
       "      <td>576.0</td>\n",
       "    </tr>\n",
       "  </tbody>\n",
       "</table>\n",
       "<p>5 rows × 128 columns</p>\n",
       "</div>"
      ],
      "text/plain": [
       "   CONTROL  VIV_SEL  HOGAR RESUL_H  R_SEL  AREAM  AP6_1_1  AP6_1_2  AP6_2  \\\n",
       "0   100001        1      1       B      1   14.0        2      NaN      2   \n",
       "1   100001        2      1       B      2   14.0        2      NaN      2   \n",
       "2   100001        3      1       B      1   14.0        1      1.0      1   \n",
       "3   100001        4      1       A      1   14.0        2      NaN      1   \n",
       "4   100001        5      1       B      3   14.0        1      1.0      2   \n",
       "\n",
       "   AP6_3     ...      AP7_4_14  AP7_3_15  AP7_4_15  FAC_HOG  FAC_ELE  DOM  \\\n",
       "0      2     ...           NaN         2       NaN      191      382    U   \n",
       "1      2     ...           NaN         2       NaN      191      382    U   \n",
       "2      2     ...           NaN         2       NaN      191      764    U   \n",
       "3      2     ...           NaN         2       NaN      191      764    U   \n",
       "4      2     ...           NaN         2       NaN      191      573    U   \n",
       "\n",
       "   EST  UPM  FAC_HOG_AM  FAC_ELE_AM  \n",
       "0    5    1       192.0       384.0  \n",
       "1    5    1       192.0       384.0  \n",
       "2    5    1       192.0       768.0  \n",
       "3    5    1       192.0       768.0  \n",
       "4    5    1       192.0       576.0  \n",
       "\n",
       "[5 rows x 128 columns]"
      ]
     },
     "execution_count": 2,
     "metadata": {},
     "output_type": "execute_result"
    }
   ],
   "source": [
    "path = 'C:/Users/jorge/OneDrive/Escritorio/ProyectoJacobo/EnvipeLimpia/TPer_vic2_Clean2014.csv'\n",
    "df_tper_vic2 = pd.read_csv(path, low_memory=False)\n",
    "df_tper_vic2.head()"
   ]
  },
  {
   "cell_type": "code",
   "execution_count": 3,
   "metadata": {},
   "outputs": [
    {
     "data": {
      "text/plain": [
       "(84629, 128)"
      ]
     },
     "execution_count": 3,
     "metadata": {},
     "output_type": "execute_result"
    }
   ],
   "source": [
    "df_tper_vic2.shape"
   ]
  },
  {
   "cell_type": "code",
   "execution_count": 4,
   "metadata": {},
   "outputs": [],
   "source": [
    "df_copy_tper_vic2 = df_tper_vic2"
   ]
  },
  {
   "cell_type": "code",
   "execution_count": 5,
   "metadata": {},
   "outputs": [
    {
     "data": {
      "text/plain": [
       "(84629, 128)"
      ]
     },
     "execution_count": 5,
     "metadata": {},
     "output_type": "execute_result"
    }
   ],
   "source": [
    "df_copy_tper_vic2.shape"
   ]
  },
  {
   "cell_type": "code",
   "execution_count": 6,
   "metadata": {},
   "outputs": [
    {
     "data": {
      "text/plain": [
       "2160007    42\n",
       "1350004    40\n",
       "1350038    40\n",
       "2190026    40\n",
       "1350015    39\n",
       "1350026    39\n",
       "2150047    39\n",
       "1390014    39\n",
       "1350031    38\n",
       "2150044    38\n",
       "3060041    38\n",
       "2150051    38\n",
       "2660008    38\n",
       "2150003    38\n",
       "1650057    38\n",
       "1360033    38\n",
       "1360020    37\n",
       "1350016    37\n",
       "1390012    37\n",
       "2150032    37\n",
       "3050124    37\n",
       "1060015    37\n",
       "2100015    36\n",
       "2100019    36\n",
       "2760037    36\n",
       "2860014    36\n",
       "1390005    36\n",
       "2860002    36\n",
       "1390025    36\n",
       "1760013    35\n",
       "           ..\n",
       "1240279     1\n",
       "2840216     1\n",
       "2840145     1\n",
       "1940234     1\n",
       "2840265     1\n",
       "1940104     1\n",
       "2840174     1\n",
       "440195      1\n",
       "3140364     1\n",
       "2850145     1\n",
       "540352      1\n",
       "3140221     1\n",
       "1540324     1\n",
       "750027      1\n",
       "2340090     1\n",
       "440098      1\n",
       "2350126     1\n",
       "2840370     1\n",
       "1240235     1\n",
       "3140019     1\n",
       "2840274     1\n",
       "1940187     1\n",
       "590009      1\n",
       "2840230     1\n",
       "2140196     1\n",
       "1740309     1\n",
       "2140090     1\n",
       "2840268     1\n",
       "2840396     1\n",
       "2500341     1\n",
       "Name: CONTROL, Length: 11408, dtype: int64"
      ]
     },
     "execution_count": 6,
     "metadata": {},
     "output_type": "execute_result"
    }
   ],
   "source": [
    "df_copy_tper_vic2.CONTROL.value_counts()"
   ]
  },
  {
   "cell_type": "code",
   "execution_count": 7,
   "metadata": {},
   "outputs": [
    {
     "data": {
      "text/plain": [
       "2     10104\n",
       "4     10084\n",
       "5     10076\n",
       "3     10066\n",
       "1     10060\n",
       "7      2341\n",
       "6      2330\n",
       "9      2321\n",
       "8      2301\n",
       "10     2296\n",
       "14     2216\n",
       "15     2216\n",
       "18     2202\n",
       "16     2197\n",
       "11     2193\n",
       "12     2185\n",
       "17     2175\n",
       "13     2171\n",
       "19     2161\n",
       "20     2051\n",
       "21      150\n",
       "22       65\n",
       "32       41\n",
       "25       41\n",
       "24       41\n",
       "38       40\n",
       "23       39\n",
       "27       38\n",
       "33       38\n",
       "28       37\n",
       "29       37\n",
       "26       37\n",
       "35       36\n",
       "30       36\n",
       "34       36\n",
       "31       35\n",
       "36       35\n",
       "37       34\n",
       "39       30\n",
       "40       30\n",
       "41        2\n",
       "43        1\n",
       "44        1\n",
       "45        1\n",
       "42        1\n",
       "46        1\n",
       "Name: VIV_SEL, dtype: int64"
      ]
     },
     "execution_count": 7,
     "metadata": {},
     "output_type": "execute_result"
    }
   ],
   "source": [
    "df_copy_tper_vic2.VIV_SEL.value_counts()"
   ]
  },
  {
   "cell_type": "code",
   "execution_count": 8,
   "metadata": {},
   "outputs": [
    {
     "data": {
      "text/plain": [
       "B    61714\n",
       "A    22915\n",
       "Name: RESUL_H, dtype: int64"
      ]
     },
     "execution_count": 8,
     "metadata": {},
     "output_type": "execute_result"
    }
   ],
   "source": [
    "df_copy_tper_vic2.RESUL_H.value_counts()"
   ]
  },
  {
   "cell_type": "code",
   "execution_count": 9,
   "metadata": {},
   "outputs": [
    {
     "data": {
      "text/plain": [
       "B    61714\n",
       "A    22915\n",
       "Name: RESUL_H, dtype: int64"
      ]
     },
     "execution_count": 9,
     "metadata": {},
     "output_type": "execute_result"
    }
   ],
   "source": [
    "df_copy_tper_vic2.RESUL_H.replace({'A\\r':'A', 'B\\r':'B' },inplace=True)\n",
    "df_copy_tper_vic2.RESUL_H.value_counts()"
   ]
  },
  {
   "cell_type": "code",
   "execution_count": 10,
   "metadata": {},
   "outputs": [
    {
     "data": {
      "text/plain": [
       "1     41244\n",
       "2     29614\n",
       "3      8429\n",
       "4      3343\n",
       "5      1184\n",
       "6       445\n",
       "7       198\n",
       "8        93\n",
       "9        38\n",
       "10       25\n",
       "11        8\n",
       "12        3\n",
       "14        2\n",
       "13        2\n",
       "18        1\n",
       "Name: R_SEL, dtype: int64"
      ]
     },
     "execution_count": 10,
     "metadata": {},
     "output_type": "execute_result"
    }
   ],
   "source": [
    "df_copy_tper_vic2.R_SEL.value_counts()"
   ]
  },
  {
   "cell_type": "code",
   "execution_count": 11,
   "metadata": {},
   "outputs": [
    {
     "data": {
      "text/plain": [
       "1.0     3719\n",
       "3.0     2119\n",
       "8.0     1510\n",
       "2.0     1408\n",
       "39.0    1315\n",
       "33.0    1231\n",
       "14.0    1230\n",
       "4.0     1207\n",
       "36.0    1198\n",
       "21.0    1125\n",
       "41.0    1124\n",
       "29.0    1107\n",
       "40.0     859\n",
       "24.0     858\n",
       "26.0     817\n",
       "7.0      709\n",
       "27.0     627\n",
       "9.0      625\n",
       "28.0     625\n",
       "5.0      618\n",
       "17.0     584\n",
       "18.0     557\n",
       "10.0     551\n",
       "15.0     527\n",
       "25.0     490\n",
       "13.0     463\n",
       "19.0     445\n",
       "31.0     350\n",
       "43.0     344\n",
       "32.0     309\n",
       "12.0     260\n",
       "16.0     112\n",
       "Name: AREAM, dtype: int64"
      ]
     },
     "execution_count": 11,
     "metadata": {},
     "output_type": "execute_result"
    }
   ],
   "source": [
    "df_copy_tper_vic2.AREAM.value_counts()"
   ]
  },
  {
   "cell_type": "code",
   "execution_count": 12,
   "metadata": {},
   "outputs": [],
   "source": [
    "diccDec = {0.0:'0',1.0:'1',2.0:'2',3.0:'3',4.0:'4',5.0:'5',6.0:'6',7.0:'7',8.0:'8',9.0:'9',10.0:'10',11.0:'11',12.0:'12',\n",
    "           13.0:'13',14.0:'14',15.0:'15',16.0:'16',17.0:'17',18.0:'18',19.0:'19',20.0:'20',21.0:'21',22.0:'22',23.0:'23',\n",
    "           24.0:'24',25.0:'25',26.0:'26',27.0:'27',28.0:'28',29.0:'29',30.0:'30',31.0:'31',32.0:'32',33.0:'33',34.0:'34',\n",
    "           35.0:'35',36.0:'36',37.0:'37',38.0:'38',39.0:'39',40.0:'40',41.0:'41',42.0:'42',43.0:'43',44.0:'44',45.0:'45',\n",
    "           50.0:'50',60.0:'60',99.0:'99'}"
   ]
  },
  {
   "cell_type": "code",
   "execution_count": 13,
   "metadata": {},
   "outputs": [
    {
     "data": {
      "text/plain": [
       "1     3719\n",
       "3     2119\n",
       "8     1510\n",
       "2     1408\n",
       "39    1315\n",
       "33    1231\n",
       "14    1230\n",
       "4     1207\n",
       "36    1198\n",
       "21    1125\n",
       "41    1124\n",
       "29    1107\n",
       "40     859\n",
       "24     858\n",
       "26     817\n",
       "7      709\n",
       "27     627\n",
       "28     625\n",
       "9      625\n",
       "5      618\n",
       "17     584\n",
       "18     557\n",
       "10     551\n",
       "15     527\n",
       "25     490\n",
       "13     463\n",
       "19     445\n",
       "31     350\n",
       "43     344\n",
       "32     309\n",
       "12     260\n",
       "16     112\n",
       "Name: AREAM, dtype: int64"
      ]
     },
     "execution_count": 13,
     "metadata": {},
     "output_type": "execute_result"
    }
   ],
   "source": [
    "df_copy_tper_vic2.AREAM.replace(diccDec , inplace = True)\n",
    "df_copy_tper_vic2.AREAM.value_counts()"
   ]
  },
  {
   "cell_type": "code",
   "execution_count": 14,
   "metadata": {},
   "outputs": [],
   "source": [
    "dicc = {9:99}"
   ]
  },
  {
   "cell_type": "code",
   "execution_count": 15,
   "metadata": {},
   "outputs": [
    {
     "data": {
      "text/plain": [
       "2     47742\n",
       "1     36810\n",
       "99       77\n",
       "Name: AP6_1_1, dtype: int64"
      ]
     },
     "execution_count": 15,
     "metadata": {},
     "output_type": "execute_result"
    }
   ],
   "source": [
    "df_copy_tper_vic2.AP6_1_1.replace(dicc, inplace = True)\n",
    "df_copy_tper_vic2.AP6_1_1.value_counts()"
   ]
  },
  {
   "cell_type": "code",
   "execution_count": 16,
   "metadata": {},
   "outputs": [
    {
     "data": {
      "text/plain": [
       "1     28174\n",
       "2      6862\n",
       "3      1394\n",
       "4       268\n",
       "5        66\n",
       "6        24\n",
       "7         9\n",
       "99        5\n",
       "10        4\n",
       "8         3\n",
       "9         1\n",
       "Name: AP6_1_2, dtype: int64"
      ]
     },
     "execution_count": 16,
     "metadata": {},
     "output_type": "execute_result"
    }
   ],
   "source": [
    "df_copy_tper_vic2.AP6_1_2.replace(diccDec, inplace = True)\n",
    "df_copy_tper_vic2.AP6_1_2.value_counts()"
   ]
  },
  {
   "cell_type": "code",
   "execution_count": 17,
   "metadata": {},
   "outputs": [
    {
     "data": {
      "text/plain": [
       "2     56461\n",
       "1     28107\n",
       "99       61\n",
       "Name: AP6_2, dtype: int64"
      ]
     },
     "execution_count": 17,
     "metadata": {},
     "output_type": "execute_result"
    }
   ],
   "source": [
    "df_copy_tper_vic2.AP6_2.replace(dicc, inplace = True)\n",
    "df_copy_tper_vic2.AP6_2.value_counts()"
   ]
  },
  {
   "cell_type": "code",
   "execution_count": 18,
   "metadata": {},
   "outputs": [
    {
     "data": {
      "text/plain": [
       "2     74229\n",
       "1     10372\n",
       "99       28\n",
       "Name: AP6_3, dtype: int64"
      ]
     },
     "execution_count": 18,
     "metadata": {},
     "output_type": "execute_result"
    }
   ],
   "source": [
    "df_copy_tper_vic2.AP6_3.replace(dicc, inplace = True)\n",
    "df_copy_tper_vic2.AP6_3.value_counts()"
   ]
  },
  {
   "cell_type": "code",
   "execution_count": 19,
   "metadata": {},
   "outputs": [
    {
     "data": {
      "text/plain": [
       "2     83165\n",
       "1      1386\n",
       "99       78\n",
       "Name: AP6_4_01, dtype: int64"
      ]
     },
     "execution_count": 19,
     "metadata": {},
     "output_type": "execute_result"
    }
   ],
   "source": [
    "df_copy_tper_vic2.AP6_4_01.replace(dicc, inplace = True)\n",
    "df_copy_tper_vic2.AP6_4_01.value_counts()"
   ]
  },
  {
   "cell_type": "code",
   "execution_count": 20,
   "metadata": {},
   "outputs": [],
   "source": [
    "dicc2 = {'\\r':'99','1\\r':'1','2\\r':'2','9\\r':'99'}"
   ]
  },
  {
   "cell_type": "code",
   "execution_count": 21,
   "metadata": {},
   "outputs": [
    {
     "data": {
      "text/plain": [
       "1    1151\n",
       "2     235\n",
       "Name: AP6_5_01, dtype: int64"
      ]
     },
     "execution_count": 21,
     "metadata": {},
     "output_type": "execute_result"
    }
   ],
   "source": [
    "df_copy_tper_vic2.AP6_5_01.replace(diccDec, inplace = True)\n",
    "df_copy_tper_vic2.AP6_5_01.value_counts()"
   ]
  },
  {
   "cell_type": "code",
   "execution_count": 22,
   "metadata": {},
   "outputs": [
    {
     "data": {
      "text/plain": [
       "1    1076\n",
       "2      68\n",
       "3       6\n",
       "8       1\n",
       "Name: AP6_6_01, dtype: int64"
      ]
     },
     "execution_count": 22,
     "metadata": {},
     "output_type": "execute_result"
    }
   ],
   "source": [
    "df_copy_tper_vic2.AP6_6_01.replace(diccDec, inplace = True)\n",
    "df_copy_tper_vic2.AP6_6_01.value_counts()"
   ]
  },
  {
   "cell_type": "code",
   "execution_count": 23,
   "metadata": {},
   "outputs": [
    {
     "data": {
      "text/plain": [
       "2     78679\n",
       "1      5906\n",
       "99       44\n",
       "Name: AP6_4_02, dtype: int64"
      ]
     },
     "execution_count": 23,
     "metadata": {},
     "output_type": "execute_result"
    }
   ],
   "source": [
    "df_copy_tper_vic2.AP6_4_02.replace(dicc, inplace = True)\n",
    "df_copy_tper_vic2.AP6_4_02.value_counts()"
   ]
  },
  {
   "cell_type": "code",
   "execution_count": 24,
   "metadata": {},
   "outputs": [
    {
     "data": {
      "text/plain": [
       "1     5413\n",
       "2      492\n",
       "99       1\n",
       "Name: AP6_5_02, dtype: int64"
      ]
     },
     "execution_count": 24,
     "metadata": {},
     "output_type": "execute_result"
    }
   ],
   "source": [
    "df_copy_tper_vic2.AP6_5_02.replace(diccDec, inplace = True)\n",
    "df_copy_tper_vic2.AP6_5_02.value_counts()"
   ]
  },
  {
   "cell_type": "code",
   "execution_count": 25,
   "metadata": {},
   "outputs": [
    {
     "data": {
      "text/plain": [
       "1     4004\n",
       "2     1026\n",
       "3      280\n",
       "4       62\n",
       "5       27\n",
       "6        7\n",
       "10       4\n",
       "7        1\n",
       "15       1\n",
       "12       1\n",
       "Name: AP6_6_02, dtype: int64"
      ]
     },
     "execution_count": 25,
     "metadata": {},
     "output_type": "execute_result"
    }
   ],
   "source": [
    "df_copy_tper_vic2.AP6_6_02.replace(diccDec, inplace = True)\n",
    "df_copy_tper_vic2.AP6_6_02.value_counts()"
   ]
  },
  {
   "cell_type": "code",
   "execution_count": 26,
   "metadata": {},
   "outputs": [
    {
     "data": {
      "text/plain": [
       "2     79254\n",
       "1      5335\n",
       "99       40\n",
       "Name: AP6_4_03, dtype: int64"
      ]
     },
     "execution_count": 26,
     "metadata": {},
     "output_type": "execute_result"
    }
   ],
   "source": [
    "df_copy_tper_vic2.AP6_4_03.replace(dicc, inplace = True)\n",
    "df_copy_tper_vic2.AP6_4_03.value_counts()"
   ]
  },
  {
   "cell_type": "code",
   "execution_count": 27,
   "metadata": {},
   "outputs": [
    {
     "data": {
      "text/plain": [
       "1     3617\n",
       "2     1011\n",
       "3      443\n",
       "4      124\n",
       "5       79\n",
       "10      16\n",
       "6       14\n",
       "12       9\n",
       "8        5\n",
       "15       5\n",
       "20       3\n",
       "7        3\n",
       "25       1\n",
       "40       1\n",
       "36       1\n",
       "18       1\n",
       "99       1\n",
       "30       1\n",
       "Name: AP6_6_03, dtype: int64"
      ]
     },
     "execution_count": 27,
     "metadata": {},
     "output_type": "execute_result"
    }
   ],
   "source": [
    "df_copy_tper_vic2.AP6_6_03.replace(diccDec, inplace = True)\n",
    "df_copy_tper_vic2.AP6_6_03.value_counts()"
   ]
  },
  {
   "cell_type": "code",
   "execution_count": 28,
   "metadata": {},
   "outputs": [
    {
     "data": {
      "text/plain": [
       "2     79832\n",
       "1      4698\n",
       "99       99\n",
       "Name: AP6_4_04, dtype: int64"
      ]
     },
     "execution_count": 28,
     "metadata": {},
     "output_type": "execute_result"
    }
   ],
   "source": [
    "df_copy_tper_vic2.AP6_4_04.replace(dicc, inplace = True)\n",
    "df_copy_tper_vic2.AP6_4_04.value_counts()"
   ]
  },
  {
   "cell_type": "code",
   "execution_count": 29,
   "metadata": {},
   "outputs": [
    {
     "data": {
      "text/plain": [
       "1     3873\n",
       "2      634\n",
       "3      129\n",
       "4       34\n",
       "5       23\n",
       "6        4\n",
       "10       1\n",
       "Name: AP6_6_04, dtype: int64"
      ]
     },
     "execution_count": 29,
     "metadata": {},
     "output_type": "execute_result"
    }
   ],
   "source": [
    "df_copy_tper_vic2.AP6_6_04.replace(diccDec, inplace = True)\n",
    "df_copy_tper_vic2.AP6_6_04.value_counts()"
   ]
  },
  {
   "cell_type": "code",
   "execution_count": 30,
   "metadata": {},
   "outputs": [
    {
     "data": {
      "text/plain": [
       "2     65453\n",
       "1     19146\n",
       "99       30\n",
       "Name: AP6_7, dtype: int64"
      ]
     },
     "execution_count": 30,
     "metadata": {},
     "output_type": "execute_result"
    }
   ],
   "source": [
    "df_copy_tper_vic2.AP6_7.replace(dicc, inplace = True)\n",
    "df_copy_tper_vic2.AP6_7.value_counts()"
   ]
  },
  {
   "cell_type": "code",
   "execution_count": 31,
   "metadata": {},
   "outputs": [
    {
     "data": {
      "text/plain": [
       "2     22348\n",
       "1      2430\n",
       "3      2095\n",
       "99      129\n",
       "Name: AP6_8, dtype: int64"
      ]
     },
     "execution_count": 31,
     "metadata": {},
     "output_type": "execute_result"
    }
   ],
   "source": [
    "df_copy_tper_vic2.AP6_8.replace(diccDec, inplace = True)\n",
    "df_copy_tper_vic2.AP6_8.value_counts()"
   ]
  },
  {
   "cell_type": "code",
   "execution_count": 32,
   "metadata": {},
   "outputs": [
    {
     "data": {
      "text/plain": [
       "2     83794\n",
       "1       804\n",
       "99       31\n",
       "Name: AP6_9, dtype: int64"
      ]
     },
     "execution_count": 32,
     "metadata": {},
     "output_type": "execute_result"
    }
   ],
   "source": [
    "df_copy_tper_vic2.AP6_9.replace(dicc, inplace = True)\n",
    "df_copy_tper_vic2.AP6_9.value_counts()"
   ]
  },
  {
   "cell_type": "code",
   "execution_count": 33,
   "metadata": {},
   "outputs": [
    {
     "data": {
      "text/plain": [
       "2     84295\n",
       "1       261\n",
       "99       73\n",
       "Name: AP6_10_1, dtype: int64"
      ]
     },
     "execution_count": 33,
     "metadata": {},
     "output_type": "execute_result"
    }
   ],
   "source": [
    "df_copy_tper_vic2.AP6_10_1.replace(dicc, inplace = True)\n",
    "df_copy_tper_vic2.AP6_10_1.value_counts()"
   ]
  },
  {
   "cell_type": "code",
   "execution_count": 34,
   "metadata": {},
   "outputs": [
    {
     "data": {
      "text/plain": [
       "1    237\n",
       "2     22\n",
       "3      1\n",
       "4      1\n",
       "Name: AP6_10_2, dtype: int64"
      ]
     },
     "execution_count": 34,
     "metadata": {},
     "output_type": "execute_result"
    }
   ],
   "source": [
    "df_copy_tper_vic2.AP6_10_2.replace(diccDec, inplace = True)\n",
    "df_copy_tper_vic2.AP6_10_2.value_counts()"
   ]
  },
  {
   "cell_type": "code",
   "execution_count": 35,
   "metadata": {},
   "outputs": [
    {
     "data": {
      "text/plain": [
       "1    222\n",
       "2     39\n",
       "Name: AP6_11_1, dtype: int64"
      ]
     },
     "execution_count": 35,
     "metadata": {},
     "output_type": "execute_result"
    }
   ],
   "source": [
    "df_copy_tper_vic2.AP6_11_1.replace(diccDec, inplace = True)\n",
    "df_copy_tper_vic2.AP6_11_1.value_counts()"
   ]
  },
  {
   "cell_type": "code",
   "execution_count": 36,
   "metadata": {},
   "outputs": [
    {
     "data": {
      "text/plain": [
       "1    212\n",
       "2      7\n",
       "3      2\n",
       "4      1\n",
       "Name: AP6_12_1, dtype: int64"
      ]
     },
     "execution_count": 36,
     "metadata": {},
     "output_type": "execute_result"
    }
   ],
   "source": [
    "df_copy_tper_vic2.AP6_12_1.replace(diccDec, inplace = True)\n",
    "df_copy_tper_vic2.AP6_12_1.value_counts()"
   ]
  },
  {
   "cell_type": "code",
   "execution_count": 37,
   "metadata": {},
   "outputs": [
    {
     "data": {
      "text/plain": [
       "1     124\n",
       "2      47\n",
       "3      15\n",
       "99     14\n",
       "4      12\n",
       "5       9\n",
       "6       1\n",
       "Name: AP6_12A1_1, dtype: int64"
      ]
     },
     "execution_count": 37,
     "metadata": {},
     "output_type": "execute_result"
    }
   ],
   "source": [
    "df_copy_tper_vic2.AP6_12A1_1.replace(diccDec, inplace = True)\n",
    "df_copy_tper_vic2.AP6_12A1_1.value_counts()"
   ]
  },
  {
   "cell_type": "code",
   "execution_count": 38,
   "metadata": {},
   "outputs": [
    {
     "data": {
      "text/plain": [
       "1     6\n",
       "2     2\n",
       "99    1\n",
       "3     1\n",
       "Name: AP6_12A1_2, dtype: int64"
      ]
     },
     "execution_count": 38,
     "metadata": {},
     "output_type": "execute_result"
    }
   ],
   "source": [
    "df_copy_tper_vic2.AP6_12A1_2.replace(diccDec, inplace = True)\n",
    "df_copy_tper_vic2.AP6_12A1_2.value_counts()"
   ]
  },
  {
   "cell_type": "code",
   "execution_count": 39,
   "metadata": {},
   "outputs": [
    {
     "data": {
      "text/plain": [
       "3    1\n",
       "1    1\n",
       "2    1\n",
       "Name: AP6_12A1_3, dtype: int64"
      ]
     },
     "execution_count": 39,
     "metadata": {},
     "output_type": "execute_result"
    }
   ],
   "source": [
    "df_copy_tper_vic2.AP6_12A1_3.replace(diccDec, inplace = True)\n",
    "df_copy_tper_vic2.AP6_12A1_3.value_counts()"
   ]
  },
  {
   "cell_type": "code",
   "execution_count": 40,
   "metadata": {},
   "outputs": [
    {
     "data": {
      "text/plain": [
       "2    1\n",
       "Name: AP6_12A1_4, dtype: int64"
      ]
     },
     "execution_count": 40,
     "metadata": {},
     "output_type": "execute_result"
    }
   ],
   "source": [
    "df_copy_tper_vic2.AP6_12A1_4.replace(diccDec, inplace = True)\n",
    "df_copy_tper_vic2.AP6_12A1_4.value_counts()"
   ]
  },
  {
   "cell_type": "code",
   "execution_count": 41,
   "metadata": {},
   "outputs": [
    {
     "data": {
      "text/plain": [
       "1    16\n",
       "2     8\n",
       "Name: AP6_11_2, dtype: int64"
      ]
     },
     "execution_count": 41,
     "metadata": {},
     "output_type": "execute_result"
    }
   ],
   "source": [
    "df_copy_tper_vic2.AP6_11_2.replace(diccDec, inplace = True)\n",
    "df_copy_tper_vic2.AP6_11_2.value_counts()"
   ]
  },
  {
   "cell_type": "code",
   "execution_count": 42,
   "metadata": {},
   "outputs": [
    {
     "data": {
      "text/plain": [
       "1    15\n",
       "3     1\n",
       "Name: AP6_12_2, dtype: int64"
      ]
     },
     "execution_count": 42,
     "metadata": {},
     "output_type": "execute_result"
    }
   ],
   "source": [
    "df_copy_tper_vic2.AP6_12_2.replace(diccDec, inplace = True)\n",
    "df_copy_tper_vic2.AP6_12_2.value_counts()"
   ]
  },
  {
   "cell_type": "code",
   "execution_count": 43,
   "metadata": {},
   "outputs": [
    {
     "data": {
      "text/plain": [
       "1     10\n",
       "2      3\n",
       "99     2\n",
       "3      1\n",
       "Name: AP6_12A2_1, dtype: int64"
      ]
     },
     "execution_count": 43,
     "metadata": {},
     "output_type": "execute_result"
    }
   ],
   "source": [
    "df_copy_tper_vic2.AP6_12A2_1.replace(diccDec, inplace = True)\n",
    "df_copy_tper_vic2.AP6_12A2_1.value_counts()"
   ]
  },
  {
   "cell_type": "code",
   "execution_count": 44,
   "metadata": {},
   "outputs": [
    {
     "data": {
      "text/plain": [
       "1    1\n",
       "Name: AP6_12A2_2, dtype: int64"
      ]
     },
     "execution_count": 44,
     "metadata": {},
     "output_type": "execute_result"
    }
   ],
   "source": [
    "df_copy_tper_vic2.AP6_12A2_2.replace(diccDec, inplace = True)\n",
    "df_copy_tper_vic2.AP6_12A2_2.value_counts()"
   ]
  },
  {
   "cell_type": "code",
   "execution_count": 45,
   "metadata": {},
   "outputs": [
    {
     "data": {
      "text/plain": [
       "1    1\n",
       "Name: AP6_12A2_3, dtype: int64"
      ]
     },
     "execution_count": 45,
     "metadata": {},
     "output_type": "execute_result"
    }
   ],
   "source": [
    "df_copy_tper_vic2.AP6_12A2_3.replace(diccDec, inplace = True)\n",
    "df_copy_tper_vic2.AP6_12A2_3.value_counts()"
   ]
  },
  {
   "cell_type": "code",
   "execution_count": 46,
   "metadata": {},
   "outputs": [
    {
     "data": {
      "text/plain": [
       "Series([], Name: AP6_12A2_4, dtype: int64)"
      ]
     },
     "execution_count": 46,
     "metadata": {},
     "output_type": "execute_result"
    }
   ],
   "source": [
    "df_copy_tper_vic2.AP6_12A2_4.replace(diccDec, inplace = True)\n",
    "df_copy_tper_vic2.AP6_12A2_4.value_counts()"
   ]
  },
  {
   "cell_type": "code",
   "execution_count": 47,
   "metadata": {},
   "outputs": [
    {
     "data": {
      "text/plain": [
       "1    2\n",
       "Name: AP6_11_3, dtype: int64"
      ]
     },
     "execution_count": 47,
     "metadata": {},
     "output_type": "execute_result"
    }
   ],
   "source": [
    "df_copy_tper_vic2.AP6_11_3.replace(diccDec, inplace = True)\n",
    "df_copy_tper_vic2.AP6_11_3.value_counts()"
   ]
  },
  {
   "cell_type": "code",
   "execution_count": 48,
   "metadata": {},
   "outputs": [
    {
     "data": {
      "text/plain": [
       "1    2\n",
       "Name: AP6_12_3, dtype: int64"
      ]
     },
     "execution_count": 48,
     "metadata": {},
     "output_type": "execute_result"
    }
   ],
   "source": [
    "df_copy_tper_vic2.AP6_12_3.replace(diccDec, inplace = True)\n",
    "df_copy_tper_vic2.AP6_12_3.value_counts()"
   ]
  },
  {
   "cell_type": "code",
   "execution_count": 49,
   "metadata": {},
   "outputs": [
    {
     "data": {
      "text/plain": [
       "1    1\n",
       "Name: AP6_11_4, dtype: int64"
      ]
     },
     "execution_count": 49,
     "metadata": {},
     "output_type": "execute_result"
    }
   ],
   "source": [
    "df_copy_tper_vic2.AP6_11_4.replace(diccDec, inplace = True)\n",
    "df_copy_tper_vic2.AP6_11_4.value_counts()"
   ]
  },
  {
   "cell_type": "code",
   "execution_count": 50,
   "metadata": {},
   "outputs": [
    {
     "data": {
      "text/plain": [
       "Series([], Name: AP6_11_5, dtype: int64)"
      ]
     },
     "execution_count": 50,
     "metadata": {},
     "output_type": "execute_result"
    }
   ],
   "source": [
    "df_copy_tper_vic2.AP6_11_5.replace(diccDec, inplace = True)\n",
    "df_copy_tper_vic2.AP6_11_5.value_counts()"
   ]
  },
  {
   "cell_type": "code",
   "execution_count": 51,
   "metadata": {},
   "outputs": [
    {
     "data": {
      "text/plain": [
       "Series([], Name: AP6_11_6, dtype: int64)"
      ]
     },
     "execution_count": 51,
     "metadata": {},
     "output_type": "execute_result"
    }
   ],
   "source": [
    "df_copy_tper_vic2.AP6_11_6.replace(diccDec, inplace = True)\n",
    "df_copy_tper_vic2.AP6_11_6.value_counts()"
   ]
  },
  {
   "cell_type": "code",
   "execution_count": 52,
   "metadata": {},
   "outputs": [
    {
     "data": {
      "text/plain": [
       "1    1\n",
       "Name: AP6_12_4, dtype: int64"
      ]
     },
     "execution_count": 52,
     "metadata": {},
     "output_type": "execute_result"
    }
   ],
   "source": [
    "df_copy_tper_vic2.AP6_12_4.replace(diccDec, inplace = True)\n",
    "df_copy_tper_vic2.AP6_12_4.value_counts()"
   ]
  },
  {
   "cell_type": "code",
   "execution_count": 53,
   "metadata": {},
   "outputs": [
    {
     "data": {
      "text/plain": [
       "Series([], Name: AP6_12_5, dtype: int64)"
      ]
     },
     "execution_count": 53,
     "metadata": {},
     "output_type": "execute_result"
    }
   ],
   "source": [
    "df_copy_tper_vic2.AP6_12_5.replace(diccDec, inplace = True)\n",
    "df_copy_tper_vic2.AP6_12_5.value_counts()"
   ]
  },
  {
   "cell_type": "code",
   "execution_count": 54,
   "metadata": {},
   "outputs": [
    {
     "data": {
      "text/plain": [
       "Series([], Name: AP6_12_6, dtype: int64)"
      ]
     },
     "execution_count": 54,
     "metadata": {},
     "output_type": "execute_result"
    }
   ],
   "source": [
    "df_copy_tper_vic2.AP6_12_6.replace(diccDec, inplace = True)\n",
    "df_copy_tper_vic2.AP6_12_6.value_counts()"
   ]
  },
  {
   "cell_type": "code",
   "execution_count": 55,
   "metadata": {},
   "outputs": [
    {
     "data": {
      "text/plain": [
       "99    1\n",
       "1     1\n",
       "Name: AP6_12A3_1, dtype: int64"
      ]
     },
     "execution_count": 55,
     "metadata": {},
     "output_type": "execute_result"
    }
   ],
   "source": [
    "df_copy_tper_vic2.AP6_12A3_1.replace(diccDec, inplace = True)\n",
    "df_copy_tper_vic2.AP6_12A3_1.value_counts()"
   ]
  },
  {
   "cell_type": "code",
   "execution_count": 56,
   "metadata": {},
   "outputs": [
    {
     "data": {
      "text/plain": [
       "Series([], Name: AP6_12A3_2, dtype: int64)"
      ]
     },
     "execution_count": 56,
     "metadata": {},
     "output_type": "execute_result"
    }
   ],
   "source": [
    "df_copy_tper_vic2.AP6_12A3_2.replace(diccDec, inplace = True)\n",
    "df_copy_tper_vic2.AP6_12A3_2.value_counts()"
   ]
  },
  {
   "cell_type": "code",
   "execution_count": 57,
   "metadata": {},
   "outputs": [
    {
     "data": {
      "text/plain": [
       "Series([], Name: AP6_12A3_3, dtype: int64)"
      ]
     },
     "execution_count": 57,
     "metadata": {},
     "output_type": "execute_result"
    }
   ],
   "source": [
    "df_copy_tper_vic2.AP6_12A3_3.replace(diccDec, inplace = True)\n",
    "df_copy_tper_vic2.AP6_12A3_3.value_counts()"
   ]
  },
  {
   "cell_type": "code",
   "execution_count": 58,
   "metadata": {},
   "outputs": [
    {
     "data": {
      "text/plain": [
       "Series([], Name: AP6_12A3_4, dtype: int64)"
      ]
     },
     "execution_count": 58,
     "metadata": {},
     "output_type": "execute_result"
    }
   ],
   "source": [
    "df_copy_tper_vic2.AP6_12A3_4.replace(diccDec, inplace = True)\n",
    "df_copy_tper_vic2.AP6_12A3_4.value_counts()"
   ]
  },
  {
   "cell_type": "code",
   "execution_count": 59,
   "metadata": {},
   "outputs": [
    {
     "data": {
      "text/plain": [
       "9    1\n",
       "Name: AP6_12A4_1, dtype: int64"
      ]
     },
     "execution_count": 59,
     "metadata": {},
     "output_type": "execute_result"
    }
   ],
   "source": [
    "df_copy_tper_vic2.AP6_12A4_1.replace(diccDec, inplace = True)\n",
    "df_copy_tper_vic2.AP6_12A4_1.value_counts()"
   ]
  },
  {
   "cell_type": "code",
   "execution_count": 60,
   "metadata": {},
   "outputs": [
    {
     "data": {
      "text/plain": [
       "Series([], Name: AP6_12A4_2, dtype: int64)"
      ]
     },
     "execution_count": 60,
     "metadata": {},
     "output_type": "execute_result"
    }
   ],
   "source": [
    "df_copy_tper_vic2.AP6_12A4_2.replace(diccDec, inplace = True)\n",
    "df_copy_tper_vic2.AP6_12A4_2.value_counts()"
   ]
  },
  {
   "cell_type": "code",
   "execution_count": 61,
   "metadata": {},
   "outputs": [
    {
     "data": {
      "text/plain": [
       "Series([], Name: AP6_12A4_3, dtype: int64)"
      ]
     },
     "execution_count": 61,
     "metadata": {},
     "output_type": "execute_result"
    }
   ],
   "source": [
    "df_copy_tper_vic2.AP6_12A4_3.replace(diccDec, inplace = True)\n",
    "df_copy_tper_vic2.AP6_12A4_3.value_counts()"
   ]
  },
  {
   "cell_type": "code",
   "execution_count": 62,
   "metadata": {},
   "outputs": [
    {
     "data": {
      "text/plain": [
       "Series([], Name: AP6_12A4_4, dtype: int64)"
      ]
     },
     "execution_count": 62,
     "metadata": {},
     "output_type": "execute_result"
    }
   ],
   "source": [
    "df_copy_tper_vic2.AP6_12A4_4.replace(diccDec, inplace = True)\n",
    "df_copy_tper_vic2.AP6_12A4_4.value_counts()"
   ]
  },
  {
   "cell_type": "code",
   "execution_count": 63,
   "metadata": {},
   "outputs": [
    {
     "data": {
      "text/plain": [
       "Series([], Name: AP6_12A5_1, dtype: int64)"
      ]
     },
     "execution_count": 63,
     "metadata": {},
     "output_type": "execute_result"
    }
   ],
   "source": [
    "df_copy_tper_vic2.AP6_12A5_1.replace(diccDec, inplace = True)\n",
    "df_copy_tper_vic2.AP6_12A5_1.value_counts()"
   ]
  },
  {
   "cell_type": "code",
   "execution_count": 64,
   "metadata": {},
   "outputs": [
    {
     "data": {
      "text/plain": [
       "Series([], Name: AP6_12A5_2, dtype: int64)"
      ]
     },
     "execution_count": 64,
     "metadata": {},
     "output_type": "execute_result"
    }
   ],
   "source": [
    "df_copy_tper_vic2.AP6_12A5_2.replace(diccDec, inplace = True)\n",
    "df_copy_tper_vic2.AP6_12A5_2.value_counts()"
   ]
  },
  {
   "cell_type": "code",
   "execution_count": 65,
   "metadata": {},
   "outputs": [
    {
     "data": {
      "text/plain": [
       "Series([], Name: AP6_12A5_3, dtype: int64)"
      ]
     },
     "execution_count": 65,
     "metadata": {},
     "output_type": "execute_result"
    }
   ],
   "source": [
    "df_copy_tper_vic2.AP6_12A5_3.replace(diccDec, inplace = True)\n",
    "df_copy_tper_vic2.AP6_12A5_3.value_counts()"
   ]
  },
  {
   "cell_type": "code",
   "execution_count": 66,
   "metadata": {},
   "outputs": [
    {
     "data": {
      "text/plain": [
       "Series([], Name: AP6_12A5_4, dtype: int64)"
      ]
     },
     "execution_count": 66,
     "metadata": {},
     "output_type": "execute_result"
    }
   ],
   "source": [
    "df_copy_tper_vic2.AP6_12A5_4.replace(diccDec, inplace = True)\n",
    "df_copy_tper_vic2.AP6_12A5_4.value_counts()"
   ]
  },
  {
   "cell_type": "code",
   "execution_count": 67,
   "metadata": {},
   "outputs": [
    {
     "data": {
      "text/plain": [
       "Series([], Name: AP6_12A6_1, dtype: int64)"
      ]
     },
     "execution_count": 67,
     "metadata": {},
     "output_type": "execute_result"
    }
   ],
   "source": [
    "df_copy_tper_vic2.AP6_12A6_1.replace(diccDec, inplace = True)\n",
    "df_copy_tper_vic2.AP6_12A6_1.value_counts()"
   ]
  },
  {
   "cell_type": "code",
   "execution_count": 68,
   "metadata": {},
   "outputs": [
    {
     "data": {
      "text/plain": [
       "Series([], Name: AP6_12A6_2, dtype: int64)"
      ]
     },
     "execution_count": 68,
     "metadata": {},
     "output_type": "execute_result"
    }
   ],
   "source": [
    "df_copy_tper_vic2.AP6_12A6_2.replace(diccDec, inplace = True)\n",
    "df_copy_tper_vic2.AP6_12A6_2.value_counts()"
   ]
  },
  {
   "cell_type": "code",
   "execution_count": 69,
   "metadata": {},
   "outputs": [
    {
     "data": {
      "text/plain": [
       "Series([], Name: AP6_12A6_3, dtype: int64)"
      ]
     },
     "execution_count": 69,
     "metadata": {},
     "output_type": "execute_result"
    }
   ],
   "source": [
    "df_copy_tper_vic2.AP6_12A6_3.replace(diccDec, inplace = True)\n",
    "df_copy_tper_vic2.AP6_12A6_3.value_counts()"
   ]
  },
  {
   "cell_type": "code",
   "execution_count": 70,
   "metadata": {},
   "outputs": [
    {
     "data": {
      "text/plain": [
       "Series([], Name: AP6_12A6_4, dtype: int64)"
      ]
     },
     "execution_count": 70,
     "metadata": {},
     "output_type": "execute_result"
    }
   ],
   "source": [
    "df_copy_tper_vic2.AP6_12A6_4.replace(diccDec, inplace = True)\n",
    "df_copy_tper_vic2.AP6_12A6_4.value_counts()"
   ]
  },
  {
   "cell_type": "code",
   "execution_count": 71,
   "metadata": {},
   "outputs": [
    {
     "data": {
      "text/plain": [
       "2     84144\n",
       "1       445\n",
       "99       40\n",
       "Name: AP6_13, dtype: int64"
      ]
     },
     "execution_count": 71,
     "metadata": {},
     "output_type": "execute_result"
    }
   ],
   "source": [
    "df_copy_tper_vic2.AP6_13.replace(diccDec, inplace = True)\n",
    "df_copy_tper_vic2.AP6_13.value_counts()"
   ]
  },
  {
   "cell_type": "code",
   "execution_count": 72,
   "metadata": {},
   "outputs": [
    {
     "data": {
      "text/plain": [
       "2     84443\n",
       "1       155\n",
       "99       31\n",
       "Name: AP6_14_1, dtype: int64"
      ]
     },
     "execution_count": 72,
     "metadata": {},
     "output_type": "execute_result"
    }
   ],
   "source": [
    "df_copy_tper_vic2.AP6_14_1.replace(dicc, inplace = True)\n",
    "df_copy_tper_vic2.AP6_14_1.value_counts()"
   ]
  },
  {
   "cell_type": "code",
   "execution_count": 73,
   "metadata": {},
   "outputs": [
    {
     "data": {
      "text/plain": [
       "1.0    138\n",
       "2.0     16\n",
       "3.0      1\n",
       "Name: AP6_14_2, dtype: int64"
      ]
     },
     "execution_count": 73,
     "metadata": {},
     "output_type": "execute_result"
    }
   ],
   "source": [
    "df_copy_tper_vic2.AP6_14_2.replace(dicc, inplace = True)\n",
    "df_copy_tper_vic2.AP6_14_2.value_counts()"
   ]
  },
  {
   "cell_type": "code",
   "execution_count": 74,
   "metadata": {},
   "outputs": [
    {
     "data": {
      "text/plain": [
       "1    128\n",
       "2     27\n",
       "Name: AP6_15_1, dtype: int64"
      ]
     },
     "execution_count": 74,
     "metadata": {},
     "output_type": "execute_result"
    }
   ],
   "source": [
    "df_copy_tper_vic2.AP6_15_1.replace(diccDec, inplace = True)\n",
    "df_copy_tper_vic2.AP6_15_1.value_counts()"
   ]
  },
  {
   "cell_type": "code",
   "execution_count": 75,
   "metadata": {},
   "outputs": [
    {
     "data": {
      "text/plain": [
       "2    9\n",
       "1    8\n",
       "Name: AP6_15_2, dtype: int64"
      ]
     },
     "execution_count": 75,
     "metadata": {},
     "output_type": "execute_result"
    }
   ],
   "source": [
    "df_copy_tper_vic2.AP6_15_2.replace(diccDec, inplace = True)\n",
    "df_copy_tper_vic2.AP6_15_2.value_counts()"
   ]
  },
  {
   "cell_type": "code",
   "execution_count": 76,
   "metadata": {},
   "outputs": [
    {
     "data": {
      "text/plain": [
       "2    1\n",
       "Name: AP6_15_3, dtype: int64"
      ]
     },
     "execution_count": 76,
     "metadata": {},
     "output_type": "execute_result"
    }
   ],
   "source": [
    "df_copy_tper_vic2.AP6_15_3.replace(diccDec, inplace = True)\n",
    "df_copy_tper_vic2.AP6_15_3.value_counts()"
   ]
  },
  {
   "cell_type": "code",
   "execution_count": 77,
   "metadata": {},
   "outputs": [
    {
     "data": {
      "text/plain": [
       "Series([], Name: AP6_15_4, dtype: int64)"
      ]
     },
     "execution_count": 77,
     "metadata": {},
     "output_type": "execute_result"
    }
   ],
   "source": [
    "df_copy_tper_vic2.AP6_15_4.replace(diccDec, inplace = True)\n",
    "df_copy_tper_vic2.AP6_15_4.value_counts()"
   ]
  },
  {
   "cell_type": "code",
   "execution_count": 78,
   "metadata": {},
   "outputs": [
    {
     "data": {
      "text/plain": [
       "Series([], Name: AP6_15_5, dtype: int64)"
      ]
     },
     "execution_count": 78,
     "metadata": {},
     "output_type": "execute_result"
    }
   ],
   "source": [
    "df_copy_tper_vic2.AP6_15_5.replace(diccDec, inplace = True)\n",
    "df_copy_tper_vic2.AP6_15_5.value_counts()"
   ]
  },
  {
   "cell_type": "code",
   "execution_count": 79,
   "metadata": {},
   "outputs": [
    {
     "data": {
      "text/plain": [
       "Series([], Name: AP6_15_6, dtype: int64)"
      ]
     },
     "execution_count": 79,
     "metadata": {},
     "output_type": "execute_result"
    }
   ],
   "source": [
    "df_copy_tper_vic2.AP6_15_6.replace(diccDec, inplace = True)\n",
    "df_copy_tper_vic2.AP6_15_6.value_counts()"
   ]
  },
  {
   "cell_type": "code",
   "execution_count": 80,
   "metadata": {},
   "outputs": [
    {
     "data": {
      "text/plain": [
       "1    112\n",
       "3     10\n",
       "2      6\n",
       "Name: AP6_16_1, dtype: int64"
      ]
     },
     "execution_count": 80,
     "metadata": {},
     "output_type": "execute_result"
    }
   ],
   "source": [
    "df_copy_tper_vic2.AP6_16_1.replace(diccDec, inplace = True)\n",
    "df_copy_tper_vic2.AP6_16_1.value_counts()"
   ]
  },
  {
   "cell_type": "code",
   "execution_count": 81,
   "metadata": {},
   "outputs": [
    {
     "data": {
      "text/plain": [
       "1    7\n",
       "2    1\n",
       "Name: AP6_16_2, dtype: int64"
      ]
     },
     "execution_count": 81,
     "metadata": {},
     "output_type": "execute_result"
    }
   ],
   "source": [
    "df_copy_tper_vic2.AP6_16_2.replace(diccDec, inplace = True)\n",
    "df_copy_tper_vic2.AP6_16_2.value_counts()"
   ]
  },
  {
   "cell_type": "code",
   "execution_count": 82,
   "metadata": {},
   "outputs": [
    {
     "data": {
      "text/plain": [
       "Series([], Name: AP6_16_3, dtype: int64)"
      ]
     },
     "execution_count": 82,
     "metadata": {},
     "output_type": "execute_result"
    }
   ],
   "source": [
    "df_copy_tper_vic2.AP6_16_3.replace(diccDec, inplace = True)\n",
    "df_copy_tper_vic2.AP6_16_3.value_counts()"
   ]
  },
  {
   "cell_type": "code",
   "execution_count": 83,
   "metadata": {},
   "outputs": [
    {
     "data": {
      "text/plain": [
       "Series([], Name: AP6_16_4, dtype: int64)"
      ]
     },
     "execution_count": 83,
     "metadata": {},
     "output_type": "execute_result"
    }
   ],
   "source": [
    "df_copy_tper_vic2.AP6_16_4.replace(diccDec, inplace = True)\n",
    "df_copy_tper_vic2.AP6_16_4.value_counts()"
   ]
  },
  {
   "cell_type": "code",
   "execution_count": 84,
   "metadata": {},
   "outputs": [
    {
     "data": {
      "text/plain": [
       "Series([], Name: AP6_16_5, dtype: int64)"
      ]
     },
     "execution_count": 84,
     "metadata": {},
     "output_type": "execute_result"
    }
   ],
   "source": [
    "df_copy_tper_vic2.AP6_16_5.replace(diccDec, inplace = True)\n",
    "df_copy_tper_vic2.AP6_16_5.value_counts()"
   ]
  },
  {
   "cell_type": "code",
   "execution_count": 85,
   "metadata": {},
   "outputs": [
    {
     "data": {
      "text/plain": [
       "Series([], Name: AP6_16_6, dtype: int64)"
      ]
     },
     "execution_count": 85,
     "metadata": {},
     "output_type": "execute_result"
    }
   ],
   "source": [
    "df_copy_tper_vic2.AP6_16_6.replace(diccDec, inplace = True)\n",
    "df_copy_tper_vic2.AP6_16_6.value_counts()"
   ]
  },
  {
   "cell_type": "code",
   "execution_count": 86,
   "metadata": {},
   "outputs": [
    {
     "data": {
      "text/plain": [
       "1    22\n",
       "Name: AP6_17_1, dtype: int64"
      ]
     },
     "execution_count": 86,
     "metadata": {},
     "output_type": "execute_result"
    }
   ],
   "source": [
    "df_copy_tper_vic2.AP6_17_1.replace(diccDec, inplace = True)\n",
    "df_copy_tper_vic2.AP6_17_1.value_counts()"
   ]
  },
  {
   "cell_type": "code",
   "execution_count": 87,
   "metadata": {},
   "outputs": [
    {
     "data": {
      "text/plain": [
       "1    1\n",
       "Name: AP6_17_2, dtype: int64"
      ]
     },
     "execution_count": 87,
     "metadata": {},
     "output_type": "execute_result"
    }
   ],
   "source": [
    "df_copy_tper_vic2.AP6_17_2.replace(diccDec, inplace = True)\n",
    "df_copy_tper_vic2.AP6_17_2.value_counts()"
   ]
  },
  {
   "cell_type": "code",
   "execution_count": 88,
   "metadata": {},
   "outputs": [
    {
     "data": {
      "text/plain": [
       "Series([], Name: AP6_17_3, dtype: int64)"
      ]
     },
     "execution_count": 88,
     "metadata": {},
     "output_type": "execute_result"
    }
   ],
   "source": [
    "df_copy_tper_vic2.AP6_17_3.replace(diccDec, inplace = True)\n",
    "df_copy_tper_vic2.AP6_17_3.value_counts()"
   ]
  },
  {
   "cell_type": "code",
   "execution_count": 89,
   "metadata": {},
   "outputs": [
    {
     "data": {
      "text/plain": [
       "Series([], Name: AP6_17_4, dtype: int64)"
      ]
     },
     "execution_count": 89,
     "metadata": {},
     "output_type": "execute_result"
    }
   ],
   "source": [
    "df_copy_tper_vic2.AP6_17_4.replace(diccDec, inplace = True)\n",
    "df_copy_tper_vic2.AP6_17_4.value_counts()"
   ]
  },
  {
   "cell_type": "code",
   "execution_count": 90,
   "metadata": {},
   "outputs": [
    {
     "data": {
      "text/plain": [
       "Series([], Name: AP6_17_5, dtype: int64)"
      ]
     },
     "execution_count": 90,
     "metadata": {},
     "output_type": "execute_result"
    }
   ],
   "source": [
    "df_copy_tper_vic2.AP6_17_5.replace(diccDec, inplace = True)\n",
    "df_copy_tper_vic2.AP6_17_5.value_counts()"
   ]
  },
  {
   "cell_type": "code",
   "execution_count": 91,
   "metadata": {},
   "outputs": [
    {
     "data": {
      "text/plain": [
       "Series([], Name: AP6_17_6, dtype: int64)"
      ]
     },
     "execution_count": 91,
     "metadata": {},
     "output_type": "execute_result"
    }
   ],
   "source": [
    "df_copy_tper_vic2.AP6_17_6.replace(diccDec, inplace = True)\n",
    "df_copy_tper_vic2.AP6_17_6.value_counts()"
   ]
  },
  {
   "cell_type": "code",
   "execution_count": 92,
   "metadata": {},
   "outputs": [
    {
     "data": {
      "text/plain": [
       "2     83964\n",
       "1       600\n",
       "99       65\n",
       "Name: AP6_18, dtype: int64"
      ]
     },
     "execution_count": 92,
     "metadata": {},
     "output_type": "execute_result"
    }
   ],
   "source": [
    "df_copy_tper_vic2.AP6_18.replace(diccDec, inplace = True)\n",
    "df_copy_tper_vic2.AP6_18.value_counts()"
   ]
  },
  {
   "cell_type": "code",
   "execution_count": 93,
   "metadata": {},
   "outputs": [
    {
     "data": {
      "text/plain": [
       "2     84470\n",
       "1       119\n",
       "99       40\n",
       "Name: AP6_19_1, dtype: int64"
      ]
     },
     "execution_count": 93,
     "metadata": {},
     "output_type": "execute_result"
    }
   ],
   "source": [
    "df_copy_tper_vic2.AP6_19_1.replace(dicc, inplace = True)\n",
    "df_copy_tper_vic2.AP6_19_1.value_counts()"
   ]
  },
  {
   "cell_type": "code",
   "execution_count": 94,
   "metadata": {},
   "outputs": [
    {
     "data": {
      "text/plain": [
       "1    109\n",
       "2      9\n",
       "5      1\n",
       "Name: AP6_19_2, dtype: int64"
      ]
     },
     "execution_count": 94,
     "metadata": {},
     "output_type": "execute_result"
    }
   ],
   "source": [
    "df_copy_tper_vic2.AP6_19_2.replace(diccDec, inplace = True)\n",
    "df_copy_tper_vic2.AP6_19_2.value_counts()"
   ]
  },
  {
   "cell_type": "code",
   "execution_count": 95,
   "metadata": {},
   "outputs": [
    {
     "data": {
      "text/plain": [
       "1    76\n",
       "2    43\n",
       "Name: AP6_20_1, dtype: int64"
      ]
     },
     "execution_count": 95,
     "metadata": {},
     "output_type": "execute_result"
    }
   ],
   "source": [
    "df_copy_tper_vic2.AP6_20_1.replace(diccDec, inplace = True)\n",
    "df_copy_tper_vic2.AP6_20_1.value_counts()"
   ]
  },
  {
   "cell_type": "code",
   "execution_count": 96,
   "metadata": {},
   "outputs": [
    {
     "data": {
      "text/plain": [
       "2    7\n",
       "1    3\n",
       "Name: AP6_20_2, dtype: int64"
      ]
     },
     "execution_count": 96,
     "metadata": {},
     "output_type": "execute_result"
    }
   ],
   "source": [
    "df_copy_tper_vic2.AP6_20_2.replace(diccDec, inplace = True)\n",
    "df_copy_tper_vic2.AP6_20_2.value_counts()"
   ]
  },
  {
   "cell_type": "code",
   "execution_count": 97,
   "metadata": {},
   "outputs": [
    {
     "data": {
      "text/plain": [
       "1    1\n",
       "Name: AP6_20_3, dtype: int64"
      ]
     },
     "execution_count": 97,
     "metadata": {},
     "output_type": "execute_result"
    }
   ],
   "source": [
    "df_copy_tper_vic2.AP6_20_3.replace(diccDec, inplace = True)\n",
    "df_copy_tper_vic2.AP6_20_3.value_counts()"
   ]
  },
  {
   "cell_type": "code",
   "execution_count": 98,
   "metadata": {},
   "outputs": [
    {
     "data": {
      "text/plain": [
       "1    1\n",
       "Name: AP6_20_4, dtype: int64"
      ]
     },
     "execution_count": 98,
     "metadata": {},
     "output_type": "execute_result"
    }
   ],
   "source": [
    "df_copy_tper_vic2.AP6_20_4.replace(diccDec, inplace = True)\n",
    "df_copy_tper_vic2.AP6_20_4.value_counts()"
   ]
  },
  {
   "cell_type": "code",
   "execution_count": 99,
   "metadata": {},
   "outputs": [
    {
     "data": {
      "text/plain": [
       "1    1\n",
       "Name: AP6_20_5, dtype: int64"
      ]
     },
     "execution_count": 99,
     "metadata": {},
     "output_type": "execute_result"
    }
   ],
   "source": [
    "df_copy_tper_vic2.AP6_20_5.replace(diccDec, inplace = True)\n",
    "df_copy_tper_vic2.AP6_20_5.value_counts()"
   ]
  },
  {
   "cell_type": "code",
   "execution_count": 100,
   "metadata": {},
   "outputs": [
    {
     "data": {
      "text/plain": [
       "Series([], Name: AP6_20_6, dtype: int64)"
      ]
     },
     "execution_count": 100,
     "metadata": {},
     "output_type": "execute_result"
    }
   ],
   "source": [
    "df_copy_tper_vic2.AP6_20_6.replace(diccDec, inplace = True)\n",
    "df_copy_tper_vic2.AP6_20_6.value_counts()"
   ]
  },
  {
   "cell_type": "code",
   "execution_count": 101,
   "metadata": {},
   "outputs": [
    {
     "data": {
      "text/plain": [
       "1    10\n",
       "2     1\n",
       "Name: AP6_21_1, dtype: int64"
      ]
     },
     "execution_count": 101,
     "metadata": {},
     "output_type": "execute_result"
    }
   ],
   "source": [
    "df_copy_tper_vic2.AP6_21_1.replace(diccDec, inplace = True)\n",
    "df_copy_tper_vic2.AP6_21_1.value_counts()"
   ]
  },
  {
   "cell_type": "code",
   "execution_count": 102,
   "metadata": {},
   "outputs": [
    {
     "data": {
      "text/plain": [
       "Series([], Name: AP6_21_2, dtype: int64)"
      ]
     },
     "execution_count": 102,
     "metadata": {},
     "output_type": "execute_result"
    }
   ],
   "source": [
    "df_copy_tper_vic2.AP6_21_2.replace(diccDec, inplace = True)\n",
    "df_copy_tper_vic2.AP6_21_2.value_counts()"
   ]
  },
  {
   "cell_type": "code",
   "execution_count": 103,
   "metadata": {},
   "outputs": [
    {
     "data": {
      "text/plain": [
       "Series([], Name: AP6_21_3, dtype: int64)"
      ]
     },
     "execution_count": 103,
     "metadata": {},
     "output_type": "execute_result"
    }
   ],
   "source": [
    "df_copy_tper_vic2.AP6_21_3.replace(diccDec, inplace = True)\n",
    "df_copy_tper_vic2.AP6_21_3.value_counts()"
   ]
  },
  {
   "cell_type": "code",
   "execution_count": 104,
   "metadata": {},
   "outputs": [
    {
     "data": {
      "text/plain": [
       "Series([], Name: AP6_21_4, dtype: int64)"
      ]
     },
     "execution_count": 104,
     "metadata": {},
     "output_type": "execute_result"
    }
   ],
   "source": [
    "df_copy_tper_vic2.AP6_21_4.replace(diccDec, inplace = True)\n",
    "df_copy_tper_vic2.AP6_21_4.value_counts()"
   ]
  },
  {
   "cell_type": "code",
   "execution_count": 105,
   "metadata": {},
   "outputs": [
    {
     "data": {
      "text/plain": [
       "Series([], Name: AP6_21_5, dtype: int64)"
      ]
     },
     "execution_count": 105,
     "metadata": {},
     "output_type": "execute_result"
    }
   ],
   "source": [
    "df_copy_tper_vic2.AP6_21_5.replace(diccDec, inplace = True)\n",
    "df_copy_tper_vic2.AP6_21_5.value_counts()"
   ]
  },
  {
   "cell_type": "code",
   "execution_count": 106,
   "metadata": {},
   "outputs": [
    {
     "data": {
      "text/plain": [
       "Series([], Name: AP6_21_6, dtype: int64)"
      ]
     },
     "execution_count": 106,
     "metadata": {},
     "output_type": "execute_result"
    }
   ],
   "source": [
    "df_copy_tper_vic2.AP6_21_6.replace(diccDec, inplace = True)\n",
    "df_copy_tper_vic2.AP6_21_6.value_counts()"
   ]
  },
  {
   "cell_type": "code",
   "execution_count": 107,
   "metadata": {},
   "outputs": [
    {
     "data": {
      "text/plain": [
       "2     72661\n",
       "1     11912\n",
       "99       56\n",
       "Name: AP7_1, dtype: int64"
      ]
     },
     "execution_count": 107,
     "metadata": {},
     "output_type": "execute_result"
    }
   ],
   "source": [
    "df_copy_tper_vic2.AP7_1.replace(dicc, inplace = True)\n",
    "df_copy_tper_vic2.AP7_1.value_counts()"
   ]
  },
  {
   "cell_type": "code",
   "execution_count": 108,
   "metadata": {},
   "outputs": [
    {
     "data": {
      "text/plain": [
       "2     80363\n",
       "1      4200\n",
       "99       66\n",
       "Name: AP7_2, dtype: int64"
      ]
     },
     "execution_count": 108,
     "metadata": {},
     "output_type": "execute_result"
    }
   ],
   "source": [
    "df_copy_tper_vic2.AP7_2.replace(dicc, inplace = True)\n",
    "df_copy_tper_vic2.AP7_2.value_counts()"
   ]
  },
  {
   "cell_type": "code",
   "execution_count": 109,
   "metadata": {},
   "outputs": [
    {
     "data": {
      "text/plain": [
       "2     80433\n",
       "1      4178\n",
       "99       18\n",
       "Name: AP7_3_05, dtype: int64"
      ]
     },
     "execution_count": 109,
     "metadata": {},
     "output_type": "execute_result"
    }
   ],
   "source": [
    "df_copy_tper_vic2.AP7_3_05.replace(dicc, inplace = True)\n",
    "df_copy_tper_vic2.AP7_3_05.value_counts()"
   ]
  },
  {
   "cell_type": "code",
   "execution_count": 110,
   "metadata": {},
   "outputs": [
    {
     "data": {
      "text/plain": [
       "2     83387\n",
       "1      1213\n",
       "99       29\n",
       "Name: AP7_3_06, dtype: int64"
      ]
     },
     "execution_count": 110,
     "metadata": {},
     "output_type": "execute_result"
    }
   ],
   "source": [
    "df_copy_tper_vic2.AP7_3_06.replace(dicc, inplace = True)\n",
    "df_copy_tper_vic2.AP7_3_06.value_counts()"
   ]
  },
  {
   "cell_type": "code",
   "execution_count": 111,
   "metadata": {},
   "outputs": [
    {
     "data": {
      "text/plain": [
       "2     83433\n",
       "1      1110\n",
       "99       86\n",
       "Name: AP7_3_07, dtype: int64"
      ]
     },
     "execution_count": 111,
     "metadata": {},
     "output_type": "execute_result"
    }
   ],
   "source": [
    "df_copy_tper_vic2.AP7_3_07.replace(dicc, inplace = True)\n",
    "df_copy_tper_vic2.AP7_3_07.value_counts()"
   ]
  },
  {
   "cell_type": "code",
   "execution_count": 112,
   "metadata": {},
   "outputs": [
    {
     "data": {
      "text/plain": [
       "2     83210\n",
       "1      1394\n",
       "99       25\n",
       "Name: AP7_3_08, dtype: int64"
      ]
     },
     "execution_count": 112,
     "metadata": {},
     "output_type": "execute_result"
    }
   ],
   "source": [
    "df_copy_tper_vic2.AP7_3_08.replace(dicc, inplace = True)\n",
    "df_copy_tper_vic2.AP7_3_08.value_counts()"
   ]
  },
  {
   "cell_type": "code",
   "execution_count": 113,
   "metadata": {},
   "outputs": [
    {
     "data": {
      "text/plain": [
       "2     80076\n",
       "1      4514\n",
       "99       39\n",
       "Name: AP7_3_09, dtype: int64"
      ]
     },
     "execution_count": 113,
     "metadata": {},
     "output_type": "execute_result"
    }
   ],
   "source": [
    "df_copy_tper_vic2.AP7_3_09.replace(dicc, inplace = True)\n",
    "df_copy_tper_vic2.AP7_3_09.value_counts()"
   ]
  },
  {
   "cell_type": "code",
   "execution_count": 114,
   "metadata": {},
   "outputs": [
    {
     "data": {
      "text/plain": [
       "2     82443\n",
       "1      2121\n",
       "99       65\n",
       "Name: AP7_3_10, dtype: int64"
      ]
     },
     "execution_count": 114,
     "metadata": {},
     "output_type": "execute_result"
    }
   ],
   "source": [
    "df_copy_tper_vic2.AP7_3_10.replace(dicc, inplace = True)\n",
    "df_copy_tper_vic2.AP7_3_10.value_counts()"
   ]
  },
  {
   "cell_type": "code",
   "execution_count": 115,
   "metadata": {},
   "outputs": [
    {
     "data": {
      "text/plain": [
       "2     83866\n",
       "1       743\n",
       "99       20\n",
       "Name: AP7_3_11, dtype: int64"
      ]
     },
     "execution_count": 115,
     "metadata": {},
     "output_type": "execute_result"
    }
   ],
   "source": [
    "df_copy_tper_vic2.AP7_3_11.replace(dicc, inplace = True)\n",
    "df_copy_tper_vic2.AP7_3_11.value_counts()"
   ]
  },
  {
   "cell_type": "code",
   "execution_count": 116,
   "metadata": {},
   "outputs": [
    {
     "data": {
      "text/plain": [
       "2     84532\n",
       "1        73\n",
       "99       24\n",
       "Name: AP7_3_12, dtype: int64"
      ]
     },
     "execution_count": 116,
     "metadata": {},
     "output_type": "execute_result"
    }
   ],
   "source": [
    "df_copy_tper_vic2.AP7_3_12.replace(dicc, inplace = True)\n",
    "df_copy_tper_vic2.AP7_3_12.value_counts()"
   ]
  },
  {
   "cell_type": "code",
   "execution_count": 117,
   "metadata": {},
   "outputs": [
    {
     "data": {
      "text/plain": [
       "2     84222\n",
       "1       379\n",
       "99       28\n",
       "Name: AP7_3_13, dtype: int64"
      ]
     },
     "execution_count": 117,
     "metadata": {},
     "output_type": "execute_result"
    }
   ],
   "source": [
    "df_copy_tper_vic2.AP7_3_13.replace(dicc, inplace = True)\n",
    "df_copy_tper_vic2.AP7_3_13.value_counts()"
   ]
  },
  {
   "cell_type": "code",
   "execution_count": 118,
   "metadata": {},
   "outputs": [
    {
     "data": {
      "text/plain": [
       "2     84522\n",
       "1        61\n",
       "99       46\n",
       "Name: AP7_3_14, dtype: int64"
      ]
     },
     "execution_count": 118,
     "metadata": {},
     "output_type": "execute_result"
    }
   ],
   "source": [
    "df_copy_tper_vic2.AP7_3_14.replace(dicc, inplace = True)\n",
    "df_copy_tper_vic2.AP7_3_14.value_counts()"
   ]
  },
  {
   "cell_type": "code",
   "execution_count": 119,
   "metadata": {},
   "outputs": [
    {
     "data": {
      "text/plain": [
       "2     84484\n",
       "1       103\n",
       "99       42\n",
       "Name: AP7_3_15, dtype: int64"
      ]
     },
     "execution_count": 119,
     "metadata": {},
     "output_type": "execute_result"
    }
   ],
   "source": [
    "df_copy_tper_vic2.AP7_3_15.replace(dicc, inplace = True)\n",
    "df_copy_tper_vic2.AP7_3_15.value_counts()"
   ]
  },
  {
   "cell_type": "code",
   "execution_count": 120,
   "metadata": {},
   "outputs": [
    {
     "data": {
      "text/plain": [
       "1     3278\n",
       "2      659\n",
       "3      169\n",
       "4       39\n",
       "5       21\n",
       "6        6\n",
       "7        2\n",
       "8        2\n",
       "10       1\n",
       "12       1\n",
       "Name: AP7_4_05, dtype: int64"
      ]
     },
     "execution_count": 120,
     "metadata": {},
     "output_type": "execute_result"
    }
   ],
   "source": [
    "df_copy_tper_vic2.AP7_4_05.replace(diccDec, inplace = True)\n",
    "df_copy_tper_vic2.AP7_4_05.value_counts()"
   ]
  },
  {
   "cell_type": "code",
   "execution_count": 121,
   "metadata": {},
   "outputs": [
    {
     "data": {
      "text/plain": [
       "1    1039\n",
       "2     127\n",
       "3      34\n",
       "4       5\n",
       "5       4\n",
       "6       3\n",
       "8       1\n",
       "Name: AP7_4_06, dtype: int64"
      ]
     },
     "execution_count": 121,
     "metadata": {},
     "output_type": "execute_result"
    }
   ],
   "source": [
    "df_copy_tper_vic2.AP7_4_06.replace(diccDec, inplace = True)\n",
    "df_copy_tper_vic2.AP7_4_06.value_counts()"
   ]
  },
  {
   "cell_type": "code",
   "execution_count": 122,
   "metadata": {},
   "outputs": [
    {
     "data": {
      "text/plain": [
       "1    953\n",
       "2    132\n",
       "3     20\n",
       "4      2\n",
       "5      2\n",
       "7      1\n",
       "Name: AP7_4_07, dtype: int64"
      ]
     },
     "execution_count": 122,
     "metadata": {},
     "output_type": "execute_result"
    }
   ],
   "source": [
    "df_copy_tper_vic2.AP7_4_07.replace(diccDec, inplace = True)\n",
    "df_copy_tper_vic2.AP7_4_07.value_counts()"
   ]
  },
  {
   "cell_type": "code",
   "execution_count": 123,
   "metadata": {},
   "outputs": [
    {
     "data": {
      "text/plain": [
       "1    1229\n",
       "2     138\n",
       "3      22\n",
       "5       3\n",
       "4       2\n",
       "Name: AP7_4_08, dtype: int64"
      ]
     },
     "execution_count": 123,
     "metadata": {},
     "output_type": "execute_result"
    }
   ],
   "source": [
    "df_copy_tper_vic2.AP7_4_08.replace(diccDec, inplace = True)\n",
    "df_copy_tper_vic2.AP7_4_08.value_counts()"
   ]
  },
  {
   "cell_type": "code",
   "execution_count": 124,
   "metadata": {},
   "outputs": [
    {
     "data": {
      "text/plain": [
       "1     3324\n",
       "2      753\n",
       "3      290\n",
       "4       62\n",
       "5       52\n",
       "6       11\n",
       "10       5\n",
       "7        4\n",
       "8        3\n",
       "15       3\n",
       "30       2\n",
       "12       2\n",
       "20       2\n",
       "25       1\n",
       "Name: AP7_4_09, dtype: int64"
      ]
     },
     "execution_count": 124,
     "metadata": {},
     "output_type": "execute_result"
    }
   ],
   "source": [
    "df_copy_tper_vic2.AP7_4_09.replace(diccDec, inplace = True)\n",
    "df_copy_tper_vic2.AP7_4_09.value_counts()"
   ]
  },
  {
   "cell_type": "code",
   "execution_count": 125,
   "metadata": {},
   "outputs": [
    {
     "data": {
      "text/plain": [
       "1     1586\n",
       "2      317\n",
       "3      138\n",
       "5       36\n",
       "4       26\n",
       "10       5\n",
       "6        3\n",
       "7        2\n",
       "8        2\n",
       "30       2\n",
       "20       2\n",
       "15       1\n",
       "12       1\n",
       "Name: AP7_4_10, dtype: int64"
      ]
     },
     "execution_count": 125,
     "metadata": {},
     "output_type": "execute_result"
    }
   ],
   "source": [
    "df_copy_tper_vic2.AP7_4_10.replace(diccDec, inplace = True)\n",
    "df_copy_tper_vic2.AP7_4_10.value_counts()"
   ]
  },
  {
   "cell_type": "code",
   "execution_count": 126,
   "metadata": {},
   "outputs": [
    {
     "data": {
      "text/plain": [
       "1     633\n",
       "2      69\n",
       "3      26\n",
       "5       7\n",
       "4       5\n",
       "10      1\n",
       "6       1\n",
       "15      1\n",
       "Name: AP7_4_11, dtype: int64"
      ]
     },
     "execution_count": 126,
     "metadata": {},
     "output_type": "execute_result"
    }
   ],
   "source": [
    "df_copy_tper_vic2.AP7_4_11.replace(diccDec, inplace = True)\n",
    "df_copy_tper_vic2.AP7_4_11.value_counts()"
   ]
  },
  {
   "cell_type": "code",
   "execution_count": 127,
   "metadata": {},
   "outputs": [
    {
     "data": {
      "text/plain": [
       "1    70\n",
       "2     3\n",
       "Name: AP7_4_12, dtype: int64"
      ]
     },
     "execution_count": 127,
     "metadata": {},
     "output_type": "execute_result"
    }
   ],
   "source": [
    "df_copy_tper_vic2.AP7_4_12.replace(diccDec, inplace = True)\n",
    "df_copy_tper_vic2.AP7_4_12.value_counts()"
   ]
  },
  {
   "cell_type": "code",
   "execution_count": 128,
   "metadata": {},
   "outputs": [
    {
     "data": {
      "text/plain": [
       "1     264\n",
       "2      67\n",
       "3      30\n",
       "5       9\n",
       "10      5\n",
       "4       3\n",
       "8       1\n",
       "Name: AP7_4_13, dtype: int64"
      ]
     },
     "execution_count": 128,
     "metadata": {},
     "output_type": "execute_result"
    }
   ],
   "source": [
    "df_copy_tper_vic2.AP7_4_13.replace(diccDec, inplace = True)\n",
    "df_copy_tper_vic2.AP7_4_13.value_counts()"
   ]
  },
  {
   "cell_type": "code",
   "execution_count": 129,
   "metadata": {},
   "outputs": [
    {
     "data": {
      "text/plain": [
       "1    47\n",
       "2    10\n",
       "3     2\n",
       "7     1\n",
       "4     1\n",
       "Name: AP7_4_14, dtype: int64"
      ]
     },
     "execution_count": 129,
     "metadata": {},
     "output_type": "execute_result"
    }
   ],
   "source": [
    "df_copy_tper_vic2.AP7_4_14.replace(diccDec, inplace = True)\n",
    "df_copy_tper_vic2.AP7_4_14.value_counts()"
   ]
  },
  {
   "cell_type": "code",
   "execution_count": 130,
   "metadata": {},
   "outputs": [
    {
     "data": {
      "text/plain": [
       "1     93\n",
       "2      6\n",
       "3      2\n",
       "10     1\n",
       "4      1\n",
       "Name: AP7_4_15, dtype: int64"
      ]
     },
     "execution_count": 130,
     "metadata": {},
     "output_type": "execute_result"
    }
   ],
   "source": [
    "df_copy_tper_vic2.AP7_4_15.replace(diccDec, inplace = True)\n",
    "df_copy_tper_vic2.AP7_4_15.value_counts()"
   ]
  },
  {
   "cell_type": "code",
   "execution_count": 131,
   "metadata": {},
   "outputs": [
    {
     "data": {
      "text/plain": [
       "190     508\n",
       "187     421\n",
       "180     406\n",
       "192     387\n",
       "178     381\n",
       "199     379\n",
       "188     374\n",
       "171     366\n",
       "183     365\n",
       "205     363\n",
       "198     363\n",
       "196     359\n",
       "173     356\n",
       "202     354\n",
       "179     354\n",
       "218     328\n",
       "64      328\n",
       "201     325\n",
       "189     317\n",
       "191     315\n",
       "194     315\n",
       "176     314\n",
       "184     309\n",
       "170     297\n",
       "185     297\n",
       "193     296\n",
       "169     296\n",
       "208     293\n",
       "172     288\n",
       "319     287\n",
       "       ... \n",
       "1604      3\n",
       "939       3\n",
       "1796      3\n",
       "1528      3\n",
       "844       3\n",
       "574       3\n",
       "1447      3\n",
       "1051      3\n",
       "1201      3\n",
       "712       3\n",
       "2007      3\n",
       "1789      3\n",
       "1520      3\n",
       "987       2\n",
       "2160      2\n",
       "1954      2\n",
       "1617      2\n",
       "1784      2\n",
       "684       2\n",
       "2045      2\n",
       "2673      2\n",
       "1086      2\n",
       "2134      2\n",
       "1402      2\n",
       "1759      2\n",
       "1973      2\n",
       "1232      1\n",
       "1914      1\n",
       "2187      1\n",
       "1272      1\n",
       "Name: FAC_HOG, Length: 1454, dtype: int64"
      ]
     },
     "execution_count": 131,
     "metadata": {},
     "output_type": "execute_result"
    }
   ],
   "source": [
    "df_copy_tper_vic2.FAC_HOG.value_counts()"
   ]
  },
  {
   "cell_type": "code",
   "execution_count": 132,
   "metadata": {},
   "outputs": [
    {
     "data": {
      "text/plain": [
       "178.0     207\n",
       "186.0     171\n",
       "185.0     167\n",
       "203.0     151\n",
       "172.0     149\n",
       "192.0     146\n",
       "197.0     141\n",
       "187.0     138\n",
       "208.0     136\n",
       "214.0     136\n",
       "181.0     135\n",
       "198.0     133\n",
       "188.0     129\n",
       "199.0     127\n",
       "211.0     126\n",
       "176.0     126\n",
       "180.0     126\n",
       "191.0     122\n",
       "204.0     120\n",
       "200.0     118\n",
       "173.0     116\n",
       "195.0     113\n",
       "193.0     113\n",
       "169.0     113\n",
       "190.0     113\n",
       "207.0     112\n",
       "67.0      112\n",
       "212.0     111\n",
       "182.0     109\n",
       "206.0     109\n",
       "         ... \n",
       "746.0       3\n",
       "1541.0      3\n",
       "1042.0      3\n",
       "692.0       3\n",
       "803.0       3\n",
       "1375.0      3\n",
       "911.0       3\n",
       "1922.0      3\n",
       "2046.0      2\n",
       "2675.0      2\n",
       "1094.0      2\n",
       "1300.0      2\n",
       "1074.0      2\n",
       "1616.0      2\n",
       "1999.0      2\n",
       "884.0       2\n",
       "2137.0      2\n",
       "1956.0      2\n",
       "665.0       2\n",
       "2164.0      2\n",
       "1789.0      2\n",
       "687.0       2\n",
       "1968.0      2\n",
       "1058.0      2\n",
       "989.0       2\n",
       "45.0        2\n",
       "1915.0      1\n",
       "2188.0      1\n",
       "763.0       1\n",
       "1204.0      1\n",
       "Name: FAC_HOG_AM, Length: 1386, dtype: int64"
      ]
     },
     "execution_count": 132,
     "metadata": {},
     "output_type": "execute_result"
    }
   ],
   "source": [
    "df_copy_tper_vic2.FAC_HOG_AM.value_counts()"
   ]
  },
  {
   "cell_type": "code",
   "execution_count": 133,
   "metadata": {},
   "outputs": [
    {
     "data": {
      "text/plain": [
       "380     266\n",
       "360     254\n",
       "374     248\n",
       "376     234\n",
       "392     223\n",
       "342     221\n",
       "356     214\n",
       "366     214\n",
       "384     211\n",
       "378     211\n",
       "396     204\n",
       "436     202\n",
       "368     200\n",
       "404     198\n",
       "364     197\n",
       "410     196\n",
       "450     196\n",
       "344     196\n",
       "336     196\n",
       "370     194\n",
       "388     190\n",
       "672     188\n",
       "624     187\n",
       "346     186\n",
       "340     186\n",
       "402     185\n",
       "372     183\n",
       "354     182\n",
       "612     182\n",
       "358     180\n",
       "       ... \n",
       "7704      1\n",
       "3610      1\n",
       "2677      1\n",
       "4300      1\n",
       "6775      1\n",
       "1627      1\n",
       "2933      1\n",
       "4172      1\n",
       "3738      1\n",
       "3174      1\n",
       "3788      1\n",
       "3724      1\n",
       "8088      1\n",
       "3110      1\n",
       "8280      1\n",
       "7140      1\n",
       "3189      1\n",
       "7076      1\n",
       "4318      1\n",
       "8472      1\n",
       "3445      1\n",
       "6990      1\n",
       "6495      1\n",
       "2726      1\n",
       "3829      1\n",
       "4773      1\n",
       "6820      1\n",
       "4623      1\n",
       "3957      1\n",
       "2049      1\n",
       "Name: FAC_ELE, Length: 3869, dtype: int64"
      ]
     },
     "execution_count": 133,
     "metadata": {},
     "output_type": "execute_result"
    }
   ],
   "source": [
    "df_copy_tper_vic2.FAC_ELE.value_counts()"
   ]
  },
  {
   "cell_type": "code",
   "execution_count": 134,
   "metadata": {},
   "outputs": [
    {
     "data": {
      "text/plain": [
       "356.0     115\n",
       "372.0     107\n",
       "408.0     102\n",
       "360.0     102\n",
       "370.0      87\n",
       "384.0      85\n",
       "396.0      85\n",
       "344.0      76\n",
       "362.0      74\n",
       "398.0      74\n",
       "394.0      71\n",
       "336.0      71\n",
       "406.0      71\n",
       "424.0      70\n",
       "416.0      69\n",
       "342.0      68\n",
       "768.0      68\n",
       "414.0      67\n",
       "422.0      67\n",
       "352.0      67\n",
       "392.0      67\n",
       "780.0      66\n",
       "374.0      66\n",
       "386.0      66\n",
       "420.0      65\n",
       "744.0      65\n",
       "364.0      65\n",
       "172.0      65\n",
       "134.0      65\n",
       "412.0      64\n",
       "         ... \n",
       "1108.0      1\n",
       "7880.0      1\n",
       "3286.0      1\n",
       "2305.0      1\n",
       "2840.0      1\n",
       "4611.0      1\n",
       "2301.0      1\n",
       "6380.0      1\n",
       "6040.0      1\n",
       "3451.0      1\n",
       "1641.0      1\n",
       "3815.0      1\n",
       "5088.0      1\n",
       "2354.0      1\n",
       "5800.0      1\n",
       "3955.0      1\n",
       "4563.0      1\n",
       "2031.0      1\n",
       "4782.0      1\n",
       "9210.0      1\n",
       "5466.0      1\n",
       "3004.0      1\n",
       "7464.0      1\n",
       "2805.0      1\n",
       "2535.0      1\n",
       "2246.0      1\n",
       "7550.0      1\n",
       "4575.0      1\n",
       "857.0       1\n",
       "2875.0      1\n",
       "Name: FAC_ELE_AM, Length: 3506, dtype: int64"
      ]
     },
     "execution_count": 134,
     "metadata": {},
     "output_type": "execute_result"
    }
   ],
   "source": [
    "df_copy_tper_vic2.FAC_ELE_AM.value_counts()"
   ]
  },
  {
   "cell_type": "code",
   "execution_count": 135,
   "metadata": {},
   "outputs": [
    {
     "data": {
      "text/plain": [
       "U    40010\n",
       "C    22903\n",
       "R    21716\n",
       "Name: DOM, dtype: int64"
      ]
     },
     "execution_count": 135,
     "metadata": {},
     "output_type": "execute_result"
    }
   ],
   "source": [
    "df_copy_tper_vic2.DOM.value_counts()"
   ]
  },
  {
   "cell_type": "code",
   "execution_count": 136,
   "metadata": {},
   "outputs": [
    {
     "data": {
      "text/plain": [
       "46     1752\n",
       "108    1248\n",
       "104    1236\n",
       "140    1210\n",
       "218    1153\n",
       "165    1097\n",
       "80     1083\n",
       "212    1082\n",
       "193    1005\n",
       "85      991\n",
       "38      975\n",
       "205     925\n",
       "136     902\n",
       "147     897\n",
       "195     883\n",
       "57      865\n",
       "16      859\n",
       "120     852\n",
       "61      835\n",
       "148     835\n",
       "41      818\n",
       "13      810\n",
       "216     772\n",
       "60      739\n",
       "86      736\n",
       "117     735\n",
       "176     733\n",
       "97      721\n",
       "12      720\n",
       "56      719\n",
       "       ... \n",
       "2        73\n",
       "124      71\n",
       "48       68\n",
       "132      68\n",
       "133      68\n",
       "150      63\n",
       "9        58\n",
       "168      54\n",
       "51       53\n",
       "170      52\n",
       "99       48\n",
       "33       46\n",
       "204      46\n",
       "208      39\n",
       "228      37\n",
       "59       36\n",
       "103      31\n",
       "188      29\n",
       "142      24\n",
       "27       21\n",
       "66       20\n",
       "134      18\n",
       "145      18\n",
       "74       17\n",
       "220      15\n",
       "84       11\n",
       "11        9\n",
       "95        9\n",
       "180       8\n",
       "112       6\n",
       "Name: EST, Length: 238, dtype: int64"
      ]
     },
     "execution_count": 136,
     "metadata": {},
     "output_type": "execute_result"
    }
   ],
   "source": [
    "df_copy_tper_vic2.EST.value_counts()"
   ]
  },
  {
   "cell_type": "code",
   "execution_count": 137,
   "metadata": {
    "scrolled": false
   },
   "outputs": [
    {
     "data": {
      "text/plain": [
       "7517     42\n",
       "4537     40\n",
       "4565     40\n",
       "7548     40\n",
       "4606     39\n",
       "7505     39\n",
       "4545     39\n",
       "4554     39\n",
       "7509     38\n",
       "10749    38\n",
       "7469     38\n",
       "9383     38\n",
       "7503     38\n",
       "4598     38\n",
       "4559     38\n",
       "5775     38\n",
       "4585     37\n",
       "10700    37\n",
       "7493     37\n",
       "3792     37\n",
       "4546     37\n",
       "4605     37\n",
       "7153     36\n",
       "10072    36\n",
       "4602     36\n",
       "10081    36\n",
       "9662     36\n",
       "7149     36\n",
       "4613     36\n",
       "744      35\n",
       "         ..\n",
       "7255      1\n",
       "7299      1\n",
       "11145     1\n",
       "9022      1\n",
       "1173      1\n",
       "9753      1\n",
       "4240      1\n",
       "3231      1\n",
       "9832      1\n",
       "1534      1\n",
       "11092     1\n",
       "10569     1\n",
       "11040     1\n",
       "9943      1\n",
       "10863     1\n",
       "1419      1\n",
       "6613      1\n",
       "6508      1\n",
       "1602      1\n",
       "9137      1\n",
       "1114      1\n",
       "4251      1\n",
       "6543      1\n",
       "2471      1\n",
       "8063      1\n",
       "6533      1\n",
       "1530      1\n",
       "6048      1\n",
       "1750      1\n",
       "9827      1\n",
       "Name: UPM, Length: 11408, dtype: int64"
      ]
     },
     "execution_count": 137,
     "metadata": {},
     "output_type": "execute_result"
    }
   ],
   "source": [
    "df_copy_tper_vic2.UPM.value_counts()"
   ]
  },
  {
   "cell_type": "code",
   "execution_count": 138,
   "metadata": {},
   "outputs": [
    {
     "data": {
      "text/html": [
       "<div>\n",
       "<style scoped>\n",
       "    .dataframe tbody tr th:only-of-type {\n",
       "        vertical-align: middle;\n",
       "    }\n",
       "\n",
       "    .dataframe tbody tr th {\n",
       "        vertical-align: top;\n",
       "    }\n",
       "\n",
       "    .dataframe thead th {\n",
       "        text-align: right;\n",
       "    }\n",
       "</style>\n",
       "<table border=\"1\" class=\"dataframe\">\n",
       "  <thead>\n",
       "    <tr style=\"text-align: right;\">\n",
       "      <th></th>\n",
       "      <th>CONTROL</th>\n",
       "      <th>VIV_SEL</th>\n",
       "      <th>HOGAR</th>\n",
       "      <th>RESUL_H</th>\n",
       "      <th>R_SEL</th>\n",
       "      <th>AREAM</th>\n",
       "      <th>AP6_1_1</th>\n",
       "      <th>AP6_1_2</th>\n",
       "      <th>AP6_2</th>\n",
       "      <th>AP6_3</th>\n",
       "      <th>...</th>\n",
       "      <th>AP7_4_14</th>\n",
       "      <th>AP7_3_15</th>\n",
       "      <th>AP7_4_15</th>\n",
       "      <th>FAC_HOG</th>\n",
       "      <th>FAC_ELE</th>\n",
       "      <th>DOM</th>\n",
       "      <th>EST</th>\n",
       "      <th>UPM</th>\n",
       "      <th>FAC_HOG_AM</th>\n",
       "      <th>FAC_ELE_AM</th>\n",
       "    </tr>\n",
       "  </thead>\n",
       "  <tbody>\n",
       "    <tr>\n",
       "      <th>0</th>\n",
       "      <td>100001</td>\n",
       "      <td>1</td>\n",
       "      <td>1</td>\n",
       "      <td>B</td>\n",
       "      <td>1</td>\n",
       "      <td>14</td>\n",
       "      <td>2</td>\n",
       "      <td>NaN</td>\n",
       "      <td>2</td>\n",
       "      <td>2</td>\n",
       "      <td>...</td>\n",
       "      <td>NaN</td>\n",
       "      <td>2</td>\n",
       "      <td>NaN</td>\n",
       "      <td>191</td>\n",
       "      <td>382</td>\n",
       "      <td>U</td>\n",
       "      <td>5</td>\n",
       "      <td>1</td>\n",
       "      <td>192.0</td>\n",
       "      <td>384.0</td>\n",
       "    </tr>\n",
       "    <tr>\n",
       "      <th>1</th>\n",
       "      <td>100001</td>\n",
       "      <td>2</td>\n",
       "      <td>1</td>\n",
       "      <td>B</td>\n",
       "      <td>2</td>\n",
       "      <td>14</td>\n",
       "      <td>2</td>\n",
       "      <td>NaN</td>\n",
       "      <td>2</td>\n",
       "      <td>2</td>\n",
       "      <td>...</td>\n",
       "      <td>NaN</td>\n",
       "      <td>2</td>\n",
       "      <td>NaN</td>\n",
       "      <td>191</td>\n",
       "      <td>382</td>\n",
       "      <td>U</td>\n",
       "      <td>5</td>\n",
       "      <td>1</td>\n",
       "      <td>192.0</td>\n",
       "      <td>384.0</td>\n",
       "    </tr>\n",
       "    <tr>\n",
       "      <th>2</th>\n",
       "      <td>100001</td>\n",
       "      <td>3</td>\n",
       "      <td>1</td>\n",
       "      <td>B</td>\n",
       "      <td>1</td>\n",
       "      <td>14</td>\n",
       "      <td>1</td>\n",
       "      <td>1</td>\n",
       "      <td>1</td>\n",
       "      <td>2</td>\n",
       "      <td>...</td>\n",
       "      <td>NaN</td>\n",
       "      <td>2</td>\n",
       "      <td>NaN</td>\n",
       "      <td>191</td>\n",
       "      <td>764</td>\n",
       "      <td>U</td>\n",
       "      <td>5</td>\n",
       "      <td>1</td>\n",
       "      <td>192.0</td>\n",
       "      <td>768.0</td>\n",
       "    </tr>\n",
       "    <tr>\n",
       "      <th>3</th>\n",
       "      <td>100001</td>\n",
       "      <td>4</td>\n",
       "      <td>1</td>\n",
       "      <td>A</td>\n",
       "      <td>1</td>\n",
       "      <td>14</td>\n",
       "      <td>2</td>\n",
       "      <td>NaN</td>\n",
       "      <td>1</td>\n",
       "      <td>2</td>\n",
       "      <td>...</td>\n",
       "      <td>NaN</td>\n",
       "      <td>2</td>\n",
       "      <td>NaN</td>\n",
       "      <td>191</td>\n",
       "      <td>764</td>\n",
       "      <td>U</td>\n",
       "      <td>5</td>\n",
       "      <td>1</td>\n",
       "      <td>192.0</td>\n",
       "      <td>768.0</td>\n",
       "    </tr>\n",
       "    <tr>\n",
       "      <th>4</th>\n",
       "      <td>100001</td>\n",
       "      <td>5</td>\n",
       "      <td>1</td>\n",
       "      <td>B</td>\n",
       "      <td>3</td>\n",
       "      <td>14</td>\n",
       "      <td>1</td>\n",
       "      <td>1</td>\n",
       "      <td>2</td>\n",
       "      <td>2</td>\n",
       "      <td>...</td>\n",
       "      <td>NaN</td>\n",
       "      <td>2</td>\n",
       "      <td>NaN</td>\n",
       "      <td>191</td>\n",
       "      <td>573</td>\n",
       "      <td>U</td>\n",
       "      <td>5</td>\n",
       "      <td>1</td>\n",
       "      <td>192.0</td>\n",
       "      <td>576.0</td>\n",
       "    </tr>\n",
       "  </tbody>\n",
       "</table>\n",
       "<p>5 rows × 128 columns</p>\n",
       "</div>"
      ],
      "text/plain": [
       "   CONTROL  VIV_SEL  HOGAR RESUL_H  R_SEL AREAM  AP6_1_1 AP6_1_2  AP6_2  \\\n",
       "0   100001        1      1       B      1    14        2     NaN      2   \n",
       "1   100001        2      1       B      2    14        2     NaN      2   \n",
       "2   100001        3      1       B      1    14        1       1      1   \n",
       "3   100001        4      1       A      1    14        2     NaN      1   \n",
       "4   100001        5      1       B      3    14        1       1      2   \n",
       "\n",
       "   AP6_3    ...      AP7_4_14 AP7_3_15 AP7_4_15  FAC_HOG FAC_ELE DOM  EST UPM  \\\n",
       "0      2    ...           NaN        2      NaN      191     382   U    5   1   \n",
       "1      2    ...           NaN        2      NaN      191     382   U    5   1   \n",
       "2      2    ...           NaN        2      NaN      191     764   U    5   1   \n",
       "3      2    ...           NaN        2      NaN      191     764   U    5   1   \n",
       "4      2    ...           NaN        2      NaN      191     573   U    5   1   \n",
       "\n",
       "   FAC_HOG_AM FAC_ELE_AM  \n",
       "0       192.0      384.0  \n",
       "1       192.0      384.0  \n",
       "2       192.0      768.0  \n",
       "3       192.0      768.0  \n",
       "4       192.0      576.0  \n",
       "\n",
       "[5 rows x 128 columns]"
      ]
     },
     "execution_count": 138,
     "metadata": {},
     "output_type": "execute_result"
    }
   ],
   "source": [
    "df_copy_tper_vic2.head()"
   ]
  },
  {
   "cell_type": "code",
   "execution_count": 139,
   "metadata": {},
   "outputs": [
    {
     "data": {
      "text/plain": [
       "2    61714\n",
       "1    22915\n",
       "Name: RESUL_H, dtype: int64"
      ]
     },
     "execution_count": 139,
     "metadata": {},
     "output_type": "execute_result"
    }
   ],
   "source": [
    "df_copy_tper_vic2.RESUL_H.replace({'A':'1','B':'2'},inplace=True)\n",
    "df_copy_tper_vic2.RESUL_H.value_counts()"
   ]
  },
  {
   "cell_type": "code",
   "execution_count": 140,
   "metadata": {},
   "outputs": [
    {
     "data": {
      "text/plain": [
       "1    40010\n",
       "2    22903\n",
       "3    21716\n",
       "Name: DOM, dtype: int64"
      ]
     },
     "execution_count": 140,
     "metadata": {},
     "output_type": "execute_result"
    }
   ],
   "source": [
    "df_copy_tper_vic2.DOM.replace({'U':'1','C':'2','R':'3'},inplace=True)\n",
    "df_copy_tper_vic2.DOM.value_counts()"
   ]
  },
  {
   "cell_type": "code",
   "execution_count": 141,
   "metadata": {},
   "outputs": [
    {
     "data": {
      "text/html": [
       "<div>\n",
       "<style scoped>\n",
       "    .dataframe tbody tr th:only-of-type {\n",
       "        vertical-align: middle;\n",
       "    }\n",
       "\n",
       "    .dataframe tbody tr th {\n",
       "        vertical-align: top;\n",
       "    }\n",
       "\n",
       "    .dataframe thead th {\n",
       "        text-align: right;\n",
       "    }\n",
       "</style>\n",
       "<table border=\"1\" class=\"dataframe\">\n",
       "  <thead>\n",
       "    <tr style=\"text-align: right;\">\n",
       "      <th></th>\n",
       "      <th>CONTROL</th>\n",
       "      <th>VIV_SEL</th>\n",
       "      <th>HOGAR</th>\n",
       "      <th>RESUL_H</th>\n",
       "      <th>R_SEL</th>\n",
       "      <th>AREAM</th>\n",
       "      <th>AP6_1_1</th>\n",
       "      <th>AP6_1_2</th>\n",
       "      <th>AP6_2</th>\n",
       "      <th>AP6_3</th>\n",
       "      <th>...</th>\n",
       "      <th>AP7_4_14</th>\n",
       "      <th>AP7_3_15</th>\n",
       "      <th>AP7_4_15</th>\n",
       "      <th>FAC_HOG</th>\n",
       "      <th>FAC_ELE</th>\n",
       "      <th>DOM</th>\n",
       "      <th>EST</th>\n",
       "      <th>UPM</th>\n",
       "      <th>FAC_HOG_AM</th>\n",
       "      <th>FAC_ELE_AM</th>\n",
       "    </tr>\n",
       "  </thead>\n",
       "  <tbody>\n",
       "    <tr>\n",
       "      <th>0</th>\n",
       "      <td>100001</td>\n",
       "      <td>1</td>\n",
       "      <td>1</td>\n",
       "      <td>2</td>\n",
       "      <td>1</td>\n",
       "      <td>14</td>\n",
       "      <td>2</td>\n",
       "      <td>NaN</td>\n",
       "      <td>2</td>\n",
       "      <td>2</td>\n",
       "      <td>...</td>\n",
       "      <td>NaN</td>\n",
       "      <td>2</td>\n",
       "      <td>NaN</td>\n",
       "      <td>191</td>\n",
       "      <td>382</td>\n",
       "      <td>1</td>\n",
       "      <td>5</td>\n",
       "      <td>1</td>\n",
       "      <td>192.0</td>\n",
       "      <td>384.0</td>\n",
       "    </tr>\n",
       "    <tr>\n",
       "      <th>1</th>\n",
       "      <td>100001</td>\n",
       "      <td>2</td>\n",
       "      <td>1</td>\n",
       "      <td>2</td>\n",
       "      <td>2</td>\n",
       "      <td>14</td>\n",
       "      <td>2</td>\n",
       "      <td>NaN</td>\n",
       "      <td>2</td>\n",
       "      <td>2</td>\n",
       "      <td>...</td>\n",
       "      <td>NaN</td>\n",
       "      <td>2</td>\n",
       "      <td>NaN</td>\n",
       "      <td>191</td>\n",
       "      <td>382</td>\n",
       "      <td>1</td>\n",
       "      <td>5</td>\n",
       "      <td>1</td>\n",
       "      <td>192.0</td>\n",
       "      <td>384.0</td>\n",
       "    </tr>\n",
       "    <tr>\n",
       "      <th>2</th>\n",
       "      <td>100001</td>\n",
       "      <td>3</td>\n",
       "      <td>1</td>\n",
       "      <td>2</td>\n",
       "      <td>1</td>\n",
       "      <td>14</td>\n",
       "      <td>1</td>\n",
       "      <td>1</td>\n",
       "      <td>1</td>\n",
       "      <td>2</td>\n",
       "      <td>...</td>\n",
       "      <td>NaN</td>\n",
       "      <td>2</td>\n",
       "      <td>NaN</td>\n",
       "      <td>191</td>\n",
       "      <td>764</td>\n",
       "      <td>1</td>\n",
       "      <td>5</td>\n",
       "      <td>1</td>\n",
       "      <td>192.0</td>\n",
       "      <td>768.0</td>\n",
       "    </tr>\n",
       "    <tr>\n",
       "      <th>3</th>\n",
       "      <td>100001</td>\n",
       "      <td>4</td>\n",
       "      <td>1</td>\n",
       "      <td>1</td>\n",
       "      <td>1</td>\n",
       "      <td>14</td>\n",
       "      <td>2</td>\n",
       "      <td>NaN</td>\n",
       "      <td>1</td>\n",
       "      <td>2</td>\n",
       "      <td>...</td>\n",
       "      <td>NaN</td>\n",
       "      <td>2</td>\n",
       "      <td>NaN</td>\n",
       "      <td>191</td>\n",
       "      <td>764</td>\n",
       "      <td>1</td>\n",
       "      <td>5</td>\n",
       "      <td>1</td>\n",
       "      <td>192.0</td>\n",
       "      <td>768.0</td>\n",
       "    </tr>\n",
       "    <tr>\n",
       "      <th>4</th>\n",
       "      <td>100001</td>\n",
       "      <td>5</td>\n",
       "      <td>1</td>\n",
       "      <td>2</td>\n",
       "      <td>3</td>\n",
       "      <td>14</td>\n",
       "      <td>1</td>\n",
       "      <td>1</td>\n",
       "      <td>2</td>\n",
       "      <td>2</td>\n",
       "      <td>...</td>\n",
       "      <td>NaN</td>\n",
       "      <td>2</td>\n",
       "      <td>NaN</td>\n",
       "      <td>191</td>\n",
       "      <td>573</td>\n",
       "      <td>1</td>\n",
       "      <td>5</td>\n",
       "      <td>1</td>\n",
       "      <td>192.0</td>\n",
       "      <td>576.0</td>\n",
       "    </tr>\n",
       "  </tbody>\n",
       "</table>\n",
       "<p>5 rows × 128 columns</p>\n",
       "</div>"
      ],
      "text/plain": [
       "   CONTROL  VIV_SEL  HOGAR RESUL_H  R_SEL AREAM  AP6_1_1 AP6_1_2  AP6_2  \\\n",
       "0   100001        1      1       2      1    14        2     NaN      2   \n",
       "1   100001        2      1       2      2    14        2     NaN      2   \n",
       "2   100001        3      1       2      1    14        1       1      1   \n",
       "3   100001        4      1       1      1    14        2     NaN      1   \n",
       "4   100001        5      1       2      3    14        1       1      2   \n",
       "\n",
       "   AP6_3    ...      AP7_4_14 AP7_3_15 AP7_4_15  FAC_HOG FAC_ELE DOM  EST UPM  \\\n",
       "0      2    ...           NaN        2      NaN      191     382   1    5   1   \n",
       "1      2    ...           NaN        2      NaN      191     382   1    5   1   \n",
       "2      2    ...           NaN        2      NaN      191     764   1    5   1   \n",
       "3      2    ...           NaN        2      NaN      191     764   1    5   1   \n",
       "4      2    ...           NaN        2      NaN      191     573   1    5   1   \n",
       "\n",
       "   FAC_HOG_AM FAC_ELE_AM  \n",
       "0       192.0      384.0  \n",
       "1       192.0      384.0  \n",
       "2       192.0      768.0  \n",
       "3       192.0      768.0  \n",
       "4       192.0      576.0  \n",
       "\n",
       "[5 rows x 128 columns]"
      ]
     },
     "execution_count": 141,
     "metadata": {},
     "output_type": "execute_result"
    }
   ],
   "source": [
    "df_copy_tper_vic2.head()"
   ]
  },
  {
   "cell_type": "code",
   "execution_count": 142,
   "metadata": {},
   "outputs": [],
   "source": [
    "n = df_copy_tper_vic2.columns.values.tolist()"
   ]
  },
  {
   "cell_type": "code",
   "execution_count": 143,
   "metadata": {},
   "outputs": [],
   "source": [
    "for i in n:\n",
    "    l = [] \n",
    "    for j in df_copy_tper_vic2[i]:\n",
    "        k = str(j)\n",
    "        if(k != \"nan\"):\n",
    "            k = int(eval(k))\n",
    "            l.append(k)\n",
    "        else:\n",
    "            l.append(\"TTT\")\n",
    "    df_copy_tper_vic2[i] = l"
   ]
  },
  {
   "cell_type": "code",
   "execution_count": 144,
   "metadata": {},
   "outputs": [
    {
     "data": {
      "text/html": [
       "<div>\n",
       "<style scoped>\n",
       "    .dataframe tbody tr th:only-of-type {\n",
       "        vertical-align: middle;\n",
       "    }\n",
       "\n",
       "    .dataframe tbody tr th {\n",
       "        vertical-align: top;\n",
       "    }\n",
       "\n",
       "    .dataframe thead th {\n",
       "        text-align: right;\n",
       "    }\n",
       "</style>\n",
       "<table border=\"1\" class=\"dataframe\">\n",
       "  <thead>\n",
       "    <tr style=\"text-align: right;\">\n",
       "      <th></th>\n",
       "      <th>CONTROL</th>\n",
       "      <th>VIV_SEL</th>\n",
       "      <th>HOGAR</th>\n",
       "      <th>RESUL_H</th>\n",
       "      <th>R_SEL</th>\n",
       "      <th>AREAM</th>\n",
       "      <th>AP6_1_1</th>\n",
       "      <th>AP6_1_2</th>\n",
       "      <th>AP6_2</th>\n",
       "      <th>AP6_3</th>\n",
       "      <th>...</th>\n",
       "      <th>AP7_4_14</th>\n",
       "      <th>AP7_3_15</th>\n",
       "      <th>AP7_4_15</th>\n",
       "      <th>FAC_HOG</th>\n",
       "      <th>FAC_ELE</th>\n",
       "      <th>DOM</th>\n",
       "      <th>EST</th>\n",
       "      <th>UPM</th>\n",
       "      <th>FAC_HOG_AM</th>\n",
       "      <th>FAC_ELE_AM</th>\n",
       "    </tr>\n",
       "  </thead>\n",
       "  <tbody>\n",
       "    <tr>\n",
       "      <th>0</th>\n",
       "      <td>100001</td>\n",
       "      <td>1</td>\n",
       "      <td>1</td>\n",
       "      <td>2</td>\n",
       "      <td>1</td>\n",
       "      <td>14</td>\n",
       "      <td>2</td>\n",
       "      <td>TTT</td>\n",
       "      <td>2</td>\n",
       "      <td>2</td>\n",
       "      <td>...</td>\n",
       "      <td>TTT</td>\n",
       "      <td>2</td>\n",
       "      <td>TTT</td>\n",
       "      <td>191</td>\n",
       "      <td>382</td>\n",
       "      <td>1</td>\n",
       "      <td>5</td>\n",
       "      <td>1</td>\n",
       "      <td>192</td>\n",
       "      <td>384</td>\n",
       "    </tr>\n",
       "    <tr>\n",
       "      <th>1</th>\n",
       "      <td>100001</td>\n",
       "      <td>2</td>\n",
       "      <td>1</td>\n",
       "      <td>2</td>\n",
       "      <td>2</td>\n",
       "      <td>14</td>\n",
       "      <td>2</td>\n",
       "      <td>TTT</td>\n",
       "      <td>2</td>\n",
       "      <td>2</td>\n",
       "      <td>...</td>\n",
       "      <td>TTT</td>\n",
       "      <td>2</td>\n",
       "      <td>TTT</td>\n",
       "      <td>191</td>\n",
       "      <td>382</td>\n",
       "      <td>1</td>\n",
       "      <td>5</td>\n",
       "      <td>1</td>\n",
       "      <td>192</td>\n",
       "      <td>384</td>\n",
       "    </tr>\n",
       "    <tr>\n",
       "      <th>2</th>\n",
       "      <td>100001</td>\n",
       "      <td>3</td>\n",
       "      <td>1</td>\n",
       "      <td>2</td>\n",
       "      <td>1</td>\n",
       "      <td>14</td>\n",
       "      <td>1</td>\n",
       "      <td>1</td>\n",
       "      <td>1</td>\n",
       "      <td>2</td>\n",
       "      <td>...</td>\n",
       "      <td>TTT</td>\n",
       "      <td>2</td>\n",
       "      <td>TTT</td>\n",
       "      <td>191</td>\n",
       "      <td>764</td>\n",
       "      <td>1</td>\n",
       "      <td>5</td>\n",
       "      <td>1</td>\n",
       "      <td>192</td>\n",
       "      <td>768</td>\n",
       "    </tr>\n",
       "    <tr>\n",
       "      <th>3</th>\n",
       "      <td>100001</td>\n",
       "      <td>4</td>\n",
       "      <td>1</td>\n",
       "      <td>1</td>\n",
       "      <td>1</td>\n",
       "      <td>14</td>\n",
       "      <td>2</td>\n",
       "      <td>TTT</td>\n",
       "      <td>1</td>\n",
       "      <td>2</td>\n",
       "      <td>...</td>\n",
       "      <td>TTT</td>\n",
       "      <td>2</td>\n",
       "      <td>TTT</td>\n",
       "      <td>191</td>\n",
       "      <td>764</td>\n",
       "      <td>1</td>\n",
       "      <td>5</td>\n",
       "      <td>1</td>\n",
       "      <td>192</td>\n",
       "      <td>768</td>\n",
       "    </tr>\n",
       "    <tr>\n",
       "      <th>4</th>\n",
       "      <td>100001</td>\n",
       "      <td>5</td>\n",
       "      <td>1</td>\n",
       "      <td>2</td>\n",
       "      <td>3</td>\n",
       "      <td>14</td>\n",
       "      <td>1</td>\n",
       "      <td>1</td>\n",
       "      <td>2</td>\n",
       "      <td>2</td>\n",
       "      <td>...</td>\n",
       "      <td>TTT</td>\n",
       "      <td>2</td>\n",
       "      <td>TTT</td>\n",
       "      <td>191</td>\n",
       "      <td>573</td>\n",
       "      <td>1</td>\n",
       "      <td>5</td>\n",
       "      <td>1</td>\n",
       "      <td>192</td>\n",
       "      <td>576</td>\n",
       "    </tr>\n",
       "  </tbody>\n",
       "</table>\n",
       "<p>5 rows × 128 columns</p>\n",
       "</div>"
      ],
      "text/plain": [
       "   CONTROL  VIV_SEL  HOGAR  RESUL_H  R_SEL AREAM  AP6_1_1 AP6_1_2  AP6_2  \\\n",
       "0   100001        1      1        2      1    14        2     TTT      2   \n",
       "1   100001        2      1        2      2    14        2     TTT      2   \n",
       "2   100001        3      1        2      1    14        1       1      1   \n",
       "3   100001        4      1        1      1    14        2     TTT      1   \n",
       "4   100001        5      1        2      3    14        1       1      2   \n",
       "\n",
       "   AP6_3    ...      AP7_4_14 AP7_3_15 AP7_4_15  FAC_HOG FAC_ELE DOM  EST UPM  \\\n",
       "0      2    ...           TTT        2      TTT      191     382   1    5   1   \n",
       "1      2    ...           TTT        2      TTT      191     382   1    5   1   \n",
       "2      2    ...           TTT        2      TTT      191     764   1    5   1   \n",
       "3      2    ...           TTT        2      TTT      191     764   1    5   1   \n",
       "4      2    ...           TTT        2      TTT      191     573   1    5   1   \n",
       "\n",
       "   FAC_HOG_AM FAC_ELE_AM  \n",
       "0         192        384  \n",
       "1         192        384  \n",
       "2         192        768  \n",
       "3         192        768  \n",
       "4         192        576  \n",
       "\n",
       "[5 rows x 128 columns]"
      ]
     },
     "execution_count": 144,
     "metadata": {},
     "output_type": "execute_result"
    }
   ],
   "source": [
    "df_copy_tper_vic2.head()"
   ]
  },
  {
   "cell_type": "code",
   "execution_count": 145,
   "metadata": {},
   "outputs": [
    {
     "data": {
      "text/plain": [
       "(84629, 128)"
      ]
     },
     "execution_count": 145,
     "metadata": {},
     "output_type": "execute_result"
    }
   ],
   "source": [
    "df_copy_tper_vic2.shape"
   ]
  },
  {
   "cell_type": "code",
   "execution_count": 146,
   "metadata": {},
   "outputs": [
    {
     "data": {
      "text/plain": [
       "TTT    47819\n",
       "1      28174\n",
       "2       6862\n",
       "3       1394\n",
       "4        268\n",
       "5         66\n",
       "6         24\n",
       "7          9\n",
       "99         5\n",
       "10         4\n",
       "8          3\n",
       "9          1\n",
       "Name: AP6_1_2, dtype: int64"
      ]
     },
     "execution_count": 146,
     "metadata": {},
     "output_type": "execute_result"
    }
   ],
   "source": [
    "df_copy_tper_vic2.AP6_1_2.value_counts()"
   ]
  },
  {
   "cell_type": "code",
   "execution_count": 148,
   "metadata": {},
   "outputs": [],
   "source": [
    "df_copy_tper_vic2.to_csv(\"TPer_vic2_Clean2014_2.csv\")"
   ]
  },
  {
   "cell_type": "code",
   "execution_count": null,
   "metadata": {},
   "outputs": [],
   "source": []
  }
 ],
 "metadata": {
  "kernelspec": {
   "display_name": "Python 3",
   "language": "python",
   "name": "python3"
  },
  "language_info": {
   "codemirror_mode": {
    "name": "ipython",
    "version": 3
   },
   "file_extension": ".py",
   "mimetype": "text/x-python",
   "name": "python",
   "nbconvert_exporter": "python",
   "pygments_lexer": "ipython3",
   "version": "3.6.5"
  }
 },
 "nbformat": 4,
 "nbformat_minor": 2
}
